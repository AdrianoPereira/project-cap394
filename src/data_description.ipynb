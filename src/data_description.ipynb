{
 "cells": [
  {
   "cell_type": "markdown",
   "metadata": {},
   "source": [
    "![](./assets/header.png)\n",
    "\n",
    "<span style=\"float: right; font-size: 20px; font-weight: bolder;\">Descrição dos Dados</span> \n",
    "\n",
    "**Professores:**\n",
    "- Dr. Gilberto Queiroz\n",
    "- Dr. Rafael Santos\n",
    "\n",
    "**Discente:**\n",
    "- Adriano Almeida"
   ]
  },
  {
   "cell_type": "markdown",
   "metadata": {},
   "source": [
    "## Índice\n",
    "\n",
    "- [1. Introdução](#1.-Introdução)\n",
    "- [2. Período](#2.-Período)\n",
    "- [3. Fonte dos dados](#3.-Fonte-dos-dados)\n",
    "- [4. Referências](#4.-Referências)"
   ]
  },
  {
   "cell_type": "markdown",
   "metadata": {},
   "source": [
    "## 1. Introdução\n",
    "\n",
    "<hr />\n",
    "\n",
    "O conjunto de dados utilizados nesse trabalho são de radares e foram obtidos a partir dos experimentos do Projeto CHUVA-Manaus (MACHADO et al., 2014) e GoAmazon (MARTIN et al., 2016). Os dados foram obtidos na região de urbanizada de Manaus-AM e em suas redondezas, abrangendo áreas de florestas, pastagens e rios, como ilustrado na Figura 1.\n",
    "![](./assets/area.png)\n",
    "<span style=\"text-align: center;\">\n",
    "    <strong>Figura 1</strong>: Área aproximadamente de onde foram obtidos os dados. <br /> <strong>Fonte</strong>: Autor.</span>\n",
    "\n",
    "## 2. Período\n",
    "Os dados segundo (PEREIRA, 2019), são de 2014 e referem-se a dois períodos denomiados de **Períodos de Operação Intensiva** (IOP – sigla do inglês,\n",
    "*Intensive Operation Period*), são eles:\n",
    "- **IOP1**: Corresponde ao fim da estação chuvosa na região. Para este período que começou em 01 de fevereiro e foi até 31 de março, houve um total de 59 dias de observação\n",
    "- **IOP2**: Corresponde ao período de transição da estações seca e chuvosa. Teve um total de 61 dias de observações entre 15 de agosto a 15 de outubro.\n",
    "\n",
    "## 3. Fonte dos dados\n",
    "\n",
    "Os dados foram obtidos de diversas fontes, conforme afirmação de (PEREIRA, 2019), são elas:\n",
    "\n",
    "- **Estação meteorológicas**: Dados com registros da direção do vento, através de anemômetros em estaçòes meteorológicas localizadas no aeroporto de Ponta Pelada e sítios nas redondezas da cidade de Manaus.\n",
    "\n",
    "\n",
    "- **Radiossondagem**: Dados coletados a partir radiossondas do projeto GoAmazon lançadas em alguns períodos do dia para coletar perfis termodinamicos das tempestades da região de Manaus.\n",
    "\n",
    "\n",
    "- **Radar banda-S (SIPAM)**: Dados disponibilizados pelo projeto CHUVA-Manaus, provenientes do radar meteorológico operacional de banda-S, operado pelo SIPAM. Suas varreduras foram transformadas no produto CAPPI (*Constant Altitude Plan Position Indicator*) e usado para calcular o acumulado de precipitação em superfície e fazendo sua classificação quanto ao seu tipo ser convectiva ou estratiforme.\n",
    "\n",
    "\n",
    "- **Redes STARNET, GLD360 e LINET**: Referem-se a redes operacionais de longa distancia na região Amazônica para coletar dados de descargas elétricas atmosféricas em superfícies. Provenientes dos experimentos do projeto CHUVA-Manaus durante a transição entre as estações seca e chuvosa, esses dados registraram a distribuição espacial e temporal da atividade eletrica em superfície."
   ]
  },
  {
   "cell_type": "markdown",
   "metadata": {},
   "source": [
    "## 4. Referências\n",
    "\n",
    "<hr />\n",
    "\n",
    "- MACHADO, L. A. T.; SILVA DIAS, M. A. F.; MORALES, C.; FISCH, G.; VILA, D.; ALBRECHT, R. I.; GOODMAN, S. J.; CALHEIROS, A. J. P.; BISCARO, T.; KUMMEROW, C.; COHEN, J.; FITZJARRALD, D.; NASCIMENTO, E. L.; SAKAMOTO, M. S.; CUNNINGHAM, C.; CHABOUREAU, J.-P.; PETERSEN, W. a.; ADAMS, D. K.; BALDINI, L.; ANGELIS, C. F.; SAPUCCI, L. F.; SALIO, P.; BARBOSA, H. M. J.; LANDULFO, E.; SOUZA, R. a. F.; BLAKESLEE, R. J.; BAILEY, J.; FREITAS, S.; LIMA, W. F. a.; TOKAY, A. The Chuva Project: How Does Convection Vary across Brazil? Bulletin of the American Meteorological Society, v. 95, n. 9, p. 1365–1380, set. 2014.\n",
    "\n",
    "\n",
    "- MARTIN, S. T.; ARTAXO, P.; MACHADO, L. A. T.; MANZI, A. O.; SOUZA, R. A. F.; SCHUMACHER, C.; WANG, J.; ANDREAE, M. O.; BARBOSA, H. M. J.; FAN, J.; FISCH, G.; GOLDSTEIN, A. H.; GUENTHER, A.; JIMENEZ, J. L.; PÖSCHL, U.; SILVA DIAS, M. A.; 98 SMITH, J. N.; WENDISCH, M. Introduction: Observations and Modeling of the Green Ocean Amazon (GoAmazon2014/5). Atmospheric Chemistry and Physics, v. 16, n. 8, p. 4785–4797, abr. 2016.\n",
    "\n",
    "\n",
    "- PEREIRA, R. F. O. Propriedades Físicas da Precipitação e Eletrificação dos Sistemas Precipitantes Observados Durante o Projeto CHUVA-Manaus e GoAmazon. Dissertação de Mestrado. Departamento de Ciências Atmosféricas do Instituto de Astronomia, Geofísica e Ciências Atmosféricas da Universidade de São Paulo. 2019."
   ]
  }
 ],
 "metadata": {
  "kernelspec": {
   "display_name": "Python 3",
   "language": "python",
   "name": "python3"
  },
  "language_info": {
   "codemirror_mode": {
    "name": "ipython",
    "version": 3
   },
   "file_extension": ".py",
   "mimetype": "text/x-python",
   "name": "python",
   "nbconvert_exporter": "python",
   "pygments_lexer": "ipython3",
   "version": "3.7.3"
  }
 },
 "nbformat": 4,
 "nbformat_minor": 2
}
