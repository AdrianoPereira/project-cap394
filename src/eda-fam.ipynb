{
 "cells": [
  {
   "cell_type": "code",
   "execution_count": 12,
   "metadata": {
    "ExecuteTime": {
     "end_time": "2019-08-21T18:34:36.752541Z",
     "start_time": "2019-08-21T18:34:36.745195Z"
    }
   },
   "outputs": [],
   "source": [
    "import os\n",
    "import numpy as np\n",
    "import pandas as pd\n",
    "import matplotlib.pyplot as plt"
   ]
  },
  {
   "cell_type": "code",
   "execution_count": 24,
   "metadata": {
    "ExecuteTime": {
     "end_time": "2019-08-21T18:37:52.824202Z",
     "start_time": "2019-08-21T18:37:52.818351Z"
    }
   },
   "outputs": [],
   "source": [
    "PATH = '../data/full/output_v2/'"
   ]
  },
  {
   "cell_type": "code",
   "execution_count": 163,
   "metadata": {
    "ExecuteTime": {
     "end_time": "2019-08-21T21:31:26.456819Z",
     "start_time": "2019-08-21T21:31:26.452401Z"
    }
   },
   "outputs": [],
   "source": [
    "def load_datasets(filenames):\n",
    "    \"\"\"Read one or more files as dataframe.\n",
    "    filenames list: filenames\n",
    "    \"\"\"\n",
    "    filenames = [os.path.join(PATH, filename) for filename in filenames]\n",
    "    filenames = sorted(filenames)\n",
    "    df = []\n",
    "    for file in filenames:\n",
    "        month, day, hour, minute = file[-12:-10], file[-10:-8], \\\n",
    "        file[-8:-6], file[-6:-4]\n",
    "        temp = pd.read_csv(file, sep='\\s+')\n",
    "        temp['month'], temp['day'], temp['hour'], temp['minute'] = month, \\\n",
    "        day, hour, minute\n",
    "        \n",
    "        df.append(temp)\n",
    "    \n",
    "    df = pd.concat(df, sort=False)\n",
    "    df = df.rename(str.lower, axis='columns')\n",
    "\n",
    "    return df"
   ]
  },
  {
   "cell_type": "code",
   "execution_count": 164,
   "metadata": {
    "ExecuteTime": {
     "end_time": "2019-08-21T21:32:48.966110Z",
     "start_time": "2019-08-21T21:31:37.214024Z"
    }
   },
   "outputs": [
    {
     "data": {
      "text/html": [
       "<div>\n",
       "<style scoped>\n",
       "    .dataframe tbody tr th:only-of-type {\n",
       "        vertical-align: middle;\n",
       "    }\n",
       "\n",
       "    .dataframe tbody tr th {\n",
       "        vertical-align: top;\n",
       "    }\n",
       "\n",
       "    .dataframe thead th {\n",
       "        text-align: right;\n",
       "    }\n",
       "</style>\n",
       "<table border=\"1\" class=\"dataframe\">\n",
       "  <thead>\n",
       "    <tr style=\"text-align: right;\">\n",
       "      <th></th>\n",
       "      <th>time</th>\n",
       "      <th>sysclass</th>\n",
       "      <th>lat</th>\n",
       "      <th>lon</th>\n",
       "      <th>dir</th>\n",
       "      <th>vel</th>\n",
       "      <th>size</th>\n",
       "      <th>ttyyyxx1</th>\n",
       "      <th>ttyyyxx2</th>\n",
       "      <th>ttyyyxx3</th>\n",
       "      <th>...</th>\n",
       "      <th>meanz</th>\n",
       "      <th>maxz</th>\n",
       "      <th>meanvil</th>\n",
       "      <th>ttvil</th>\n",
       "      <th>meanprec</th>\n",
       "      <th>maxprec</th>\n",
       "      <th>month</th>\n",
       "      <th>day</th>\n",
       "      <th>hour</th>\n",
       "      <th>minute</th>\n",
       "    </tr>\n",
       "  </thead>\n",
       "  <tbody>\n",
       "    <tr>\n",
       "      <th>0</th>\n",
       "      <td>0.0</td>\n",
       "      <td>0.0</td>\n",
       "      <td>-1.73</td>\n",
       "      <td>-60.57</td>\n",
       "      <td>-999.0</td>\n",
       "      <td>0.0</td>\n",
       "      <td>53.0</td>\n",
       "      <td>0.0</td>\n",
       "      <td>0.0</td>\n",
       "      <td>0.0</td>\n",
       "      <td>...</td>\n",
       "      <td>22.28</td>\n",
       "      <td>26.70</td>\n",
       "      <td>0.29</td>\n",
       "      <td>15.37</td>\n",
       "      <td>1.18</td>\n",
       "      <td>3.18</td>\n",
       "      <td>02</td>\n",
       "      <td>01</td>\n",
       "      <td>00</td>\n",
       "      <td>00</td>\n",
       "    </tr>\n",
       "    <tr>\n",
       "      <th>1</th>\n",
       "      <td>0.2</td>\n",
       "      <td>1.0</td>\n",
       "      <td>-1.73</td>\n",
       "      <td>-60.55</td>\n",
       "      <td>90.0</td>\n",
       "      <td>11.1</td>\n",
       "      <td>21.0</td>\n",
       "      <td>0.0</td>\n",
       "      <td>0.0</td>\n",
       "      <td>0.0</td>\n",
       "      <td>...</td>\n",
       "      <td>20.53</td>\n",
       "      <td>21.46</td>\n",
       "      <td>0.23</td>\n",
       "      <td>4.91</td>\n",
       "      <td>0.92</td>\n",
       "      <td>1.03</td>\n",
       "      <td>02</td>\n",
       "      <td>01</td>\n",
       "      <td>00</td>\n",
       "      <td>00</td>\n",
       "    </tr>\n",
       "    <tr>\n",
       "      <th>2</th>\n",
       "      <td>0.4</td>\n",
       "      <td>1.0</td>\n",
       "      <td>-1.77</td>\n",
       "      <td>-60.53</td>\n",
       "      <td>153.0</td>\n",
       "      <td>24.8</td>\n",
       "      <td>18.0</td>\n",
       "      <td>0.0</td>\n",
       "      <td>0.0</td>\n",
       "      <td>0.0</td>\n",
       "      <td>...</td>\n",
       "      <td>22.28</td>\n",
       "      <td>24.83</td>\n",
       "      <td>0.24</td>\n",
       "      <td>4.24</td>\n",
       "      <td>1.15</td>\n",
       "      <td>2.35</td>\n",
       "      <td>02</td>\n",
       "      <td>01</td>\n",
       "      <td>00</td>\n",
       "      <td>00</td>\n",
       "    </tr>\n",
       "    <tr>\n",
       "      <th>0</th>\n",
       "      <td>0.0</td>\n",
       "      <td>0.0</td>\n",
       "      <td>-1.99</td>\n",
       "      <td>-60.93</td>\n",
       "      <td>-999.0</td>\n",
       "      <td>0.0</td>\n",
       "      <td>180.0</td>\n",
       "      <td>0.0</td>\n",
       "      <td>0.0</td>\n",
       "      <td>0.0</td>\n",
       "      <td>...</td>\n",
       "      <td>23.67</td>\n",
       "      <td>28.80</td>\n",
       "      <td>0.41</td>\n",
       "      <td>73.93</td>\n",
       "      <td>1.60</td>\n",
       "      <td>4.52</td>\n",
       "      <td>03</td>\n",
       "      <td>01</td>\n",
       "      <td>00</td>\n",
       "      <td>00</td>\n",
       "    </tr>\n",
       "    <tr>\n",
       "      <th>1</th>\n",
       "      <td>0.2</td>\n",
       "      <td>1.0</td>\n",
       "      <td>-2.07</td>\n",
       "      <td>-60.87</td>\n",
       "      <td>143.0</td>\n",
       "      <td>55.5</td>\n",
       "      <td>123.0</td>\n",
       "      <td>0.0</td>\n",
       "      <td>0.0</td>\n",
       "      <td>0.0</td>\n",
       "      <td>...</td>\n",
       "      <td>24.83</td>\n",
       "      <td>31.51</td>\n",
       "      <td>0.46</td>\n",
       "      <td>56.63</td>\n",
       "      <td>2.17</td>\n",
       "      <td>6.97</td>\n",
       "      <td>03</td>\n",
       "      <td>01</td>\n",
       "      <td>00</td>\n",
       "      <td>00</td>\n",
       "    </tr>\n",
       "  </tbody>\n",
       "</table>\n",
       "<p>5 rows × 25 columns</p>\n",
       "</div>"
      ],
      "text/plain": [
       "   time  sysclass   lat    lon    dir   vel   size  ttyyyxx1  ttyyyxx2  \\\n",
       "0   0.0       0.0 -1.73 -60.57 -999.0   0.0   53.0       0.0       0.0   \n",
       "1   0.2       1.0 -1.73 -60.55   90.0  11.1   21.0       0.0       0.0   \n",
       "2   0.4       1.0 -1.77 -60.53  153.0  24.8   18.0       0.0       0.0   \n",
       "0   0.0       0.0 -1.99 -60.93 -999.0   0.0  180.0       0.0       0.0   \n",
       "1   0.2       1.0 -2.07 -60.87  143.0  55.5  123.0       0.0       0.0   \n",
       "\n",
       "   ttyyyxx3  ...  meanz   maxz  meanvil  ttvil  meanprec  maxprec  month  day  \\\n",
       "0       0.0  ...  22.28  26.70     0.29  15.37      1.18     3.18     02   01   \n",
       "1       0.0  ...  20.53  21.46     0.23   4.91      0.92     1.03     02   01   \n",
       "2       0.0  ...  22.28  24.83     0.24   4.24      1.15     2.35     02   01   \n",
       "0       0.0  ...  23.67  28.80     0.41  73.93      1.60     4.52     03   01   \n",
       "1       0.0  ...  24.83  31.51     0.46  56.63      2.17     6.97     03   01   \n",
       "\n",
       "   hour  minute  \n",
       "0    00      00  \n",
       "1    00      00  \n",
       "2    00      00  \n",
       "0    00      00  \n",
       "1    00      00  \n",
       "\n",
       "[5 rows x 25 columns]"
      ]
     },
     "execution_count": 164,
     "metadata": {},
     "output_type": "execute_result"
    }
   ],
   "source": [
    "df = load_datasets(filenames)\n",
    "df.head()"
   ]
  },
  {
   "cell_type": "code",
   "execution_count": 171,
   "metadata": {
    "ExecuteTime": {
     "end_time": "2019-08-21T21:38:58.511641Z",
     "start_time": "2019-08-21T21:38:58.457167Z"
    }
   },
   "outputs": [],
   "source": [
    "df1 = df[df['month'] == '02']\n",
    "df2 = df[df['month'] == '03']\n",
    "df3 = df[df['month'] == '08']\n",
    "df4 = df[df['month'] == '09']\n",
    "df5 = df[df['month'] == '10']\n",
    "# df1.to_csv('fam_february.csv', sep=',', index=False)\n",
    "# df2.to_csv('fam_march.csv', sep=',', index=False)\n",
    "# df3.to_csv('fam_august.csv', sep=',', index=False)\n",
    "# df4.to_csv('fam_september.csv', sep=',', index=False)\n",
    "# df5.to_csv('fam_october.csv', sep=',', index=False)\n",
    "# df.to_csv('fam_total.csv', sep=',', index=False)"
   ]
  },
  {
   "cell_type": "code",
   "execution_count": 179,
   "metadata": {
    "ExecuteTime": {
     "end_time": "2019-08-21T21:46:26.983997Z",
     "start_time": "2019-08-21T21:46:26.974229Z"
    }
   },
   "outputs": [
    {
     "data": {
      "text/plain": [
       "178.86"
      ]
     },
     "execution_count": 179,
     "metadata": {},
     "output_type": "execute_result"
    }
   ],
   "source": [
    "lat, lon = [], []\n",
    "df1[(df1['day'] == '01') & ()]['maxprec']\n",
    "    "
   ]
  }
 ],
 "metadata": {
  "kernelspec": {
   "display_name": "Python 3",
   "language": "python",
   "name": "python3"
  },
  "language_info": {
   "codemirror_mode": {
    "name": "ipython",
    "version": 3
   },
   "file_extension": ".py",
   "mimetype": "text/x-python",
   "name": "python",
   "nbconvert_exporter": "python",
   "pygments_lexer": "ipython3",
   "version": "3.7.3"
  }
 },
 "nbformat": 4,
 "nbformat_minor": 2
}
