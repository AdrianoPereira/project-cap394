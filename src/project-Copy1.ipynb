{
 "cells": [
  {
   "cell_type": "code",
   "execution_count": 1,
   "metadata": {
    "ExecuteTime": {
     "end_time": "2019-08-14T17:18:14.338911Z",
     "start_time": "2019-08-14T17:18:13.580723Z"
    }
   },
   "outputs": [],
   "source": [
    "%matplotlib inline\n",
    "import os\n",
    "import numpy as np\n",
    "import pandas as pd\n",
    "import matplotlib.pyplot as plt\n",
    "import folium"
   ]
  },
  {
   "cell_type": "code",
   "execution_count": 60,
   "metadata": {
    "ExecuteTime": {
     "end_time": "2019-08-14T17:33:45.373110Z",
     "start_time": "2019-08-14T17:33:45.366121Z"
    }
   },
   "outputs": [
    {
     "data": {
      "text/plain": [
       "array([[[ 28.2       ,  54.08571429,  79.97142857, 105.85714286,\n",
       "         131.74285714],\n",
       "        [157.62857143, 183.51428571, 209.4       , 235.28571429,\n",
       "         241.64      ]]])"
      ]
     },
     "execution_count": 60,
     "metadata": {},
     "output_type": "execute_result"
    }
   ],
   "source": [
    "np.ndarray((1, 2, 5))"
   ]
  },
  {
   "cell_type": "code",
   "execution_count": 35,
   "metadata": {
    "ExecuteTime": {
     "end_time": "2019-08-14T17:32:36.606147Z",
     "start_time": "2019-08-14T17:32:36.437183Z"
    }
   },
   "outputs": [
    {
     "name": "stdout",
     "output_type": "stream",
     "text": [
      "<class 'numpy.ndarray'>\n"
     ]
    },
    {
     "data": {
      "text/plain": [
       "([array([2., 0., 1., 1., 1., 0., 1., 2., 1., 1.]),\n",
       "  array([3., 0., 2., 2., 4., 1., 2., 3., 1., 2.])],\n",
       " array([-1.65673665, -1.39400949, -1.13128234, -0.86855518, -0.60582803,\n",
       "        -0.34310088, -0.08037372,  0.18235343,  0.44508059,  0.70780774,\n",
       "         0.97053489]),\n",
       " <a list of 2 Lists of Patches objects>)"
      ]
     },
     "execution_count": 35,
     "metadata": {},
     "output_type": "execute_result"
    },
    {
     "data": {
      "image/png": "[encoded data removed]",
      "text/plain": [
       "<Figure size 432x288 with 1 Axes>"
      ]
     },
     "metadata": {
      "needs_background": "light"
     },
     "output_type": "display_data"
    }
   ],
   "source": [
    "# a, b = [10, 20, 30], [15, 25, 35]\n",
    "x = np.random.randn(10, 2)\n",
    "print(type(x[0]))\n",
    "\n",
    "plt.hist(x, stacked=True, density=False)"
   ]
  },
  {
   "cell_type": "code",
   "execution_count": 4,
   "metadata": {
    "ExecuteTime": {
     "end_time": "2019-07-29T18:10:43.781518Z",
     "start_time": "2019-07-29T18:10:43.778271Z"
    }
   },
   "outputs": [],
   "source": [
    "DATA = '../data/lite'\n",
    "fam_data_dir = os.path.join(DATA, 'fam')\n",
    "mat_data_dir = os.path.join(DATA, 'mat')"
   ]
  },
  {
   "cell_type": "code",
   "execution_count": 5,
   "metadata": {
    "ExecuteTime": {
     "end_time": "2019-07-29T18:10:43.854116Z",
     "start_time": "2019-07-29T18:10:43.783284Z"
    }
   },
   "outputs": [
    {
     "data": {
      "text/plain": [
       "['../data/lite/fam/fam_allequip_SEQN_4860_FAMN_4861_IDATE_201402282312.txt',\n",
       " '../data/lite/fam/fam_allequip_SEQN_4853_FAMN_4854_IDATE_201402282224.txt',\n",
       " '../data/lite/fam/fam_allequip_SEQN_4858_FAMN_4859_IDATE_201402282300.txt',\n",
       " '../data/lite/fam/fam_allequip_SEQN_4857_FAMN_4858_IDATE_201402282236.txt',\n",
       " '../data/lite/fam/fam_allequip_SEQN_4852_FAMN_4853_IDATE_201402282224.txt',\n",
       " '../data/lite/fam/fam_allequip_SEQN_4851_FAMN_4852_IDATE_201402282212.txt',\n",
       " '../data/lite/fam/fam_allequip_SEQN_4855_FAMN_4856_IDATE_201402282236.txt',\n",
       " '../data/lite/fam/fam_allequip_SEQN_4859_FAMN_4860_IDATE_201402282300.txt',\n",
       " '../data/lite/fam/fam_allequip_SEQN_4854_FAMN_4855_IDATE_201402282224.txt',\n",
       " '../data/lite/fam/fam_allequip_SEQN_4856_FAMN_4857_IDATE_201402282236.txt']"
      ]
     },
     "execution_count": 5,
     "metadata": {},
     "output_type": "execute_result"
    }
   ],
   "source": [
    "fam_data_files = [os.path.join(fam_data_dir, file).replace('\\\\', '/') \n",
    "                  for file in os.listdir(fam_data_dir)]\n",
    "fam_data_files"
   ]
  },
  {
   "cell_type": "code",
   "execution_count": 6,
   "metadata": {
    "ExecuteTime": {
     "end_time": "2019-07-29T18:10:43.920009Z",
     "start_time": "2019-07-29T18:10:43.856197Z"
    }
   },
   "outputs": [
    {
     "data": {
      "text/plain": [
       "['../data/lite/mat/Matrix_fam_allequip_SEQN_0001_FAMN_0002_IDATE_201408010000.txt',\n",
       " '../data/lite/mat/Matrix_fam_allequip_SEQN_0001_FAMN_0002_IDATE_201410010000.txt',\n",
       " '../data/lite/mat/Matrix_fam_allequip_SEQN_0000_FAMN_0001_IDATE_201409011612.txt',\n",
       " '../data/lite/mat/Matrix_fam_allequip_SEQN_0000_FAMN_0001_IDATE_201408010000.txt',\n",
       " '../data/lite/mat/Matrix_fam_allequip_SEQN_0001_FAMN_0002_IDATE_201402010000.txt',\n",
       " '../data/lite/mat/Matrix_fam_allequip_SEQN_0000_FAMN_0001_IDATE_201410010000.txt',\n",
       " '../data/lite/mat/Matrix_fam_allequip_SEQN_0001_FAMN_0002_IDATE_201409011624.txt',\n",
       " '../data/lite/mat/Matrix_fam_allequip_SEQN_0000_FAMN_0001_IDATE_201403010000.txt',\n",
       " '../data/lite/mat/Matrix_fam_allequip_SEQN_0000_FAMN_0001_IDATE_201402010000.txt',\n",
       " '../data/lite/mat/Matrix_fam_allequip_SEQN_0001_FAMN_0002_IDATE_201403010000.txt']"
      ]
     },
     "execution_count": 6,
     "metadata": {},
     "output_type": "execute_result"
    }
   ],
   "source": [
    "mat_data_files = [os.path.join(mat_data_dir, file).replace('\\\\', '/') \n",
    "                  for file in os.listdir(mat_data_dir)]\n",
    "mat_data_files"
   ]
  },
  {
   "cell_type": "code",
   "execution_count": 7,
   "metadata": {
    "ExecuteTime": {
     "end_time": "2019-07-29T18:10:44.059974Z",
     "start_time": "2019-07-29T18:10:43.921646Z"
    }
   },
   "outputs": [
    {
     "data": {
      "text/html": [
       "<div>\n",
       "<style scoped>\n",
       "    .dataframe tbody tr th:only-of-type {\n",
       "        vertical-align: middle;\n",
       "    }\n",
       "\n",
       "    .dataframe tbody tr th {\n",
       "        vertical-align: top;\n",
       "    }\n",
       "\n",
       "    .dataframe thead th {\n",
       "        text-align: right;\n",
       "    }\n",
       "</style>\n",
       "<table border=\"1\" class=\"dataframe\">\n",
       "  <thead>\n",
       "    <tr style=\"text-align: right;\">\n",
       "      <th></th>\n",
       "      <th>year</th>\n",
       "      <th>month</th>\n",
       "      <th>day</th>\n",
       "      <th>hour</th>\n",
       "      <th>minute</th>\n",
       "      <th>n_cluster</th>\n",
       "      <th>lon</th>\n",
       "      <th>lat</th>\n",
       "      <th>ind_x</th>\n",
       "      <th>ind_y</th>\n",
       "      <th>reflect</th>\n",
       "      <th>yyyyy_xx1</th>\n",
       "      <th>yyyyy_xx2</th>\n",
       "      <th>yyyyyyy_xx3</th>\n",
       "      <th>yyy_xx4</th>\n",
       "      <th>yyy_xx5</th>\n",
       "      <th>river</th>\n",
       "      <th>cxe</th>\n",
       "      <th>precipit</th>\n",
       "      <th>vil</th>\n",
       "    </tr>\n",
       "  </thead>\n",
       "  <tbody>\n",
       "    <tr>\n",
       "      <th>0</th>\n",
       "      <td>2014.0</td>\n",
       "      <td>8.0</td>\n",
       "      <td>1.0</td>\n",
       "      <td>0.0</td>\n",
       "      <td>0.0</td>\n",
       "      <td>5.0</td>\n",
       "      <td>-60.7114</td>\n",
       "      <td>-1.8089</td>\n",
       "      <td>84.0</td>\n",
       "      <td>53.0</td>\n",
       "      <td>20.3750</td>\n",
       "      <td>0.0</td>\n",
       "      <td>0.0</td>\n",
       "      <td>0.0</td>\n",
       "      <td>0.0</td>\n",
       "      <td>0.0</td>\n",
       "      <td>0.0</td>\n",
       "      <td>1.0</td>\n",
       "      <td>0.8345</td>\n",
       "      <td>0.2359</td>\n",
       "    </tr>\n",
       "    <tr>\n",
       "      <th>1</th>\n",
       "      <td>2014.0</td>\n",
       "      <td>8.0</td>\n",
       "      <td>1.0</td>\n",
       "      <td>0.0</td>\n",
       "      <td>0.0</td>\n",
       "      <td>5.0</td>\n",
       "      <td>-60.6914</td>\n",
       "      <td>-1.8089</td>\n",
       "      <td>85.0</td>\n",
       "      <td>53.0</td>\n",
       "      <td>20.4531</td>\n",
       "      <td>0.0</td>\n",
       "      <td>0.0</td>\n",
       "      <td>0.0</td>\n",
       "      <td>0.0</td>\n",
       "      <td>0.0</td>\n",
       "      <td>0.0</td>\n",
       "      <td>1.0</td>\n",
       "      <td>0.8446</td>\n",
       "      <td>0.2423</td>\n",
       "    </tr>\n",
       "    <tr>\n",
       "      <th>2</th>\n",
       "      <td>2014.0</td>\n",
       "      <td>8.0</td>\n",
       "      <td>1.0</td>\n",
       "      <td>0.0</td>\n",
       "      <td>0.0</td>\n",
       "      <td>5.0</td>\n",
       "      <td>-60.6714</td>\n",
       "      <td>-1.8089</td>\n",
       "      <td>86.0</td>\n",
       "      <td>53.0</td>\n",
       "      <td>20.0781</td>\n",
       "      <td>0.0</td>\n",
       "      <td>0.0</td>\n",
       "      <td>0.0</td>\n",
       "      <td>0.0</td>\n",
       "      <td>0.0</td>\n",
       "      <td>0.0</td>\n",
       "      <td>1.0</td>\n",
       "      <td>0.7974</td>\n",
       "      <td>0.2460</td>\n",
       "    </tr>\n",
       "    <tr>\n",
       "      <th>3</th>\n",
       "      <td>2014.0</td>\n",
       "      <td>8.0</td>\n",
       "      <td>1.0</td>\n",
       "      <td>0.0</td>\n",
       "      <td>0.0</td>\n",
       "      <td>5.0</td>\n",
       "      <td>-60.7714</td>\n",
       "      <td>-1.8289</td>\n",
       "      <td>81.0</td>\n",
       "      <td>54.0</td>\n",
       "      <td>20.5156</td>\n",
       "      <td>0.0</td>\n",
       "      <td>0.0</td>\n",
       "      <td>0.0</td>\n",
       "      <td>0.0</td>\n",
       "      <td>0.0</td>\n",
       "      <td>0.0</td>\n",
       "      <td>1.0</td>\n",
       "      <td>0.8527</td>\n",
       "      <td>0.1908</td>\n",
       "    </tr>\n",
       "    <tr>\n",
       "      <th>4</th>\n",
       "      <td>2014.0</td>\n",
       "      <td>8.0</td>\n",
       "      <td>1.0</td>\n",
       "      <td>0.0</td>\n",
       "      <td>0.0</td>\n",
       "      <td>5.0</td>\n",
       "      <td>-60.7514</td>\n",
       "      <td>-1.8289</td>\n",
       "      <td>82.0</td>\n",
       "      <td>54.0</td>\n",
       "      <td>23.2969</td>\n",
       "      <td>0.0</td>\n",
       "      <td>0.0</td>\n",
       "      <td>0.0</td>\n",
       "      <td>0.0</td>\n",
       "      <td>0.0</td>\n",
       "      <td>0.0</td>\n",
       "      <td>2.0</td>\n",
       "      <td>1.9183</td>\n",
       "      <td>0.2526</td>\n",
       "    </tr>\n",
       "  </tbody>\n",
       "</table>\n",
       "</div>"
      ],
      "text/plain": [
       "     year  month  day  hour  minute  n_cluster      lon     lat  ind_x  ind_y  \\\n",
       "0  2014.0    8.0  1.0   0.0     0.0        5.0 -60.7114 -1.8089   84.0   53.0   \n",
       "1  2014.0    8.0  1.0   0.0     0.0        5.0 -60.6914 -1.8089   85.0   53.0   \n",
       "2  2014.0    8.0  1.0   0.0     0.0        5.0 -60.6714 -1.8089   86.0   53.0   \n",
       "3  2014.0    8.0  1.0   0.0     0.0        5.0 -60.7714 -1.8289   81.0   54.0   \n",
       "4  2014.0    8.0  1.0   0.0     0.0        5.0 -60.7514 -1.8289   82.0   54.0   \n",
       "\n",
       "   reflect  yyyyy_xx1  yyyyy_xx2  yyyyyyy_xx3  yyy_xx4  yyy_xx5  river  cxe  \\\n",
       "0  20.3750        0.0        0.0          0.0      0.0      0.0    0.0  1.0   \n",
       "1  20.4531        0.0        0.0          0.0      0.0      0.0    0.0  1.0   \n",
       "2  20.0781        0.0        0.0          0.0      0.0      0.0    0.0  1.0   \n",
       "3  20.5156        0.0        0.0          0.0      0.0      0.0    0.0  1.0   \n",
       "4  23.2969        0.0        0.0          0.0      0.0      0.0    0.0  2.0   \n",
       "\n",
       "   precipit     vil  \n",
       "0    0.8345  0.2359  \n",
       "1    0.8446  0.2423  \n",
       "2    0.7974  0.2460  \n",
       "3    0.8527  0.1908  \n",
       "4    1.9183  0.2526  "
      ]
     },
     "execution_count": 7,
     "metadata": {},
     "output_type": "execute_result"
    }
   ],
   "source": [
    "matdf = [pd.read_csv(file, sep='\\s+') for file in mat_data_files]\n",
    "matdf = pd.concat(matdf, sort=False)\n",
    "matdf = matdf.rename(str.lower, axis='columns')\n",
    "matdf.head()"
   ]
  },
  {
   "cell_type": "code",
   "execution_count": 24,
   "metadata": {
    "ExecuteTime": {
     "end_time": "2019-07-29T18:53:12.016719Z",
     "start_time": "2019-07-29T18:53:12.009759Z"
    }
   },
   "outputs": [
    {
     "data": {
      "text/plain": [
       "dict_keys([2.0, 3.0, 8.0, 9.0, 10.0])"
      ]
     },
     "execution_count": 24,
     "metadata": {},
     "output_type": "execute_result"
    }
   ],
   "source": [
    "matdf.groupby('month').groups.keys()"
   ]
  },
  {
   "cell_type": "code",
   "execution_count": 42,
   "metadata": {
    "ExecuteTime": {
     "end_time": "2019-07-29T19:03:05.824767Z",
     "start_time": "2019-07-29T19:03:05.769408Z"
    }
   },
   "outputs": [
    {
     "data": {
      "text/html": [
       "<div>\n",
       "<style scoped>\n",
       "    .dataframe tbody tr th:only-of-type {\n",
       "        vertical-align: middle;\n",
       "    }\n",
       "\n",
       "    .dataframe tbody tr th {\n",
       "        vertical-align: top;\n",
       "    }\n",
       "\n",
       "    .dataframe thead th {\n",
       "        text-align: right;\n",
       "    }\n",
       "</style>\n",
       "<table border=\"1\" class=\"dataframe\">\n",
       "  <thead>\n",
       "    <tr style=\"text-align: right;\">\n",
       "      <th></th>\n",
       "      <th>time</th>\n",
       "      <th>sysclass</th>\n",
       "      <th>lat</th>\n",
       "      <th>lon</th>\n",
       "      <th>dir</th>\n",
       "      <th>vel</th>\n",
       "      <th>size</th>\n",
       "      <th>ttyyyxx1</th>\n",
       "      <th>ttyyyxx2</th>\n",
       "      <th>ttyyyxx3</th>\n",
       "      <th>...</th>\n",
       "      <th>ttyyyxx5</th>\n",
       "      <th>riverfrac</th>\n",
       "      <th>convfrac</th>\n",
       "      <th>strafrac</th>\n",
       "      <th>meanz</th>\n",
       "      <th>maxz</th>\n",
       "      <th>meanvil</th>\n",
       "      <th>ttvil</th>\n",
       "      <th>meanprec</th>\n",
       "      <th>maxprec</th>\n",
       "    </tr>\n",
       "  </thead>\n",
       "  <tbody>\n",
       "    <tr>\n",
       "      <th>0</th>\n",
       "      <td>0.0</td>\n",
       "      <td>0.0</td>\n",
       "      <td>-2.75</td>\n",
       "      <td>-58.61</td>\n",
       "      <td>314.0</td>\n",
       "      <td>15.7</td>\n",
       "      <td>12.0</td>\n",
       "      <td>0.0</td>\n",
       "      <td>0.0</td>\n",
       "      <td>0.0</td>\n",
       "      <td>...</td>\n",
       "      <td>0.0</td>\n",
       "      <td>0.0</td>\n",
       "      <td>83.33</td>\n",
       "      <td>16.67</td>\n",
       "      <td>25.83</td>\n",
       "      <td>28.80</td>\n",
       "      <td>0.38</td>\n",
       "      <td>4.59</td>\n",
       "      <td>2.66</td>\n",
       "      <td>4.46</td>\n",
       "    </tr>\n",
       "    <tr>\n",
       "      <th>1</th>\n",
       "      <td>0.2</td>\n",
       "      <td>1.0</td>\n",
       "      <td>-2.71</td>\n",
       "      <td>-58.63</td>\n",
       "      <td>333.0</td>\n",
       "      <td>24.8</td>\n",
       "      <td>19.0</td>\n",
       "      <td>0.0</td>\n",
       "      <td>0.0</td>\n",
       "      <td>0.0</td>\n",
       "      <td>...</td>\n",
       "      <td>0.0</td>\n",
       "      <td>0.0</td>\n",
       "      <td>52.63</td>\n",
       "      <td>47.37</td>\n",
       "      <td>29.91</td>\n",
       "      <td>37.01</td>\n",
       "      <td>0.62</td>\n",
       "      <td>11.69</td>\n",
       "      <td>5.16</td>\n",
       "      <td>16.45</td>\n",
       "    </tr>\n",
       "    <tr>\n",
       "      <th>2</th>\n",
       "      <td>0.4</td>\n",
       "      <td>1.0</td>\n",
       "      <td>-2.69</td>\n",
       "      <td>-58.65</td>\n",
       "      <td>314.0</td>\n",
       "      <td>15.7</td>\n",
       "      <td>12.0</td>\n",
       "      <td>0.0</td>\n",
       "      <td>0.0</td>\n",
       "      <td>0.0</td>\n",
       "      <td>...</td>\n",
       "      <td>0.0</td>\n",
       "      <td>0.0</td>\n",
       "      <td>100.00</td>\n",
       "      <td>0.00</td>\n",
       "      <td>22.28</td>\n",
       "      <td>25.35</td>\n",
       "      <td>0.28</td>\n",
       "      <td>3.40</td>\n",
       "      <td>1.73</td>\n",
       "      <td>2.66</td>\n",
       "    </tr>\n",
       "    <tr>\n",
       "      <th>3</th>\n",
       "      <td>0.6</td>\n",
       "      <td>1.0</td>\n",
       "      <td>-2.63</td>\n",
       "      <td>-58.69</td>\n",
       "      <td>326.0</td>\n",
       "      <td>40.0</td>\n",
       "      <td>18.0</td>\n",
       "      <td>0.0</td>\n",
       "      <td>0.0</td>\n",
       "      <td>0.0</td>\n",
       "      <td>...</td>\n",
       "      <td>0.0</td>\n",
       "      <td>0.0</td>\n",
       "      <td>77.78</td>\n",
       "      <td>22.22</td>\n",
       "      <td>27.47</td>\n",
       "      <td>35.10</td>\n",
       "      <td>0.50</td>\n",
       "      <td>8.95</td>\n",
       "      <td>3.68</td>\n",
       "      <td>12.26</td>\n",
       "    </tr>\n",
       "    <tr>\n",
       "      <th>0</th>\n",
       "      <td>0.0</td>\n",
       "      <td>2.0</td>\n",
       "      <td>-2.49</td>\n",
       "      <td>-60.29</td>\n",
       "      <td>26.0</td>\n",
       "      <td>24.8</td>\n",
       "      <td>14.0</td>\n",
       "      <td>0.0</td>\n",
       "      <td>0.0</td>\n",
       "      <td>0.0</td>\n",
       "      <td>...</td>\n",
       "      <td>0.0</td>\n",
       "      <td>0.0</td>\n",
       "      <td>100.00</td>\n",
       "      <td>0.00</td>\n",
       "      <td>26.28</td>\n",
       "      <td>31.72</td>\n",
       "      <td>0.50</td>\n",
       "      <td>7.06</td>\n",
       "      <td>3.09</td>\n",
       "      <td>7.21</td>\n",
       "    </tr>\n",
       "  </tbody>\n",
       "</table>\n",
       "<p>5 rows × 21 columns</p>\n",
       "</div>"
      ],
      "text/plain": [
       "   time  sysclass   lat    lon    dir   vel  size  ttyyyxx1  ttyyyxx2  \\\n",
       "0   0.0       0.0 -2.75 -58.61  314.0  15.7  12.0       0.0       0.0   \n",
       "1   0.2       1.0 -2.71 -58.63  333.0  24.8  19.0       0.0       0.0   \n",
       "2   0.4       1.0 -2.69 -58.65  314.0  15.7  12.0       0.0       0.0   \n",
       "3   0.6       1.0 -2.63 -58.69  326.0  40.0  18.0       0.0       0.0   \n",
       "0   0.0       2.0 -2.49 -60.29   26.0  24.8  14.0       0.0       0.0   \n",
       "\n",
       "   ttyyyxx3  ...  ttyyyxx5  riverfrac  convfrac  strafrac  meanz   maxz  \\\n",
       "0       0.0  ...       0.0        0.0     83.33     16.67  25.83  28.80   \n",
       "1       0.0  ...       0.0        0.0     52.63     47.37  29.91  37.01   \n",
       "2       0.0  ...       0.0        0.0    100.00      0.00  22.28  25.35   \n",
       "3       0.0  ...       0.0        0.0     77.78     22.22  27.47  35.10   \n",
       "0       0.0  ...       0.0        0.0    100.00      0.00  26.28  31.72   \n",
       "\n",
       "   meanvil  ttvil  meanprec  maxprec  \n",
       "0     0.38   4.59      2.66     4.46  \n",
       "1     0.62  11.69      5.16    16.45  \n",
       "2     0.28   3.40      1.73     2.66  \n",
       "3     0.50   8.95      3.68    12.26  \n",
       "0     0.50   7.06      3.09     7.21  \n",
       "\n",
       "[5 rows x 21 columns]"
      ]
     },
     "execution_count": 42,
     "metadata": {},
     "output_type": "execute_result"
    }
   ],
   "source": [
    "famdf = [pd.read_csv(file, sep='\\s+') for file in fam_data_files]\n",
    "famdf = pd.concat(famdf, sort=False)\n",
    "famdf = famdf.rename(str.lower, axis='columns')\n",
    "famdf.head()"
   ]
  },
  {
   "cell_type": "code",
   "execution_count": null,
   "metadata": {},
   "outputs": [],
   "source": []
  },
  {
   "cell_type": "code",
   "execution_count": 9,
   "metadata": {
    "ExecuteTime": {
     "end_time": "2019-07-29T18:10:44.145543Z",
     "start_time": "2019-07-29T18:10:44.110497Z"
    }
   },
   "outputs": [
    {
     "data": {
      "text/plain": [
       "Index(['year', 'month', 'day', 'hour', 'minute', 'n_cluster', 'lon', 'lat',\n",
       "       'ind_x', 'ind_y', 'reflect', 'yyyyy_xx1', 'yyyyy_xx2', 'yyyyyyy_xx3',\n",
       "       'yyy_xx4', 'yyy_xx5', 'river', 'cxe', 'precipit', 'vil'],\n",
       "      dtype='object')"
      ]
     },
     "execution_count": 9,
     "metadata": {},
     "output_type": "execute_result"
    }
   ],
   "source": [
    "matdf.columns"
   ]
  },
  {
   "cell_type": "code",
   "execution_count": 10,
   "metadata": {
    "ExecuteTime": {
     "end_time": "2019-07-29T18:10:44.221111Z",
     "start_time": "2019-07-29T18:10:44.148002Z"
    }
   },
   "outputs": [
    {
     "data": {
      "text/plain": [
       "dict_keys([1.0, 2.0, 3.0, 4.0, 5.0, 6.0, 7.0, 8.0, 11.0, 15.0, 17.0, 18.0, 19.0, 21.0, 24.0, 28.0, 29.0, 30.0, 33.0, 34.0, 36.0, 40.0, 41.0, 48.0])"
      ]
     },
     "execution_count": 10,
     "metadata": {},
     "output_type": "execute_result"
    }
   ],
   "source": [
    "matdf.groupby('n_cluster').groups.keys()"
   ]
  },
  {
   "cell_type": "code",
   "execution_count": 11,
   "metadata": {
    "ExecuteTime": {
     "end_time": "2019-07-29T18:10:44.965430Z",
     "start_time": "2019-07-29T18:10:44.223140Z"
    }
   },
   "outputs": [],
   "source": [
    "el = {}\n",
    "for i, row in matdf.iterrows():\n",
    "    if not el.get(str(row.n_cluster)):\n",
    "        el[str(row.n_cluster)] = []\n",
    "    el[str(row.n_cluster)].append(row)"
   ]
  },
  {
   "cell_type": "code",
   "execution_count": 12,
   "metadata": {
    "ExecuteTime": {
     "end_time": "2019-07-29T18:10:45.342127Z",
     "start_time": "2019-07-29T18:10:44.967270Z"
    }
   },
   "outputs": [
    {
     "data": {
      "image/png": "[encoded data removed]",
      "text/plain": [
       "<Figure size 1080x576 with 1 Axes>"
      ]
     },
     "metadata": {
      "needs_background": "light"
     },
     "output_type": "display_data"
    }
   ],
   "source": [
    "# fig, ax = plt.sub\n",
    "plt.figure(figsize=(15, 8))\n",
    "plt.grid()\n",
    "x, y = [], []\n",
    "for key in el.keys():\n",
    "    xx = int(float(key))\n",
    "\n",
    "    yy = len(el[key])\n",
    "    \n",
    "    x.append(xx)\n",
    "    y.append(yy)\n",
    "    plt.bar(xx, yy, label='cluster {}'.format(int(float(key))))\n",
    "#     plt.boxplot(xx)\n",
    "    plt.annotate(len(el[key]), xy=(xx, yy))\n",
    "    \n",
    "# plt.annotate()\n",
    "# plt.bar(x, y)\n",
    "plt.legend(ncol=4)\n",
    "plt.show()"
   ]
  },
  {
   "cell_type": "code",
   "execution_count": 13,
   "metadata": {
    "ExecuteTime": {
     "end_time": "2019-07-29T18:10:45.363894Z",
     "start_time": "2019-07-29T18:10:45.343939Z"
    }
   },
   "outputs": [
    {
     "data": {
      "text/html": [
       "<div>\n",
       "<style scoped>\n",
       "    .dataframe tbody tr th:only-of-type {\n",
       "        vertical-align: middle;\n",
       "    }\n",
       "\n",
       "    .dataframe tbody tr th {\n",
       "        vertical-align: top;\n",
       "    }\n",
       "\n",
       "    .dataframe thead th {\n",
       "        text-align: right;\n",
       "    }\n",
       "</style>\n",
       "<table border=\"1\" class=\"dataframe\">\n",
       "  <thead>\n",
       "    <tr style=\"text-align: right;\">\n",
       "      <th></th>\n",
       "      <th>time</th>\n",
       "      <th>sysclass</th>\n",
       "      <th>lat</th>\n",
       "      <th>lon</th>\n",
       "      <th>dir</th>\n",
       "      <th>vel</th>\n",
       "      <th>size</th>\n",
       "      <th>ttyyyxx1</th>\n",
       "      <th>ttyyyxx2</th>\n",
       "      <th>ttyyyxx3</th>\n",
       "      <th>...</th>\n",
       "      <th>ttyyyxx5</th>\n",
       "      <th>riverfrac</th>\n",
       "      <th>convfrac</th>\n",
       "      <th>strafrac</th>\n",
       "      <th>meanz</th>\n",
       "      <th>maxz</th>\n",
       "      <th>meanvil</th>\n",
       "      <th>ttvil</th>\n",
       "      <th>meanprec</th>\n",
       "      <th>maxprec</th>\n",
       "    </tr>\n",
       "  </thead>\n",
       "  <tbody>\n",
       "    <tr>\n",
       "      <th>0</th>\n",
       "      <td>0.0</td>\n",
       "      <td>0.0</td>\n",
       "      <td>-2.75</td>\n",
       "      <td>-58.61</td>\n",
       "      <td>314.0</td>\n",
       "      <td>15.7</td>\n",
       "      <td>12.0</td>\n",
       "      <td>0.0</td>\n",
       "      <td>0.0</td>\n",
       "      <td>0.0</td>\n",
       "      <td>...</td>\n",
       "      <td>0.0</td>\n",
       "      <td>0.00</td>\n",
       "      <td>83.33</td>\n",
       "      <td>16.67</td>\n",
       "      <td>25.83</td>\n",
       "      <td>28.80</td>\n",
       "      <td>0.38</td>\n",
       "      <td>4.59</td>\n",
       "      <td>2.66</td>\n",
       "      <td>4.46</td>\n",
       "    </tr>\n",
       "    <tr>\n",
       "      <th>0</th>\n",
       "      <td>0.0</td>\n",
       "      <td>0.0</td>\n",
       "      <td>-3.09</td>\n",
       "      <td>-61.47</td>\n",
       "      <td>0.0</td>\n",
       "      <td>22.2</td>\n",
       "      <td>11.0</td>\n",
       "      <td>0.0</td>\n",
       "      <td>0.0</td>\n",
       "      <td>0.0</td>\n",
       "      <td>...</td>\n",
       "      <td>0.0</td>\n",
       "      <td>0.00</td>\n",
       "      <td>100.00</td>\n",
       "      <td>0.00</td>\n",
       "      <td>20.53</td>\n",
       "      <td>21.46</td>\n",
       "      <td>0.20</td>\n",
       "      <td>2.25</td>\n",
       "      <td>1.23</td>\n",
       "      <td>1.36</td>\n",
       "    </tr>\n",
       "    <tr>\n",
       "      <th>0</th>\n",
       "      <td>0.0</td>\n",
       "      <td>0.0</td>\n",
       "      <td>-3.19</td>\n",
       "      <td>-59.37</td>\n",
       "      <td>314.0</td>\n",
       "      <td>31.4</td>\n",
       "      <td>11.0</td>\n",
       "      <td>0.0</td>\n",
       "      <td>0.0</td>\n",
       "      <td>0.0</td>\n",
       "      <td>...</td>\n",
       "      <td>0.0</td>\n",
       "      <td>72.73</td>\n",
       "      <td>100.00</td>\n",
       "      <td>0.00</td>\n",
       "      <td>31.91</td>\n",
       "      <td>37.55</td>\n",
       "      <td>1.01</td>\n",
       "      <td>11.16</td>\n",
       "      <td>7.54</td>\n",
       "      <td>17.79</td>\n",
       "    </tr>\n",
       "    <tr>\n",
       "      <th>0</th>\n",
       "      <td>0.0</td>\n",
       "      <td>0.0</td>\n",
       "      <td>-2.69</td>\n",
       "      <td>-61.51</td>\n",
       "      <td>314.0</td>\n",
       "      <td>31.4</td>\n",
       "      <td>20.0</td>\n",
       "      <td>0.0</td>\n",
       "      <td>0.0</td>\n",
       "      <td>0.0</td>\n",
       "      <td>...</td>\n",
       "      <td>0.0</td>\n",
       "      <td>0.00</td>\n",
       "      <td>35.00</td>\n",
       "      <td>65.00</td>\n",
       "      <td>21.46</td>\n",
       "      <td>23.67</td>\n",
       "      <td>0.31</td>\n",
       "      <td>6.25</td>\n",
       "      <td>1.16</td>\n",
       "      <td>2.04</td>\n",
       "    </tr>\n",
       "    <tr>\n",
       "      <th>0</th>\n",
       "      <td>0.0</td>\n",
       "      <td>0.0</td>\n",
       "      <td>-4.43</td>\n",
       "      <td>-59.27</td>\n",
       "      <td>314.0</td>\n",
       "      <td>31.4</td>\n",
       "      <td>21.0</td>\n",
       "      <td>0.0</td>\n",
       "      <td>0.0</td>\n",
       "      <td>0.0</td>\n",
       "      <td>...</td>\n",
       "      <td>0.0</td>\n",
       "      <td>0.00</td>\n",
       "      <td>23.81</td>\n",
       "      <td>76.19</td>\n",
       "      <td>24.28</td>\n",
       "      <td>29.38</td>\n",
       "      <td>0.44</td>\n",
       "      <td>9.27</td>\n",
       "      <td>1.83</td>\n",
       "      <td>4.95</td>\n",
       "    </tr>\n",
       "    <tr>\n",
       "      <th>0</th>\n",
       "      <td>0.0</td>\n",
       "      <td>0.0</td>\n",
       "      <td>-2.85</td>\n",
       "      <td>-59.05</td>\n",
       "      <td>333.0</td>\n",
       "      <td>24.8</td>\n",
       "      <td>13.0</td>\n",
       "      <td>0.0</td>\n",
       "      <td>0.0</td>\n",
       "      <td>0.0</td>\n",
       "      <td>...</td>\n",
       "      <td>0.0</td>\n",
       "      <td>7.69</td>\n",
       "      <td>53.85</td>\n",
       "      <td>46.15</td>\n",
       "      <td>28.17</td>\n",
       "      <td>33.91</td>\n",
       "      <td>0.59</td>\n",
       "      <td>7.67</td>\n",
       "      <td>3.91</td>\n",
       "      <td>10.06</td>\n",
       "    </tr>\n",
       "  </tbody>\n",
       "</table>\n",
       "<p>6 rows × 21 columns</p>\n",
       "</div>"
      ],
      "text/plain": [
       "   time  sysclass   lat    lon    dir   vel  size  ttyyyxx1  ttyyyxx2  \\\n",
       "0   0.0       0.0 -2.75 -58.61  314.0  15.7  12.0       0.0       0.0   \n",
       "0   0.0       0.0 -3.09 -61.47    0.0  22.2  11.0       0.0       0.0   \n",
       "0   0.0       0.0 -3.19 -59.37  314.0  31.4  11.0       0.0       0.0   \n",
       "0   0.0       0.0 -2.69 -61.51  314.0  31.4  20.0       0.0       0.0   \n",
       "0   0.0       0.0 -4.43 -59.27  314.0  31.4  21.0       0.0       0.0   \n",
       "0   0.0       0.0 -2.85 -59.05  333.0  24.8  13.0       0.0       0.0   \n",
       "\n",
       "   ttyyyxx3  ...  ttyyyxx5  riverfrac  convfrac  strafrac  meanz   maxz  \\\n",
       "0       0.0  ...       0.0       0.00     83.33     16.67  25.83  28.80   \n",
       "0       0.0  ...       0.0       0.00    100.00      0.00  20.53  21.46   \n",
       "0       0.0  ...       0.0      72.73    100.00      0.00  31.91  37.55   \n",
       "0       0.0  ...       0.0       0.00     35.00     65.00  21.46  23.67   \n",
       "0       0.0  ...       0.0       0.00     23.81     76.19  24.28  29.38   \n",
       "0       0.0  ...       0.0       7.69     53.85     46.15  28.17  33.91   \n",
       "\n",
       "   meanvil  ttvil  meanprec  maxprec  \n",
       "0     0.38   4.59      2.66     4.46  \n",
       "0     0.20   2.25      1.23     1.36  \n",
       "0     1.01  11.16      7.54    17.79  \n",
       "0     0.31   6.25      1.16     2.04  \n",
       "0     0.44   9.27      1.83     4.95  \n",
       "0     0.59   7.67      3.91    10.06  \n",
       "\n",
       "[6 rows x 21 columns]"
      ]
     },
     "execution_count": 13,
     "metadata": {},
     "output_type": "execute_result"
    }
   ],
   "source": [
    "famdf.loc[famdf['sysclass'] == 0]"
   ]
  },
  {
   "cell_type": "code",
   "execution_count": 14,
   "metadata": {
    "ExecuteTime": {
     "end_time": "2019-07-29T18:10:45.436503Z",
     "start_time": "2019-07-29T18:10:45.366605Z"
    }
   },
   "outputs": [
    {
     "data": {
      "text/plain": [
       "0.0"
      ]
     },
     "execution_count": 14,
     "metadata": {},
     "output_type": "execute_result"
    }
   ],
   "source": [
    "np.mean(famdf.ttyyyxx5)\n",
    "# for i, row in famdf.iterrows():\n",
    "#     if row.ttyyyxx1 > 0 or row.ttyyyxx2 >0:\n",
    "#         print(row)"
   ]
  },
  {
   "cell_type": "code",
   "execution_count": 15,
   "metadata": {
    "ExecuteTime": {
     "end_time": "2019-07-29T18:10:45.532274Z",
     "start_time": "2019-07-29T18:10:45.438593Z"
    }
   },
   "outputs": [
    {
     "data": {
      "text/html": [
       "<div>\n",
       "<style scoped>\n",
       "    .dataframe tbody tr th:only-of-type {\n",
       "        vertical-align: middle;\n",
       "    }\n",
       "\n",
       "    .dataframe tbody tr th {\n",
       "        vertical-align: top;\n",
       "    }\n",
       "\n",
       "    .dataframe thead th {\n",
       "        text-align: right;\n",
       "    }\n",
       "</style>\n",
       "<table border=\"1\" class=\"dataframe\">\n",
       "  <thead>\n",
       "    <tr style=\"text-align: right;\">\n",
       "      <th></th>\n",
       "      <th>year</th>\n",
       "      <th>month</th>\n",
       "      <th>day</th>\n",
       "      <th>hour</th>\n",
       "      <th>minute</th>\n",
       "      <th>n_cluster</th>\n",
       "      <th>lon</th>\n",
       "      <th>lat</th>\n",
       "      <th>ind_x</th>\n",
       "      <th>ind_y</th>\n",
       "      <th>reflect</th>\n",
       "      <th>yyyyy_xx1</th>\n",
       "      <th>yyyyy_xx2</th>\n",
       "      <th>yyyyyyy_xx3</th>\n",
       "      <th>yyy_xx4</th>\n",
       "      <th>yyy_xx5</th>\n",
       "      <th>river</th>\n",
       "      <th>cxe</th>\n",
       "      <th>precipit</th>\n",
       "      <th>vil</th>\n",
       "    </tr>\n",
       "  </thead>\n",
       "  <tbody>\n",
       "    <tr>\n",
       "      <th>1153</th>\n",
       "      <td>2014.0</td>\n",
       "      <td>9.0</td>\n",
       "      <td>1.0</td>\n",
       "      <td>18.0</td>\n",
       "      <td>24.0</td>\n",
       "      <td>48.0</td>\n",
       "      <td>-58.9914</td>\n",
       "      <td>-3.6289</td>\n",
       "      <td>170.0</td>\n",
       "      <td>144.0</td>\n",
       "      <td>44.0938</td>\n",
       "      <td>2.0</td>\n",
       "      <td>0.0</td>\n",
       "      <td>0.0</td>\n",
       "      <td>0.0</td>\n",
       "      <td>0.0</td>\n",
       "      <td>0.0</td>\n",
       "      <td>2.0</td>\n",
       "      <td>49.8495</td>\n",
       "      <td>8.6137</td>\n",
       "    </tr>\n",
       "    <tr>\n",
       "      <th>1440</th>\n",
       "      <td>2014.0</td>\n",
       "      <td>9.0</td>\n",
       "      <td>1.0</td>\n",
       "      <td>18.0</td>\n",
       "      <td>48.0</td>\n",
       "      <td>41.0</td>\n",
       "      <td>-59.1714</td>\n",
       "      <td>-3.5689</td>\n",
       "      <td>161.0</td>\n",
       "      <td>141.0</td>\n",
       "      <td>37.1562</td>\n",
       "      <td>2.0</td>\n",
       "      <td>1.0</td>\n",
       "      <td>0.0</td>\n",
       "      <td>0.0</td>\n",
       "      <td>0.0</td>\n",
       "      <td>0.0</td>\n",
       "      <td>1.0</td>\n",
       "      <td>10.9696</td>\n",
       "      <td>4.4432</td>\n",
       "    </tr>\n",
       "    <tr>\n",
       "      <th>1514</th>\n",
       "      <td>2014.0</td>\n",
       "      <td>9.0</td>\n",
       "      <td>1.0</td>\n",
       "      <td>18.0</td>\n",
       "      <td>48.0</td>\n",
       "      <td>41.0</td>\n",
       "      <td>-58.9314</td>\n",
       "      <td>-3.6489</td>\n",
       "      <td>173.0</td>\n",
       "      <td>145.0</td>\n",
       "      <td>37.0156</td>\n",
       "      <td>2.0</td>\n",
       "      <td>0.0</td>\n",
       "      <td>0.0</td>\n",
       "      <td>0.0</td>\n",
       "      <td>0.0</td>\n",
       "      <td>0.0</td>\n",
       "      <td>2.0</td>\n",
       "      <td>16.4496</td>\n",
       "      <td>7.4419</td>\n",
       "    </tr>\n",
       "    <tr>\n",
       "      <th>1993</th>\n",
       "      <td>2014.0</td>\n",
       "      <td>9.0</td>\n",
       "      <td>1.0</td>\n",
       "      <td>19.0</td>\n",
       "      <td>12.0</td>\n",
       "      <td>40.0</td>\n",
       "      <td>-59.1114</td>\n",
       "      <td>-3.7089</td>\n",
       "      <td>164.0</td>\n",
       "      <td>148.0</td>\n",
       "      <td>38.3438</td>\n",
       "      <td>2.0</td>\n",
       "      <td>0.0</td>\n",
       "      <td>0.0</td>\n",
       "      <td>0.0</td>\n",
       "      <td>0.0</td>\n",
       "      <td>11.0</td>\n",
       "      <td>2.0</td>\n",
       "      <td>20.2537</td>\n",
       "      <td>5.6051</td>\n",
       "    </tr>\n",
       "    <tr>\n",
       "      <th>2252</th>\n",
       "      <td>2014.0</td>\n",
       "      <td>9.0</td>\n",
       "      <td>1.0</td>\n",
       "      <td>19.0</td>\n",
       "      <td>24.0</td>\n",
       "      <td>36.0</td>\n",
       "      <td>-59.0714</td>\n",
       "      <td>-3.7089</td>\n",
       "      <td>166.0</td>\n",
       "      <td>148.0</td>\n",
       "      <td>31.0469</td>\n",
       "      <td>2.0</td>\n",
       "      <td>0.0</td>\n",
       "      <td>0.0</td>\n",
       "      <td>0.0</td>\n",
       "      <td>0.0</td>\n",
       "      <td>0.0</td>\n",
       "      <td>1.0</td>\n",
       "      <td>4.2944</td>\n",
       "      <td>1.3120</td>\n",
       "    </tr>\n",
       "    <tr>\n",
       "      <th>3018</th>\n",
       "      <td>2014.0</td>\n",
       "      <td>9.0</td>\n",
       "      <td>1.0</td>\n",
       "      <td>20.0</td>\n",
       "      <td>12.0</td>\n",
       "      <td>28.0</td>\n",
       "      <td>-59.6114</td>\n",
       "      <td>-3.2689</td>\n",
       "      <td>139.0</td>\n",
       "      <td>126.0</td>\n",
       "      <td>23.2812</td>\n",
       "      <td>2.0</td>\n",
       "      <td>1.0</td>\n",
       "      <td>0.0</td>\n",
       "      <td>0.0</td>\n",
       "      <td>0.0</td>\n",
       "      <td>0.0</td>\n",
       "      <td>2.0</td>\n",
       "      <td>1.9136</td>\n",
       "      <td>1.1430</td>\n",
       "    </tr>\n",
       "    <tr>\n",
       "      <th>3183</th>\n",
       "      <td>2014.0</td>\n",
       "      <td>9.0</td>\n",
       "      <td>1.0</td>\n",
       "      <td>20.0</td>\n",
       "      <td>36.0</td>\n",
       "      <td>24.0</td>\n",
       "      <td>-59.6714</td>\n",
       "      <td>-3.2289</td>\n",
       "      <td>136.0</td>\n",
       "      <td>124.0</td>\n",
       "      <td>26.1875</td>\n",
       "      <td>2.0</td>\n",
       "      <td>1.0</td>\n",
       "      <td>0.0</td>\n",
       "      <td>0.0</td>\n",
       "      <td>1.0</td>\n",
       "      <td>0.0</td>\n",
       "      <td>2.0</td>\n",
       "      <td>3.0168</td>\n",
       "      <td>1.1955</td>\n",
       "    </tr>\n",
       "  </tbody>\n",
       "</table>\n",
       "</div>"
      ],
      "text/plain": [
       "        year  month  day  hour  minute  n_cluster      lon     lat  ind_x  \\\n",
       "1153  2014.0    9.0  1.0  18.0    24.0       48.0 -58.9914 -3.6289  170.0   \n",
       "1440  2014.0    9.0  1.0  18.0    48.0       41.0 -59.1714 -3.5689  161.0   \n",
       "1514  2014.0    9.0  1.0  18.0    48.0       41.0 -58.9314 -3.6489  173.0   \n",
       "1993  2014.0    9.0  1.0  19.0    12.0       40.0 -59.1114 -3.7089  164.0   \n",
       "2252  2014.0    9.0  1.0  19.0    24.0       36.0 -59.0714 -3.7089  166.0   \n",
       "3018  2014.0    9.0  1.0  20.0    12.0       28.0 -59.6114 -3.2689  139.0   \n",
       "3183  2014.0    9.0  1.0  20.0    36.0       24.0 -59.6714 -3.2289  136.0   \n",
       "\n",
       "      ind_y  reflect  yyyyy_xx1  yyyyy_xx2  yyyyyyy_xx3  yyy_xx4  yyy_xx5  \\\n",
       "1153  144.0  44.0938        2.0        0.0          0.0      0.0      0.0   \n",
       "1440  141.0  37.1562        2.0        1.0          0.0      0.0      0.0   \n",
       "1514  145.0  37.0156        2.0        0.0          0.0      0.0      0.0   \n",
       "1993  148.0  38.3438        2.0        0.0          0.0      0.0      0.0   \n",
       "2252  148.0  31.0469        2.0        0.0          0.0      0.0      0.0   \n",
       "3018  126.0  23.2812        2.0        1.0          0.0      0.0      0.0   \n",
       "3183  124.0  26.1875        2.0        1.0          0.0      0.0      1.0   \n",
       "\n",
       "      river  cxe  precipit     vil  \n",
       "1153    0.0  2.0   49.8495  8.6137  \n",
       "1440    0.0  1.0   10.9696  4.4432  \n",
       "1514    0.0  2.0   16.4496  7.4419  \n",
       "1993   11.0  2.0   20.2537  5.6051  \n",
       "2252    0.0  1.0    4.2944  1.3120  \n",
       "3018    0.0  2.0    1.9136  1.1430  \n",
       "3183    0.0  2.0    3.0168  1.1955  "
      ]
     },
     "execution_count": 15,
     "metadata": {},
     "output_type": "execute_result"
    }
   ],
   "source": [
    "clus41 = matdf[matdf['n_cluster'] == 1]\n",
    "clus41 = matdf[matdf['hour'] == 2]\n",
    "clus41 = matdf[matdf['yyyyy_xx1'] == 2]\n",
    "clus41.head(80)"
   ]
  },
  {
   "cell_type": "code",
   "execution_count": 16,
   "metadata": {
    "ExecuteTime": {
     "end_time": "2019-07-29T18:10:46.187874Z",
     "start_time": "2019-07-29T18:10:45.534965Z"
    }
   },
   "outputs": [
    {
     "data": {
      "text/plain": [
       "0"
      ]
     },
     "execution_count": 16,
     "metadata": {},
     "output_type": "execute_result"
    }
   ],
   "source": [
    "lights = []\n",
    "for i, x in matdf.iterrows():\n",
    "    if x.yyyyyyy_xx3 > 0 and x.yyy_xx4 > 0 and x.yyy_xx5 > 0:\n",
    "        lights.append(x)\n",
    "len(lights)"
   ]
  },
  {
   "cell_type": "code",
   "execution_count": 17,
   "metadata": {
    "ExecuteTime": {
     "end_time": "2019-07-29T18:10:46.264430Z",
     "start_time": "2019-07-29T18:10:46.190009Z"
    }
   },
   "outputs": [
    {
     "data": {
      "text/html": [
       "<div style=\"width:100%;\"><div style=\"position:relative;width:100%;height:0;padding-bottom:60%;\"><iframe src=\"data:text/html;charset=utf-8;base64,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\" style=\"position:absolute;width:100%;height:100%;left:0;top:0;border:none !important;\" allowfullscreen webkitallowfullscreen mozallowfullscreen></iframe></div></div>"
      ],
      "text/plain": [
       "<folium.folium.Map at 0x7f22db234c50>"
      ]
     },
     "execution_count": 17,
     "metadata": {},
     "output_type": "execute_result"
    }
   ],
   "source": [
    "m = folium.Map(\n",
    "    location=[-3.4, -59.2],\n",
    "     zoom_start=9.7\n",
    ")\n",
    "for x in lights:\n",
    "    folium.Marker([x.lat, x.lon], tooltip='hour: {}, min: {}, clus: {}, ref: {}'.format(x.hour, x.minute, x.n_cluster, x.reflect)).add_to(m)\n",
    "m"
   ]
  },
  {
   "cell_type": "code",
   "execution_count": 18,
   "metadata": {
    "ExecuteTime": {
     "end_time": "2019-07-29T18:10:47.171217Z",
     "start_time": "2019-07-29T18:10:46.266488Z"
    }
   },
   "outputs": [
    {
     "data": {
      "text/plain": [
       "{0.0: 18, 12.0: 14, 24.0: 36, 36.0: 20, 48.0: 22}"
      ]
     },
     "execution_count": 18,
     "metadata": {},
     "output_type": "execute_result"
    }
   ],
   "source": [
    "ans = {\n",
    "    0.0: 0, 12.0: 0, 24.0: 0, 36.0: 0, 48.0: 0\n",
    "}\n",
    "for i, row in matdf.iterrows():\n",
    "    if (row.yyyyy_xx1 > 0 and row.yyyyy_xx2 > 0) or (row.yyy_xx4 and row.yyy_xx5) or (row.yyyyyyy_xx3):\n",
    "        ans[row.minute] += 1\n",
    "ans"
   ]
  },
  {
   "cell_type": "code",
   "execution_count": 19,
   "metadata": {
    "ExecuteTime": {
     "end_time": "2019-07-29T18:10:47.289441Z",
     "start_time": "2019-07-29T18:10:47.173165Z"
    }
   },
   "outputs": [
    {
     "data": {
      "text/plain": [
       "[<matplotlib.lines.Line2D at 0x7f22db45e940>]"
      ]
     },
     "execution_count": 19,
     "metadata": {},
     "output_type": "execute_result"
    },
    {
     "data": {
      "image/png": "[encoded data removed]",
      "text/plain": [
       "<Figure size 432x288 with 1 Axes>"
      ]
     },
     "metadata": {
      "needs_background": "light"
     },
     "output_type": "display_data"
    }
   ],
   "source": [
    "plt.plot(list(ans.keys()), list(ans.values()))"
   ]
  }
 ],
 "metadata": {
  "kernelspec": {
   "display_name": "Python 3",
   "language": "python",
   "name": "python3"
  },
  "language_info": {
   "codemirror_mode": {
    "name": "ipython",
    "version": 3
   },
   "file_extension": ".py",
   "mimetype": "text/x-python",
   "name": "python",
   "nbconvert_exporter": "python",
   "pygments_lexer": "ipython3",
   "version": "3.7.3"
  }
 },
 "nbformat": 4,
 "nbformat_minor": 2
}
