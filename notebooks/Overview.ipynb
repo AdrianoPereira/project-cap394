{
 "cells": [
  {
   "cell_type": "markdown",
   "metadata": {
    "slideshow": {
     "slide_type": "slide"
    }
   },
   "source": [
    "![oi](../images/header.png)\n",
    "\n",
    "## Visão geral do projeto\n",
    "---\n",
    "**Professores:**\n",
    "- Dr. Gilberto Queiroz\n",
    "- Dr. Rafael Santos\n",
    "\n",
    "**Discente:**\n",
    "- Adriano Almeida"
   ]
  },
  {
   "cell_type": "markdown",
   "metadata": {
    "slideshow": {
     "slide_type": "subslide"
    }
   },
   "source": [
    "<a id=\"indice\"></a>\n",
    "## Índice\n",
    "---\n",
    "- [1. Importação de módulos e bibliotecas](#importacao-de-modulos-e-bibliotecas)\n",
    "\n",
    "[🏠 Início](https://github.com/AdrianoPereira/project-cap394/)"
   ]
  },
  {
   "cell_type": "markdown",
   "metadata": {
    "slideshow": {
     "slide_type": "slide"
    }
   },
   "source": [
    "## 1. Motivação [^](#indice)\n",
    "---\n",
    "As descargas elétricas atmosféricas são conhecidas por serem um fenômeno natural característico das tempestades. Por ser um país de zona tropical, o Brasil ocupa uma posição de destaque mundial no que diz respeito a grande incidência de raios, chegando a serem registrados até 77.8 milhões por ano, de acordo com apontamento estimado pelo Grupo de Eletricidade Atmosférica (ELAT) do Instituto Nacional de Pesquisas Espaciais (INPE)[$^{1}$](http://www.inpe.br/webelat/homepage/menu/el.atm/perguntas.e.respostas.php). Além de afetarem diretamente a composição química da atmosfera e a qualidade do ar na alta troposfera  (WEBER et al., 2005), com sua grande capacidade destrutiva, os raios também são responsáveis por outra série impactos, podendo iniciar incêndios florestais, atingir rebanhos de gados, danificar construções, causar acidentes aéreos e marítimos, interromper serviços de comunicação e transmissão de energia, e até mesmo ferir ou matar pessoas (CARDOSO et al., 2014).\n",
    "\n",
    "Este trabalho tem como objetivo realizar a Análise Exploratória dos Dados, e encontrar correlações significativas entre os atributos que possibilitam o desenvolvimento de um modelo de aprendizado de máquina para a previsão de descargas elétricas. "
   ]
  },
  {
   "cell_type": "markdown",
   "metadata": {
    "slideshow": {
     "slide_type": "slide"
    }
   },
   "source": [
    "## 2. Contextualização da área de estudo\n",
    "\n",
    "---\n",
    "\n",
    "Os dados da área de estudo tem resolução espacial de 1 km$^{2}$, e está localizada cidade de Manaus-MA e suas proximidades. O local está envolvido por um raio de 240 km, que correspondem a espaços urbanos e rurais, como mostrado a Figura 1.\n",
    "\n",
    "<img src=\"../assets/images/landcoverhorizontal.png\" width=\"800\"/>"
   ]
  }
 ],
 "metadata": {
  "celltoolbar": "Slideshow",
  "kernelspec": {
   "display_name": "Python 3",
   "language": "python",
   "name": "python3"
  },
  "language_info": {
   "codemirror_mode": {
    "name": "ipython",
    "version": 3
   },
   "file_extension": ".py",
   "mimetype": "text/x-python",
   "name": "python",
   "nbconvert_exporter": "python",
   "pygments_lexer": "ipython3",
   "version": "3.7.3"
  }
 },
 "nbformat": 4,
 "nbformat_minor": 2
}
