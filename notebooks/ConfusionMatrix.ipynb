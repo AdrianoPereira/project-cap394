{
 "cells": [
  {
   "cell_type": "code",
   "execution_count": 60,
   "metadata": {
    "ExecuteTime": {
     "end_time": "2019-09-04T13:38:15.048088Z",
     "start_time": "2019-09-04T13:38:15.044398Z"
    }
   },
   "outputs": [],
   "source": [
    "import numpy as np # linear algebra\n",
    "import pandas as pd # data processing, CSV file I/O \n",
    "import os\n",
    "from mpl_toolkits.basemap import Basemap\n",
    "import matplotlib.pyplot as plt\n",
    "from mpl_toolkits.axes_grid1 import make_axes_locatable\n",
    "import rasterio\n",
    "from rasterio.plot import show\n",
    "from rasterio.plot import show_hist\n",
    "from sklearn.model_selection import train_test_split\n",
    "from sklearn.tree import DecisionTreeRegressor, export_graphviz\n",
    "from sklearn.metrics import confusion_matrix, classification_report\n",
    "from sklearn.externals import joblib as jb\n",
    "import plotly.graph_objects as go"
   ]
  },
  {
   "cell_type": "code",
   "execution_count": 3,
   "metadata": {
    "ExecuteTime": {
     "end_time": "2019-09-04T12:07:44.005128Z",
     "start_time": "2019-09-04T12:07:30.379209Z"
    }
   },
   "outputs": [
    {
     "name": "stdout",
     "output_type": "stream",
     "text": [
      "Total de registros: 6353567\n",
      "Total de registros: 2515607\n"
     ]
    },
    {
     "data": {
      "text/html": [
       "<div>\n",
       "<style scoped>\n",
       "    .dataframe tbody tr th:only-of-type {\n",
       "        vertical-align: middle;\n",
       "    }\n",
       "\n",
       "    .dataframe tbody tr th {\n",
       "        vertical-align: top;\n",
       "    }\n",
       "\n",
       "    .dataframe thead th {\n",
       "        text-align: right;\n",
       "    }\n",
       "</style>\n",
       "<table border=\"1\" class=\"dataframe\">\n",
       "  <thead>\n",
       "    <tr style=\"text-align: right;\">\n",
       "      <th></th>\n",
       "      <th>year</th>\n",
       "      <th>month</th>\n",
       "      <th>day</th>\n",
       "      <th>hour</th>\n",
       "      <th>minute</th>\n",
       "      <th>n_cluster</th>\n",
       "      <th>lon</th>\n",
       "      <th>lat</th>\n",
       "      <th>ind_x</th>\n",
       "      <th>ind_y</th>\n",
       "      <th>reflect</th>\n",
       "      <th>yyyyy_xx1</th>\n",
       "      <th>yyyyy_xx2</th>\n",
       "      <th>yyyyyyy_xx3</th>\n",
       "      <th>yyy_xx4</th>\n",
       "      <th>yyy_xx5</th>\n",
       "      <th>river</th>\n",
       "      <th>cxe</th>\n",
       "      <th>precipit</th>\n",
       "      <th>vil</th>\n",
       "    </tr>\n",
       "  </thead>\n",
       "  <tbody>\n",
       "    <tr>\n",
       "      <th>1201483</th>\n",
       "      <td>2014.0</td>\n",
       "      <td>8.0</td>\n",
       "      <td>27.0</td>\n",
       "      <td>2.0</td>\n",
       "      <td>24.0</td>\n",
       "      <td>1.0</td>\n",
       "      <td>-58.5914</td>\n",
       "      <td>-2.7089</td>\n",
       "      <td>190.0</td>\n",
       "      <td>98.0</td>\n",
       "      <td>20.2031</td>\n",
       "      <td>0.0</td>\n",
       "      <td>0.0</td>\n",
       "      <td>0.0</td>\n",
       "      <td>0.0</td>\n",
       "      <td>0.0</td>\n",
       "      <td>0.0</td>\n",
       "      <td>1.0</td>\n",
       "      <td>0.8128</td>\n",
       "      <td>0.1473</td>\n",
       "    </tr>\n",
       "    <tr>\n",
       "      <th>1201484</th>\n",
       "      <td>2014.0</td>\n",
       "      <td>8.0</td>\n",
       "      <td>27.0</td>\n",
       "      <td>2.0</td>\n",
       "      <td>24.0</td>\n",
       "      <td>1.0</td>\n",
       "      <td>-58.5714</td>\n",
       "      <td>-2.7089</td>\n",
       "      <td>191.0</td>\n",
       "      <td>98.0</td>\n",
       "      <td>21.1250</td>\n",
       "      <td>0.0</td>\n",
       "      <td>0.0</td>\n",
       "      <td>0.0</td>\n",
       "      <td>0.0</td>\n",
       "      <td>0.0</td>\n",
       "      <td>0.0</td>\n",
       "      <td>1.0</td>\n",
       "      <td>0.9364</td>\n",
       "      <td>0.1666</td>\n",
       "    </tr>\n",
       "    <tr>\n",
       "      <th>1201485</th>\n",
       "      <td>2014.0</td>\n",
       "      <td>8.0</td>\n",
       "      <td>27.0</td>\n",
       "      <td>2.0</td>\n",
       "      <td>24.0</td>\n",
       "      <td>1.0</td>\n",
       "      <td>-58.6114</td>\n",
       "      <td>-2.7289</td>\n",
       "      <td>189.0</td>\n",
       "      <td>99.0</td>\n",
       "      <td>20.2031</td>\n",
       "      <td>0.0</td>\n",
       "      <td>0.0</td>\n",
       "      <td>0.0</td>\n",
       "      <td>0.0</td>\n",
       "      <td>0.0</td>\n",
       "      <td>0.0</td>\n",
       "      <td>1.0</td>\n",
       "      <td>0.8128</td>\n",
       "      <td>0.1473</td>\n",
       "    </tr>\n",
       "    <tr>\n",
       "      <th>1201486</th>\n",
       "      <td>2014.0</td>\n",
       "      <td>8.0</td>\n",
       "      <td>27.0</td>\n",
       "      <td>2.0</td>\n",
       "      <td>24.0</td>\n",
       "      <td>1.0</td>\n",
       "      <td>-58.5914</td>\n",
       "      <td>-2.7289</td>\n",
       "      <td>190.0</td>\n",
       "      <td>99.0</td>\n",
       "      <td>20.2031</td>\n",
       "      <td>0.0</td>\n",
       "      <td>0.0</td>\n",
       "      <td>0.0</td>\n",
       "      <td>0.0</td>\n",
       "      <td>0.0</td>\n",
       "      <td>0.0</td>\n",
       "      <td>1.0</td>\n",
       "      <td>0.8128</td>\n",
       "      <td>0.2011</td>\n",
       "    </tr>\n",
       "    <tr>\n",
       "      <th>1201487</th>\n",
       "      <td>2014.0</td>\n",
       "      <td>8.0</td>\n",
       "      <td>27.0</td>\n",
       "      <td>2.0</td>\n",
       "      <td>24.0</td>\n",
       "      <td>1.0</td>\n",
       "      <td>-58.5714</td>\n",
       "      <td>-2.7289</td>\n",
       "      <td>191.0</td>\n",
       "      <td>99.0</td>\n",
       "      <td>20.9375</td>\n",
       "      <td>0.0</td>\n",
       "      <td>0.0</td>\n",
       "      <td>0.0</td>\n",
       "      <td>0.0</td>\n",
       "      <td>0.0</td>\n",
       "      <td>0.0</td>\n",
       "      <td>1.0</td>\n",
       "      <td>0.9098</td>\n",
       "      <td>0.1874</td>\n",
       "    </tr>\n",
       "  </tbody>\n",
       "</table>\n",
       "</div>"
      ],
      "text/plain": [
       "           year  month   day  hour  minute  n_cluster      lon     lat  ind_x  \\\n",
       "1201483  2014.0    8.0  27.0   2.0    24.0        1.0 -58.5914 -2.7089  190.0   \n",
       "1201484  2014.0    8.0  27.0   2.0    24.0        1.0 -58.5714 -2.7089  191.0   \n",
       "1201485  2014.0    8.0  27.0   2.0    24.0        1.0 -58.6114 -2.7289  189.0   \n",
       "1201486  2014.0    8.0  27.0   2.0    24.0        1.0 -58.5914 -2.7289  190.0   \n",
       "1201487  2014.0    8.0  27.0   2.0    24.0        1.0 -58.5714 -2.7289  191.0   \n",
       "\n",
       "         ind_y  reflect  yyyyy_xx1  yyyyy_xx2  yyyyyyy_xx3  yyy_xx4  yyy_xx5  \\\n",
       "1201483   98.0  20.2031        0.0        0.0          0.0      0.0      0.0   \n",
       "1201484   98.0  21.1250        0.0        0.0          0.0      0.0      0.0   \n",
       "1201485   99.0  20.2031        0.0        0.0          0.0      0.0      0.0   \n",
       "1201486   99.0  20.2031        0.0        0.0          0.0      0.0      0.0   \n",
       "1201487   99.0  20.9375        0.0        0.0          0.0      0.0      0.0   \n",
       "\n",
       "         river  cxe  precipit     vil  \n",
       "1201483    0.0  1.0    0.8128  0.1473  \n",
       "1201484    0.0  1.0    0.9364  0.1666  \n",
       "1201485    0.0  1.0    0.8128  0.1473  \n",
       "1201486    0.0  1.0    0.8128  0.2011  \n",
       "1201487    0.0  1.0    0.9098  0.1874  "
      ]
     },
     "execution_count": 3,
     "metadata": {},
     "output_type": "execute_result"
    }
   ],
   "source": [
    "files = ['august.csv', 'september.csv', 'october.csv'] \n",
    "PATH ='../data/private/csv/mat/'\n",
    "df = [pd.read_csv(os.path.join(PATH, file)) \n",
    "      for file in files]\n",
    "df = pd.concat(df, sort=False)\n",
    "print('Total de registros: %s'%df['month'].count())\n",
    "\n",
    "query = '(month == 8 and day >= 27) or (month == 9) or (month == 10 and day <= 7)'\n",
    "df = df.query(query)\n",
    "print('Total de registros: %s'%df['month'].count())\n",
    "df.head()"
   ]
  },
  {
   "cell_type": "code",
   "execution_count": 4,
   "metadata": {
    "ExecuteTime": {
     "end_time": "2019-09-04T12:07:44.669551Z",
     "start_time": "2019-09-04T12:07:44.007219Z"
    }
   },
   "outputs": [
    {
     "data": {
      "text/html": [
       "<div>\n",
       "<style scoped>\n",
       "    .dataframe tbody tr th:only-of-type {\n",
       "        vertical-align: middle;\n",
       "    }\n",
       "\n",
       "    .dataframe tbody tr th {\n",
       "        vertical-align: top;\n",
       "    }\n",
       "\n",
       "    .dataframe thead th {\n",
       "        text-align: right;\n",
       "    }\n",
       "</style>\n",
       "<table border=\"1\" class=\"dataframe\">\n",
       "  <thead>\n",
       "    <tr style=\"text-align: right;\">\n",
       "      <th></th>\n",
       "      <th>yyyyyyy_xx3</th>\n",
       "      <th>lon</th>\n",
       "      <th>lat</th>\n",
       "      <th>ind_x</th>\n",
       "      <th>ind_y</th>\n",
       "      <th>reflect</th>\n",
       "      <th>river</th>\n",
       "      <th>cxe</th>\n",
       "      <th>precipit</th>\n",
       "      <th>vil</th>\n",
       "    </tr>\n",
       "  </thead>\n",
       "  <tbody>\n",
       "    <tr>\n",
       "      <th>count</th>\n",
       "      <td>2.515607e+06</td>\n",
       "      <td>2.515607e+06</td>\n",
       "      <td>2.515607e+06</td>\n",
       "      <td>2.515607e+06</td>\n",
       "      <td>2.515607e+06</td>\n",
       "      <td>2.515607e+06</td>\n",
       "      <td>2.515607e+06</td>\n",
       "      <td>2.515607e+06</td>\n",
       "      <td>2.515607e+06</td>\n",
       "      <td>2.515607e+06</td>\n",
       "    </tr>\n",
       "    <tr>\n",
       "      <th>mean</th>\n",
       "      <td>3.432730e-02</td>\n",
       "      <td>-6.010752e+01</td>\n",
       "      <td>-3.046195e+00</td>\n",
       "      <td>1.141942e+02</td>\n",
       "      <td>1.148647e+02</td>\n",
       "      <td>2.865061e+01</td>\n",
       "      <td>1.071102e+00</td>\n",
       "      <td>1.363209e+00</td>\n",
       "      <td>9.827288e+00</td>\n",
       "      <td>1.463806e+00</td>\n",
       "    </tr>\n",
       "    <tr>\n",
       "      <th>std</th>\n",
       "      <td>2.648929e-01</td>\n",
       "      <td>8.620724e-01</td>\n",
       "      <td>8.563223e-01</td>\n",
       "      <td>4.310362e+01</td>\n",
       "      <td>4.281611e+01</td>\n",
       "      <td>7.380443e+00</td>\n",
       "      <td>3.261115e+00</td>\n",
       "      <td>4.809245e-01</td>\n",
       "      <td>2.250984e+01</td>\n",
       "      <td>2.514115e+00</td>\n",
       "    </tr>\n",
       "    <tr>\n",
       "      <th>min</th>\n",
       "      <td>0.000000e+00</td>\n",
       "      <td>-6.161140e+01</td>\n",
       "      <td>-4.768900e+00</td>\n",
       "      <td>3.900000e+01</td>\n",
       "      <td>3.900000e+01</td>\n",
       "      <td>1.996880e+01</td>\n",
       "      <td>0.000000e+00</td>\n",
       "      <td>1.000000e+00</td>\n",
       "      <td>7.841000e-01</td>\n",
       "      <td>6.850000e-02</td>\n",
       "    </tr>\n",
       "    <tr>\n",
       "      <th>25%</th>\n",
       "      <td>0.000000e+00</td>\n",
       "      <td>-6.083140e+01</td>\n",
       "      <td>-3.788900e+00</td>\n",
       "      <td>7.800000e+01</td>\n",
       "      <td>7.800000e+01</td>\n",
       "      <td>2.264060e+01</td>\n",
       "      <td>0.000000e+00</td>\n",
       "      <td>1.000000e+00</td>\n",
       "      <td>1.242700e+00</td>\n",
       "      <td>3.598000e-01</td>\n",
       "    </tr>\n",
       "    <tr>\n",
       "      <th>50%</th>\n",
       "      <td>0.000000e+00</td>\n",
       "      <td>-6.019140e+01</td>\n",
       "      <td>-2.968900e+00</td>\n",
       "      <td>1.100000e+02</td>\n",
       "      <td>1.110000e+02</td>\n",
       "      <td>2.662500e+01</td>\n",
       "      <td>0.000000e+00</td>\n",
       "      <td>1.000000e+00</td>\n",
       "      <td>2.444000e+00</td>\n",
       "      <td>6.428000e-01</td>\n",
       "    </tr>\n",
       "    <tr>\n",
       "      <th>75%</th>\n",
       "      <td>0.000000e+00</td>\n",
       "      <td>-5.939140e+01</td>\n",
       "      <td>-2.308900e+00</td>\n",
       "      <td>1.500000e+02</td>\n",
       "      <td>1.520000e+02</td>\n",
       "      <td>3.296880e+01</td>\n",
       "      <td>0.000000e+00</td>\n",
       "      <td>2.000000e+00</td>\n",
       "      <td>7.106400e+00</td>\n",
       "      <td>1.382800e+00</td>\n",
       "    </tr>\n",
       "    <tr>\n",
       "      <th>max</th>\n",
       "      <td>1.700000e+01</td>\n",
       "      <td>-5.837140e+01</td>\n",
       "      <td>-1.528900e+00</td>\n",
       "      <td>2.010000e+02</td>\n",
       "      <td>2.010000e+02</td>\n",
       "      <td>6.321880e+01</td>\n",
       "      <td>1.100000e+01</td>\n",
       "      <td>2.000000e+00</td>\n",
       "      <td>9.969676e+02</td>\n",
       "      <td>1.498319e+02</td>\n",
       "    </tr>\n",
       "  </tbody>\n",
       "</table>\n",
       "</div>"
      ],
      "text/plain": [
       "        yyyyyyy_xx3           lon           lat         ind_x         ind_y  \\\n",
       "count  2.515607e+06  2.515607e+06  2.515607e+06  2.515607e+06  2.515607e+06   \n",
       "mean   3.432730e-02 -6.010752e+01 -3.046195e+00  1.141942e+02  1.148647e+02   \n",
       "std    2.648929e-01  8.620724e-01  8.563223e-01  4.310362e+01  4.281611e+01   \n",
       "min    0.000000e+00 -6.161140e+01 -4.768900e+00  3.900000e+01  3.900000e+01   \n",
       "25%    0.000000e+00 -6.083140e+01 -3.788900e+00  7.800000e+01  7.800000e+01   \n",
       "50%    0.000000e+00 -6.019140e+01 -2.968900e+00  1.100000e+02  1.110000e+02   \n",
       "75%    0.000000e+00 -5.939140e+01 -2.308900e+00  1.500000e+02  1.520000e+02   \n",
       "max    1.700000e+01 -5.837140e+01 -1.528900e+00  2.010000e+02  2.010000e+02   \n",
       "\n",
       "            reflect         river           cxe      precipit           vil  \n",
       "count  2.515607e+06  2.515607e+06  2.515607e+06  2.515607e+06  2.515607e+06  \n",
       "mean   2.865061e+01  1.071102e+00  1.363209e+00  9.827288e+00  1.463806e+00  \n",
       "std    7.380443e+00  3.261115e+00  4.809245e-01  2.250984e+01  2.514115e+00  \n",
       "min    1.996880e+01  0.000000e+00  1.000000e+00  7.841000e-01  6.850000e-02  \n",
       "25%    2.264060e+01  0.000000e+00  1.000000e+00  1.242700e+00  3.598000e-01  \n",
       "50%    2.662500e+01  0.000000e+00  1.000000e+00  2.444000e+00  6.428000e-01  \n",
       "75%    3.296880e+01  0.000000e+00  2.000000e+00  7.106400e+00  1.382800e+00  \n",
       "max    6.321880e+01  1.100000e+01  2.000000e+00  9.969676e+02  1.498319e+02  "
      ]
     },
     "execution_count": 4,
     "metadata": {},
     "output_type": "execute_result"
    }
   ],
   "source": [
    "columns = [\n",
    "    'yyyyyyy_xx3', 'lon', 'lat', 'ind_x', 'ind_y', \n",
    "    'reflect', 'river', 'cxe', 'precipit', 'vil'\n",
    "]\n",
    "df2 = df[columns] \n",
    "df2.describe()\n"
   ]
  },
  {
   "cell_type": "code",
   "execution_count": 5,
   "metadata": {
    "ExecuteTime": {
     "end_time": "2019-09-04T12:07:44.972892Z",
     "start_time": "2019-09-04T12:07:44.671407Z"
    }
   },
   "outputs": [
    {
     "data": {
      "image/png": "[encoded data removed]",
      "text/plain": [
       "<Figure size 432x288 with 1 Axes>"
      ]
     },
     "metadata": {
      "needs_background": "light"
     },
     "output_type": "display_data"
    },
    {
     "data": {
      "text/plain": [
       "<matplotlib.axes._subplots.AxesSubplot at 0x7f145b7f1e10>"
      ]
     },
     "execution_count": 5,
     "metadata": {},
     "output_type": "execute_result"
    }
   ],
   "source": [
    "src = rasterio.open('../data/geodata/landcover.tif')\n",
    "raster = src.read(1, masked=True)\n",
    "show(raster)"
   ]
  },
  {
   "cell_type": "code",
   "execution_count": 6,
   "metadata": {
    "ExecuteTime": {
     "end_time": "2019-09-04T12:07:44.977277Z",
     "start_time": "2019-09-04T12:07:44.974638Z"
    }
   },
   "outputs": [],
   "source": [
    "ind_x, ind_y = df2['ind_x'].values, df2['ind_y'].values"
   ]
  },
  {
   "cell_type": "code",
   "execution_count": 7,
   "metadata": {
    "ExecuteTime": {
     "end_time": "2019-09-04T12:08:10.268793Z",
     "start_time": "2019-09-04T12:07:44.978934Z"
    }
   },
   "outputs": [
    {
     "name": "stderr",
     "output_type": "stream",
     "text": [
      "/home/adriano/.local/lib/python3.7/site-packages/ipykernel_launcher.py:7: SettingWithCopyWarning:\n",
      "\n",
      "\n",
      "A value is trying to be set on a copy of a slice from a DataFrame.\n",
      "Try using .loc[row_indexer,col_indexer] = value instead\n",
      "\n",
      "See the caveats in the documentation: http://pandas.pydata.org/pandas-docs/stable/indexing.html#indexing-view-versus-copy\n",
      "\n"
     ]
    },
    {
     "data": {
      "text/html": [
       "<div>\n",
       "<style scoped>\n",
       "    .dataframe tbody tr th:only-of-type {\n",
       "        vertical-align: middle;\n",
       "    }\n",
       "\n",
       "    .dataframe tbody tr th {\n",
       "        vertical-align: top;\n",
       "    }\n",
       "\n",
       "    .dataframe thead th {\n",
       "        text-align: right;\n",
       "    }\n",
       "</style>\n",
       "<table border=\"1\" class=\"dataframe\">\n",
       "  <thead>\n",
       "    <tr style=\"text-align: right;\">\n",
       "      <th></th>\n",
       "      <th>yyyyyyy_xx3</th>\n",
       "      <th>lon</th>\n",
       "      <th>lat</th>\n",
       "      <th>ind_x</th>\n",
       "      <th>ind_y</th>\n",
       "      <th>reflect</th>\n",
       "      <th>river</th>\n",
       "      <th>cxe</th>\n",
       "      <th>precipit</th>\n",
       "      <th>vil</th>\n",
       "      <th>landcover</th>\n",
       "    </tr>\n",
       "  </thead>\n",
       "  <tbody>\n",
       "    <tr>\n",
       "      <th>1201483</th>\n",
       "      <td>0.0</td>\n",
       "      <td>-58.5914</td>\n",
       "      <td>-2.7089</td>\n",
       "      <td>190.0</td>\n",
       "      <td>98.0</td>\n",
       "      <td>20.2031</td>\n",
       "      <td>0.0</td>\n",
       "      <td>1.0</td>\n",
       "      <td>0.8128</td>\n",
       "      <td>0.1473</td>\n",
       "      <td>3</td>\n",
       "    </tr>\n",
       "    <tr>\n",
       "      <th>1201484</th>\n",
       "      <td>0.0</td>\n",
       "      <td>-58.5714</td>\n",
       "      <td>-2.7089</td>\n",
       "      <td>191.0</td>\n",
       "      <td>98.0</td>\n",
       "      <td>21.1250</td>\n",
       "      <td>0.0</td>\n",
       "      <td>1.0</td>\n",
       "      <td>0.9364</td>\n",
       "      <td>0.1666</td>\n",
       "      <td>3</td>\n",
       "    </tr>\n",
       "    <tr>\n",
       "      <th>1201485</th>\n",
       "      <td>0.0</td>\n",
       "      <td>-58.6114</td>\n",
       "      <td>-2.7289</td>\n",
       "      <td>189.0</td>\n",
       "      <td>99.0</td>\n",
       "      <td>20.2031</td>\n",
       "      <td>0.0</td>\n",
       "      <td>1.0</td>\n",
       "      <td>0.8128</td>\n",
       "      <td>0.1473</td>\n",
       "      <td>3</td>\n",
       "    </tr>\n",
       "    <tr>\n",
       "      <th>1201486</th>\n",
       "      <td>0.0</td>\n",
       "      <td>-58.5914</td>\n",
       "      <td>-2.7289</td>\n",
       "      <td>190.0</td>\n",
       "      <td>99.0</td>\n",
       "      <td>20.2031</td>\n",
       "      <td>0.0</td>\n",
       "      <td>1.0</td>\n",
       "      <td>0.8128</td>\n",
       "      <td>0.2011</td>\n",
       "      <td>3</td>\n",
       "    </tr>\n",
       "    <tr>\n",
       "      <th>1201487</th>\n",
       "      <td>0.0</td>\n",
       "      <td>-58.5714</td>\n",
       "      <td>-2.7289</td>\n",
       "      <td>191.0</td>\n",
       "      <td>99.0</td>\n",
       "      <td>20.9375</td>\n",
       "      <td>0.0</td>\n",
       "      <td>1.0</td>\n",
       "      <td>0.9098</td>\n",
       "      <td>0.1874</td>\n",
       "      <td>3</td>\n",
       "    </tr>\n",
       "  </tbody>\n",
       "</table>\n",
       "</div>"
      ],
      "text/plain": [
       "         yyyyyyy_xx3      lon     lat  ind_x  ind_y  reflect  river  cxe  \\\n",
       "1201483          0.0 -58.5914 -2.7089  190.0   98.0  20.2031    0.0  1.0   \n",
       "1201484          0.0 -58.5714 -2.7089  191.0   98.0  21.1250    0.0  1.0   \n",
       "1201485          0.0 -58.6114 -2.7289  189.0   99.0  20.2031    0.0  1.0   \n",
       "1201486          0.0 -58.5914 -2.7289  190.0   99.0  20.2031    0.0  1.0   \n",
       "1201487          0.0 -58.5714 -2.7289  191.0   99.0  20.9375    0.0  1.0   \n",
       "\n",
       "         precipit     vil  landcover  \n",
       "1201483    0.8128  0.1473          3  \n",
       "1201484    0.9364  0.1666          3  \n",
       "1201485    0.8128  0.1473          3  \n",
       "1201486    0.8128  0.2011          3  \n",
       "1201487    0.9098  0.1874          3  "
      ]
     },
     "execution_count": 7,
     "metadata": {},
     "output_type": "execute_result"
    }
   ],
   "source": [
    "landcover = []\n",
    "for x, y in zip(ind_x, ind_y):\n",
    "    x, y = int(x), int(y)\n",
    "    z = int(raster[x][y])\n",
    "    landcover.append(z)\n",
    "    \n",
    "df2['landcover'] = landcover\n",
    "df2.head()"
   ]
  },
  {
   "cell_type": "code",
   "execution_count": 22,
   "metadata": {
    "ExecuteTime": {
     "end_time": "2019-09-04T12:37:39.792430Z",
     "start_time": "2019-09-04T12:37:39.782700Z"
    }
   },
   "outputs": [],
   "source": [
    "def plot_confusion_matrix(cm, ax, n):\n",
    "    cmap = plt.cm.Blues\n",
    "#     figsize = (16, 8)\n",
    "#     fig, ax = plt.subplots(figsize=figsize)\n",
    "    ax = ax\n",
    "    divider = make_axes_locatable(ax)\n",
    "    cax = divider.append_axes(\"right\", size=\"5%\", pad=0.4)\n",
    "    \n",
    "    total_samples = cm.sum(axis=1)[:, np.newaxis]\n",
    "    normed_conf_mat = cm.astype('float') / total_samples\n",
    "    labels = ['Sem raios', 'Com raios']\n",
    "    label_font = dict(fontweight='normal')\n",
    "    title_font = dict(fontweight='normal', size=18)\n",
    "\n",
    "    matshow = ax.matshow(cm, cmap=cmap)\n",
    "    cb = plt.colorbar(matshow,cax=cax, orientation='vertical')\n",
    "    \n",
    "\n",
    "    for i in range(cm.shape[0]):\n",
    "        for j in range(cm.shape[1]):\n",
    "            cell_text = str(cm[i, j])\n",
    "            cell_text += '\\n(%.2f%%)'%(normed_conf_mat[i, j]*100)\n",
    "            ax.text(x=j,\n",
    "                    y=i,\n",
    "                    s=cell_text,\n",
    "                    va='center',\n",
    "                    ha='center',\n",
    "                    color=\"white\" if normed_conf_mat[i, j] > 0.5 else \"black\")\n",
    "\n",
    "    ax.set_xticklabels(['']+labels)\n",
    "    ax.set_yticklabels(['']+labels, rotation=90, va='center')\n",
    "    ax.yaxis.set_ticks_position('left')\n",
    "    ax.xaxis.set_ticks_position('bottom')\n",
    "\n",
    "#     ax.set_title('Matriz de confusão para %d testes'%((n*2)*0.2), fontdict=title_font)\n",
    "    ax.set_xlabel('Classe prevista', fontdict=label_font)\n",
    "    ax.set_ylabel('Classe real', fontdict=label_font)\n",
    "\n",
    "    cb.ax.set_ylabel('Ocorrências', va='center', rotation=-270, labelpad=-50)\n",
    "\n",
    "    return ax"
   ]
  },
  {
   "cell_type": "code",
   "execution_count": 9,
   "metadata": {
    "ExecuteTime": {
     "end_time": "2019-09-04T12:08:10.417046Z",
     "start_time": "2019-09-04T12:08:10.280713Z"
    }
   },
   "outputs": [
    {
     "data": {
      "text/plain": [
       "['yyyyyyy_xx3',\n",
       " 'lon',\n",
       " 'lat',\n",
       " 'ind_x',\n",
       " 'ind_y',\n",
       " 'reflect',\n",
       " 'river',\n",
       " 'cxe',\n",
       " 'precipit',\n",
       " 'vil']"
      ]
     },
     "execution_count": 9,
     "metadata": {},
     "output_type": "execute_result"
    }
   ],
   "source": [
    "columns"
   ]
  },
  {
   "cell_type": "code",
   "execution_count": 64,
   "metadata": {
    "ExecuteTime": {
     "end_time": "2019-09-04T13:46:22.843481Z",
     "start_time": "2019-09-04T13:46:22.828535Z"
    }
   },
   "outputs": [],
   "source": [
    "def best_accuracy(cm1, cm2):\n",
    "    tn, fn =  cm1[0][0], cm1[0][1]\n",
    "    fp, tp =  cm1[1][0], cm1[1][1]\n",
    "    \n",
    "    acc1 = (tn+tp)/(tn+fn+fp+tp)\n",
    "    \n",
    "    tn, fn =  cm2[0][0], cm2[0][1]\n",
    "    fp, tp =  cm2[1][0], cm2[1][1]\n",
    "    \n",
    "    acc2 = (tn+tp)/(tn+fn+fp+tp)\n",
    "    \n",
    "    return acc1 > acc2"
   ]
  },
  {
   "cell_type": "code",
   "execution_count": 93,
   "metadata": {
    "ExecuteTime": {
     "end_time": "2019-09-04T13:58:13.977044Z",
     "start_time": "2019-09-04T13:58:13.964443Z"
    }
   },
   "outputs": [
    {
     "name": "stdout",
     "output_type": "stream",
     "text": [
      "df\n"
     ]
    },
    {
     "data": {
      "text/plain": [
       "NoneType"
      ]
     },
     "execution_count": 93,
     "metadata": {},
     "output_type": "execute_result"
    }
   ],
   "source": [
    "best = None\n",
    "\n",
    "if type(best) == type(None):\n",
    "    print('df')\n",
    "type(best)"
   ]
  },
  {
   "cell_type": "code",
   "execution_count": 94,
   "metadata": {
    "ExecuteTime": {
     "end_time": "2019-09-04T13:58:24.853560Z",
     "start_time": "2019-09-04T13:58:23.582297Z"
    }
   },
   "outputs": [
    {
     "name": "stdout",
     "output_type": "stream",
     "text": [
      "df\n"
     ]
    },
    {
     "data": {
      "image/png": "[encoded data removed]",
      "text/plain": [
       "<Figure size 1080x360 with 3 Axes>"
      ]
     },
     "metadata": {
      "needs_background": "light"
     },
     "output_type": "display_data"
    }
   ],
   "source": [
    "# columns.append('landcover')\n",
    "# plt.style.use('dark_background')\n",
    "epochs = 5\n",
    "thr = 5\n",
    "n = 500\n",
    "best = None\n",
    "\n",
    "supertitle_font = dict(fontweight='bold', size=16)\n",
    "title_font = dict(fontweight='normal', size=14)\n",
    "label_font = dict(fontweight='normal')\n",
    "\n",
    "tn, fn = np.zeros(epochs), np.zeros(epochs)\n",
    "fp, tp = np.zeros(epochs), np.zeros(epochs)\n",
    "greater = np.zeros((2, 2))\n",
    "\n",
    "for epoch in range(epochs):\n",
    "    no = df2[df2[columns[0]] < thr].sample(n)\n",
    "    yes = df2[df2[columns[0]] >= thr].sample(n)\n",
    "\n",
    "    no[columns[0]] = 0\n",
    "    yes[columns[0]] = 1\n",
    "\n",
    "    ds = pd.concat([no, yes]).sample(n*2)\n",
    "\n",
    "    targets = ds[[columns[0]]]\n",
    "# features = ds[columns[5:]]\n",
    "    features = ds[['precipit', 'vil']]\n",
    "\n",
    "    X_train, X_test, y_train, y_test = train_test_split(features, targets, test_size=.2)\n",
    "\n",
    "    dt = DecisionTreeRegressor().fit(X_train, y_train)\n",
    "\n",
    "    y_pred = dt.predict(X_test)\n",
    "#     print(y_test.values.ravel())\n",
    "\n",
    "    cm = confusion_matrix(y_test.values, y_pred)\n",
    "    \n",
    "    if type(best) == type(None):\n",
    "        print('df')\n",
    "        best = cm\n",
    "    \n",
    "    best = cm if best_accuracy(cm, best) else best\n",
    "    \n",
    "    tn[epoch], fn[epoch] = cm[0][0], cm[0][1]\n",
    "    fp[epoch], tp[epoch] = cm[1][0], cm[1][1]\n",
    "    \n",
    "#     print('----vvvv----')\n",
    "#     print(cm)\n",
    "    \n",
    "cm = best\n",
    "cm[0][0] = int(tn.mean()); cm[0][1] = int(fn.mean())\n",
    "cm[1][0] = int(fp.mean()); cm[1][1] = int(tp.mean())\n",
    "\n",
    "\n",
    "# accuracy = (tp+tn)/(tp+tn+fp+fn)\n",
    "# precisionp = (tp)/(tp+fp)\n",
    "# precisionn = (tn)/(tp+fp)\n",
    "    \n",
    "fig, ax = plt.subplots(1, 2, figsize=(15, 5), constrained_layout=True)\n",
    "\n",
    "ax[0].scatter(yes['precipit'].values, yes['vil'].values, \n",
    "              color='#DC1F2A', alpha=.6, label='Subconjunto com detecção de raios')\n",
    "ax[0].scatter(no['precipit'].values, no['vil'].values, \n",
    "              color='#001427',  alpha=.6, label='Subconjunto sem detecção de raios')\n",
    "ax[0].set_title('Disperção dos índices VIL e Precipitação \\n\\\n",
    "em dados com e sem raios', pad=20, fontdict=title_font)\n",
    "ax[0].set_xlabel('Precipitação (mm/h)', fontdict=label_font)\n",
    "ax[0].set_ylabel('VIL (kg m$^{-2}$)', fontdict=label_font)\n",
    "ax[0].legend()\n",
    "\n",
    "ax[1] = plt.gca()\n",
    "plot_confusion_matrix(cm, ax[1], n)\n",
    "ax[1].set_title('Matriz de confusão da classificação \\n por árvore de decisão', \\\n",
    "               fontdict=title_font)\n",
    "\n",
    "fig.suptitle('Resultado da classificação por árvore de decisão', size=18)\n",
    "plt.show()\n",
    "\n",
    "\n",
    "# print('Acurácia: %.2f%%'%(accuracy*100))\n",
    "# print('Precisão verdadeiro positivo: %.2f%%'%(precisionp*100))\n",
    "# print('Precisão para verdadeiro negativo: %.2f%%'%(precisionn*100))\n",
    "# print(classification_report(y_test, y_pred))"
   ]
  },
  {
   "cell_type": "code",
   "execution_count": 63,
   "metadata": {
    "ExecuteTime": {
     "end_time": "2019-09-04T13:42:11.797360Z",
     "start_time": "2019-09-04T13:42:11.287479Z"
    }
   },
   "outputs": [
    {
     "data": {
      "image/png": "[encoded data removed]",
      "text/plain": [
       "<Figure size 1080x360 with 3 Axes>"
      ]
     },
     "metadata": {
      "needs_background": "light"
     },
     "output_type": "display_data"
    },
    {
     "name": "stdout",
     "output_type": "stream",
     "text": [
      "[[145  68]\n",
      " [ 61 126]]\n",
      "Acurácia: 67.75%\n",
      "Precisão verdadeiro positivo: 67.38%\n",
      "Precisão para verdadeiro negativo: 77.54%\n"
     ]
    }
   ],
   "source": [
    "# columns.append('landcover')\n",
    "# plt.style.use('dark_background')\n",
    "thr = 5\n",
    "n = 1000\n",
    "no = df2[df2[columns[0]] < thr].sample(n)\n",
    "yes = df2[df2[columns[0]] >= thr].sample(n)\n",
    "supertitle_font = dict(fontweight='bold', size=16)\n",
    "title_font = dict(fontweight='normal', size=14)\n",
    "label_font = dict(fontweight='normal')\n",
    "\n",
    "no[columns[0]] = 0\n",
    "yes[columns[0]] = 1\n",
    "\n",
    "ds = pd.concat([no, yes]).sample(n*2)\n",
    "\n",
    "targets = ds[[columns[0]]]\n",
    "# features = ds[columns[5:]]\n",
    "features = ds[['precipit', 'vil']]\n",
    "\n",
    "X_train, X_test, y_train, y_test = train_test_split(features, targets, test_size=.2)\n",
    "\n",
    "dt = DecisionTreeRegressor().fit(X_train, y_train)\n",
    "\n",
    "y_pred = dt.predict(X_test)\n",
    "cm = confusion_matrix(y_test, y_pred)\n",
    "\n",
    "\n",
    "tp, fp = cm[0][0], cm[0][1]\n",
    "fn, tn = cm[1][0], cm[1][1]\n",
    "accuracy = (tp+tn)/(tp+fp+fn+tn)\n",
    "precision = (tp)/(tp+fp)\n",
    "\n",
    "fig, ax = plt.subplots(1, 2, figsize=(15, 5), constrained_layout=True)\n",
    "\n",
    "ax[0].scatter(yes['precipit'].values, yes['vil'].values, \n",
    "              color='#DC1F2A', alpha=.6, label='Subconjunto com detecção de raios')\n",
    "ax[0].scatter(no['precipit'].values, no['vil'].values, \n",
    "              color='#001427',  alpha=.6, label='Subconjunto sem detecção de raios')\n",
    "ax[0].set_title('Disperção dos índices VIL e Precipitação \\n\\\n",
    "em dados com e sem raios', pad=20, fontdict=title_font)\n",
    "ax[0].set_xlabel('Precipitação (mm/h)', fontdict=label_font)\n",
    "ax[0].set_ylabel('VIL (kg m$^{-2}$)', fontdict=label_font)\n",
    "ax[0].legend()\n",
    "\n",
    "ax[1] = plt.gca()\n",
    "plot_confusion_matrix(cm, ax[1], n)\n",
    "ax[1].set_title('Matriz de confusão da classificação \\n por árvore de decisão', \\\n",
    "               fontdict=title_font)\n",
    "\n",
    "fig.suptitle('Resultado da classificação por árvore de decisão', size=18)\n",
    "plt.show()\n",
    "\n",
    "tn, fn = cm[0][0], cm[0][1]\n",
    "fp, tp = cm[1][0], cm[1][1]\n",
    "\n",
    "print(cm)\n",
    "\n",
    "accuracy = (tp+tn)/(tp+tn+fp+fn)\n",
    "precisionp = (tp)/(tp+fp)\n",
    "precisionn = (tn)/(tp+fp)\n",
    "\n",
    "print('Acurácia: %.2f%%'%(accuracy*100))\n",
    "print('Precisão verdadeiro positivo: %.2f%%'%(precisionp*100))\n",
    "print('Precisão para verdadeiro negativo: %.2f%%'%(precisionn*100))\n",
    "# print(classification_report(y_test, y_pred))"
   ]
  },
  {
   "cell_type": "code",
   "execution_count": 48,
   "metadata": {
    "ExecuteTime": {
     "end_time": "2019-09-04T13:04:43.008424Z",
     "start_time": "2019-09-04T13:04:43.004885Z"
    }
   },
   "outputs": [
    {
     "data": {
      "text/plain": [
       "DecisionTreeRegressor(criterion='mse', max_depth=None, max_features=None,\n",
       "           max_leaf_nodes=None, min_impurity_decrease=0.0,\n",
       "           min_impurity_split=None, min_samples_leaf=1,\n",
       "           min_samples_split=2, min_weight_fraction_leaf=0.0,\n",
       "           presort=False, random_state=None, splitter='best')"
      ]
     },
     "execution_count": 48,
     "metadata": {},
     "output_type": "execute_result"
    }
   ],
   "source": [
    "dt"
   ]
  }
 ],
 "metadata": {
  "kernelspec": {
   "display_name": "Python 3",
   "language": "python",
   "name": "python3"
  },
  "language_info": {
   "codemirror_mode": {
    "name": "ipython",
    "version": 3
   },
   "file_extension": ".py",
   "mimetype": "text/x-python",
   "name": "python",
   "nbconvert_exporter": "python",
   "pygments_lexer": "ipython3",
   "version": "3.7.3"
  }
 },
 "nbformat": 4,
 "nbformat_minor": 2
}
