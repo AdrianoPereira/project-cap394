{
 "cells": [
  {
   "cell_type": "markdown",
   "metadata": {
    "slideshow": {
     "slide_type": "slide"
    }
   },
   "source": [
    "![oi](../images/header.png)\n",
    "\n",
    "## Preprocessamento de dados\n",
    "---\n",
    "**Professores:**\n",
    "- Dr. Gilberto Queiroz\n",
    "- Dr. Rafael Santos\n",
    "\n",
    "**Discente:**\n",
    "- Adriano Almeida"
   ]
  },
  {
   "cell_type": "markdown",
   "metadata": {
    "slideshow": {
     "slide_type": "subslide"
    }
   },
   "source": [
    "<a id=\"indice\"></a>\n",
    "\n",
    "## Índice\n",
    "---\n",
    "- [1. Importação de módulos e bibliotecas](#importacao-de-modulos-e-bibliotecas)\n",
    "- [2. Conjunto de dados](#conjunto-de-dados)\n",
    "    - [2.1 Obtendo diretório dos arquivos](#obtendo-diretorio-dos-arquivos)\n",
    "    - [2.2 Carregando conjunto de dados](#carregando-conjunto-de-dados)\n",
    "    - [2.3 Gravando arquivos em CSV](#gravando-arquivos-em-csv)\n",
    "- [3. Referências](#referencias)\n",
    "\n",
    "[🏠 Início](https://github.com/AdrianoPereira/project-cap394/)"
   ]
  },
  {
   "cell_type": "markdown",
   "metadata": {
    "slideshow": {
     "slide_type": "slide"
    }
   },
   "source": [
    "<a id=\"importacao-de-modulos-e-bibliotecas\"></a>\n",
    "## 1. Importação de módulos e bibliotecas [^](#indice)\n",
    "---\n",
    "\n",
    "Para realizar o preprocessamento de dados serão feitas as seguintes importações:\n",
    "- **os** - Este é um módulo que já vem com a instalação padrão do Python. Ele fornece funcionalidades de manipulação de arquivos e diretórios de forma idependente do sistema operacional.\n",
    "\n",
    "-  **numpy** - Esta é uma biblioteca que possibilita ler, criar e manipular manipular estruturas como vetores e matrizes de múltiplas dimensões. Além disso, a biblioteca `Numpy` possui uma coleção de funções matemáticas que possibilitam trabalhar com essas estruturas.  \n",
    "\n",
    "\n",
    "- **pandas** - É uma biblioteca para leitura, manipulação e análise de dados tabulados. Essa biblioteca oferece estruturas de dados e operações para manipular conjuntos massivos de tabelas numéricas e séries temporais de forma otimizada.\n",
    "\n",
    "Por convensão, as bibliotecas são importadas no python da seguinte maneira:"
   ]
  },
  {
   "cell_type": "code",
   "execution_count": 1,
   "metadata": {
    "ExecuteTime": {
     "end_time": "2019-08-26T13:42:34.379443Z",
     "start_time": "2019-08-26T13:42:32.009990Z"
    },
    "slideshow": {
     "slide_type": "subslide"
    }
   },
   "outputs": [],
   "source": [
    "import os\n",
    "import numpy as np\n",
    "import pandas as pd"
   ]
  },
  {
   "cell_type": "markdown",
   "metadata": {
    "slideshow": {
     "slide_type": "slide"
    }
   },
   "source": [
    "<a id=\"conjunto-de-dados\"></a>\n",
    "\n",
    "## 2. Conjunto de dados [^](#indice)\n",
    "\n",
    "---\n",
    "\n",
    "Os dados são oriundos dos experimentos CHUVA-Manaus <a href=\"#machado-et-al-2014\">(MACHADO et al., 2014)</a> e GoAmazon <a href=\"#martin-et-al-2016\">(MARTIN et al., 2016)</a>, e estão estão agrupados por tabelas em arquivos no formato `.txt`. Esses arquivos representam a saída do processamento realizado por Rebeca e Rachel <a href=\"#rebeca-2019\">(REBECA, 2019)</a> utilizando o argoritmo **Forecast and Tracking the Evolution of Cloud Clusters - ForTraCC** <a href=\"#vila-et-al-2008\">(VILA et al., 2008)</a>. Os dados possuem resolução temporal de 12 minutos, e resolução espacial de 1 km, e foram coletados nos meses de fevereiro, março, agosto, setembro e outubro de 2014."
   ]
  },
  {
   "cell_type": "markdown",
   "metadata": {
    "ExecuteTime": {
     "end_time": "2019-08-26T00:08:09.419399Z",
     "start_time": "2019-08-26T00:08:09.411739Z"
    },
    "slideshow": {
     "slide_type": "subslide"
    }
   },
   "source": [
    "Existem dois tipos de arquivos:\n",
    "- **fam_allequip_SEQN_tttt_FAMN_TTTT_IDATE_YYYYMMDDHHmm.txt**\n",
    "\n",
    "\n",
    "    - Este tipo de arquivo representa as famílias (agrupamentos de nuvens) em cada tempo. Este arquivos também apresenta um resumos dos índices de cada família.\n",
    "\n",
    "\n",
    "- **Matrix_fam_allequip_SEQN_tttt_FAMN_TTTT_IDATE_YYYYMMDDHHmm.txt**\n",
    "\n",
    "\n",
    "    - Este tipo de arquivo exibe toda a área de cobertura, que é representada por uma grade com dimensões de 241x241. \n",
    "    \n",
    "<div class=\"alert alert-block alert-info\">\n",
    "    <b>Info:</b> as substrings `tttt` e `TTTT` no nome do arquivo representam o intervalo em que foram capturados os dados. As substrings `YYYY`, `MM`, `DD`, `HH` e `mm` representam respectivamente o ano, dia, hora e minuto em que foram capturados os dados.\n",
    "</div>"
   ]
  },
  {
   "cell_type": "markdown",
   "metadata": {
    "ExecuteTime": {
     "end_time": "2019-08-26T00:03:16.055558Z",
     "start_time": "2019-08-26T00:03:16.049651Z"
    },
    "slideshow": {
     "slide_type": "slide"
    }
   },
   "source": [
    "<a id=\"obtendo-diretorio-dos-arquivos\"></a>\n",
    "### 2.1 Obtendo diretório dos arquivos [^](#indice)\n",
    "\n",
    "***\n",
    "\n",
    "Ambos os tipos de dados estão localizados no seguinte diretório: `/data/private/output_fortracc`. Exitem ao todo 43750 arquivos, sendo 21875 de cada tipo de arquivo, como mostrado abaixo."
   ]
  },
  {
   "cell_type": "code",
   "execution_count": 2,
   "metadata": {
    "ExecuteTime": {
     "end_time": "2019-08-26T13:42:38.886798Z",
     "start_time": "2019-08-26T13:42:37.611276Z"
    },
    "slideshow": {
     "slide_type": "subslide"
    }
   },
   "outputs": [
    {
     "name": "stdout",
     "output_type": "stream",
     "text": [
      "Total de arquivos do tipo fam:\n",
      "21875\n",
      "Primeiro 5 arquivos do tipo fam:\n",
      "fam_allequip_SEQN_0000_FAMN_0001_IDATE_201402010000.txt\n",
      "fam_allequip_SEQN_0000_FAMN_0001_IDATE_201403010000.txt\n",
      "fam_allequip_SEQN_0000_FAMN_0001_IDATE_201408010000.txt\n",
      "fam_allequip_SEQN_0000_FAMN_0001_IDATE_201409011612.txt\n",
      "fam_allequip_SEQN_0000_FAMN_0001_IDATE_201410010000.txt\n",
      "grep: write error: Broken pipe\n",
      "ls: write error: Broken pipe\n",
      "\n",
      "Total de arquivos do tipo Matrix:\n",
      "21875\n",
      "Primeiro 5 arquivos do tipo Matrix:\n",
      "Matrix_fam_allequip_SEQN_0000_FAMN_0001_IDATE_201402010000.txt\n",
      "Matrix_fam_allequip_SEQN_0000_FAMN_0001_IDATE_201403010000.txt\n",
      "Matrix_fam_allequip_SEQN_0000_FAMN_0001_IDATE_201408010000.txt\n",
      "Matrix_fam_allequip_SEQN_0000_FAMN_0001_IDATE_201409011612.txt\n",
      "Matrix_fam_allequip_SEQN_0000_FAMN_0001_IDATE_201410010000.txt\n",
      "grep: write error: Broken pipe\n",
      "ls: write error: Broken pipe\n"
     ]
    }
   ],
   "source": [
    "#setting file paths\n",
    "PATH_PRIVATE_DATA = \"../data/private/output_fortracc\" \n",
    "\n",
    "#summarizing data from type fam\n",
    "!echo \"Total de arquivos do tipo fam:\" && \\\n",
    "ls {PATH_PRIVATE_DATA}|grep ^fam|wc -l && \\\n",
    "echo \"Primeiro 5 arquivos do tipo fam:\" && \\\n",
    "ls {PATH_PRIVATE_DATA} | grep ^fam | head -5\n",
    "\n",
    "#summarizing data from type Matrix\n",
    "!echo \"\\nTotal de arquivos do tipo Matrix:\" && \\\n",
    "ls {PATH_PRIVATE_DATA}|grep ^Matrix|wc -l && \\\n",
    "echo \"Primeiro 5 arquivos do tipo Matrix:\" && \\\n",
    "ls {PATH_PRIVATE_DATA} | grep ^Matrix | head -5"
   ]
  },
  {
   "cell_type": "markdown",
   "metadata": {
    "slideshow": {
     "slide_type": "slide"
    }
   },
   "source": [
    "Afim de facilitar a leitura dos dados e torná-los *tidy*, eles serão convertidos para o formato `.csv`, separados em pastas diferentes e agrupados por mês. Primeiramente, será necessário definir o diretório dos arquivos e carregá-los como um dataframe."
   ]
  },
  {
   "cell_type": "code",
   "execution_count": 3,
   "metadata": {
    "ExecuteTime": {
     "end_time": "2019-08-26T13:42:51.020231Z",
     "start_time": "2019-08-26T13:42:50.474760Z"
    },
    "slideshow": {
     "slide_type": "subslide"
    }
   },
   "outputs": [
    {
     "data": {
      "text/plain": [
       "['../data/private/output_fortracc/fam_allequip_SEQN_0000_FAMN_0001_IDATE_201402010000.txt',\n",
       " '../data/private/output_fortracc/fam_allequip_SEQN_0000_FAMN_0001_IDATE_201403010000.txt',\n",
       " '../data/private/output_fortracc/fam_allequip_SEQN_0000_FAMN_0001_IDATE_201408010000.txt',\n",
       " '../data/private/output_fortracc/fam_allequip_SEQN_0000_FAMN_0001_IDATE_201409011612.txt',\n",
       " '../data/private/output_fortracc/fam_allequip_SEQN_0000_FAMN_0001_IDATE_201410010000.txt']"
      ]
     },
     "execution_count": 3,
     "metadata": {},
     "output_type": "execute_result"
    }
   ],
   "source": [
    "#listing and storing filenames of each type\n",
    "PATH_FILES_FAM = !ls {PATH_PRIVATE_DATA}|grep ^fam\n",
    "PATH_FILES_MAT = !ls {PATH_PRIVATE_DATA}|grep ^Matrix\n",
    "\n",
    "#adding full path of each file\n",
    "PATH_FILES_FAM = [os.path.join(PATH_PRIVATE_DATA, filename)\\\n",
    "                 for filename in PATH_FILES_FAM]\n",
    "PATH_FILES_MAT = [os.path.join(PATH_PRIVATE_DATA, filename)\\\n",
    "                 for filename in PATH_FILES_MAT]\n",
    "PATH_FILES_FAM[:5]"
   ]
  },
  {
   "cell_type": "markdown",
   "metadata": {
    "slideshow": {
     "slide_type": "slide"
    }
   },
   "source": [
    "<a id=\"carregando-conjunto-de-dados\"></a>\n",
    "### 2.2 Carregando conjunto de dados [^](#indice)\n",
    "\n",
    "---\n",
    "\n",
    "Como a forma de carregamento dos arquivos é igual para os dois tipos de dados, será definida uma função para isso. Essa função deverá receber a lista de arquivos que foi processada anteriormente."
   ]
  },
  {
   "cell_type": "code",
   "execution_count": 4,
   "metadata": {
    "ExecuteTime": {
     "end_time": "2019-08-26T13:45:54.442095Z",
     "start_time": "2019-08-26T13:44:15.555117Z"
    },
    "slideshow": {
     "slide_type": "subslide"
    }
   },
   "outputs": [
    {
     "data": {
      "text/html": [
       "<div>\n",
       "<style scoped>\n",
       "    .dataframe tbody tr th:only-of-type {\n",
       "        vertical-align: middle;\n",
       "    }\n",
       "\n",
       "    .dataframe tbody tr th {\n",
       "        vertical-align: top;\n",
       "    }\n",
       "\n",
       "    .dataframe thead th {\n",
       "        text-align: right;\n",
       "    }\n",
       "</style>\n",
       "<table border=\"1\" class=\"dataframe\">\n",
       "  <thead>\n",
       "    <tr style=\"text-align: right;\">\n",
       "      <th></th>\n",
       "      <th>time</th>\n",
       "      <th>sysclass</th>\n",
       "      <th>lat</th>\n",
       "      <th>lon</th>\n",
       "      <th>dir</th>\n",
       "      <th>vel</th>\n",
       "      <th>size</th>\n",
       "      <th>ttyyyxx1</th>\n",
       "      <th>ttyyyxx2</th>\n",
       "      <th>ttyyyxx3</th>\n",
       "      <th>...</th>\n",
       "      <th>maxz</th>\n",
       "      <th>meanvil</th>\n",
       "      <th>ttvil</th>\n",
       "      <th>meanprec</th>\n",
       "      <th>maxprec</th>\n",
       "      <th>year</th>\n",
       "      <th>month</th>\n",
       "      <th>day</th>\n",
       "      <th>hour</th>\n",
       "      <th>minute</th>\n",
       "    </tr>\n",
       "  </thead>\n",
       "  <tbody>\n",
       "    <tr>\n",
       "      <th>0</th>\n",
       "      <td>0.0</td>\n",
       "      <td>0.0</td>\n",
       "      <td>-1.73</td>\n",
       "      <td>-60.57</td>\n",
       "      <td>-999.0</td>\n",
       "      <td>0.0</td>\n",
       "      <td>53.0</td>\n",
       "      <td>0.0</td>\n",
       "      <td>0.0</td>\n",
       "      <td>0.0</td>\n",
       "      <td>...</td>\n",
       "      <td>26.70</td>\n",
       "      <td>0.29</td>\n",
       "      <td>15.37</td>\n",
       "      <td>1.18</td>\n",
       "      <td>3.18</td>\n",
       "      <td>2014</td>\n",
       "      <td>2</td>\n",
       "      <td>1</td>\n",
       "      <td>0</td>\n",
       "      <td>0</td>\n",
       "    </tr>\n",
       "    <tr>\n",
       "      <th>1</th>\n",
       "      <td>0.2</td>\n",
       "      <td>1.0</td>\n",
       "      <td>-1.73</td>\n",
       "      <td>-60.55</td>\n",
       "      <td>90.0</td>\n",
       "      <td>11.1</td>\n",
       "      <td>21.0</td>\n",
       "      <td>0.0</td>\n",
       "      <td>0.0</td>\n",
       "      <td>0.0</td>\n",
       "      <td>...</td>\n",
       "      <td>21.46</td>\n",
       "      <td>0.23</td>\n",
       "      <td>4.91</td>\n",
       "      <td>0.92</td>\n",
       "      <td>1.03</td>\n",
       "      <td>2014</td>\n",
       "      <td>2</td>\n",
       "      <td>1</td>\n",
       "      <td>0</td>\n",
       "      <td>0</td>\n",
       "    </tr>\n",
       "    <tr>\n",
       "      <th>2</th>\n",
       "      <td>0.4</td>\n",
       "      <td>1.0</td>\n",
       "      <td>-1.77</td>\n",
       "      <td>-60.53</td>\n",
       "      <td>153.0</td>\n",
       "      <td>24.8</td>\n",
       "      <td>18.0</td>\n",
       "      <td>0.0</td>\n",
       "      <td>0.0</td>\n",
       "      <td>0.0</td>\n",
       "      <td>...</td>\n",
       "      <td>24.83</td>\n",
       "      <td>0.24</td>\n",
       "      <td>4.24</td>\n",
       "      <td>1.15</td>\n",
       "      <td>2.35</td>\n",
       "      <td>2014</td>\n",
       "      <td>2</td>\n",
       "      <td>1</td>\n",
       "      <td>0</td>\n",
       "      <td>0</td>\n",
       "    </tr>\n",
       "    <tr>\n",
       "      <th>0</th>\n",
       "      <td>0.0</td>\n",
       "      <td>0.0</td>\n",
       "      <td>-1.99</td>\n",
       "      <td>-60.93</td>\n",
       "      <td>-999.0</td>\n",
       "      <td>0.0</td>\n",
       "      <td>180.0</td>\n",
       "      <td>0.0</td>\n",
       "      <td>0.0</td>\n",
       "      <td>0.0</td>\n",
       "      <td>...</td>\n",
       "      <td>28.80</td>\n",
       "      <td>0.41</td>\n",
       "      <td>73.93</td>\n",
       "      <td>1.60</td>\n",
       "      <td>4.52</td>\n",
       "      <td>2014</td>\n",
       "      <td>3</td>\n",
       "      <td>1</td>\n",
       "      <td>0</td>\n",
       "      <td>0</td>\n",
       "    </tr>\n",
       "    <tr>\n",
       "      <th>1</th>\n",
       "      <td>0.2</td>\n",
       "      <td>1.0</td>\n",
       "      <td>-2.07</td>\n",
       "      <td>-60.87</td>\n",
       "      <td>143.0</td>\n",
       "      <td>55.5</td>\n",
       "      <td>123.0</td>\n",
       "      <td>0.0</td>\n",
       "      <td>0.0</td>\n",
       "      <td>0.0</td>\n",
       "      <td>...</td>\n",
       "      <td>31.51</td>\n",
       "      <td>0.46</td>\n",
       "      <td>56.63</td>\n",
       "      <td>2.17</td>\n",
       "      <td>6.97</td>\n",
       "      <td>2014</td>\n",
       "      <td>3</td>\n",
       "      <td>1</td>\n",
       "      <td>0</td>\n",
       "      <td>0</td>\n",
       "    </tr>\n",
       "  </tbody>\n",
       "</table>\n",
       "<p>5 rows × 26 columns</p>\n",
       "</div>"
      ],
      "text/plain": [
       "   time  sysclass   lat    lon    dir   vel   size  ttyyyxx1  ttyyyxx2  \\\n",
       "0   0.0       0.0 -1.73 -60.57 -999.0   0.0   53.0       0.0       0.0   \n",
       "1   0.2       1.0 -1.73 -60.55   90.0  11.1   21.0       0.0       0.0   \n",
       "2   0.4       1.0 -1.77 -60.53  153.0  24.8   18.0       0.0       0.0   \n",
       "0   0.0       0.0 -1.99 -60.93 -999.0   0.0  180.0       0.0       0.0   \n",
       "1   0.2       1.0 -2.07 -60.87  143.0  55.5  123.0       0.0       0.0   \n",
       "\n",
       "   ttyyyxx3  ...   maxz  meanvil  ttvil  meanprec  maxprec  year  month  day  \\\n",
       "0       0.0  ...  26.70     0.29  15.37      1.18     3.18  2014      2    1   \n",
       "1       0.0  ...  21.46     0.23   4.91      0.92     1.03  2014      2    1   \n",
       "2       0.0  ...  24.83     0.24   4.24      1.15     2.35  2014      2    1   \n",
       "0       0.0  ...  28.80     0.41  73.93      1.60     4.52  2014      3    1   \n",
       "1       0.0  ...  31.51     0.46  56.63      2.17     6.97  2014      3    1   \n",
       "\n",
       "   hour  minute  \n",
       "0     0       0  \n",
       "1     0       0  \n",
       "2     0       0  \n",
       "0     0       0  \n",
       "1     0       0  \n",
       "\n",
       "[5 rows x 26 columns]"
      ]
     },
     "execution_count": 4,
     "metadata": {},
     "output_type": "execute_result"
    }
   ],
   "source": [
    "#defining function to load files as dataframe\n",
    "def load_files_as_dataframe(filenames, add_time=False):\n",
    "    #function axiliar to load dataframe\n",
    "    def _load_data(filename):\n",
    "        df = pd.read_csv(filename, sep='\\s+')\n",
    "        \n",
    "        #adding time in dataframe\n",
    "        if add_time:\n",
    "            df['year'] = int(filename[-16:-12])\n",
    "            df['month'] = int(filename[-12:-10])\n",
    "            df['day'] = int(filename[-10:-8])\n",
    "            df['hour'] = int(filename[-8:-6])\n",
    "            df['minute'] = int(filename[-6:-4])\n",
    "        \n",
    "        return df\n",
    "    \n",
    "    #loading files as dataframe and storing in list\n",
    "    dfs = [_load_data(filename) \\\n",
    "              for filename in filenames]\n",
    "        \n",
    "\n",
    "    #joining dataframes into single dataframe\n",
    "    dfs = pd.concat(dfs, sort=False)\n",
    "\n",
    "    #turning header to lowercase\n",
    "    dfs = dfs.rename(str.lower, axis='columns')\n",
    "    \n",
    "    return dfs\n",
    "\n",
    "famdfs = load_files_as_dataframe(PATH_FILES_FAM, add_time=True)\n",
    "famdfs.head()"
   ]
  },
  {
   "cell_type": "code",
   "execution_count": 13,
   "metadata": {
    "ExecuteTime": {
     "end_time": "2019-08-26T13:53:31.787273Z",
     "start_time": "2019-08-26T13:48:41.882497Z"
    },
    "slideshow": {
     "slide_type": "subslide"
    }
   },
   "outputs": [
    {
     "data": {
      "text/html": [
       "<div>\n",
       "<style scoped>\n",
       "    .dataframe tbody tr th:only-of-type {\n",
       "        vertical-align: middle;\n",
       "    }\n",
       "\n",
       "    .dataframe tbody tr th {\n",
       "        vertical-align: top;\n",
       "    }\n",
       "\n",
       "    .dataframe thead th {\n",
       "        text-align: right;\n",
       "    }\n",
       "</style>\n",
       "<table border=\"1\" class=\"dataframe\">\n",
       "  <thead>\n",
       "    <tr style=\"text-align: right;\">\n",
       "      <th></th>\n",
       "      <th>year</th>\n",
       "      <th>month</th>\n",
       "      <th>day</th>\n",
       "      <th>hour</th>\n",
       "      <th>minute</th>\n",
       "      <th>n_cluster</th>\n",
       "      <th>lon</th>\n",
       "      <th>lat</th>\n",
       "      <th>ind_x</th>\n",
       "      <th>ind_y</th>\n",
       "      <th>reflect</th>\n",
       "      <th>yyyyy_xx1</th>\n",
       "      <th>yyyyy_xx2</th>\n",
       "      <th>yyyyyyy_xx3</th>\n",
       "      <th>yyy_xx4</th>\n",
       "      <th>yyy_xx5</th>\n",
       "      <th>river</th>\n",
       "      <th>cxe</th>\n",
       "      <th>precipit</th>\n",
       "      <th>vil</th>\n",
       "    </tr>\n",
       "  </thead>\n",
       "  <tbody>\n",
       "    <tr>\n",
       "      <th>0</th>\n",
       "      <td>2014.0</td>\n",
       "      <td>2.0</td>\n",
       "      <td>1.0</td>\n",
       "      <td>0.0</td>\n",
       "      <td>0.0</td>\n",
       "      <td>3.0</td>\n",
       "      <td>-60.6314</td>\n",
       "      <td>-1.6689</td>\n",
       "      <td>88.0</td>\n",
       "      <td>46.0</td>\n",
       "      <td>20.2031</td>\n",
       "      <td>0.0</td>\n",
       "      <td>0.0</td>\n",
       "      <td>0.0</td>\n",
       "      <td>0.0</td>\n",
       "      <td>0.0</td>\n",
       "      <td>0.0</td>\n",
       "      <td>1.0</td>\n",
       "      <td>0.8128</td>\n",
       "      <td>0.1902</td>\n",
       "    </tr>\n",
       "    <tr>\n",
       "      <th>1</th>\n",
       "      <td>2014.0</td>\n",
       "      <td>2.0</td>\n",
       "      <td>1.0</td>\n",
       "      <td>0.0</td>\n",
       "      <td>0.0</td>\n",
       "      <td>3.0</td>\n",
       "      <td>-60.5514</td>\n",
       "      <td>-1.6689</td>\n",
       "      <td>92.0</td>\n",
       "      <td>46.0</td>\n",
       "      <td>20.7031</td>\n",
       "      <td>0.0</td>\n",
       "      <td>0.0</td>\n",
       "      <td>0.0</td>\n",
       "      <td>0.0</td>\n",
       "      <td>0.0</td>\n",
       "      <td>0.0</td>\n",
       "      <td>1.0</td>\n",
       "      <td>0.8776</td>\n",
       "      <td>0.3290</td>\n",
       "    </tr>\n",
       "    <tr>\n",
       "      <th>2</th>\n",
       "      <td>2014.0</td>\n",
       "      <td>2.0</td>\n",
       "      <td>1.0</td>\n",
       "      <td>0.0</td>\n",
       "      <td>0.0</td>\n",
       "      <td>3.0</td>\n",
       "      <td>-60.5314</td>\n",
       "      <td>-1.6689</td>\n",
       "      <td>93.0</td>\n",
       "      <td>46.0</td>\n",
       "      <td>20.7031</td>\n",
       "      <td>0.0</td>\n",
       "      <td>0.0</td>\n",
       "      <td>0.0</td>\n",
       "      <td>0.0</td>\n",
       "      <td>0.0</td>\n",
       "      <td>0.0</td>\n",
       "      <td>1.0</td>\n",
       "      <td>0.8776</td>\n",
       "      <td>0.3288</td>\n",
       "    </tr>\n",
       "    <tr>\n",
       "      <th>3</th>\n",
       "      <td>2014.0</td>\n",
       "      <td>2.0</td>\n",
       "      <td>1.0</td>\n",
       "      <td>0.0</td>\n",
       "      <td>0.0</td>\n",
       "      <td>3.0</td>\n",
       "      <td>-60.6714</td>\n",
       "      <td>-1.6889</td>\n",
       "      <td>86.0</td>\n",
       "      <td>47.0</td>\n",
       "      <td>21.2031</td>\n",
       "      <td>0.0</td>\n",
       "      <td>0.0</td>\n",
       "      <td>0.0</td>\n",
       "      <td>0.0</td>\n",
       "      <td>0.0</td>\n",
       "      <td>0.0</td>\n",
       "      <td>1.0</td>\n",
       "      <td>0.9477</td>\n",
       "      <td>0.1914</td>\n",
       "    </tr>\n",
       "    <tr>\n",
       "      <th>4</th>\n",
       "      <td>2014.0</td>\n",
       "      <td>2.0</td>\n",
       "      <td>1.0</td>\n",
       "      <td>0.0</td>\n",
       "      <td>0.0</td>\n",
       "      <td>3.0</td>\n",
       "      <td>-60.6514</td>\n",
       "      <td>-1.6889</td>\n",
       "      <td>87.0</td>\n",
       "      <td>47.0</td>\n",
       "      <td>21.2031</td>\n",
       "      <td>0.0</td>\n",
       "      <td>0.0</td>\n",
       "      <td>0.0</td>\n",
       "      <td>0.0</td>\n",
       "      <td>0.0</td>\n",
       "      <td>0.0</td>\n",
       "      <td>1.0</td>\n",
       "      <td>0.9477</td>\n",
       "      <td>0.1922</td>\n",
       "    </tr>\n",
       "  </tbody>\n",
       "</table>\n",
       "</div>"
      ],
      "text/plain": [
       "     year  month  day  hour  minute  n_cluster      lon     lat  ind_x  ind_y  \\\n",
       "0  2014.0    2.0  1.0   0.0     0.0        3.0 -60.6314 -1.6689   88.0   46.0   \n",
       "1  2014.0    2.0  1.0   0.0     0.0        3.0 -60.5514 -1.6689   92.0   46.0   \n",
       "2  2014.0    2.0  1.0   0.0     0.0        3.0 -60.5314 -1.6689   93.0   46.0   \n",
       "3  2014.0    2.0  1.0   0.0     0.0        3.0 -60.6714 -1.6889   86.0   47.0   \n",
       "4  2014.0    2.0  1.0   0.0     0.0        3.0 -60.6514 -1.6889   87.0   47.0   \n",
       "\n",
       "   reflect  yyyyy_xx1  yyyyy_xx2  yyyyyyy_xx3  yyy_xx4  yyy_xx5  river  cxe  \\\n",
       "0  20.2031        0.0        0.0          0.0      0.0      0.0    0.0  1.0   \n",
       "1  20.7031        0.0        0.0          0.0      0.0      0.0    0.0  1.0   \n",
       "2  20.7031        0.0        0.0          0.0      0.0      0.0    0.0  1.0   \n",
       "3  21.2031        0.0        0.0          0.0      0.0      0.0    0.0  1.0   \n",
       "4  21.2031        0.0        0.0          0.0      0.0      0.0    0.0  1.0   \n",
       "\n",
       "   precipit     vil  \n",
       "0    0.8128  0.1902  \n",
       "1    0.8776  0.3290  \n",
       "2    0.8776  0.3288  \n",
       "3    0.9477  0.1914  \n",
       "4    0.9477  0.1922  "
      ]
     },
     "execution_count": 13,
     "metadata": {},
     "output_type": "execute_result"
    }
   ],
   "source": [
    "matdfs = load_files_as_dataframe(PATH_FILES_MAT)\n",
    "matdfs.head()"
   ]
  },
  {
   "cell_type": "markdown",
   "metadata": {
    "slideshow": {
     "slide_type": "slide"
    }
   },
   "source": [
    "<a id=\"gravando-arquivos-em-csv\"></a>\n",
    "\n",
    "### 2.3 Gravando arquivos em CSV [^](#indice)\n",
    "Uma vez carregado todos os arquivos, eles deverão ser salvos no formato `.csv` de forma separada, como mencionado anteriormente."
   ]
  },
  {
   "cell_type": "code",
   "execution_count": 14,
   "metadata": {
    "ExecuteTime": {
     "end_time": "2019-08-26T13:59:43.048122Z",
     "start_time": "2019-08-26T13:53:45.795802Z"
    },
    "slideshow": {
     "slide_type": "subslide"
    }
   },
   "outputs": [],
   "source": [
    "def save_data_as_csv(dataframe, directory):\n",
    "    if not os.path.exists(directory):\n",
    "        os.makedirs(directory)\n",
    "    \n",
    "    #saving in single dataframe every month\n",
    "    dataframe.to_csv('%s/all_months.csv'%directory, sep=',', \\\n",
    "                     index=False)\n",
    "    \n",
    "    months = [\n",
    "        (2, 'february'), (3, 'march'), (8, 'august'), \n",
    "        (9, 'september'), (10, 'october')\n",
    "    ]\n",
    "    \n",
    "    for month in months:\n",
    "        df = dataframe[dataframe['month'] == month[0]]\n",
    "        if df.shape[0]:\n",
    "            df.to_csv('%s/%s.csv'%(directory, month[1]), \\\n",
    "                      sep=',', index=False)\n",
    "        \n",
    "    \n",
    "# save_data_as_csv(famdfs, '../data/private/csv/fam')\n",
    "save_data_as_csv(matdfs, '../data/private/csv/mat')"
   ]
  },
  {
   "cell_type": "markdown",
   "metadata": {
    "slideshow": {
     "slide_type": "slide"
    }
   },
   "source": [
    "<a id=\"referencias\"></a>\n",
    "\n",
    "## 3. Referências [^](#indice)\n",
    "\n",
    "<a id=\"machado-et-al-2014\"></a>\n",
    "\n",
    "MACHADO, L. A. T.; SILVA DIAS, M. A. F.; MORALES, C.; FISCH, G.; VILA, D.; ALBRECHT, R. I.; GOODMAN, S. J.; CALHEIROS, A. J. P.; BISCARO, T.; KUMMEROW, C.; COHEN, J.; FITZJARRALD, D.; NASCIMENTO, E. L.; SAKAMOTO, M. S.; CUNNINGHAM, C.; CHABOUREAU, J.-P.; PETERSEN, W. a.; ADAMS, D. K.; BALDINI, L.; ANGELIS, C. F.; SAPUCCI, L. F.; SALIO, P.; BARBOSA, H. M. J.; LANDULFO, E.; SOUZA, R. a. F.; BLAKESLEE, R. J.; BAILEY, J.; FREITAS, S.; LIMA, W. F. a.; TOKAY, A. The Chuva Project: How Does Convection Vary across Brazil? Bulletin of the American Meteorological Society, v. 95, n. 9, p. 1365–1380, set. 2014.\n",
    "\n",
    "<a id=\"martin-et-al-2016\"></a>\n",
    "\n",
    "MARTIN, S. T.; ARTAXO, P.; MACHADO, L. A. T.; MANZI, A. O.; SOUZA, R. A. F.; SCHUMACHER, C.; WANG, J.; ANDREAE, M. O.; BARBOSA, H. M. J.; FAN, J.; FISCH, G.; GOLDSTEIN, A. H.; GUENTHER, A.; JIMENEZ, J. L.; PÖSCHL, U.; SILVA DIAS, M. A.; 99 SMITH, J. N.; WENDISCH, M. Introduction: Observations and Modeling of the Green Ocean Amazon (GoAmazon2014/5). Atmospheric Chemistry and Physics, v. 16, n. 8, p. 4785–4797, abr. 2016.\n",
    "\n",
    "<a id=\"rebeca-2019\"></a>\n",
    "\n",
    "PEREIRA, R. F. d. O. (2019). Propriedades físicas da precipitação e eletrificação dos sistemas precipitantes observados durante o projeto chuva-manaus e goamazon. Dissertação de mestrado, Universidade de São Paulo (USP).\n",
    "\n",
    "<a id=\"vila-et-al-2008\"></a>\n",
    "\n",
    "VILA, D. A., MACHADO, L. A. T., LAURENT, H., & VELASCO, I. (2008). Forecast and Tracking the Evolution of Cloud Clusters (ForTraCC) using satellite infrared imagery: Methodology and validation. Weather and Forecasting, 23(2), 233-245."
   ]
  }
 ],
 "metadata": {
  "celltoolbar": "Slideshow",
  "kernelspec": {
   "display_name": "Python 3",
   "language": "python",
   "name": "python3"
  },
  "language_info": {
   "codemirror_mode": {
    "name": "ipython",
    "version": 3
   },
   "file_extension": ".py",
   "mimetype": "text/x-python",
   "name": "python",
   "nbconvert_exporter": "python",
   "pygments_lexer": "ipython3",
   "version": "3.7.3"
  }
 },
 "nbformat": 4,
 "nbformat_minor": 2
}
