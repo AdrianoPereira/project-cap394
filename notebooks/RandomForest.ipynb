{
 "cells": [
  {
   "cell_type": "code",
   "execution_count": 55,
   "metadata": {
    "ExecuteTime": {
     "end_time": "2019-09-06T00:53:47.839970Z",
     "start_time": "2019-09-06T00:53:47.832951Z"
    }
   },
   "outputs": [
    {
     "data": {
      "text/html": [
       "        <script type=\"text/javascript\">\n",
       "        window.PlotlyConfig = {MathJaxConfig: 'local'};\n",
       "        if (window.MathJax) {MathJax.Hub.Config({SVG: {font: \"STIX-Web\"}});}\n",
       "        if (typeof require !== 'undefined') {\n",
       "        require.undef(\"plotly\");\n",
       "        requirejs.config({\n",
       "            paths: {\n",
       "                'plotly': ['https://cdn.plot.ly/plotly-latest.min']\n",
       "            }\n",
       "        });\n",
       "        require(['plotly'], function(Plotly) {\n",
       "            window._Plotly = Plotly;\n",
       "        });\n",
       "        }\n",
       "        </script>\n",
       "        "
      ]
     },
     "metadata": {},
     "output_type": "display_data"
    }
   ],
   "source": [
    "import os\n",
    "import numpy as np; np.random.seed(42)\n",
    "import pandas as pd\n",
    "from sklearn.model_selection import train_test_split\n",
    "from sklearn.ensemble import RandomForestClassifier\n",
    "from sklearn.metrics import confusion_matrix\n",
    "import plotly.graph_objects as go\n",
    "import matplotlib.pyplot as plt\n",
    "from mpl_toolkits.axes_grid1 import make_axes_locatable\n",
    "from sklearn.tree import export_graphviz\n",
    "from IPython.display import Image\n",
    "from subprocess import call\n",
    "from plotly import offline\n",
    "from sklearn.externals import joblib as jb\n",
    "\n",
    "offline.init_notebook_mode(connected=True)"
   ]
  },
  {
   "cell_type": "code",
   "execution_count": 56,
   "metadata": {
    "ExecuteTime": {
     "end_time": "2019-09-06T00:53:52.458919Z",
     "start_time": "2019-09-06T00:53:52.289279Z"
    }
   },
   "outputs": [
    {
     "data": {
      "text/html": [
       "<div>\n",
       "<style scoped>\n",
       "    .dataframe tbody tr th:only-of-type {\n",
       "        vertical-align: middle;\n",
       "    }\n",
       "\n",
       "    .dataframe tbody tr th {\n",
       "        vertical-align: top;\n",
       "    }\n",
       "\n",
       "    .dataframe thead th {\n",
       "        text-align: right;\n",
       "    }\n",
       "</style>\n",
       "<table border=\"1\" class=\"dataframe\">\n",
       "  <thead>\n",
       "    <tr style=\"text-align: right;\">\n",
       "      <th></th>\n",
       "      <th>time</th>\n",
       "      <th>sysclass</th>\n",
       "      <th>lat</th>\n",
       "      <th>lon</th>\n",
       "      <th>dir</th>\n",
       "      <th>vel</th>\n",
       "      <th>size</th>\n",
       "      <th>ttyyyxx1</th>\n",
       "      <th>ttyyyxx2</th>\n",
       "      <th>ttyyyxx3</th>\n",
       "      <th>...</th>\n",
       "      <th>maxz</th>\n",
       "      <th>meanvil</th>\n",
       "      <th>ttvil</th>\n",
       "      <th>meanprec</th>\n",
       "      <th>maxprec</th>\n",
       "      <th>year</th>\n",
       "      <th>month</th>\n",
       "      <th>day</th>\n",
       "      <th>hour</th>\n",
       "      <th>minute</th>\n",
       "    </tr>\n",
       "  </thead>\n",
       "  <tbody>\n",
       "    <tr>\n",
       "      <th>12871</th>\n",
       "      <td>0.0</td>\n",
       "      <td>0.0</td>\n",
       "      <td>-2.75</td>\n",
       "      <td>-58.57</td>\n",
       "      <td>-999.0</td>\n",
       "      <td>0.0</td>\n",
       "      <td>13.0</td>\n",
       "      <td>0.0</td>\n",
       "      <td>0.0</td>\n",
       "      <td>0.0</td>\n",
       "      <td>...</td>\n",
       "      <td>22.28</td>\n",
       "      <td>0.18</td>\n",
       "      <td>2.31</td>\n",
       "      <td>0.97</td>\n",
       "      <td>1.18</td>\n",
       "      <td>2014</td>\n",
       "      <td>8</td>\n",
       "      <td>27</td>\n",
       "      <td>2</td>\n",
       "      <td>24</td>\n",
       "    </tr>\n",
       "    <tr>\n",
       "      <th>12872</th>\n",
       "      <td>0.2</td>\n",
       "      <td>1.0</td>\n",
       "      <td>-2.73</td>\n",
       "      <td>-58.57</td>\n",
       "      <td>0.0</td>\n",
       "      <td>11.1</td>\n",
       "      <td>30.0</td>\n",
       "      <td>0.0</td>\n",
       "      <td>0.0</td>\n",
       "      <td>0.0</td>\n",
       "      <td>...</td>\n",
       "      <td>28.17</td>\n",
       "      <td>0.30</td>\n",
       "      <td>9.10</td>\n",
       "      <td>1.80</td>\n",
       "      <td>4.16</td>\n",
       "      <td>2014</td>\n",
       "      <td>8</td>\n",
       "      <td>27</td>\n",
       "      <td>2</td>\n",
       "      <td>24</td>\n",
       "    </tr>\n",
       "    <tr>\n",
       "      <th>12873</th>\n",
       "      <td>0.0</td>\n",
       "      <td>0.0</td>\n",
       "      <td>-2.73</td>\n",
       "      <td>-58.57</td>\n",
       "      <td>-999.0</td>\n",
       "      <td>0.0</td>\n",
       "      <td>21.0</td>\n",
       "      <td>0.0</td>\n",
       "      <td>0.0</td>\n",
       "      <td>0.0</td>\n",
       "      <td>...</td>\n",
       "      <td>23.01</td>\n",
       "      <td>0.18</td>\n",
       "      <td>3.76</td>\n",
       "      <td>1.02</td>\n",
       "      <td>1.32</td>\n",
       "      <td>2014</td>\n",
       "      <td>8</td>\n",
       "      <td>27</td>\n",
       "      <td>3</td>\n",
       "      <td>0</td>\n",
       "    </tr>\n",
       "    <tr>\n",
       "      <th>12874</th>\n",
       "      <td>0.2</td>\n",
       "      <td>1.0</td>\n",
       "      <td>-2.75</td>\n",
       "      <td>-58.57</td>\n",
       "      <td>180.0</td>\n",
       "      <td>11.1</td>\n",
       "      <td>13.0</td>\n",
       "      <td>0.0</td>\n",
       "      <td>0.0</td>\n",
       "      <td>0.0</td>\n",
       "      <td>...</td>\n",
       "      <td>22.28</td>\n",
       "      <td>0.18</td>\n",
       "      <td>2.28</td>\n",
       "      <td>0.97</td>\n",
       "      <td>1.09</td>\n",
       "      <td>2014</td>\n",
       "      <td>8</td>\n",
       "      <td>27</td>\n",
       "      <td>3</td>\n",
       "      <td>0</td>\n",
       "    </tr>\n",
       "    <tr>\n",
       "      <th>12875</th>\n",
       "      <td>0.0</td>\n",
       "      <td>0.0</td>\n",
       "      <td>-1.71</td>\n",
       "      <td>-59.63</td>\n",
       "      <td>-999.0</td>\n",
       "      <td>0.0</td>\n",
       "      <td>12.0</td>\n",
       "      <td>0.0</td>\n",
       "      <td>0.0</td>\n",
       "      <td>0.0</td>\n",
       "      <td>...</td>\n",
       "      <td>21.46</td>\n",
       "      <td>0.16</td>\n",
       "      <td>1.96</td>\n",
       "      <td>0.92</td>\n",
       "      <td>0.97</td>\n",
       "      <td>2014</td>\n",
       "      <td>8</td>\n",
       "      <td>27</td>\n",
       "      <td>3</td>\n",
       "      <td>48</td>\n",
       "    </tr>\n",
       "  </tbody>\n",
       "</table>\n",
       "<p>5 rows × 26 columns</p>\n",
       "</div>"
      ],
      "text/plain": [
       "       time  sysclass   lat    lon    dir   vel  size  ttyyyxx1  ttyyyxx2  \\\n",
       "12871   0.0       0.0 -2.75 -58.57 -999.0   0.0  13.0       0.0       0.0   \n",
       "12872   0.2       1.0 -2.73 -58.57    0.0  11.1  30.0       0.0       0.0   \n",
       "12873   0.0       0.0 -2.73 -58.57 -999.0   0.0  21.0       0.0       0.0   \n",
       "12874   0.2       1.0 -2.75 -58.57  180.0  11.1  13.0       0.0       0.0   \n",
       "12875   0.0       0.0 -1.71 -59.63 -999.0   0.0  12.0       0.0       0.0   \n",
       "\n",
       "       ttyyyxx3  ...   maxz  meanvil  ttvil  meanprec  maxprec  year  month  \\\n",
       "12871       0.0  ...  22.28     0.18   2.31      0.97     1.18  2014      8   \n",
       "12872       0.0  ...  28.17     0.30   9.10      1.80     4.16  2014      8   \n",
       "12873       0.0  ...  23.01     0.18   3.76      1.02     1.32  2014      8   \n",
       "12874       0.0  ...  22.28     0.18   2.28      0.97     1.09  2014      8   \n",
       "12875       0.0  ...  21.46     0.16   1.96      0.92     0.97  2014      8   \n",
       "\n",
       "       day  hour  minute  \n",
       "12871   27     2      24  \n",
       "12872   27     2      24  \n",
       "12873   27     3       0  \n",
       "12874   27     3       0  \n",
       "12875   27     3      48  \n",
       "\n",
       "[5 rows x 26 columns]"
      ]
     },
     "execution_count": 56,
     "metadata": {},
     "output_type": "execute_result"
    }
   ],
   "source": [
    "files = ['august.csv', 'september.csv', 'october.csv'] \n",
    "PATH ='../data/private/csv/fam/'\n",
    "\n",
    "df = [pd.read_csv(os.path.join(PATH, file)) \n",
    "      for file in files]\n",
    "df = pd.concat(df, sort=False)\n",
    "\n",
    "query = '(month == 8 and day >= 27) or (month == 9) or (month == 10 and day <= 7)'\n",
    "df = df.query(query)\n",
    "df.head()"
   ]
  },
  {
   "cell_type": "code",
   "execution_count": 59,
   "metadata": {
    "ExecuteTime": {
     "end_time": "2019-09-06T00:54:08.567214Z",
     "start_time": "2019-09-06T00:54:08.226727Z"
    },
    "scrolled": false
   },
   "outputs": [
    {
     "data": {
      "application/vnd.plotly.v1+json": {
       "config": {
        "linkText": "Export to plot.ly",
        "plotlyServerURL": "https://plot.ly",
        "showLink": false
       },
       "data": [
        {
         "hole": 0.5,
         "labels": [
          "Classe 1 - sem detecção de raios (0 raios)",
          "Classe 2 - atividade moderada (de 1 a 10 raios detectados)",
          "Classe 3 - atividade extrema (mais de 10 raios detectados)"
         ],
         "marker": {
          "colors": [
           "#140304",
           "#3C090C",
           "#DC1F2A"
          ],
          "line": {
           "color": "#A0A0A0",
           "width": 1
          }
         },
         "type": "pie",
         "values": [
          22820,
          2514,
          884
         ]
        }
       ],
       "layout": {
        "template": {
         "data": {
          "bar": [
           {
            "error_x": {
             "color": "#f2f5fa"
            },
            "error_y": {
             "color": "#f2f5fa"
            },
            "marker": {
             "line": {
              "color": "rgb(17,17,17)",
              "width": 0.5
             }
            },
            "type": "bar"
           }
          ],
          "barpolar": [
           {
            "marker": {
             "line": {
              "color": "rgb(17,17,17)",
              "width": 0.5
             }
            },
            "type": "barpolar"
           }
          ],
          "carpet": [
           {
            "aaxis": {
             "endlinecolor": "#A2B1C6",
             "gridcolor": "#506784",
             "linecolor": "#506784",
             "minorgridcolor": "#506784",
             "startlinecolor": "#A2B1C6"
            },
            "baxis": {
             "endlinecolor": "#A2B1C6",
             "gridcolor": "#506784",
             "linecolor": "#506784",
             "minorgridcolor": "#506784",
             "startlinecolor": "#A2B1C6"
            },
            "type": "carpet"
           }
          ],
          "choropleth": [
           {
            "colorbar": {
             "outlinewidth": 0,
             "ticks": ""
            },
            "type": "choropleth"
           }
          ],
          "contour": [
           {
            "colorbar": {
             "outlinewidth": 0,
             "ticks": ""
            },
            "colorscale": [
             [
              0,
              "#0d0887"
             ],
             [
              0.1111111111111111,
              "#46039f"
             ],
             [
              0.2222222222222222,
              "#7201a8"
             ],
             [
              0.3333333333333333,
              "#9c179e"
             ],
             [
              0.4444444444444444,
              "#bd3786"
             ],
             [
              0.5555555555555556,
              "#d8576b"
             ],
             [
              0.6666666666666666,
              "#ed7953"
             ],
             [
              0.7777777777777778,
              "#fb9f3a"
             ],
             [
              0.8888888888888888,
              "#fdca26"
             ],
             [
              1,
              "#f0f921"
             ]
            ],
            "type": "contour"
           }
          ],
          "contourcarpet": [
           {
            "colorbar": {
             "outlinewidth": 0,
             "ticks": ""
            },
            "type": "contourcarpet"
           }
          ],
          "heatmap": [
           {
            "colorbar": {
             "outlinewidth": 0,
             "ticks": ""
            },
            "colorscale": [
             [
              0,
              "#0d0887"
             ],
             [
              0.1111111111111111,
              "#46039f"
             ],
             [
              0.2222222222222222,
              "#7201a8"
             ],
             [
              0.3333333333333333,
              "#9c179e"
             ],
             [
              0.4444444444444444,
              "#bd3786"
             ],
             [
              0.5555555555555556,
              "#d8576b"
             ],
             [
              0.6666666666666666,
              "#ed7953"
             ],
             [
              0.7777777777777778,
              "#fb9f3a"
             ],
             [
              0.8888888888888888,
              "#fdca26"
             ],
             [
              1,
              "#f0f921"
             ]
            ],
            "type": "heatmap"
           }
          ],
          "heatmapgl": [
           {
            "colorbar": {
             "outlinewidth": 0,
             "ticks": ""
            },
            "colorscale": [
             [
              0,
              "#0d0887"
             ],
             [
              0.1111111111111111,
              "#46039f"
             ],
             [
              0.2222222222222222,
              "#7201a8"
             ],
             [
              0.3333333333333333,
              "#9c179e"
             ],
             [
              0.4444444444444444,
              "#bd3786"
             ],
             [
              0.5555555555555556,
              "#d8576b"
             ],
             [
              0.6666666666666666,
              "#ed7953"
             ],
             [
              0.7777777777777778,
              "#fb9f3a"
             ],
             [
              0.8888888888888888,
              "#fdca26"
             ],
             [
              1,
              "#f0f921"
             ]
            ],
            "type": "heatmapgl"
           }
          ],
          "histogram": [
           {
            "marker": {
             "colorbar": {
              "outlinewidth": 0,
              "ticks": ""
             }
            },
            "type": "histogram"
           }
          ],
          "histogram2d": [
           {
            "colorbar": {
             "outlinewidth": 0,
             "ticks": ""
            },
            "colorscale": [
             [
              0,
              "#0d0887"
             ],
             [
              0.1111111111111111,
              "#46039f"
             ],
             [
              0.2222222222222222,
              "#7201a8"
             ],
             [
              0.3333333333333333,
              "#9c179e"
             ],
             [
              0.4444444444444444,
              "#bd3786"
             ],
             [
              0.5555555555555556,
              "#d8576b"
             ],
             [
              0.6666666666666666,
              "#ed7953"
             ],
             [
              0.7777777777777778,
              "#fb9f3a"
             ],
             [
              0.8888888888888888,
              "#fdca26"
             ],
             [
              1,
              "#f0f921"
             ]
            ],
            "type": "histogram2d"
           }
          ],
          "histogram2dcontour": [
           {
            "colorbar": {
             "outlinewidth": 0,
             "ticks": ""
            },
            "colorscale": [
             [
              0,
              "#0d0887"
             ],
             [
              0.1111111111111111,
              "#46039f"
             ],
             [
              0.2222222222222222,
              "#7201a8"
             ],
             [
              0.3333333333333333,
              "#9c179e"
             ],
             [
              0.4444444444444444,
              "#bd3786"
             ],
             [
              0.5555555555555556,
              "#d8576b"
             ],
             [
              0.6666666666666666,
              "#ed7953"
             ],
             [
              0.7777777777777778,
              "#fb9f3a"
             ],
             [
              0.8888888888888888,
              "#fdca26"
             ],
             [
              1,
              "#f0f921"
             ]
            ],
            "type": "histogram2dcontour"
           }
          ],
          "mesh3d": [
           {
            "colorbar": {
             "outlinewidth": 0,
             "ticks": ""
            },
            "type": "mesh3d"
           }
          ],
          "parcoords": [
           {
            "line": {
             "colorbar": {
              "outlinewidth": 0,
              "ticks": ""
             }
            },
            "type": "parcoords"
           }
          ],
          "scatter": [
           {
            "marker": {
             "line": {
              "color": "#283442"
             }
            },
            "type": "scatter"
           }
          ],
          "scatter3d": [
           {
            "line": {
             "colorbar": {
              "outlinewidth": 0,
              "ticks": ""
             }
            },
            "marker": {
             "colorbar": {
              "outlinewidth": 0,
              "ticks": ""
             }
            },
            "type": "scatter3d"
           }
          ],
          "scattercarpet": [
           {
            "marker": {
             "colorbar": {
              "outlinewidth": 0,
              "ticks": ""
             }
            },
            "type": "scattercarpet"
           }
          ],
          "scattergeo": [
           {
            "marker": {
             "colorbar": {
              "outlinewidth": 0,
              "ticks": ""
             }
            },
            "type": "scattergeo"
           }
          ],
          "scattergl": [
           {
            "marker": {
             "line": {
              "color": "#283442"
             }
            },
            "type": "scattergl"
           }
          ],
          "scattermapbox": [
           {
            "marker": {
             "colorbar": {
              "outlinewidth": 0,
              "ticks": ""
             }
            },
            "type": "scattermapbox"
           }
          ],
          "scatterpolar": [
           {
            "marker": {
             "colorbar": {
              "outlinewidth": 0,
              "ticks": ""
             }
            },
            "type": "scatterpolar"
           }
          ],
          "scatterpolargl": [
           {
            "marker": {
             "colorbar": {
              "outlinewidth": 0,
              "ticks": ""
             }
            },
            "type": "scatterpolargl"
           }
          ],
          "scatterternary": [
           {
            "marker": {
             "colorbar": {
              "outlinewidth": 0,
              "ticks": ""
             }
            },
            "type": "scatterternary"
           }
          ],
          "surface": [
           {
            "colorbar": {
             "outlinewidth": 0,
             "ticks": ""
            },
            "colorscale": [
             [
              0,
              "#0d0887"
             ],
             [
              0.1111111111111111,
              "#46039f"
             ],
             [
              0.2222222222222222,
              "#7201a8"
             ],
             [
              0.3333333333333333,
              "#9c179e"
             ],
             [
              0.4444444444444444,
              "#bd3786"
             ],
             [
              0.5555555555555556,
              "#d8576b"
             ],
             [
              0.6666666666666666,
              "#ed7953"
             ],
             [
              0.7777777777777778,
              "#fb9f3a"
             ],
             [
              0.8888888888888888,
              "#fdca26"
             ],
             [
              1,
              "#f0f921"
             ]
            ],
            "type": "surface"
           }
          ],
          "table": [
           {
            "cells": {
             "fill": {
              "color": "#506784"
             },
             "line": {
              "color": "rgb(17,17,17)"
             }
            },
            "header": {
             "fill": {
              "color": "#2a3f5f"
             },
             "line": {
              "color": "rgb(17,17,17)"
             }
            },
            "type": "table"
           }
          ]
         },
         "layout": {
          "annotationdefaults": {
           "arrowcolor": "#f2f5fa",
           "arrowhead": 0,
           "arrowwidth": 1
          },
          "colorscale": {
           "diverging": [
            [
             0,
             "#8e0152"
            ],
            [
             0.1,
             "#c51b7d"
            ],
            [
             0.2,
             "#de77ae"
            ],
            [
             0.3,
             "#f1b6da"
            ],
            [
             0.4,
             "#fde0ef"
            ],
            [
             0.5,
             "#f7f7f7"
            ],
            [
             0.6,
             "#e6f5d0"
            ],
            [
             0.7,
             "#b8e186"
            ],
            [
             0.8,
             "#7fbc41"
            ],
            [
             0.9,
             "#4d9221"
            ],
            [
             1,
             "#276419"
            ]
           ],
           "sequential": [
            [
             0,
             "#0d0887"
            ],
            [
             0.1111111111111111,
             "#46039f"
            ],
            [
             0.2222222222222222,
             "#7201a8"
            ],
            [
             0.3333333333333333,
             "#9c179e"
            ],
            [
             0.4444444444444444,
             "#bd3786"
            ],
            [
             0.5555555555555556,
             "#d8576b"
            ],
            [
             0.6666666666666666,
             "#ed7953"
            ],
            [
             0.7777777777777778,
             "#fb9f3a"
            ],
            [
             0.8888888888888888,
             "#fdca26"
            ],
            [
             1,
             "#f0f921"
            ]
           ],
           "sequentialminus": [
            [
             0,
             "#0d0887"
            ],
            [
             0.1111111111111111,
             "#46039f"
            ],
            [
             0.2222222222222222,
             "#7201a8"
            ],
            [
             0.3333333333333333,
             "#9c179e"
            ],
            [
             0.4444444444444444,
             "#bd3786"
            ],
            [
             0.5555555555555556,
             "#d8576b"
            ],
            [
             0.6666666666666666,
             "#ed7953"
            ],
            [
             0.7777777777777778,
             "#fb9f3a"
            ],
            [
             0.8888888888888888,
             "#fdca26"
            ],
            [
             1,
             "#f0f921"
            ]
           ]
          },
          "colorway": [
           "#636efa",
           "#EF553B",
           "#00cc96",
           "#ab63fa",
           "#FFA15A",
           "#19d3f3",
           "#FF6692",
           "#B6E880",
           "#FF97FF",
           "#FECB52"
          ],
          "font": {
           "color": "#f2f5fa"
          },
          "geo": {
           "bgcolor": "rgb(17,17,17)",
           "lakecolor": "rgb(17,17,17)",
           "landcolor": "rgb(17,17,17)",
           "showlakes": true,
           "showland": true,
           "subunitcolor": "#506784"
          },
          "hoverlabel": {
           "align": "left"
          },
          "hovermode": "closest",
          "mapbox": {
           "style": "dark"
          },
          "paper_bgcolor": "rgb(17,17,17)",
          "plot_bgcolor": "rgb(17,17,17)",
          "polar": {
           "angularaxis": {
            "gridcolor": "#506784",
            "linecolor": "#506784",
            "ticks": ""
           },
           "bgcolor": "rgb(17,17,17)",
           "radialaxis": {
            "gridcolor": "#506784",
            "linecolor": "#506784",
            "ticks": ""
           }
          },
          "scene": {
           "xaxis": {
            "backgroundcolor": "rgb(17,17,17)",
            "gridcolor": "#506784",
            "gridwidth": 2,
            "linecolor": "#506784",
            "showbackground": true,
            "ticks": "",
            "zerolinecolor": "#C8D4E3"
           },
           "yaxis": {
            "backgroundcolor": "rgb(17,17,17)",
            "gridcolor": "#506784",
            "gridwidth": 2,
            "linecolor": "#506784",
            "showbackground": true,
            "ticks": "",
            "zerolinecolor": "#C8D4E3"
           },
           "zaxis": {
            "backgroundcolor": "rgb(17,17,17)",
            "gridcolor": "#506784",
            "gridwidth": 2,
            "linecolor": "#506784",
            "showbackground": true,
            "ticks": "",
            "zerolinecolor": "#C8D4E3"
           }
          },
          "shapedefaults": {
           "line": {
            "color": "#f2f5fa"
           }
          },
          "sliderdefaults": {
           "bgcolor": "#C8D4E3",
           "bordercolor": "rgb(17,17,17)",
           "borderwidth": 1,
           "tickwidth": 0
          },
          "ternary": {
           "aaxis": {
            "gridcolor": "#506784",
            "linecolor": "#506784",
            "ticks": ""
           },
           "baxis": {
            "gridcolor": "#506784",
            "linecolor": "#506784",
            "ticks": ""
           },
           "bgcolor": "rgb(17,17,17)",
           "caxis": {
            "gridcolor": "#506784",
            "linecolor": "#506784",
            "ticks": ""
           }
          },
          "title": {
           "x": 0.05
          },
          "updatemenudefaults": {
           "bgcolor": "#506784",
           "borderwidth": 0
          },
          "xaxis": {
           "automargin": true,
           "gridcolor": "#283442",
           "linecolor": "#506784",
           "ticks": "",
           "zerolinecolor": "#283442",
           "zerolinewidth": 2
          },
          "yaxis": {
           "automargin": true,
           "gridcolor": "#283442",
           "linecolor": "#506784",
           "ticks": "",
           "zerolinecolor": "#283442",
           "zerolinewidth": 2
          }
         }
        },
        "title": {
         "text": "Definição e distribuição das classes"
        }
       }
      },
      "text/html": [
       "<div>\n",
       "        \n",
       "        \n",
       "            <div id=\"55f3f075-befa-4d0d-a37f-c28c1e98a067\" class=\"plotly-graph-div\" style=\"height:525px; width:100%;\"></div>\n",
       "            <script type=\"text/javascript\">\n",
       "                require([\"plotly\"], function(Plotly) {\n",
       "                    window.PLOTLYENV=window.PLOTLYENV || {};\n",
       "                    \n",
       "                if (document.getElementById(\"55f3f075-befa-4d0d-a37f-c28c1e98a067\")) {\n",
       "                    Plotly.newPlot(\n",
       "                        '55f3f075-befa-4d0d-a37f-c28c1e98a067',\n",
       "                        [{\"hole\": 0.5, \"labels\": [\"Classe 1 - sem detec\\u00e7\\u00e3o de raios (0 raios)\", \"Classe 2 - atividade moderada (de 1 a 10 raios detectados)\", \"Classe 3 - atividade extrema (mais de 10 raios detectados)\"], \"marker\": {\"colors\": [\"#140304\", \"#3C090C\", \"#DC1F2A\"], \"line\": {\"color\": \"#A0A0A0\", \"width\": 1}}, \"type\": \"pie\", \"values\": [22820, 2514, 884]}],\n",
       "                        {\"template\": {\"data\": {\"bar\": [{\"error_x\": {\"color\": \"#f2f5fa\"}, \"error_y\": {\"color\": \"#f2f5fa\"}, \"marker\": {\"line\": {\"color\": \"rgb(17,17,17)\", \"width\": 0.5}}, \"type\": \"bar\"}], \"barpolar\": [{\"marker\": {\"line\": {\"color\": \"rgb(17,17,17)\", \"width\": 0.5}}, \"type\": \"barpolar\"}], \"carpet\": [{\"aaxis\": {\"endlinecolor\": \"#A2B1C6\", \"gridcolor\": \"#506784\", \"linecolor\": \"#506784\", \"minorgridcolor\": \"#506784\", \"startlinecolor\": \"#A2B1C6\"}, \"baxis\": {\"endlinecolor\": \"#A2B1C6\", \"gridcolor\": \"#506784\", \"linecolor\": \"#506784\", \"minorgridcolor\": \"#506784\", \"startlinecolor\": \"#A2B1C6\"}, \"type\": \"carpet\"}], \"choropleth\": [{\"colorbar\": {\"outlinewidth\": 0, \"ticks\": \"\"}, \"type\": \"choropleth\"}], \"contour\": [{\"colorbar\": {\"outlinewidth\": 0, \"ticks\": \"\"}, \"colorscale\": [[0.0, \"#0d0887\"], [0.1111111111111111, \"#46039f\"], [0.2222222222222222, \"#7201a8\"], [0.3333333333333333, \"#9c179e\"], [0.4444444444444444, \"#bd3786\"], [0.5555555555555556, \"#d8576b\"], [0.6666666666666666, \"#ed7953\"], [0.7777777777777778, \"#fb9f3a\"], [0.8888888888888888, \"#fdca26\"], [1.0, \"#f0f921\"]], \"type\": \"contour\"}], \"contourcarpet\": [{\"colorbar\": {\"outlinewidth\": 0, \"ticks\": \"\"}, \"type\": \"contourcarpet\"}], \"heatmap\": [{\"colorbar\": {\"outlinewidth\": 0, \"ticks\": \"\"}, \"colorscale\": [[0.0, \"#0d0887\"], [0.1111111111111111, \"#46039f\"], [0.2222222222222222, \"#7201a8\"], [0.3333333333333333, \"#9c179e\"], [0.4444444444444444, \"#bd3786\"], [0.5555555555555556, \"#d8576b\"], [0.6666666666666666, \"#ed7953\"], [0.7777777777777778, \"#fb9f3a\"], [0.8888888888888888, \"#fdca26\"], [1.0, \"#f0f921\"]], \"type\": \"heatmap\"}], \"heatmapgl\": [{\"colorbar\": {\"outlinewidth\": 0, \"ticks\": \"\"}, \"colorscale\": [[0.0, \"#0d0887\"], [0.1111111111111111, \"#46039f\"], [0.2222222222222222, \"#7201a8\"], [0.3333333333333333, \"#9c179e\"], [0.4444444444444444, \"#bd3786\"], [0.5555555555555556, \"#d8576b\"], [0.6666666666666666, \"#ed7953\"], [0.7777777777777778, \"#fb9f3a\"], [0.8888888888888888, \"#fdca26\"], [1.0, \"#f0f921\"]], \"type\": \"heatmapgl\"}], \"histogram\": [{\"marker\": {\"colorbar\": {\"outlinewidth\": 0, \"ticks\": \"\"}}, \"type\": \"histogram\"}], \"histogram2d\": [{\"colorbar\": {\"outlinewidth\": 0, \"ticks\": \"\"}, \"colorscale\": [[0.0, \"#0d0887\"], [0.1111111111111111, \"#46039f\"], [0.2222222222222222, \"#7201a8\"], [0.3333333333333333, \"#9c179e\"], [0.4444444444444444, \"#bd3786\"], [0.5555555555555556, \"#d8576b\"], [0.6666666666666666, \"#ed7953\"], [0.7777777777777778, \"#fb9f3a\"], [0.8888888888888888, \"#fdca26\"], [1.0, \"#f0f921\"]], \"type\": \"histogram2d\"}], \"histogram2dcontour\": [{\"colorbar\": {\"outlinewidth\": 0, \"ticks\": \"\"}, \"colorscale\": [[0.0, \"#0d0887\"], [0.1111111111111111, \"#46039f\"], [0.2222222222222222, \"#7201a8\"], [0.3333333333333333, \"#9c179e\"], [0.4444444444444444, \"#bd3786\"], [0.5555555555555556, \"#d8576b\"], [0.6666666666666666, \"#ed7953\"], [0.7777777777777778, \"#fb9f3a\"], [0.8888888888888888, \"#fdca26\"], [1.0, \"#f0f921\"]], \"type\": \"histogram2dcontour\"}], \"mesh3d\": [{\"colorbar\": {\"outlinewidth\": 0, \"ticks\": \"\"}, \"type\": \"mesh3d\"}], \"parcoords\": [{\"line\": {\"colorbar\": {\"outlinewidth\": 0, \"ticks\": \"\"}}, \"type\": \"parcoords\"}], \"scatter\": [{\"marker\": {\"line\": {\"color\": \"#283442\"}}, \"type\": \"scatter\"}], \"scatter3d\": [{\"line\": {\"colorbar\": {\"outlinewidth\": 0, \"ticks\": \"\"}}, \"marker\": {\"colorbar\": {\"outlinewidth\": 0, \"ticks\": \"\"}}, \"type\": \"scatter3d\"}], \"scattercarpet\": [{\"marker\": {\"colorbar\": {\"outlinewidth\": 0, \"ticks\": \"\"}}, \"type\": \"scattercarpet\"}], \"scattergeo\": [{\"marker\": {\"colorbar\": {\"outlinewidth\": 0, \"ticks\": \"\"}}, \"type\": \"scattergeo\"}], \"scattergl\": [{\"marker\": {\"line\": {\"color\": \"#283442\"}}, \"type\": \"scattergl\"}], \"scattermapbox\": [{\"marker\": {\"colorbar\": {\"outlinewidth\": 0, \"ticks\": \"\"}}, \"type\": \"scattermapbox\"}], \"scatterpolar\": [{\"marker\": {\"colorbar\": {\"outlinewidth\": 0, \"ticks\": \"\"}}, \"type\": \"scatterpolar\"}], \"scatterpolargl\": [{\"marker\": {\"colorbar\": {\"outlinewidth\": 0, \"ticks\": \"\"}}, \"type\": \"scatterpolargl\"}], \"scatterternary\": [{\"marker\": {\"colorbar\": {\"outlinewidth\": 0, \"ticks\": \"\"}}, \"type\": \"scatterternary\"}], \"surface\": [{\"colorbar\": {\"outlinewidth\": 0, \"ticks\": \"\"}, \"colorscale\": [[0.0, \"#0d0887\"], [0.1111111111111111, \"#46039f\"], [0.2222222222222222, \"#7201a8\"], [0.3333333333333333, \"#9c179e\"], [0.4444444444444444, \"#bd3786\"], [0.5555555555555556, \"#d8576b\"], [0.6666666666666666, \"#ed7953\"], [0.7777777777777778, \"#fb9f3a\"], [0.8888888888888888, \"#fdca26\"], [1.0, \"#f0f921\"]], \"type\": \"surface\"}], \"table\": [{\"cells\": {\"fill\": {\"color\": \"#506784\"}, \"line\": {\"color\": \"rgb(17,17,17)\"}}, \"header\": {\"fill\": {\"color\": \"#2a3f5f\"}, \"line\": {\"color\": \"rgb(17,17,17)\"}}, \"type\": \"table\"}]}, \"layout\": {\"annotationdefaults\": {\"arrowcolor\": \"#f2f5fa\", \"arrowhead\": 0, \"arrowwidth\": 1}, \"colorscale\": {\"diverging\": [[0, \"#8e0152\"], [0.1, \"#c51b7d\"], [0.2, \"#de77ae\"], [0.3, \"#f1b6da\"], [0.4, \"#fde0ef\"], [0.5, \"#f7f7f7\"], [0.6, \"#e6f5d0\"], [0.7, \"#b8e186\"], [0.8, \"#7fbc41\"], [0.9, \"#4d9221\"], [1, \"#276419\"]], \"sequential\": [[0.0, \"#0d0887\"], [0.1111111111111111, \"#46039f\"], [0.2222222222222222, \"#7201a8\"], [0.3333333333333333, \"#9c179e\"], [0.4444444444444444, \"#bd3786\"], [0.5555555555555556, \"#d8576b\"], [0.6666666666666666, \"#ed7953\"], [0.7777777777777778, \"#fb9f3a\"], [0.8888888888888888, \"#fdca26\"], [1.0, \"#f0f921\"]], \"sequentialminus\": [[0.0, \"#0d0887\"], [0.1111111111111111, \"#46039f\"], [0.2222222222222222, \"#7201a8\"], [0.3333333333333333, \"#9c179e\"], [0.4444444444444444, \"#bd3786\"], [0.5555555555555556, \"#d8576b\"], [0.6666666666666666, \"#ed7953\"], [0.7777777777777778, \"#fb9f3a\"], [0.8888888888888888, \"#fdca26\"], [1.0, \"#f0f921\"]]}, \"colorway\": [\"#636efa\", \"#EF553B\", \"#00cc96\", \"#ab63fa\", \"#FFA15A\", \"#19d3f3\", \"#FF6692\", \"#B6E880\", \"#FF97FF\", \"#FECB52\"], \"font\": {\"color\": \"#f2f5fa\"}, \"geo\": {\"bgcolor\": \"rgb(17,17,17)\", \"lakecolor\": \"rgb(17,17,17)\", \"landcolor\": \"rgb(17,17,17)\", \"showlakes\": true, \"showland\": true, \"subunitcolor\": \"#506784\"}, \"hoverlabel\": {\"align\": \"left\"}, \"hovermode\": \"closest\", \"mapbox\": {\"style\": \"dark\"}, \"paper_bgcolor\": \"rgb(17,17,17)\", \"plot_bgcolor\": \"rgb(17,17,17)\", \"polar\": {\"angularaxis\": {\"gridcolor\": \"#506784\", \"linecolor\": \"#506784\", \"ticks\": \"\"}, \"bgcolor\": \"rgb(17,17,17)\", \"radialaxis\": {\"gridcolor\": \"#506784\", \"linecolor\": \"#506784\", \"ticks\": \"\"}}, \"scene\": {\"xaxis\": {\"backgroundcolor\": \"rgb(17,17,17)\", \"gridcolor\": \"#506784\", \"gridwidth\": 2, \"linecolor\": \"#506784\", \"showbackground\": true, \"ticks\": \"\", \"zerolinecolor\": \"#C8D4E3\"}, \"yaxis\": {\"backgroundcolor\": \"rgb(17,17,17)\", \"gridcolor\": \"#506784\", \"gridwidth\": 2, \"linecolor\": \"#506784\", \"showbackground\": true, \"ticks\": \"\", \"zerolinecolor\": \"#C8D4E3\"}, \"zaxis\": {\"backgroundcolor\": \"rgb(17,17,17)\", \"gridcolor\": \"#506784\", \"gridwidth\": 2, \"linecolor\": \"#506784\", \"showbackground\": true, \"ticks\": \"\", \"zerolinecolor\": \"#C8D4E3\"}}, \"shapedefaults\": {\"line\": {\"color\": \"#f2f5fa\"}}, \"sliderdefaults\": {\"bgcolor\": \"#C8D4E3\", \"bordercolor\": \"rgb(17,17,17)\", \"borderwidth\": 1, \"tickwidth\": 0}, \"ternary\": {\"aaxis\": {\"gridcolor\": \"#506784\", \"linecolor\": \"#506784\", \"ticks\": \"\"}, \"baxis\": {\"gridcolor\": \"#506784\", \"linecolor\": \"#506784\", \"ticks\": \"\"}, \"bgcolor\": \"rgb(17,17,17)\", \"caxis\": {\"gridcolor\": \"#506784\", \"linecolor\": \"#506784\", \"ticks\": \"\"}}, \"title\": {\"x\": 0.05}, \"updatemenudefaults\": {\"bgcolor\": \"#506784\", \"borderwidth\": 0}, \"xaxis\": {\"automargin\": true, \"gridcolor\": \"#283442\", \"linecolor\": \"#506784\", \"ticks\": \"\", \"zerolinecolor\": \"#283442\", \"zerolinewidth\": 2}, \"yaxis\": {\"automargin\": true, \"gridcolor\": \"#283442\", \"linecolor\": \"#506784\", \"ticks\": \"\", \"zerolinecolor\": \"#283442\", \"zerolinewidth\": 2}}}, \"title\": {\"text\": \"Defini\\u00e7\\u00e3o e distribui\\u00e7\\u00e3o das classes\"}},\n",
       "                        {\"responsive\": true}\n",
       "                    ).then(function(){\n",
       "                            \n",
       "var gd = document.getElementById('55f3f075-befa-4d0d-a37f-c28c1e98a067');\n",
       "var x = new MutationObserver(function (mutations, observer) {{\n",
       "        var display = window.getComputedStyle(gd).display;\n",
       "        if (!display || display === 'none') {{\n",
       "            console.log([gd, 'removed!']);\n",
       "            Plotly.purge(gd);\n",
       "            observer.disconnect();\n",
       "        }}\n",
       "}});\n",
       "\n",
       "// Listen for the removal of the full notebook cells\n",
       "var notebookContainer = gd.closest('#notebook-container');\n",
       "if (notebookContainer) {{\n",
       "    x.observe(notebookContainer, {childList: true});\n",
       "}}\n",
       "\n",
       "// Listen for the clearing of the current output cell\n",
       "var outputEl = gd.closest('.output');\n",
       "if (outputEl) {{\n",
       "    x.observe(outputEl, {childList: true});\n",
       "}}\n",
       "\n",
       "                        })\n",
       "                };\n",
       "                });\n",
       "            </script>\n",
       "        </div>"
      ]
     },
     "metadata": {},
     "output_type": "display_data"
    }
   ],
   "source": [
    "query1 = 'ttyyyxx3 == 0'\n",
    "query2 = '(ttyyyxx3 >= 1) and (ttyyyxx3 <= 10)'\n",
    "query3 = '(ttyyyxx3 > 10)'\n",
    "\n",
    "class1 = df.query(query1)\n",
    "class2 = df.query(query2)\n",
    "class3 = df.query(query3)\n",
    "\n",
    "total1 = class1['ttyyyxx3'].count()\n",
    "total2 = class2['ttyyyxx3'].count()\n",
    "total3 = class3['ttyyyxx3'].count()\n",
    "\n",
    "fig = go.Figure()\n",
    "labels = ['Classe 1 - sem detecção de raios (0 raios)', \n",
    "          'Classe 2 - atividade moderada (de 1 a 10 raios detectados)', \n",
    "          'Classe 3 - atividade extrema (mais de 10 raios detectados)']\n",
    "values = [total1, total2, total3]\n",
    "\n",
    "colors = ['#140304', '#3C090C', '#DC1F2A']\n",
    "fig.add_trace(\n",
    "    go.Pie(labels=labels, values=values, hole=.5,\n",
    "           marker=dict(colors=colors, \n",
    "                    line=dict(color='#A0A0A0', width=1)))\n",
    ")\n",
    "\n",
    "fig.update_layout(\n",
    "    template='plotly_dark',\n",
    "    title='Definição e distribuição das classes'\n",
    ")\n",
    "\n",
    "# offline.plot(fig, image_filename='definition-classes-fam', image='png', image_width=1000, image_height=600)\n",
    "offline.iplot(fig)"
   ]
  },
  {
   "cell_type": "code",
   "execution_count": 60,
   "metadata": {
    "ExecuteTime": {
     "end_time": "2019-09-06T00:54:14.179348Z",
     "start_time": "2019-09-06T00:54:13.867665Z"
    }
   },
   "outputs": [
    {
     "data": {
      "application/vnd.plotly.v1+json": {
       "config": {
        "linkText": "Export to plot.ly",
        "plotlyServerURL": "https://plot.ly",
        "showLink": false
       },
       "data": [
        {
         "marker": {
          "opacity": 0.2
         },
         "mode": "markers",
         "name": "Subconjunto sem detecção de raios",
         "type": "scatter",
         "x": [
          23.01,
          28.49,
          34.19,
          38.65,
          34.86,
          43.65,
          37.8,
          38.51,
          26.28,
          29.09,
          22.28,
          45.49,
          37.96,
          43.76,
          22.28,
          52.15,
          36.33,
          38.12,
          26.7,
          26.28,
          46.36,
          26.28,
          24.28,
          27.09,
          45.32,
          43.62,
          53.09,
          30.64,
          35.34,
          28.49,
          34.05,
          35.46,
          42.01,
          23.67,
          42.57,
          29.38,
          29.09,
          39.55,
          23.67,
          47.95,
          49.66,
          36.43,
          35.23,
          34.47,
          38.04,
          56.72,
          51.69,
          50.07,
          39.28,
          27.83,
          45.7,
          58.03,
          25.35,
          42.53,
          25.35,
          30.41,
          30.16,
          46.24,
          25.35,
          44.89,
          34.98,
          37.63,
          23.67,
          28.17,
          34.6,
          35.46,
          42.01,
          33.61,
          28.49,
          27.83,
          56.89,
          42.62,
          37.37,
          27.47,
          26.28,
          46.16,
          35.23,
          47.03,
          44.33,
          43.51,
          32.47,
          34.05,
          29.38,
          29.91,
          47.49,
          23.67,
          29.38,
          39.01,
          34.19,
          50.33,
          23.67,
          42.49,
          36.33,
          46.46,
          34.73,
          41.25,
          42.53,
          42.14,
          52.84,
          46.12,
          40.22,
          43.76,
          29.09,
          24.28,
          32.29,
          29.91,
          29.65,
          38.43,
          24.83,
          48.38,
          30.16,
          39.61,
          31.31,
          44.61,
          34.47,
          33.31,
          44.43,
          49.82,
          22.28,
          38.04,
          32.81,
          20.53,
          49.21,
          28.17,
          35.8,
          24.83,
          47.45,
          54.7,
          21.46,
          47.45,
          33.15,
          27.83,
          37.63,
          25.83,
          57.75,
          23.67,
          31.51,
          26.28,
          38.8,
          48.7,
          23.67,
          28.49,
          24.28,
          34.98,
          29.91,
          24.28,
          27.09,
          23.67,
          29.38,
          26.7,
          47.16,
          39.01,
          39.74,
          24.83,
          31.91,
          34.6,
          48.57,
          26.28,
          28.17,
          26.7,
          30.64,
          47.55,
          39.8,
          23.01,
          34.73,
          49.78,
          51.03,
          27.09,
          23.01,
          47.31,
          34.86,
          41.87,
          45.46,
          43.83,
          27.09,
          50.43,
          43.29,
          34.98,
          30.87,
          48.29,
          28.17,
          33.15,
          39.08,
          25.83,
          23.67,
          47.79,
          41.4,
          38.65,
          29.09,
          33.91,
          31.72,
          27.83,
          36.63,
          37.8,
          36.02,
          31.09,
          35.91,
          43.02,
          45.32,
          44.2,
          42.41,
          33.46,
          36.43,
          30.16,
          41.45,
          28.8,
          23.01,
          40.78,
          34.05,
          24.83,
          33.46,
          47.45,
          42.32,
          31.91,
          36.73,
          42.53,
          36.33,
          28.8,
          42.45,
          52.79,
          44.89,
          26.7,
          37.55,
          33.15,
          40.16,
          45.24,
          32.64,
          41.83,
          46.46,
          32.29,
          42.98,
          22.28,
          33.76,
          30.87,
          48.9,
          40.67,
          46.19,
          25.83,
          37.19,
          25.83,
          41.59,
          43.62,
          23.01,
          31.91,
          24.28,
          35.46,
          25.83,
          39.08,
          31.72,
          25.35,
          32.98,
          27.09,
          35.23,
          36.82,
          30.87,
          40.39,
          45.29,
          48.59,
          35.8,
          50.6,
          44.33,
          33.76,
          46.94,
          36.23,
          31.09,
          31.72,
          45.99,
          46.76,
          43.83,
          46.34,
          26.7,
          46.26,
          32.47,
          36.23,
          40.51,
          31.72,
          36.33,
          27.09,
          28.8,
          51.39,
          38.73,
          31.91,
          41.4,
          36.92,
          45.57,
          43.62,
          28.49,
          32.98,
          36.92,
          23.01,
          27.83,
          27.83,
          29.38,
          34.47,
          31.51,
          49.88,
          39.86,
          35.8,
          42.57,
          37.28,
          23.01,
          23.67,
          32.29,
          27.09,
          28.49,
          27.47,
          25.83,
          43.83,
          35.8,
          52.28,
          30.16,
          22.28,
          33.46,
          47.05,
          30.16,
          42.28,
          23.01,
          40.94,
          39.92,
          46.83,
          41.2,
          27.83,
          50.36,
          27.09,
          38.2,
          29.65,
          32.1,
          41.2,
          41.5,
          29.65,
          30.64,
          24.83,
          31.31,
          24.28,
          41.45,
          27.47,
          28.17,
          38.87,
          29.09,
          30.64,
          45.29,
          27.47,
          41.73,
          25.35,
          38.58,
          30.41,
          22.28,
          49.54,
          32.64,
          46.43,
          33.76,
          34.6,
          32.29,
          29.65,
          37.37,
          40.99,
          24.28,
          31.72,
          43.06,
          34.05,
          23.01,
          30.64,
          37.46,
          40.28,
          29.65,
          44.07,
          37.1,
          36.23,
          33.15,
          28.8,
          25.35,
          31.91,
          36.33,
          39.8,
          30.16,
          32.29,
          27.47,
          23.67,
          28.49,
          44.23,
          27.09,
          49.46,
          40.51,
          26.28,
          37.1,
          44.1,
          24.28,
          28.17,
          24.28,
          46.21,
          47.24,
          26.7,
          37.63,
          44.1,
          36.53,
          47.99,
          47.26,
          31.51,
          43.02,
          37.46,
          29.91,
          23.01,
          25.83,
          38.43,
          38.94,
          34.86,
          44.86,
          45.12,
          38.73,
          41.64,
          30.41,
          22.28,
          46.85,
          32.98,
          33.61,
          31.72,
          24.83,
          44.8,
          40.94,
          45.41,
          44.43,
          42.66,
          44.39,
          24.83,
          30.16,
          50.01,
          43.76,
          41.54,
          45.32,
          43.47,
          39.98,
          41.45,
          43.86,
          38.8,
          44.98,
          48.27,
          33.91,
          37.19,
          42.28,
          35.46,
          28.8,
          37.72,
          37.55,
          46.06,
          25.35,
          37.19,
          58.45,
          32.47,
          29.38,
          38.12,
          24.28,
          26.7,
          34.33,
          40.99,
          37.01,
          38.28,
          32.81,
          23.67,
          36.73,
          45.06,
          35.1,
          30.64,
          32.47,
          23.01,
          43.51,
          35.91,
          40.39,
          21.46,
          44.65,
          23.01,
          48.18,
          28.17,
          34.86,
          40.45,
          40.28,
          24.28,
          40.45,
          39.86,
          31.31,
          33.61,
          24.28,
          25.83,
          27.47,
          30.16,
          40.89,
          44.8,
          51.08,
          46.46,
          45.12,
          45.18,
          44.55,
          33.31,
          49.32,
          29.38,
          40.28,
          43.72,
          48.78,
          39.48,
          32.47,
          26.28,
          43.93,
          37.1,
          25.35,
          28.49,
          50.77,
          28.8,
          29.38,
          23.67,
          22.28,
          26.7,
          21.46,
          45.01,
          22.28,
          40.45,
          48.01,
          41.87,
          48.59,
          49.9,
          43.47,
          48.8,
          33.61,
          36.02,
          40.39,
          36.33,
          27.47,
          27.47,
          24.28,
          45.91,
          44.8,
          31.91,
          35.23,
          29.91,
          27.09,
          31.72,
          36.02,
          38.8,
          41.78,
          33.46,
          49.82,
          42.53,
          28.17,
          47.47,
          34.73,
          46.26,
          33.91,
          45.01,
          49.9,
          28.49,
          27.83,
          26.28,
          23.67,
          32.1,
          38.94,
          44.74,
          44.2,
          43.54,
          37.28,
          35.69,
          43.47,
          45.62,
          32.81,
          31.72,
          41.04,
          25.35,
          41.73,
          31.51,
          36.33,
          23.67,
          22.28,
          49.64,
          38.2,
          37.8,
          27.47,
          48.34,
          50.49,
          22.28,
          42.14,
          23.67,
          28.8,
          36.82,
          28.17,
          40.94,
          40.94,
          44.2,
          47.37,
          33.15,
          25.35,
          44.92,
          29.38,
          45.18,
          38.73,
          33.61,
          42.98,
          25.35,
          37.63,
          52.59,
          34.73,
          38.8,
          25.35,
          40.51,
          40.83,
          51.45,
          39.74,
          50.68,
          39.74,
          49.26,
          25.35,
          33.15,
          50.33,
          25.35,
          31.09,
          29.91,
          31.51,
          40.45,
          23.67,
          46.04,
          38.43,
          40.94,
          45.32,
          46.46,
          33.76,
          45.24,
          25.35,
          37.46,
          31.91,
          35.46,
          43.9,
          44.13,
          26.28,
          36.23,
          26.7,
          23.67,
          34.98,
          37.46,
          27.47,
          32.1,
          40.99,
          37.8,
          47.87,
          47.45,
          32.29,
          43.47,
          39.61,
          37.8,
          23.67,
          37.28,
          34.47,
          37.19,
          39.61,
          39.86,
          23.01,
          25.83,
          48.75,
          21.46,
          47.72,
          45.35,
          26.28,
          38.2,
          49.46,
          46.21,
          24.83,
          28.49,
          23.67,
          39.55,
          27.47,
          27.83,
          31.72,
          25.35,
          33.46,
          24.83,
          25.83,
          36.23,
          31.51,
          24.83,
          45.29,
          42.62,
          33.91,
          48.21,
          27.83,
          41.59,
          41.1,
          24.83,
          46.96,
          45.73,
          29.38,
          33.91,
          48.47,
          36.33,
          24.83,
          30.16,
          47.18,
          50.7,
          42.06,
          41.45,
          40.28,
          54.97,
          34.6,
          41.1,
          29.09,
          24.28,
          48.34,
          32.29,
          47.07,
          38.8,
          44.33,
          41.1,
          39.86,
          32.1,
          34.47,
          29.09,
          27.83,
          36.02,
          37.72,
          30.16,
          34.86,
          38.87,
          24.83,
          46.53,
          25.83,
          26.28,
          40.56,
          40.33,
          40.73,
          31.72,
          24.83,
          37.63,
          38.12,
          36.12,
          37.63,
          34.05,
          29.09,
          37.8,
          21.46,
          43.83,
          40.45,
          40.62,
          28.49,
          27.47,
          33.46,
          42.74,
          34.19,
          39.08,
          40.33,
          39.42,
          52.87,
          30.16,
          49.27,
          35.1,
          44.58,
          38.87,
          26.7,
          49.05,
          33.15,
          44.52,
          38.58,
          44.98,
          34.33,
          27.83,
          42.78,
          49.03,
          23.67,
          24.83,
          43.72,
          25.83,
          42.36,
          25.35,
          26.7,
          47.51,
          22.28,
          43.25,
          34.19,
          36.73,
          24.28,
          28.17,
          33.91,
          44.68,
          23.67,
          31.51,
          42.32,
          36.33,
          44.95,
          47.2,
          44.07,
          45.7,
          47.49,
          59.39,
          35.1,
          29.38,
          38.12,
          26.28,
          36.23,
          26.28,
          43.79,
          25.83,
          31.72,
          33.91,
          32.81,
          23.67,
          24.28,
          27.47,
          48.54,
          34.47,
          29.38,
          29.09,
          28.8,
          41.64,
          36.92,
          27.83,
          43.93,
          37.88,
          38.51,
          36.92,
          42.14,
          28.17,
          23.67,
          43.76,
          39.15,
          24.83,
          27.47,
          38.28,
          31.51,
          33.91,
          47.31,
          43.47,
          27.47,
          49.1,
          43.36,
          37.46,
          37.96,
          40.94,
          31.31,
          57.19,
          36.53,
          39.15,
          39.86,
          45.04,
          52.75,
          31.91,
          41.5,
          42.82,
          39.48,
          40.89,
          44.36,
          29.38,
          46.48,
          42.28,
          25.35,
          33.31,
          39.08,
          51.34,
          36.63,
          49.73,
          43.06,
          28.8,
          49.6,
          32.98,
          29.65,
          28.8,
          45.04,
          46.89,
          25.83,
          23.01,
          27.09,
          23.01,
          31.91,
          41.87,
          25.35,
          29.09,
          23.01,
          29.09,
          36.53,
          30.64,
          32.1,
          32.81,
          29.09,
          45.68,
          32.81,
          31.91,
          35.1,
          33.46,
          28.49,
          33.91,
          22.28,
          23.67
         ],
         "y": [
          3,
          4.97,
          35,
          23.56,
          29.3,
          32.48,
          20.21,
          46.7,
          5.15,
          8.8,
          2.6,
          40.5,
          11.28,
          36.72,
          14.2,
          724,
          12.46,
          27.42,
          6.33,
          30.81,
          167.59,
          6.78,
          10.13,
          7.94,
          36.34,
          34.22,
          336.41,
          10.65,
          30.72,
          9.06,
          25.07,
          30.48,
          45.88,
          6.69,
          23.61,
          16.09,
          10.88,
          29.79,
          11.37,
          200.36,
          84.28,
          157.04,
          12.08,
          15.72,
          20.48,
          1731.63,
          212.64,
          158.33,
          24.6,
          23.76,
          102.66,
          3632.34,
          6.08,
          36.33,
          6.46,
          22.08,
          6.11,
          50.78,
          21.99,
          154.96,
          9.65,
          23.29,
          2.96,
          12.55,
          173.23,
          35.11,
          36.69,
          18.05,
          17.69,
          9.1,
          1502.51,
          26.45,
          12.92,
          5.37,
          2.73,
          95.69,
          66.5,
          76.68,
          17.29,
          55.05,
          4.84,
          10.57,
          43.84,
          8.56,
          98.77,
          3.01,
          7.8,
          34.88,
          17.49,
          187.22,
          5.05,
          32.79,
          29.74,
          457.69,
          16.11,
          33.36,
          62.44,
          74.45,
          100.38,
          177.12,
          28.43,
          31.83,
          4.47,
          4.07,
          9.3,
          3.8,
          5.64,
          15.2,
          3.01,
          203.16,
          12.37,
          26.72,
          124.77,
          75.42,
          10.59,
          20.73,
          111.99,
          136.84,
          2.82,
          11.82,
          12.81,
          3.72,
          272.56,
          34.88,
          55.83,
          11.42,
          692.85,
          368.23,
          2.43,
          91.38,
          14.55,
          3.49,
          21.08,
          6.41,
          1427.8,
          4.8,
          8.34,
          7.29,
          17.09,
          307.25,
          4.31,
          9.75,
          2.83,
          15.62,
          5.23,
          4.47,
          5.55,
          8.5,
          11.63,
          7.7,
          202.89,
          61.22,
          44.6,
          4.02,
          9.44,
          28.77,
          515.58,
          6.76,
          3.99,
          3.81,
          5.12,
          83.55,
          52.36,
          3.64,
          16.63,
          347.39,
          128.97,
          7.24,
          3.13,
          97.18,
          34.13,
          40.71,
          92.48,
          43.17,
          5.94,
          204.67,
          50.1,
          47.72,
          16.03,
          298.35,
          7.38,
          12.02,
          22.22,
          8.53,
          7,
          104.93,
          27.67,
          36.24,
          9.81,
          12.82,
          7.87,
          9.67,
          91.28,
          22.04,
          70,
          10.17,
          20.59,
          44.05,
          333.87,
          21.28,
          38.96,
          14.26,
          12.56,
          6.83,
          102.25,
          5.98,
          3.09,
          13.83,
          8.95,
          4.07,
          28.55,
          161.28,
          74.06,
          60.06,
          13.07,
          56.35,
          24.41,
          7.65,
          69.84,
          226.12,
          104.96,
          6.48,
          45.07,
          43.07,
          39.14,
          47.72,
          6.61,
          40.47,
          51.9,
          10.74,
          41.14,
          2.86,
          7.41,
          11.19,
          206.56,
          78.88,
          48.19,
          5.05,
          17.69,
          7.9,
          47.3,
          59.74,
          7.49,
          16.91,
          4.06,
          16.34,
          6.12,
          47.15,
          35.98,
          6.07,
          28.67,
          4.9,
          16.38,
          15.57,
          7.41,
          56.92,
          55.36,
          73.01,
          19.09,
          2076.45,
          102.3,
          42.28,
          77.96,
          9.29,
          11.44,
          7.5,
          24.71,
          91.3,
          64.49,
          78.88,
          11.49,
          121.13,
          13.12,
          10.24,
          25.28,
          11.56,
          17.28,
          6.77,
          14.25,
          179.09,
          24.33,
          7.85,
          41.24,
          21.02,
          116.5,
          128.03,
          72.64,
          17.69,
          22.6,
          6.38,
          14.23,
          4.77,
          10.68,
          41.67,
          12.28,
          213.33,
          46.71,
          16.26,
          45.75,
          14.63,
          7.14,
          11.72,
          5.04,
          3.98,
          6.57,
          12.66,
          4.87,
          94.28,
          15.35,
          203.56,
          10.25,
          11.12,
          35.09,
          82.95,
          12.46,
          24.57,
          4.97,
          61.4,
          38.5,
          213.93,
          83.67,
          10.29,
          397.26,
          13.16,
          33.78,
          5.11,
          35.07,
          103.14,
          34.22,
          11.88,
          211.67,
          3.64,
          12.84,
          8.26,
          26.21,
          22.86,
          4.45,
          73.33,
          7.83,
          7.53,
          45.76,
          4.55,
          38.71,
          11.95,
          80.92,
          22.31,
          4.54,
          192.21,
          10.64,
          54.71,
          55.91,
          24.19,
          103.79,
          29.87,
          21.72,
          32.54,
          4.39,
          13.35,
          30.79,
          14.16,
          13.33,
          6.41,
          15.85,
          18.1,
          8.51,
          94.21,
          27.5,
          9.56,
          10.96,
          6.48,
          5.58,
          10.23,
          43.06,
          18.37,
          13.2,
          7.21,
          3.91,
          2.18,
          6.79,
          33.32,
          20.25,
          64.53,
          48.44,
          6.08,
          61.85,
          141.01,
          6.55,
          6.29,
          6.39,
          54.22,
          92.34,
          4.82,
          33.57,
          47.1,
          35.8,
          129.9,
          122.01,
          31.84,
          64.88,
          50.77,
          33.64,
          3.49,
          7.7,
          11.48,
          18.17,
          14.13,
          86.54,
          143.53,
          30.48,
          130.08,
          4.65,
          5.52,
          95.74,
          102.87,
          76.21,
          24.08,
          8.54,
          161,
          40.65,
          53.58,
          152.65,
          89.62,
          116.43,
          4.61,
          12.88,
          444.13,
          76.7,
          44.4,
          134.95,
          227.63,
          49.39,
          37.01,
          47.1,
          27.29,
          203.41,
          154.98,
          19.92,
          11.88,
          32.83,
          19.96,
          18.97,
          18.38,
          63.51,
          170.5,
          5.22,
          12.04,
          193.45,
          6.84,
          8.33,
          26.9,
          6.41,
          3.5,
          6.47,
          59.64,
          42.83,
          28.67,
          18.54,
          6.09,
          19.43,
          85.26,
          23.49,
          6.95,
          12.2,
          5.79,
          30.35,
          17.82,
          59.36,
          6.14,
          59.63,
          3.67,
          123.04,
          3.08,
          33,
          29.16,
          41.13,
          8.6,
          27.3,
          29.63,
          5.96,
          6,
          3.73,
          3.16,
          15.8,
          5.08,
          65.56,
          118.94,
          146.58,
          83.86,
          27.8,
          80.86,
          23.81,
          8.03,
          190.86,
          5.79,
          92.28,
          27.56,
          81.13,
          35.88,
          5.66,
          7.11,
          97.71,
          24.89,
          51.23,
          4.21,
          314.48,
          6.24,
          134.69,
          5.45,
          6.42,
          7.24,
          3.11,
          78.23,
          2.29,
          34.69,
          61.13,
          39.19,
          107.17,
          1039.43,
          31.91,
          163.17,
          10.04,
          19.17,
          51.48,
          16.04,
          4.5,
          4.76,
          5.49,
          97.31,
          36.72,
          59.48,
          14.84,
          16.9,
          4.77,
          18.53,
          25.7,
          34.06,
          174.67,
          15.95,
          54.79,
          75.39,
          7.19,
          55.09,
          23.61,
          65.7,
          36.12,
          66.55,
          217.34,
          7.49,
          39,
          3.71,
          4.76,
          19.15,
          19.23,
          50.68,
          24.42,
          53.21,
          14.96,
          97.26,
          30.58,
          83.83,
          15.82,
          13.14,
          79.23,
          3.06,
          67.95,
          46.31,
          11.25,
          5.41,
          2.76,
          261.84,
          16.01,
          65.31,
          5.25,
          76.35,
          149.08,
          2.83,
          34.32,
          2.78,
          13.13,
          21.92,
          19.07,
          24.82,
          60.95,
          85.04,
          107.84,
          36.86,
          14.09,
          25.85,
          18.28,
          38.92,
          37.53,
          11.07,
          43.16,
          7.31,
          31.29,
          165.53,
          27.48,
          15.6,
          15.99,
          38.63,
          121.39,
          590.62,
          20.53,
          612.66,
          28.76,
          379.24,
          4.93,
          5.84,
          25.16,
          3.62,
          7.7,
          5.99,
          48.75,
          54.86,
          3.87,
          89.87,
          13.71,
          79.1,
          332.73,
          44.72,
          124.51,
          88.23,
          4.03,
          28.98,
          12.59,
          11.38,
          46.22,
          87.5,
          4.04,
          60.77,
          4.72,
          4.24,
          10.68,
          8.29,
          6.19,
          7.78,
          46.43,
          43.2,
          511.96,
          138.9,
          8.71,
          34.2,
          21.86,
          10.75,
          5.14,
          21.64,
          9.14,
          20.16,
          13.08,
          25.2,
          11.55,
          4.36,
          210.49,
          5.99,
          88.62,
          88.2,
          8.62,
          24.52,
          391.3,
          247.7,
          6.43,
          17.95,
          5.11,
          25.19,
          4.96,
          5.71,
          12.57,
          10.57,
          22.13,
          9.6,
          4.54,
          39.78,
          10.05,
          10.1,
          82.14,
          20.49,
          12.05,
          188.41,
          17.39,
          38.35,
          29.67,
          6.5,
          92.93,
          123.86,
          41.48,
          14.33,
          145.11,
          24.23,
          2.27,
          12.98,
          136.9,
          262.85,
          145.15,
          59.88,
          85.48,
          72.32,
          11.63,
          29.06,
          16.88,
          5.33,
          127.15,
          10.72,
          80.69,
          16.08,
          29.81,
          37.79,
          31.08,
          47.24,
          48.87,
          15.55,
          13.64,
          9.81,
          137.33,
          6.91,
          13.05,
          10.42,
          2.96,
          131.9,
          14.21,
          9.76,
          37.47,
          24.72,
          45.81,
          6.33,
          6.08,
          22.12,
          36.16,
          13.83,
          685,
          6.69,
          4.14,
          743.04,
          3.11,
          60.23,
          170.37,
          50.93,
          6.12,
          21.07,
          16.3,
          84.44,
          6.52,
          38.27,
          56.45,
          53.94,
          311.68,
          7.68,
          78.61,
          17.8,
          154.46,
          116.39,
          5.67,
          270.16,
          10.46,
          70.22,
          27.4,
          56.07,
          18.1,
          7.3,
          415.22,
          123.91,
          2.65,
          15.8,
          52.42,
          3.44,
          14.84,
          12.91,
          3.05,
          121.41,
          8.42,
          21.9,
          53.26,
          10.37,
          5.13,
          6.78,
          98.54,
          69.81,
          4,
          29.81,
          75.55,
          20.56,
          71.97,
          421.66,
          49.61,
          75.7,
          210.58,
          4037.11,
          24.38,
          4.64,
          16.75,
          4.63,
          25.92,
          35.01,
          705.58,
          5.24,
          6.59,
          16.28,
          6.93,
          6.51,
          21.87,
          4.73,
          152.61,
          13.53,
          7.13,
          5.24,
          5.95,
          20.39,
          31.56,
          3.42,
          98.06,
          28.36,
          47.14,
          20.91,
          14.34,
          24.63,
          4.15,
          77.14,
          44.65,
          4.65,
          27.14,
          37.38,
          18.66,
          10.03,
          142.33,
          34.74,
          13.9,
          113.87,
          25.98,
          31.39,
          34.12,
          56.09,
          10.83,
          1717.81,
          20.8,
          83.46,
          80.76,
          54.72,
          633.44,
          9.14,
          41.33,
          131.02,
          95.25,
          128.73,
          49.32,
          7.77,
          26.33,
          75.18,
          8.22,
          12.39,
          36.91,
          219.79,
          70.16,
          279.19,
          27.31,
          10.92,
          116.65,
          30.53,
          3.91,
          5.42,
          116.16,
          207.84,
          37.92,
          3.17,
          4.76,
          2.27,
          23.8,
          27.31,
          4.31,
          4,
          5.02,
          8.67,
          10.79,
          24.28,
          17.84,
          46.04,
          3.71,
          66.21,
          17.48,
          8.31,
          19.51,
          8.57,
          6.65,
          14.87,
          3.36,
          2.64
         ]
        },
        {
         "marker": {
          "opacity": 0.2
         },
         "mode": "markers",
         "name": "Subconjunto com atividade moderada de raios",
         "type": "scatter",
         "x": [
          52.58,
          50.22,
          47.55,
          32.47,
          46.76,
          49.15,
          52.34,
          43.29,
          48.18,
          49.69,
          38.2,
          51.73,
          50.11,
          50.26,
          46.26,
          47.89,
          47.75,
          50.01,
          47.62,
          32.1,
          45.01,
          44.36,
          49,
          47.62,
          25.35,
          48.12,
          49.81,
          49.49,
          49.79,
          51.85,
          47.91,
          40.89,
          49.21,
          48.01,
          42.06,
          36.73,
          39.8,
          45.65,
          35.91,
          38.51,
          52.31,
          47.47,
          49.72,
          50.43,
          48.68,
          50.3,
          49.69,
          28.49,
          40.1,
          36.02,
          45.76,
          32.64,
          30.64,
          50.55,
          53.45,
          51.26,
          23.01,
          56.63,
          51.04,
          44.61,
          49.37,
          49.38,
          47.51,
          44.52,
          47.95,
          25.83,
          47.05,
          47.41,
          49.31,
          38.12,
          51.72,
          50.36,
          52.72,
          46.53,
          51.67,
          48.25,
          47.37,
          50.11,
          48.68,
          49.21,
          51.34,
          38.58,
          28.8,
          33.46,
          41.69,
          51.6,
          29.09,
          45.46,
          39.28,
          51.25,
          26.7,
          52.72,
          32.47,
          36.82,
          40.56,
          49.9,
          51.48,
          40.16,
          51.65,
          39.08,
          48.49,
          49.45,
          49.82,
          32.47,
          53.43,
          37.01,
          46.01,
          47.7,
          29.38,
          45.51,
          53.73,
          50.97,
          48.68,
          46.71,
          53.42,
          51.24,
          49.97,
          38.58,
          33.91,
          37.55,
          39.15,
          39.74,
          31.91,
          33.76,
          50.75,
          27.09,
          36.43,
          21.46,
          50.55,
          51.65,
          47.75,
          44.86,
          26.28,
          48.64,
          53.77,
          28.17,
          48.54,
          53.2,
          26.7,
          51.34,
          35.1,
          45.43,
          54.07,
          50.44,
          50.39,
          44.83,
          34.05,
          42.9,
          49.73,
          44.68,
          41.35,
          49.98,
          41.87,
          49.1,
          23.67,
          50.17,
          27.83,
          35.8,
          54.91,
          50.57,
          43.9,
          46.67,
          38.87,
          37.63,
          47.22,
          39.15,
          47.72,
          48.29,
          32.29,
          48.98,
          39.48,
          49.46,
          51.88,
          45.99,
          51.33,
          48.87,
          50.91,
          48.18,
          50.12,
          47.7,
          38.12,
          42.7,
          51.89,
          32.98,
          31.91,
          53.86,
          26.7,
          50.11,
          50.3,
          48.14,
          54.03,
          36.02,
          42.53,
          44,
          45.65,
          53.41,
          44.74,
          43.93,
          32.98,
          44.89,
          36.12,
          22.28,
          40.22,
          45.43,
          42.57,
          47.14,
          51.81,
          50.24,
          34.86,
          43.86,
          34.19,
          46.78,
          38.58,
          44.89,
          50.22,
          51.28,
          33.76,
          49.43,
          45.62,
          52.39,
          47.85,
          52.11,
          32.47,
          41.73,
          50,
          31.72,
          42.19,
          46.06,
          42.7,
          36.23,
          49.87,
          33.15,
          48.18,
          38.94,
          30.64,
          43.02,
          49.18,
          29.65,
          49.49,
          49,
          45.68,
          49.32,
          38.8,
          34.73,
          37.8,
          43.36,
          33.76,
          41.92,
          38.28,
          48.34,
          54.44,
          41.83,
          46.12,
          28.17,
          49.43,
          37.88,
          27.09,
          47.87,
          44.8,
          50.49,
          52.53,
          48.52,
          48.32,
          47.79,
          51.43,
          51.4,
          27.47,
          42.1,
          51.58,
          35.58,
          34.05,
          28.8,
          49.72,
          51.26,
          37.28,
          44.33,
          46.46,
          27.83,
          49.45,
          38.87,
          46.53,
          51.39,
          48.04,
          48.23,
          56.11,
          41.87,
          50.89,
          40.1,
          49.84,
          44.92,
          29.65,
          49.57,
          46.31,
          49.05,
          50.12,
          41.4,
          44,
          52.25,
          44.33,
          43.02,
          44.83,
          48.9,
          50.78,
          53.27,
          42.7,
          49.21,
          49.05,
          50.47,
          37.19,
          36.02,
          45.46,
          50.28,
          47.91,
          43.4,
          43.76,
          42.19,
          47.93,
          32.1,
          50.17,
          49.97,
          47.49,
          44.36,
          49.31,
          53.16,
          51.38,
          33.76,
          52.41,
          46.26,
          49.69,
          33.31,
          48.56,
          29.09,
          46.46,
          52.14,
          47.24,
          44.98,
          49.91,
          42.82,
          49.23,
          55.08,
          32.29,
          50.83,
          46.89,
          50.89,
          44.86,
          46.31,
          50.35,
          39.42,
          28.17,
          40.45,
          48.7,
          32.47,
          39.61,
          50.14,
          51.7,
          49.37,
          52.79,
          41.25,
          50.75,
          40.22,
          50.53,
          50.24,
          50.14,
          50.21,
          47.09,
          47.93,
          49.69,
          50.98,
          50.03,
          44.17,
          45.18,
          32.47,
          47.47,
          46.53,
          44,
          43.62,
          52.58,
          45.35,
          41.78,
          52.44,
          28.49,
          39.74,
          45.01,
          29.09,
          41.59,
          39.8,
          48.49,
          53.07,
          44.92,
          44.43,
          24.28,
          53.33,
          49.31,
          53.5,
          46.69,
          54.22,
          51.03,
          41.73,
          48.14,
          46.41,
          37.37,
          35.34,
          38.04,
          37.28,
          50.78,
          38.12,
          48.21,
          30.64,
          50.72,
          52.33,
          49.38,
          41.78,
          50.47,
          30.87,
          51.4,
          48.98,
          47.74,
          44.71,
          30.16,
          47.33,
          35.58,
          52.66,
          45.83,
          25.83,
          46.34,
          51.81,
          36.23,
          31.51,
          45.51,
          47.24,
          47.2,
          49.05,
          50.61,
          46.85,
          41.97,
          47.18,
          47.14,
          26.28,
          52.91,
          44,
          45.81,
          49.87,
          49.06,
          40.67,
          46.89,
          45.15,
          41.15,
          48.64,
          47.16,
          46.24,
          36.33,
          50.55,
          52.53,
          39.74,
          39.48,
          51.23,
          37.01,
          41.3,
          49.45,
          52.51,
          33.91,
          49.9,
          50.26,
          51.23,
          50.94,
          46.12,
          27.47,
          50.48,
          41.15,
          34.47,
          51.36,
          47.75,
          54.7,
          49.05,
          41.69,
          32.81,
          54,
          43.79,
          43.72,
          46.29,
          47.31,
          50.96,
          49.23,
          48.23,
          38.35,
          48.57,
          35.91,
          36.53,
          53.12,
          43.36,
          40.16,
          42.7,
          51.39,
          49.31,
          47.49,
          47.41,
          51.53,
          47.7,
          43.79,
          39.22,
          50.96,
          26.28,
          46.09,
          40.89,
          50.01,
          47.01,
          48.4,
          36.53,
          48.23,
          41.35,
          49.15,
          49.92,
          22.28,
          48.03,
          44.8,
          45.99,
          46.29,
          25.83,
          32.64,
          42.19,
          48.31,
          23.67,
          48.9,
          38.35,
          51.2,
          48.7,
          50.6,
          52.15,
          48.88,
          50.49,
          38.04,
          51.13,
          41.2,
          51.91,
          25.35,
          34.19,
          48.52,
          50.37,
          43.13,
          42.78,
          50.94,
          50.33,
          43.9,
          37.19,
          28.8,
          53.85,
          52.64,
          36.63,
          47.7,
          47.99,
          37.37,
          48.71,
          48.88,
          49.58,
          39.22,
          47.49,
          53.19,
          48.7,
          48.27,
          48.61,
          33.61,
          44.2,
          47.37,
          49.06,
          51.8,
          46.29,
          49.31,
          47.83,
          46.89,
          50.37,
          46.38,
          24.28,
          46.09,
          52.34,
          36.73,
          50.3,
          52.22,
          44.33,
          51.62,
          33.91,
          27.09,
          47.41,
          51.01,
          50.24,
          46.36,
          50.4,
          48.25,
          24.28,
          40.39,
          34.86,
          43.4,
          52.05,
          41.4,
          31.91,
          50.14,
          48.1,
          36.23,
          46.78,
          34.47,
          50.47,
          29.65,
          41.04,
          46.53,
          51.7,
          36.12,
          45.51,
          52.61,
          54.36,
          51.18,
          52.21,
          47.93,
          51.14,
          48.98,
          33.76,
          49.31,
          46.34,
          45.01,
          50.45,
          47.43,
          39.28,
          39.98,
          52.81,
          45.81,
          47.75,
          53.47,
          33.76,
          54.6,
          39.42,
          41.97,
          51.7,
          45.15,
          33.31,
          45.7,
          50.53,
          48.01,
          42.7,
          52.48,
          40.04,
          49.57,
          43.09,
          49.11,
          50.78,
          49.82,
          38.51,
          50.77,
          51.67,
          42.66,
          51.67,
          50.94,
          48.14,
          49.03,
          44.1,
          31.31,
          46.87,
          48.36,
          33.76,
          51.07,
          35.1,
          41.35,
          47.95,
          45.43,
          49.32,
          50.88,
          50.6,
          39.55,
          51.01,
          49.31,
          45.29,
          49.38,
          52.33,
          52.27,
          53.28,
          49.6,
          46.92,
          51.04,
          45.57,
          48.83,
          44.39,
          50.96,
          27.09,
          45.38,
          38.58,
          52,
          39.42,
          40.45,
          44.33,
          32.98,
          32.81,
          52.06,
          35.8,
          51.8,
          41.54,
          50.65,
          49.26,
          27.83,
          49.45,
          47.09,
          30.64,
          46.24,
          48.81,
          48.04,
          46.31,
          39.98,
          49.06,
          32.98,
          50.89,
          47.33,
          48.08,
          49.38,
          48.32,
          47.01,
          52.5,
          49.31,
          36.33,
          49.32,
          30.64,
          51.08,
          27.83,
          45.21,
          29.65,
          51.78,
          54.67,
          48.5,
          52.36,
          46.43,
          29.91,
          48.49,
          45.41,
          40.1,
          28.17,
          50.75,
          46.98,
          35.1,
          37.37,
          50.52,
          33.61,
          50.55,
          48.56,
          47.33,
          46.14,
          50.79,
          51.03,
          52.37,
          49.43,
          50.03,
          49.34,
          44.46,
          46.43,
          27.83,
          37.55,
          51.98,
          43.83,
          41.15,
          52.61,
          34.05,
          34.98,
          54.73,
          37.96,
          42.36,
          49.66,
          41.2,
          52.96,
          52.36,
          47.72,
          48.52,
          55.28,
          46.64,
          46.16,
          44.55,
          31.51,
          48.32,
          32.29,
          31.09,
          47.66,
          40.45,
          49.82,
          42.36,
          45.49,
          29.91,
          53.16,
          52.08,
          50.86,
          50.73,
          48.03,
          50.3,
          39.86,
          46.83,
          51.45,
          45.43,
          52.37,
          48.78,
          51.18,
          49.31,
          33.46,
          52.42,
          38.51,
          52.48,
          42.66,
          50.52,
          40.1,
          49.1,
          53.69,
          28.49,
          30.64,
          41.4,
          51.26,
          47.81,
          41.25,
          48.12,
          38.8,
          48.12,
          37.1,
          50.11,
          44.65,
          34.05,
          37.63,
          46.92,
          41.2,
          53.42,
          46.06,
          51.83,
          46.55,
          40.51,
          42.78,
          48.49,
          43.25,
          33.91,
          49.67,
          45.09,
          50.72,
          52.61,
          44.65,
          42.57,
          44.74,
          49.88,
          44,
          51.67,
          49.87,
          52.21,
          40.22,
          32.81,
          46.83,
          46.98,
          37.72,
          50.53,
          38.73,
          52.91,
          53.16,
          45.65,
          50,
          45.78,
          51.09,
          46.74,
          47.62,
          33.15,
          48.71,
          47.81,
          42.62,
          47.75,
          48.97,
          50.82,
          40.51,
          46.69,
          32.98,
          49.05,
          47.75,
          50.43,
          40.39,
          50.64,
          50.98,
          47.77,
          48.41,
          41.15,
          49.6,
          50.91,
          39.98,
          50.08,
          51.95,
          50.69,
          50.84,
          41.83,
          29.65,
          33.46,
          45.49
         ],
         "y": [
          573.02,
          1131.59,
          63.36,
          9.41,
          301.02,
          240.99,
          345.57,
          158.66,
          139.67,
          156.25,
          52.77,
          674.33,
          587.26,
          431.25,
          571.89,
          243.63,
          61.65,
          253.05,
          375.65,
          15.25,
          89.81,
          45.87,
          894.5,
          181.25,
          20.75,
          285.73,
          292.96,
          553.28,
          177.78,
          438.11,
          277.93,
          90.96,
          497.32,
          719.14,
          25.35,
          22.07,
          36.06,
          260.17,
          27.65,
          13.77,
          267.74,
          462.91,
          509.71,
          362.07,
          308.23,
          190.39,
          252.34,
          19.14,
          27,
          80.21,
          60.59,
          33.44,
          40.21,
          328.13,
          419.48,
          324.9,
          5.11,
          439.52,
          337.14,
          23.6,
          331.05,
          76.5,
          366.89,
          23.44,
          266.28,
          3.42,
          83.69,
          199.91,
          145.48,
          19.62,
          292.78,
          522.42,
          185.2,
          139.51,
          535.33,
          690.31,
          140.89,
          466.06,
          371.81,
          952.53,
          1067.26,
          69.34,
          9.97,
          16.15,
          76.57,
          308.78,
          29.51,
          100.76,
          23.72,
          545.18,
          6.21,
          1764.2,
          7.73,
          1302.05,
          17.94,
          462.15,
          253.9,
          168.45,
          509.38,
          44.4,
          346.05,
          495.44,
          95.83,
          10.93,
          810.72,
          13.54,
          201.21,
          140.96,
          13.01,
          163.52,
          278.33,
          277.54,
          190.11,
          169.8,
          652.12,
          922.96,
          383.56,
          44.83,
          14.42,
          17.2,
          62.9,
          34.75,
          65.99,
          8.61,
          273.11,
          8.02,
          8.06,
          3.8,
          422.11,
          280.33,
          383.29,
          130.19,
          6.61,
          327.93,
          297.11,
          34.74,
          60.57,
          606.8,
          3.88,
          152.35,
          60.76,
          191.8,
          600.26,
          682.25,
          449.98,
          53.06,
          15.74,
          38.27,
          218.33,
          169.23,
          93.65,
          260.73,
          23.47,
          426.58,
          2.98,
          320.49,
          4.13,
          16.66,
          894.47,
          1965.01,
          2915,
          48.77,
          93.47,
          15.77,
          242.69,
          31,
          159.73,
          1982.74,
          23.7,
          190.06,
          46.67,
          139.36,
          501.49,
          479.92,
          332.23,
          329.4,
          957.74,
          629.26,
          298.16,
          362.59,
          51.35,
          72.83,
          356.64,
          16.53,
          7.34,
          532.09,
          46.31,
          277.17,
          405.02,
          117.5,
          925.09,
          71.51,
          83.82,
          46.15,
          214.48,
          933.02,
          144.98,
          41.2,
          18.7,
          87.71,
          13.95,
          10.28,
          107.64,
          98.57,
          72.29,
          132.67,
          802.04,
          152.44,
          40.67,
          55.9,
          34.45,
          90.74,
          114.03,
          268.69,
          1723.31,
          448.32,
          10.1,
          458.56,
          359.3,
          1302.83,
          193.53,
          389.17,
          33.74,
          2714.37,
          146.62,
          8.6,
          88.45,
          87.94,
          193.46,
          167.01,
          460.79,
          34.71,
          304.1,
          62.4,
          128.63,
          33.11,
          217.48,
          10.09,
          445.75,
          298.42,
          57.84,
          1100.28,
          28.99,
          19.53,
          13.71,
          159.8,
          21.56,
          23.08,
          75.76,
          251.79,
          703.36,
          42.88,
          161.5,
          25.48,
          529.84,
          21.09,
          16.65,
          351.68,
          214.01,
          165.82,
          181.44,
          180.66,
          479.93,
          287.8,
          652.24,
          392.56,
          8.65,
          67.56,
          379.69,
          18.43,
          10.37,
          46.69,
          371.58,
          194.21,
          83.72,
          136.23,
          611.42,
          5.35,
          810.78,
          32.05,
          166.74,
          242.19,
          188.93,
          668.32,
          328.3,
          166.4,
          217.1,
          48.17,
          366.07,
          403.28,
          21.64,
          77.52,
          279.03,
          48.76,
          412.59,
          78.42,
          191.35,
          455.06,
          132.44,
          298.73,
          163.13,
          152.09,
          316.26,
          445.66,
          120.02,
          252.47,
          327.67,
          503.16,
          90.2,
          888.22,
          161,
          562.54,
          259.28,
          583.56,
          216.57,
          40.25,
          157.36,
          32.66,
          229.24,
          670.48,
          163.61,
          79.79,
          144.84,
          1597.17,
          457.43,
          13.59,
          557.58,
          257.56,
          446.44,
          8.43,
          106.85,
          37.85,
          136.57,
          1056.05,
          46.47,
          130.01,
          180.67,
          27.48,
          76.67,
          340.62,
          7.41,
          352.61,
          190.79,
          180.1,
          47.52,
          327.58,
          292.23,
          118.91,
          4.49,
          46.76,
          137.94,
          10.21,
          20.9,
          7758.92,
          366.67,
          247.26,
          501.93,
          54.22,
          802.89,
          28.04,
          436.53,
          7820.24,
          246.54,
          882.41,
          358.31,
          89.84,
          344.91,
          134.45,
          416.34,
          117.32,
          213.67,
          402.28,
          131.29,
          169.97,
          2477.84,
          62.28,
          225.23,
          101.67,
          145.3,
          269.02,
          43.26,
          105.42,
          155.94,
          4.72,
          119.13,
          41.55,
          412.11,
          741.23,
          32.67,
          69.25,
          4.38,
          389.8,
          405.01,
          437.21,
          79.79,
          968.31,
          434.25,
          145.95,
          348.91,
          64.06,
          30.85,
          21.63,
          1063.24,
          29.35,
          314.79,
          57,
          121.35,
          351.92,
          446.7,
          990.92,
          155.28,
          36.81,
          428.37,
          21.17,
          1050.62,
          172.88,
          192.22,
          43.69,
          58.68,
          70.07,
          36.28,
          176.27,
          177.92,
          36.37,
          57.04,
          115.18,
          37.84,
          9.75,
          116.29,
          365.38,
          73.86,
          483.9,
          415.7,
          357.89,
          273.69,
          77.1,
          1381.91,
          14.08,
          1744.54,
          347.6,
          71.83,
          266.91,
          587.83,
          198.92,
          59.76,
          74.5,
          40.83,
          198.39,
          273.88,
          114.64,
          125.07,
          888.62,
          541.34,
          2380.22,
          207.45,
          833.79,
          32.32,
          24.65,
          234.35,
          1421.84,
          24.62,
          594.49,
          555.57,
          264.83,
          457.61,
          151.47,
          32.52,
          689.76,
          66.6,
          64.4,
          500.38,
          62.47,
          281.81,
          532.51,
          31.67,
          333.58,
          525.01,
          176.26,
          84.51,
          333.66,
          424.88,
          238.56,
          86.28,
          150.91,
          72.28,
          763.97,
          32.77,
          54.25,
          459.77,
          403.7,
          126.68,
          95.11,
          2328.9,
          151.17,
          200.32,
          608.73,
          922.13,
          105.82,
          345.32,
          31.63,
          393.96,
          4.4,
          74.88,
          1148.91,
          192.31,
          376.55,
          255.59,
          25.69,
          642.98,
          117.46,
          593.46,
          221.86,
          9.97,
          206.63,
          198.65,
          256.46,
          588.4,
          60.8,
          12.07,
          62.37,
          270.41,
          5.21,
          526.01,
          27.86,
          444.19,
          242.33,
          571.77,
          537.26,
          415,
          746.5,
          40.88,
          459.34,
          107.56,
          211.83,
          5.81,
          14.44,
          1416.35,
          364.18,
          131.47,
          75.4,
          446.48,
          269.88,
          55.38,
          14.97,
          8.7,
          858.55,
          539.58,
          81.77,
          349.91,
          364.03,
          666.72,
          357.2,
          266.4,
          195.94,
          52.35,
          340.01,
          522.59,
          367.06,
          347.46,
          878.09,
          23.16,
          134.9,
          420.42,
          261.29,
          365.58,
          487.55,
          877.21,
          234.13,
          264.99,
          449.52,
          120.45,
          2.86,
          57.68,
          475.64,
          29.15,
          669.89,
          196.56,
          207.06,
          195.21,
          24.87,
          4.67,
          102.13,
          667.27,
          938.04,
          57.25,
          298.97,
          191.21,
          12.41,
          31.12,
          125.86,
          318.21,
          353.02,
          2165.26,
          23.59,
          241.55,
          269.47,
          59.21,
          395.67,
          11.72,
          545.68,
          69.76,
          35.9,
          111.75,
          446.68,
          27.34,
          101.91,
          255.78,
          180.42,
          506.95,
          1364.93,
          649.92,
          186.13,
          145.15,
          17.04,
          418.67,
          54.05,
          85.04,
          207.48,
          156.4,
          66.69,
          777.09,
          1069.91,
          127.06,
          164.73,
          305.18,
          8.97,
          605.62,
          41.23,
          120.7,
          313.45,
          255.54,
          43.93,
          353.82,
          342.63,
          591.3,
          133.52,
          393.71,
          56.98,
          454.04,
          67.43,
          113.24,
          365.48,
          85.68,
          1657.49,
          576.54,
          1785.93,
          73.19,
          697.96,
          488.59,
          133.06,
          359.21,
          77.33,
          10.83,
          53.44,
          266.47,
          10.23,
          900.51,
          14.6,
          82.75,
          78.62,
          235.95,
          184.48,
          246.91,
          179.9,
          35.1,
          419.57,
          384.14,
          29.54,
          982.45,
          577.58,
          794.65,
          311.94,
          140.38,
          121.3,
          329.76,
          217.41,
          221.81,
          46.92,
          1474.77,
          3.79,
          418.78,
          30.64,
          392.29,
          69.79,
          32.63,
          57.36,
          8.94,
          20.49,
          653.51,
          14.54,
          316.84,
          75.74,
          202.41,
          396.62,
          5.94,
          1168.29,
          224.62,
          35.9,
          82.92,
          436.88,
          161.31,
          136.88,
          55.51,
          112.25,
          9.58,
          470.03,
          206.01,
          134.51,
          721.77,
          65.87,
          58.33,
          319.48,
          244.64,
          17.44,
          306.57,
          15.41,
          993.7,
          12.01,
          125.84,
          9.61,
          276.89,
          976.79,
          124.47,
          629.42,
          180.14,
          11.52,
          286.38,
          428.62,
          24.65,
          28.05,
          495.02,
          328.52,
          18.73,
          31.17,
          191.01,
          677.79,
          278.69,
          254.82,
          157.25,
          490.16,
          954.12,
          265.72,
          567.29,
          150.57,
          254.65,
          270.55,
          139.32,
          165.59,
          5.96,
          79.69,
          424.6,
          158.33,
          29.86,
          369.82,
          7.47,
          15.99,
          855.13,
          35.42,
          136.75,
          430.18,
          24.2,
          660.72,
          560.57,
          1450.08,
          226.51,
          309.66,
          158.94,
          236.72,
          42.99,
          8.85,
          456.9,
          10.96,
          41.28,
          58.96,
          28.24,
          499.16,
          35.56,
          85.45,
          19.37,
          473.83,
          365.25,
          404.22,
          924.99,
          437.1,
          277.55,
          514.43,
          82.32,
          495.94,
          127.6,
          131.53,
          529.64,
          348.13,
          90.5,
          125.85,
          155.83,
          52.66,
          424.84,
          143.19,
          376.99,
          26.75,
          430.62,
          646.15,
          31.57,
          52.81,
          27.67,
          164.08,
          377.27,
          56.74,
          141.54,
          73.75,
          193.76,
          36.16,
          656.25,
          125.7,
          31.31,
          23.34,
          138.6,
          80.6,
          495.4,
          136.06,
          157.43,
          170.53,
          120.03,
          29.23,
          114.77,
          93.37,
          38.99,
          204.12,
          135.47,
          450.34,
          805.46,
          290.75,
          91.12,
          133.2,
          171.83,
          92.26,
          1668.63,
          419.39,
          353.6,
          35.03,
          7.33,
          109.22,
          267.3,
          65.42,
          263.32,
          155.63,
          379.61,
          617.74,
          748.87,
          218.56,
          203.79,
          401.67,
          308.02,
          87,
          88.2,
          206.71,
          108.75,
          201.76,
          198.98,
          210.09,
          469.57,
          55.43,
          189.53,
          15.58,
          401.01,
          151.84,
          138.97,
          45.56,
          514.54,
          284.41,
          80.32,
          349.52,
          17,
          426.6,
          279.15,
          89.99,
          305.19,
          400.52,
          220.7,
          633.75,
          117.77,
          27,
          22.82,
          110.87
         ]
        },
        {
         "marker": {
          "line": {
           "color": "yellow",
           "width": 1
          },
          "opacity": 0.2
         },
         "mode": "markers",
         "name": "Subconjunto com atividade extrema de raios",
         "type": "scatter",
         "x": [
          53.42,
          50.96,
          50.84,
          47.24,
          36.73,
          52.79,
          46.41,
          51.92,
          53.56,
          51.19,
          52.34,
          47.51,
          51.07,
          52.89,
          34.86,
          49.87,
          51.09,
          47.14,
          53.87,
          52.33,
          52.86,
          53.82,
          51.53,
          54.34,
          55.33,
          46.38,
          53.86,
          53.39,
          49.66,
          44.77,
          49.27,
          49.61,
          52.14,
          55.5,
          51.74,
          47.05,
          53.39,
          55.55,
          50.55,
          50.83,
          50.89,
          33.61,
          49.37,
          52.92,
          55.07,
          55.25,
          51.65,
          55.36,
          50.96,
          54.6,
          51.78,
          52.79,
          52.87,
          52.05,
          46.06,
          52.94,
          52.42,
          49.23,
          52.14,
          51.64,
          55.08,
          49.61,
          55.3,
          49.54,
          52.51,
          53.94,
          50.6,
          52.56,
          53.33,
          52.36,
          53.03,
          49.34,
          52.59,
          51.53,
          50.83,
          49.6,
          53.08,
          48.5,
          48.32,
          51.97,
          51.08,
          54.72,
          54.95,
          54.65,
          52.09,
          46.78,
          52.84,
          51.33,
          46.94,
          48.47,
          50.55,
          54.69,
          53.19,
          53,
          53.12,
          50.94,
          52.79,
          55.87,
          51.84,
          50.01,
          51.14,
          47.72,
          52.37,
          50.49,
          50.89,
          55.34,
          51.8,
          48.73,
          52.34,
          54.89,
          49.79,
          52.28,
          39.42,
          55.53,
          54.69,
          53.43,
          44.55,
          44,
          30.41,
          51.28,
          49.46,
          57,
          53.73,
          52.5,
          53,
          51.56,
          48.01,
          53.82,
          48.36,
          49.23,
          52.15,
          50.12,
          49.32,
          47.58,
          53.58,
          51.48,
          54.95,
          51.98,
          52.06,
          52.02,
          52.33,
          54.15,
          41.4,
          47.79,
          50.3,
          43.93,
          49.4,
          51.31,
          52.31,
          52.44,
          50.57,
          51.95,
          50.1,
          53.92,
          48.43,
          54.39,
          50.61,
          52.55,
          54.53,
          51.78,
          50.03,
          52.61,
          46.85,
          49.69,
          52.98,
          51.77,
          49.6,
          53.77,
          53.35,
          54.83,
          34.6,
          51.95,
          51.13,
          53.28,
          53.53,
          52.24,
          54.07,
          42.53,
          26.28,
          50.39,
          49.94,
          50.33,
          52.34,
          54.67,
          51.52,
          55.77,
          54.17,
          50.72,
          59.95,
          53.66,
          48.31,
          50.57,
          52.64,
          52.91,
          43.43,
          50.36,
          52.09,
          52.75,
          53.77,
          54.11,
          38.65,
          51.7,
          54.42,
          53.5,
          54.36,
          52.15,
          45.68,
          49.88,
          46.6,
          47.11,
          53.69,
          51.97,
          54.26,
          52.87,
          53.37,
          45.54,
          51.69,
          55.53,
          51.94,
          53.47,
          54.38,
          49.4,
          54.67,
          51.84,
          54.72,
          54.89,
          51.07,
          57.44,
          54.7,
          54.97,
          53.33,
          42.82,
          52.45,
          49.19,
          50.65,
          45.91,
          53.99,
          56.78,
          50.1,
          48.34,
          55.39,
          50.91,
          41.04,
          51.04,
          48.49,
          49.15,
          52.15,
          52.19,
          53.25,
          53.02,
          51.85,
          51.91,
          52.51,
          51.08,
          52.44,
          49.78,
          53.5,
          47.83,
          53.64,
          53.8,
          42.66,
          51.45,
          48.64,
          48.75,
          53.53,
          37.28,
          52.19,
          51.09,
          53.62,
          53.18,
          53.31,
          52.62,
          51.77,
          53.92,
          49.92,
          51.15,
          50.22,
          51.78,
          56.05,
          51.1,
          51.74,
          54.05,
          52.59,
          54.65,
          55.13,
          53.11,
          52.09,
          52.47,
          54.34,
          50.4,
          51.15,
          49.81,
          53.53,
          48.87,
          52.11,
          54.23,
          51.78,
          52.96,
          51.1,
          54.65,
          54.51,
          51.7,
          41.5,
          55.07,
          51.5,
          52.77,
          51.31,
          28.17,
          55.41,
          50.1,
          51.78,
          47.29,
          46.21,
          49.95,
          52.84,
          54.41,
          53.35,
          55.33,
          34.05,
          55.7,
          53.62,
          52.03,
          53.28,
          52.27,
          50.05,
          52.62,
          54.09,
          50.12,
          52.12,
          53.91,
          51.01,
          31.31,
          47.24,
          55.81,
          51.84,
          54.91,
          53.66,
          51.48,
          52.25,
          51.94,
          52.51,
          52.64,
          51.3,
          48.83,
          53.35,
          51.09,
          45.91,
          49.4,
          50.07,
          53.85,
          53.25,
          51.01,
          49.9,
          52.02,
          50.22,
          52.96,
          54.57,
          42.36,
          52.69,
          52.42,
          51.55,
          37.28,
          49.64,
          51.85,
          54.75,
          56.08,
          52.5,
          52.03,
          53.49,
          54.03,
          49.32,
          52.37,
          42.78,
          53.2,
          53.27,
          52.28,
          53.75,
          53.5,
          55.07,
          53.49,
          54.17,
          48.43,
          52.74,
          48.81,
          50.25,
          43.36,
          54.69,
          41.25,
          50.78,
          51.8,
          51.73,
          50.73,
          54.65,
          53.35,
          48.98,
          55.26,
          53.62,
          29.38,
          51.36,
          50.19,
          40.28,
          48.83,
          55.02,
          48.93,
          53.55,
          47.64,
          50.11,
          51.39,
          54.31,
          52.67,
          53.53,
          45.68,
          52.24,
          50.86,
          36.92,
          50.83,
          55.17,
          51.01,
          52.15,
          53.09,
          53.19,
          51.2,
          49.49,
          55.43,
          52.27,
          31.51,
          54.65,
          53.43,
          53.37,
          50.19,
          54.57,
          44.33,
          54.7,
          51.83,
          56.17,
          55,
          37.88,
          51.34,
          50.33,
          51.69,
          52.61,
          51.84,
          39.35,
          50.52,
          40.28,
          53.73,
          44.43,
          53.39,
          50.37,
          54.11,
          51.92,
          54.45,
          55.11,
          53,
          47.16,
          50.4,
          53.94,
          55.51,
          53.2,
          48.9,
          51.08,
          47.7,
          48.68,
          47.93,
          52.96,
          49.79,
          53.52,
          41.3,
          49.38,
          41.97,
          43.21,
          54.09,
          48.1,
          52.53,
          49.79,
          52.81,
          49.32,
          49.82,
          54.06,
          54.36,
          51.6,
          51.18,
          51.83,
          53.64,
          54.18,
          51.26,
          54.34,
          50.68,
          54.57,
          52.75,
          46.55,
          56.91,
          54.75,
          54.55,
          57.19,
          50.77,
          53.08,
          50.35,
          54.91,
          54.51,
          52.22,
          41.3,
          53.22,
          32.1,
          52.51,
          47.22,
          50.15,
          53.78,
          53.19,
          52.72,
          48.36,
          52.67,
          49.11,
          49.72,
          54.62,
          52.83,
          47.14,
          53.69,
          54.88,
          50.07,
          52.39,
          42.82,
          52.48,
          50.4,
          48.64,
          52.31,
          54.34,
          53.85,
          55.17,
          55.25,
          45.96,
          53.22,
          54.51,
          53.62,
          44.92,
          52.24,
          50.91,
          51.2,
          52.21,
          50.08,
          41.4,
          50.72,
          51.84,
          49.95,
          51.36,
          53.97,
          53.62,
          47.75,
          54,
          52.25,
          52,
          54.14,
          52.28,
          52.55,
          47.33,
          49.35,
          54.73,
          51.18,
          47.16,
          51.31,
          51.8,
          50.44,
          55,
          51.84,
          51.18,
          53.85,
          56.29,
          55,
          53.25,
          53.35,
          53.73,
          50.84,
          52.21,
          48.5,
          55.99,
          52.41,
          51.98,
          55.64,
          50,
          52.89,
          51.03,
          49.61,
          56.25,
          53.03,
          50.53,
          51.58,
          53.33,
          50.11,
          50.91,
          50.73,
          49.79,
          53.18,
          51.74,
          54.06,
          48.12,
          50.68,
          44.33,
          34.19,
          52.24,
          49.54,
          54.7,
          52.06,
          53.72,
          51.69,
          54.83,
          50.88,
          53.5,
          55.86,
          50.05,
          51.81,
          53.28,
          51.58,
          49.95,
          51.58,
          49.34,
          61.31,
          48.45,
          52.91,
          53.55,
          55.58,
          49.26,
          38.94,
          56.56,
          52.18,
          52.39,
          51.15,
          52.96,
          53.85,
          54.09,
          50.48,
          48.8,
          54.22,
          50.69,
          53.85,
          52.58,
          54.91,
          51.56,
          52.81,
          53.18,
          54.65,
          46.36,
          52.31,
          52.45,
          53.92,
          55.43,
          49.27,
          50.28,
          52.61,
          51.7,
          52.02,
          27.83,
          49.81,
          51.56,
          51.85,
          46.85,
          51.25,
          53.02,
          53.85,
          53.92,
          49.72,
          52.51,
          49.95,
          47.37,
          55.19,
          52.89,
          53.3,
          49.67,
          51.08,
          51.67,
          54.72,
          51.61,
          52.83,
          51.72,
          51.25,
          49.34,
          51.08,
          52.74,
          51.64,
          52.79,
          44.52,
          49.13,
          52.71,
          51.36,
          47.07,
          53.16,
          53.42,
          52.39,
          50.79,
          56.72,
          42.7,
          54.23,
          49.87,
          56.47,
          49.05,
          52.72,
          52.42,
          50.82,
          53.09,
          51.88,
          53.97,
          53.83,
          52.81,
          50.03,
          47.75,
          50.21,
          50.22,
          53.82,
          51.33,
          24.28,
          54.34,
          51.1,
          38.43,
          54.72,
          53.99,
          49.45,
          53.37,
          53.64,
          41.25,
          51.98,
          51.02,
          52.45,
          52.06,
          52.44,
          55.58,
          53.12,
          51.85,
          54.09,
          52.58,
          53.94,
          51.91,
          50.47,
          53.35,
          50.75,
          49.95,
          56.19,
          55.19,
          51.15,
          53.52,
          49.02,
          53.87,
          51.38,
          51.39,
          53.37,
          52.79,
          55.28,
          52.42,
          48.08,
          52.34,
          52.75,
          53.23,
          53.41,
          51.38,
          51.56,
          53.07,
          52.22,
          48.29,
          52.89,
          49.97,
          54.41,
          51.4,
          52.96,
          53.77,
          53.3,
          50.07,
          54.76,
          42.7,
          46.46,
          55.69,
          35.46,
          51.56,
          52.5,
          53.08,
          54.86,
          50.19,
          52.66,
          55.75,
          48.47,
          50.64,
          51.97,
          52.72,
          51.61,
          51.92,
          51.34,
          50.4,
          51.58,
          54.29,
          51.03,
          51.07,
          52.24,
          53.61,
          53.35,
          48.19,
          51.25,
          52.61,
          53.39,
          54.36,
          52.72,
          51.08,
          55.67,
          53.35,
          53.5,
          51.26,
          47.07,
          49.16,
          55.03,
          56.48,
          52.34,
          50.47,
          54.31,
          54.17,
          52.24,
          51.1,
          54.05,
          52.87,
          50.91,
          55.2,
          52.36,
          48.52,
          51.81,
          55.49,
          56.75,
          50.19,
          51.01,
          54.62,
          50.6,
          52.66,
          50.78,
          54.07,
          53.35,
          50.15,
          48.04,
          53.08,
          51.55,
          49.61,
          46.83,
          51.77,
          36.43,
          51.84,
          50.32,
          51.64,
          55.77,
          37.1,
          50,
          51.53,
          46.62,
          53.42,
          50.35,
          48.32,
          53.12,
          43.29,
          54.42,
          48.1,
          50.94,
          56.19,
          52.12,
          52.79,
          54.47,
          47.01,
          55.74,
          48.7,
          50.44,
          54.94,
          51.95,
          51.74,
          51.6,
          47.91,
          51.53,
          52.47,
          56.8,
          49.32,
          54,
          53.53,
          54.76,
          54.23,
          51.5,
          52.22,
          57.06,
          52.24,
          51.84,
          56.4,
          53.09,
          54.5,
          52.86,
          53.49
         ],
         "y": [
          1410.58,
          629.96,
          372.8,
          120.78,
          295.47,
          709.78,
          269.46,
          328.89,
          4109.73,
          387.59,
          1208.43,
          59.61,
          5969.47,
          4315.36,
          64.61,
          860.4,
          644.06,
          196.67,
          1133.89,
          1081.18,
          3216.19,
          916.99,
          508.04,
          962.76,
          5128.72,
          1023.67,
          4902.44,
          4371.66,
          897.22,
          115.21,
          592.86,
          890.55,
          551.23,
          1376.74,
          2605.53,
          97.01,
          1788.37,
          1118.75,
          360.48,
          611.73,
          918.61,
          70.54,
          783.95,
          4599.19,
          5820.34,
          1681.85,
          467.23,
          1954.12,
          1811.82,
          1440.14,
          605.11,
          1445.54,
          3127.09,
          564.83,
          196.16,
          2869.89,
          5130.8,
          799.03,
          1392.96,
          861.02,
          3890.91,
          2858.33,
          487.65,
          874.13,
          815.83,
          870.91,
          5237.14,
          955.53,
          750.79,
          2904.1,
          370.29,
          400.11,
          366.19,
          543.32,
          467.28,
          320.18,
          578.71,
          790.47,
          995.32,
          678.88,
          1083.14,
          5776.84,
          4712.91,
          1196,
          1126.83,
          128.93,
          6154.02,
          674.25,
          501.73,
          514.61,
          502.12,
          5874.2,
          376.37,
          4129.51,
          745.99,
          328.6,
          1726.82,
          1536.78,
          413.44,
          985.74,
          970.9,
          780.29,
          1690.78,
          530.34,
          769.88,
          5046.39,
          160.47,
          530.76,
          579.39,
          2275.73,
          629.34,
          1072.34,
          301.78,
          1982.88,
          996.27,
          1230.24,
          399.04,
          401.45,
          14.4,
          1397.12,
          423.93,
          1052.23,
          6216.87,
          490.61,
          5670.52,
          2729.95,
          527.98,
          4726.72,
          149.32,
          641.25,
          1179.01,
          3326.09,
          586.04,
          96.3,
          904.81,
          365.89,
          4998.27,
          882.13,
          1076.12,
          1742.08,
          599.86,
          812.5,
          104.6,
          854.23,
          2790.18,
          374.4,
          1170.61,
          410.12,
          744.51,
          2689.35,
          293.07,
          706.34,
          389.43,
          748.97,
          937,
          4125.36,
          1110.02,
          1712.98,
          5370.79,
          5283.85,
          1086.4,
          4805.09,
          124.97,
          536.64,
          2188.6,
          712.83,
          957.48,
          5443.38,
          562.52,
          2080.52,
          11.98,
          3284.85,
          463.69,
          4474.74,
          1416.32,
          5486.9,
          1077.51,
          457.21,
          5.16,
          176.25,
          661.76,
          381.44,
          1069.49,
          2607.73,
          603.79,
          1119.39,
          1989.8,
          1087.55,
          1675.37,
          1579.11,
          112.94,
          503.82,
          218.35,
          1318.4,
          150.05,
          3143.98,
          3760.5,
          690.57,
          2115.85,
          5676.12,
          221.45,
          743.35,
          1173.43,
          1409.08,
          713.83,
          1470.61,
          104.16,
          201.29,
          972.89,
          1620.82,
          814.16,
          543.66,
          744.4,
          1909.32,
          686.7,
          474.88,
          627.44,
          5647.47,
          4879.55,
          1287.84,
          2184.74,
          1243.79,
          1633.75,
          347.87,
          3678.09,
          2131.76,
          1764.21,
          1283.31,
          210.21,
          6861.48,
          1330.04,
          106.75,
          1587.49,
          840.3,
          3017.34,
          370.38,
          1308.97,
          2341.41,
          212.21,
          91.36,
          1236.08,
          810.13,
          131.05,
          2034.66,
          179.87,
          532.93,
          2513.64,
          707.45,
          1164.49,
          1293.89,
          4937.31,
          1720.21,
          1433.34,
          1705.57,
          833.01,
          894.44,
          1788.25,
          116.98,
          757.65,
          6383.48,
          282.99,
          1611.7,
          739.59,
          2402.11,
          2938.94,
          37.06,
          583.58,
          3957.19,
          918.84,
          992.95,
          758.64,
          1400.09,
          1150.52,
          1864.91,
          791.64,
          726.33,
          625.59,
          231.88,
          1936.26,
          1207.15,
          296.83,
          2582.4,
          1126.02,
          1172.72,
          2508.95,
          781.48,
          1469.66,
          1707.58,
          915.69,
          780.57,
          819.44,
          526.91,
          1370.07,
          1089.86,
          746.5,
          866.25,
          1980.48,
          1506.2,
          448.15,
          905.08,
          4726.92,
          1184.6,
          63.9,
          1444.04,
          1238.93,
          1006.12,
          1496.62,
          68.03,
          1993.89,
          784.34,
          1695.66,
          498.48,
          640.62,
          960.38,
          2069.67,
          2397.36,
          976.97,
          2659.94,
          155.43,
          726.01,
          1276.24,
          740.82,
          642.95,
          1425.22,
          328.38,
          1751.09,
          3097.17,
          536.7,
          4880.25,
          3801.24,
          1003.44,
          46.27,
          754.28,
          1674.48,
          330.37,
          4007.82,
          1789.65,
          964.51,
          289.8,
          335.07,
          381.77,
          3407.53,
          458.7,
          553.2,
          663.52,
          3269.46,
          78.22,
          1312.75,
          455.36,
          1165.74,
          1057.32,
          1283.73,
          741.93,
          1388.99,
          886.77,
          733.51,
          548.26,
          82.82,
          1904.37,
          5642.83,
          337.12,
          112.76,
          275.24,
          820.13,
          463.69,
          993.89,
          933.62,
          365.58,
          3169.78,
          4370.46,
          616.81,
          2752.72,
          73.48,
          600.97,
          1120.13,
          1013.16,
          2024.29,
          1956.48,
          1201.26,
          4841.78,
          3976.98,
          210.04,
          589.31,
          408.6,
          917.99,
          93.01,
          789.51,
          92.97,
          1631.22,
          1566.15,
          2130.86,
          3072.73,
          588.22,
          898.92,
          398.56,
          4950.18,
          4357.19,
          86.58,
          453.06,
          1785.84,
          361.81,
          783.08,
          1316.65,
          376.63,
          1351.43,
          777.8,
          1445.89,
          565.31,
          4369.98,
          590.27,
          2403.85,
          218.88,
          3502.56,
          2489.2,
          90.26,
          1428.56,
          2042.83,
          1066,
          423.42,
          1286.12,
          1024.08,
          566.45,
          1047.96,
          1277.17,
          2252.63,
          8.93,
          1253.03,
          3080.77,
          1455.58,
          242.24,
          3966.36,
          126.55,
          5733.87,
          507.03,
          769.63,
          3322.54,
          244.8,
          472.65,
          1177.18,
          1631.88,
          2306.67,
          1724.41,
          83.43,
          252.22,
          163.59,
          454.05,
          137.56,
          529.8,
          1085.79,
          1020.09,
          839.58,
          1717.13,
          3885.24,
          5299.4,
          440.92,
          1710.59,
          4469.68,
          1634.38,
          2292.8,
          350.42,
          491.64,
          170.43,
          320.02,
          868.55,
          1650.93,
          844.82,
          5138.29,
          60.55,
          617.63,
          136.24,
          1416.64,
          3196.66,
          632.19,
          2231.72,
          1026.03,
          3597.88,
          799.87,
          629.44,
          3317.98,
          2156.46,
          457.57,
          531.38,
          258.65,
          4996.01,
          2105.06,
          295.83,
          4167.67,
          700.14,
          1371.16,
          3732,
          288.54,
          1827.53,
          5324.93,
          3847.49,
          1252.4,
          307.76,
          1080.52,
          1344.63,
          1493.71,
          2213.89,
          697.42,
          304.37,
          526.95,
          47.25,
          3004.27,
          916.78,
          1124.38,
          2169.91,
          687.6,
          766.71,
          238.31,
          1058.59,
          700.18,
          901.58,
          931.63,
          781.51,
          826.56,
          1793.15,
          2253.07,
          686.74,
          1954.43,
          85.54,
          419.02,
          2459.19,
          2126.69,
          1682.21,
          2783.82,
          3649.1,
          1815.18,
          2378.44,
          64.73,
          627.64,
          827.48,
          1156.5,
          241.5,
          3548.51,
          735.86,
          528.53,
          329.04,
          1172.81,
          84.02,
          1040.61,
          1186.81,
          637.45,
          294.67,
          2010.28,
          1139.62,
          207.59,
          1800.07,
          883.83,
          2110.87,
          467.37,
          373.75,
          1213.39,
          488.23,
          1142.59,
          741.67,
          925.66,
          300.37,
          405.23,
          1087.38,
          723.96,
          2148.99,
          5605.64,
          529.36,
          1501.23,
          934.16,
          4548.3,
          1710.6,
          1036.7,
          1490.37,
          1564.78,
          926.25,
          488.75,
          2223.72,
          1202.4,
          2292.15,
          4815.73,
          830.17,
          829.43,
          7159.68,
          1276.01,
          7065.04,
          2088.6,
          1965.54,
          513.1,
          674.4,
          877.54,
          364.07,
          1020.84,
          2481.04,
          1006.31,
          1107.02,
          2466.53,
          787.9,
          387.5,
          384.21,
          179.67,
          1466.73,
          861.42,
          5337.49,
          790.21,
          914.13,
          1019.01,
          6163.34,
          1206.45,
          1674.28,
          1742.96,
          566.14,
          3466.36,
          1251.54,
          266.02,
          778.07,
          679.09,
          282.11,
          1431.33,
          1067.83,
          783.76,
          1115.42,
          2733.37,
          946.6,
          45.83,
          1516.87,
          6580.92,
          673.59,
          831.56,
          2270.05,
          755.96,
          1610.09,
          221.89,
          714.59,
          5827.79,
          1488.07,
          783.91,
          1052.85,
          5049.76,
          836.95,
          1412.8,
          639.3,
          5553.56,
          516.79,
          463.74,
          1355.18,
          3927.83,
          737.84,
          570.03,
          277.52,
          1584.98,
          1066.13,
          505.38,
          24.85,
          1273.17,
          2618.69,
          4933.75,
          278.66,
          955.72,
          617.86,
          892.75,
          1387.08,
          793.49,
          1095.37,
          719.16,
          266.1,
          3556.42,
          2095.85,
          3564.69,
          1180.89,
          5286.35,
          410.89,
          5744.07,
          583.91,
          2116.95,
          1987.43,
          806.37,
          680.89,
          773.77,
          4690.1,
          754.99,
          1635.37,
          649.57,
          703.54,
          1938.4,
          1764.14,
          487.55,
          473.05,
          1387.86,
          2542.29,
          1097.21,
          1898.47,
          68.38,
          2776.94,
          258.26,
          1938.19,
          946.64,
          3083.11,
          3066.88,
          587.32,
          730.02,
          2050.74,
          1864.34,
          1945.6,
          625.66,
          1633.55,
          142.9,
          1076.1,
          848.02,
          591.61,
          861.26,
          2.99,
          5377.85,
          493.06,
          385.2,
          514.24,
          5843.67,
          788.92,
          982.93,
          2639.74,
          304.84,
          3065.97,
          511.95,
          681.06,
          1041.61,
          1006.48,
          1005.39,
          330.72,
          916.08,
          1258.92,
          896.16,
          1883.35,
          1016.85,
          573.75,
          903.71,
          582.66,
          285.65,
          3742.8,
          1400.46,
          1016.68,
          4615.84,
          487.14,
          847.45,
          515.18,
          2379.14,
          1425.74,
          2167.93,
          6202.14,
          1595.71,
          671.5,
          369.91,
          7210.99,
          4337.13,
          5131.18,
          1082.59,
          2239.08,
          3494.35,
          785.64,
          729.5,
          2826.74,
          1465.55,
          1186.88,
          972.95,
          708.14,
          1008.77,
          595.31,
          542.79,
          1242.48,
          380.26,
          511.45,
          3058.6,
          125.36,
          621.05,
          1218.51,
          2974.69,
          4285.05,
          1029.58,
          886.53,
          2222.97,
          962.11,
          214.36,
          2814.63,
          6236.08,
          884.82,
          4474.19,
          466.84,
          1691.55,
          179.98,
          1069.02,
          1155.04,
          682.87,
          526.28,
          5101.05,
          3626.08,
          474.26,
          825.18,
          2737.44,
          776.98,
          2005.53,
          401.65,
          2301.77,
          4836.75,
          903.36,
          3431.62,
          421,
          330.61,
          1381.21,
          1039.35,
          1657.52,
          5982.79,
          723.29,
          600.88,
          1434.57,
          993.97,
          6051.84,
          1407.01,
          976.01,
          1288.06,
          1129.91,
          539.84,
          507.86,
          2272.05,
          1312.89,
          1183.39,
          838.45,
          1854.6,
          1573.99,
          545.35,
          1535.08,
          783.8,
          919.84,
          813.94,
          454.28,
          640.35,
          1251.61,
          2113.76,
          436.57,
          1651.41,
          2119.55,
          156.39,
          562.63,
          1011.38,
          285.28,
          2408.37,
          100.21,
          179.18,
          1016.96,
          210.52,
          505.33,
          573.35,
          1394.01,
          3063.25,
          2151.1,
          352.4,
          461.58,
          968.39,
          2604.05,
          6100.57,
          280.03,
          1654.47,
          295.05,
          4325.77,
          498.41,
          643.38,
          1025.66,
          3027.59,
          356.14,
          4012.77,
          856.06,
          520.6,
          2680.82,
          6347.34,
          640.79,
          1527.26,
          2148.25,
          2924.51,
          1726.09,
          719.58,
          5209.1,
          3916.1,
          687.3,
          2603.46,
          6906.59,
          2238.78,
          2542.13,
          2102.83,
          1018.79
         ]
        }
       ],
       "layout": {
        "template": {
         "data": {
          "bar": [
           {
            "error_x": {
             "color": "#f2f5fa"
            },
            "error_y": {
             "color": "#f2f5fa"
            },
            "marker": {
             "line": {
              "color": "rgb(17,17,17)",
              "width": 0.5
             }
            },
            "type": "bar"
           }
          ],
          "barpolar": [
           {
            "marker": {
             "line": {
              "color": "rgb(17,17,17)",
              "width": 0.5
             }
            },
            "type": "barpolar"
           }
          ],
          "carpet": [
           {
            "aaxis": {
             "endlinecolor": "#A2B1C6",
             "gridcolor": "#506784",
             "linecolor": "#506784",
             "minorgridcolor": "#506784",
             "startlinecolor": "#A2B1C6"
            },
            "baxis": {
             "endlinecolor": "#A2B1C6",
             "gridcolor": "#506784",
             "linecolor": "#506784",
             "minorgridcolor": "#506784",
             "startlinecolor": "#A2B1C6"
            },
            "type": "carpet"
           }
          ],
          "choropleth": [
           {
            "colorbar": {
             "outlinewidth": 0,
             "ticks": ""
            },
            "type": "choropleth"
           }
          ],
          "contour": [
           {
            "colorbar": {
             "outlinewidth": 0,
             "ticks": ""
            },
            "colorscale": [
             [
              0,
              "#0d0887"
             ],
             [
              0.1111111111111111,
              "#46039f"
             ],
             [
              0.2222222222222222,
              "#7201a8"
             ],
             [
              0.3333333333333333,
              "#9c179e"
             ],
             [
              0.4444444444444444,
              "#bd3786"
             ],
             [
              0.5555555555555556,
              "#d8576b"
             ],
             [
              0.6666666666666666,
              "#ed7953"
             ],
             [
              0.7777777777777778,
              "#fb9f3a"
             ],
             [
              0.8888888888888888,
              "#fdca26"
             ],
             [
              1,
              "#f0f921"
             ]
            ],
            "type": "contour"
           }
          ],
          "contourcarpet": [
           {
            "colorbar": {
             "outlinewidth": 0,
             "ticks": ""
            },
            "type": "contourcarpet"
           }
          ],
          "heatmap": [
           {
            "colorbar": {
             "outlinewidth": 0,
             "ticks": ""
            },
            "colorscale": [
             [
              0,
              "#0d0887"
             ],
             [
              0.1111111111111111,
              "#46039f"
             ],
             [
              0.2222222222222222,
              "#7201a8"
             ],
             [
              0.3333333333333333,
              "#9c179e"
             ],
             [
              0.4444444444444444,
              "#bd3786"
             ],
             [
              0.5555555555555556,
              "#d8576b"
             ],
             [
              0.6666666666666666,
              "#ed7953"
             ],
             [
              0.7777777777777778,
              "#fb9f3a"
             ],
             [
              0.8888888888888888,
              "#fdca26"
             ],
             [
              1,
              "#f0f921"
             ]
            ],
            "type": "heatmap"
           }
          ],
          "heatmapgl": [
           {
            "colorbar": {
             "outlinewidth": 0,
             "ticks": ""
            },
            "colorscale": [
             [
              0,
              "#0d0887"
             ],
             [
              0.1111111111111111,
              "#46039f"
             ],
             [
              0.2222222222222222,
              "#7201a8"
             ],
             [
              0.3333333333333333,
              "#9c179e"
             ],
             [
              0.4444444444444444,
              "#bd3786"
             ],
             [
              0.5555555555555556,
              "#d8576b"
             ],
             [
              0.6666666666666666,
              "#ed7953"
             ],
             [
              0.7777777777777778,
              "#fb9f3a"
             ],
             [
              0.8888888888888888,
              "#fdca26"
             ],
             [
              1,
              "#f0f921"
             ]
            ],
            "type": "heatmapgl"
           }
          ],
          "histogram": [
           {
            "marker": {
             "colorbar": {
              "outlinewidth": 0,
              "ticks": ""
             }
            },
            "type": "histogram"
           }
          ],
          "histogram2d": [
           {
            "colorbar": {
             "outlinewidth": 0,
             "ticks": ""
            },
            "colorscale": [
             [
              0,
              "#0d0887"
             ],
             [
              0.1111111111111111,
              "#46039f"
             ],
             [
              0.2222222222222222,
              "#7201a8"
             ],
             [
              0.3333333333333333,
              "#9c179e"
             ],
             [
              0.4444444444444444,
              "#bd3786"
             ],
             [
              0.5555555555555556,
              "#d8576b"
             ],
             [
              0.6666666666666666,
              "#ed7953"
             ],
             [
              0.7777777777777778,
              "#fb9f3a"
             ],
             [
              0.8888888888888888,
              "#fdca26"
             ],
             [
              1,
              "#f0f921"
             ]
            ],
            "type": "histogram2d"
           }
          ],
          "histogram2dcontour": [
           {
            "colorbar": {
             "outlinewidth": 0,
             "ticks": ""
            },
            "colorscale": [
             [
              0,
              "#0d0887"
             ],
             [
              0.1111111111111111,
              "#46039f"
             ],
             [
              0.2222222222222222,
              "#7201a8"
             ],
             [
              0.3333333333333333,
              "#9c179e"
             ],
             [
              0.4444444444444444,
              "#bd3786"
             ],
             [
              0.5555555555555556,
              "#d8576b"
             ],
             [
              0.6666666666666666,
              "#ed7953"
             ],
             [
              0.7777777777777778,
              "#fb9f3a"
             ],
             [
              0.8888888888888888,
              "#fdca26"
             ],
             [
              1,
              "#f0f921"
             ]
            ],
            "type": "histogram2dcontour"
           }
          ],
          "mesh3d": [
           {
            "colorbar": {
             "outlinewidth": 0,
             "ticks": ""
            },
            "type": "mesh3d"
           }
          ],
          "parcoords": [
           {
            "line": {
             "colorbar": {
              "outlinewidth": 0,
              "ticks": ""
             }
            },
            "type": "parcoords"
           }
          ],
          "scatter": [
           {
            "marker": {
             "line": {
              "color": "#283442"
             }
            },
            "type": "scatter"
           }
          ],
          "scatter3d": [
           {
            "line": {
             "colorbar": {
              "outlinewidth": 0,
              "ticks": ""
             }
            },
            "marker": {
             "colorbar": {
              "outlinewidth": 0,
              "ticks": ""
             }
            },
            "type": "scatter3d"
           }
          ],
          "scattercarpet": [
           {
            "marker": {
             "colorbar": {
              "outlinewidth": 0,
              "ticks": ""
             }
            },
            "type": "scattercarpet"
           }
          ],
          "scattergeo": [
           {
            "marker": {
             "colorbar": {
              "outlinewidth": 0,
              "ticks": ""
             }
            },
            "type": "scattergeo"
           }
          ],
          "scattergl": [
           {
            "marker": {
             "line": {
              "color": "#283442"
             }
            },
            "type": "scattergl"
           }
          ],
          "scattermapbox": [
           {
            "marker": {
             "colorbar": {
              "outlinewidth": 0,
              "ticks": ""
             }
            },
            "type": "scattermapbox"
           }
          ],
          "scatterpolar": [
           {
            "marker": {
             "colorbar": {
              "outlinewidth": 0,
              "ticks": ""
             }
            },
            "type": "scatterpolar"
           }
          ],
          "scatterpolargl": [
           {
            "marker": {
             "colorbar": {
              "outlinewidth": 0,
              "ticks": ""
             }
            },
            "type": "scatterpolargl"
           }
          ],
          "scatterternary": [
           {
            "marker": {
             "colorbar": {
              "outlinewidth": 0,
              "ticks": ""
             }
            },
            "type": "scatterternary"
           }
          ],
          "surface": [
           {
            "colorbar": {
             "outlinewidth": 0,
             "ticks": ""
            },
            "colorscale": [
             [
              0,
              "#0d0887"
             ],
             [
              0.1111111111111111,
              "#46039f"
             ],
             [
              0.2222222222222222,
              "#7201a8"
             ],
             [
              0.3333333333333333,
              "#9c179e"
             ],
             [
              0.4444444444444444,
              "#bd3786"
             ],
             [
              0.5555555555555556,
              "#d8576b"
             ],
             [
              0.6666666666666666,
              "#ed7953"
             ],
             [
              0.7777777777777778,
              "#fb9f3a"
             ],
             [
              0.8888888888888888,
              "#fdca26"
             ],
             [
              1,
              "#f0f921"
             ]
            ],
            "type": "surface"
           }
          ],
          "table": [
           {
            "cells": {
             "fill": {
              "color": "#506784"
             },
             "line": {
              "color": "rgb(17,17,17)"
             }
            },
            "header": {
             "fill": {
              "color": "#2a3f5f"
             },
             "line": {
              "color": "rgb(17,17,17)"
             }
            },
            "type": "table"
           }
          ]
         },
         "layout": {
          "annotationdefaults": {
           "arrowcolor": "#f2f5fa",
           "arrowhead": 0,
           "arrowwidth": 1
          },
          "colorscale": {
           "diverging": [
            [
             0,
             "#8e0152"
            ],
            [
             0.1,
             "#c51b7d"
            ],
            [
             0.2,
             "#de77ae"
            ],
            [
             0.3,
             "#f1b6da"
            ],
            [
             0.4,
             "#fde0ef"
            ],
            [
             0.5,
             "#f7f7f7"
            ],
            [
             0.6,
             "#e6f5d0"
            ],
            [
             0.7,
             "#b8e186"
            ],
            [
             0.8,
             "#7fbc41"
            ],
            [
             0.9,
             "#4d9221"
            ],
            [
             1,
             "#276419"
            ]
           ],
           "sequential": [
            [
             0,
             "#0d0887"
            ],
            [
             0.1111111111111111,
             "#46039f"
            ],
            [
             0.2222222222222222,
             "#7201a8"
            ],
            [
             0.3333333333333333,
             "#9c179e"
            ],
            [
             0.4444444444444444,
             "#bd3786"
            ],
            [
             0.5555555555555556,
             "#d8576b"
            ],
            [
             0.6666666666666666,
             "#ed7953"
            ],
            [
             0.7777777777777778,
             "#fb9f3a"
            ],
            [
             0.8888888888888888,
             "#fdca26"
            ],
            [
             1,
             "#f0f921"
            ]
           ],
           "sequentialminus": [
            [
             0,
             "#0d0887"
            ],
            [
             0.1111111111111111,
             "#46039f"
            ],
            [
             0.2222222222222222,
             "#7201a8"
            ],
            [
             0.3333333333333333,
             "#9c179e"
            ],
            [
             0.4444444444444444,
             "#bd3786"
            ],
            [
             0.5555555555555556,
             "#d8576b"
            ],
            [
             0.6666666666666666,
             "#ed7953"
            ],
            [
             0.7777777777777778,
             "#fb9f3a"
            ],
            [
             0.8888888888888888,
             "#fdca26"
            ],
            [
             1,
             "#f0f921"
            ]
           ]
          },
          "colorway": [
           "#636efa",
           "#EF553B",
           "#00cc96",
           "#ab63fa",
           "#FFA15A",
           "#19d3f3",
           "#FF6692",
           "#B6E880",
           "#FF97FF",
           "#FECB52"
          ],
          "font": {
           "color": "#f2f5fa"
          },
          "geo": {
           "bgcolor": "rgb(17,17,17)",
           "lakecolor": "rgb(17,17,17)",
           "landcolor": "rgb(17,17,17)",
           "showlakes": true,
           "showland": true,
           "subunitcolor": "#506784"
          },
          "hoverlabel": {
           "align": "left"
          },
          "hovermode": "closest",
          "mapbox": {
           "style": "dark"
          },
          "paper_bgcolor": "rgb(17,17,17)",
          "plot_bgcolor": "rgb(17,17,17)",
          "polar": {
           "angularaxis": {
            "gridcolor": "#506784",
            "linecolor": "#506784",
            "ticks": ""
           },
           "bgcolor": "rgb(17,17,17)",
           "radialaxis": {
            "gridcolor": "#506784",
            "linecolor": "#506784",
            "ticks": ""
           }
          },
          "scene": {
           "xaxis": {
            "backgroundcolor": "rgb(17,17,17)",
            "gridcolor": "#506784",
            "gridwidth": 2,
            "linecolor": "#506784",
            "showbackground": true,
            "ticks": "",
            "zerolinecolor": "#C8D4E3"
           },
           "yaxis": {
            "backgroundcolor": "rgb(17,17,17)",
            "gridcolor": "#506784",
            "gridwidth": 2,
            "linecolor": "#506784",
            "showbackground": true,
            "ticks": "",
            "zerolinecolor": "#C8D4E3"
           },
           "zaxis": {
            "backgroundcolor": "rgb(17,17,17)",
            "gridcolor": "#506784",
            "gridwidth": 2,
            "linecolor": "#506784",
            "showbackground": true,
            "ticks": "",
            "zerolinecolor": "#C8D4E3"
           }
          },
          "shapedefaults": {
           "line": {
            "color": "#f2f5fa"
           }
          },
          "sliderdefaults": {
           "bgcolor": "#C8D4E3",
           "bordercolor": "rgb(17,17,17)",
           "borderwidth": 1,
           "tickwidth": 0
          },
          "ternary": {
           "aaxis": {
            "gridcolor": "#506784",
            "linecolor": "#506784",
            "ticks": ""
           },
           "baxis": {
            "gridcolor": "#506784",
            "linecolor": "#506784",
            "ticks": ""
           },
           "bgcolor": "rgb(17,17,17)",
           "caxis": {
            "gridcolor": "#506784",
            "linecolor": "#506784",
            "ticks": ""
           }
          },
          "title": {
           "x": 0.05
          },
          "updatemenudefaults": {
           "bgcolor": "#506784",
           "borderwidth": 0
          },
          "xaxis": {
           "automargin": true,
           "gridcolor": "#283442",
           "linecolor": "#506784",
           "ticks": "",
           "zerolinecolor": "#283442",
           "zerolinewidth": 2
          },
          "yaxis": {
           "automargin": true,
           "gridcolor": "#283442",
           "linecolor": "#506784",
           "ticks": "",
           "zerolinecolor": "#283442",
           "zerolinewidth": 2
          }
         }
        },
        "title": {
         "text": "Disperção dos índices de ttvil e maxz das 3 classes"
        },
        "xaxis": {
         "title": {
          "text": "Máxima precipitação (dBZ)"
         }
        },
        "yaxis": {
         "title": {
          "text": "VIL (kg m<sup>-2</sup>)"
         }
        }
       }
      },
      "text/html": [
       "<div>\n",
       "        \n",
       "        \n",
       "            <div id=\"016ec551-d8c4-4cb6-90f6-fab259f05d6d\" class=\"plotly-graph-div\" style=\"height:525px; width:100%;\"></div>\n",
       "            <script type=\"text/javascript\">\n",
       "                require([\"plotly\"], function(Plotly) {\n",
       "                    window.PLOTLYENV=window.PLOTLYENV || {};\n",
       "                    \n",
       "                if (document.getElementById(\"016ec551-d8c4-4cb6-90f6-fab259f05d6d\")) {\n",
       "                    Plotly.newPlot(\n",
       "                        '016ec551-d8c4-4cb6-90f6-fab259f05d6d',\n",
       "                        [{\"marker\": {\"opacity\": 0.2}, \"mode\": \"markers\", \"name\": \"Subconjunto sem detec\\u00e7\\u00e3o de raios\", \"type\": \"scatter\", \"x\": [23.01, 28.49, 34.19, 38.65, 34.86, 43.65, 37.8, 38.51, 26.28, 29.09, 22.28, 45.49, 37.96, 43.76, 22.28, 52.15, 36.33, 38.12, 26.7, 26.28, 46.36, 26.28, 24.28, 27.09, 45.32, 43.62, 53.09, 30.64, 35.34, 28.49, 34.05, 35.46, 42.01, 23.67, 42.57, 29.38, 29.09, 39.55, 23.67, 47.95, 49.66, 36.43, 35.23, 34.47, 38.04, 56.72, 51.69, 50.07, 39.28, 27.83, 45.7, 58.03, 25.35, 42.53, 25.35, 30.41, 30.16, 46.24, 25.35, 44.89, 34.98, 37.63, 23.67, 28.17, 34.6, 35.46, 42.01, 33.61, 28.49, 27.83, 56.89, 42.62, 37.37, 27.47, 26.28, 46.16, 35.23, 47.03, 44.33, 43.51, 32.47, 34.05, 29.38, 29.91, 47.49, 23.67, 29.38, 39.01, 34.19, 50.33, 23.67, 42.49, 36.33, 46.46, 34.73, 41.25, 42.53, 42.14, 52.84, 46.12, 40.22, 43.76, 29.09, 24.28, 32.29, 29.91, 29.65, 38.43, 24.83, 48.38, 30.16, 39.61, 31.31, 44.61, 34.47, 33.31, 44.43, 49.82, 22.28, 38.04, 32.81, 20.53, 49.21, 28.17, 35.8, 24.83, 47.45, 54.7, 21.46, 47.45, 33.15, 27.83, 37.63, 25.83, 57.75, 23.67, 31.51, 26.28, 38.8, 48.7, 23.67, 28.49, 24.28, 34.98, 29.91, 24.28, 27.09, 23.67, 29.38, 26.7, 47.16, 39.01, 39.74, 24.83, 31.91, 34.6, 48.57, 26.28, 28.17, 26.7, 30.64, 47.55, 39.8, 23.01, 34.73, 49.78, 51.03, 27.09, 23.01, 47.31, 34.86, 41.87, 45.46, 43.83, 27.09, 50.43, 43.29, 34.98, 30.87, 48.29, 28.17, 33.15, 39.08, 25.83, 23.67, 47.79, 41.4, 38.65, 29.09, 33.91, 31.72, 27.83, 36.63, 37.8, 36.02, 31.09, 35.91, 43.02, 45.32, 44.2, 42.41, 33.46, 36.43, 30.16, 41.45, 28.8, 23.01, 40.78, 34.05, 24.83, 33.46, 47.45, 42.32, 31.91, 36.73, 42.53, 36.33, 28.8, 42.45, 52.79, 44.89, 26.7, 37.55, 33.15, 40.16, 45.24, 32.64, 41.83, 46.46, 32.29, 42.98, 22.28, 33.76, 30.87, 48.9, 40.67, 46.19, 25.83, 37.19, 25.83, 41.59, 43.62, 23.01, 31.91, 24.28, 35.46, 25.83, 39.08, 31.72, 25.35, 32.98, 27.09, 35.23, 36.82, 30.87, 40.39, 45.29, 48.59, 35.8, 50.6, 44.33, 33.76, 46.94, 36.23, 31.09, 31.72, 45.99, 46.76, 43.83, 46.34, 26.7, 46.26, 32.47, 36.23, 40.51, 31.72, 36.33, 27.09, 28.8, 51.39, 38.73, 31.91, 41.4, 36.92, 45.57, 43.62, 28.49, 32.98, 36.92, 23.01, 27.83, 27.83, 29.38, 34.47, 31.51, 49.88, 39.86, 35.8, 42.57, 37.28, 23.01, 23.67, 32.29, 27.09, 28.49, 27.47, 25.83, 43.83, 35.8, 52.28, 30.16, 22.28, 33.46, 47.05, 30.16, 42.28, 23.01, 40.94, 39.92, 46.83, 41.2, 27.83, 50.36, 27.09, 38.2, 29.65, 32.1, 41.2, 41.5, 29.65, 30.64, 24.83, 31.31, 24.28, 41.45, 27.47, 28.17, 38.87, 29.09, 30.64, 45.29, 27.47, 41.73, 25.35, 38.58, 30.41, 22.28, 49.54, 32.64, 46.43, 33.76, 34.6, 32.29, 29.65, 37.37, 40.99, 24.28, 31.72, 43.06, 34.05, 23.01, 30.64, 37.46, 40.28, 29.65, 44.07, 37.1, 36.23, 33.15, 28.8, 25.35, 31.91, 36.33, 39.8, 30.16, 32.29, 27.47, 23.67, 28.49, 44.23, 27.09, 49.46, 40.51, 26.28, 37.1, 44.1, 24.28, 28.17, 24.28, 46.21, 47.24, 26.7, 37.63, 44.1, 36.53, 47.99, 47.26, 31.51, 43.02, 37.46, 29.91, 23.01, 25.83, 38.43, 38.94, 34.86, 44.86, 45.12, 38.73, 41.64, 30.41, 22.28, 46.85, 32.98, 33.61, 31.72, 24.83, 44.8, 40.94, 45.41, 44.43, 42.66, 44.39, 24.83, 30.16, 50.01, 43.76, 41.54, 45.32, 43.47, 39.98, 41.45, 43.86, 38.8, 44.98, 48.27, 33.91, 37.19, 42.28, 35.46, 28.8, 37.72, 37.55, 46.06, 25.35, 37.19, 58.45, 32.47, 29.38, 38.12, 24.28, 26.7, 34.33, 40.99, 37.01, 38.28, 32.81, 23.67, 36.73, 45.06, 35.1, 30.64, 32.47, 23.01, 43.51, 35.91, 40.39, 21.46, 44.65, 23.01, 48.18, 28.17, 34.86, 40.45, 40.28, 24.28, 40.45, 39.86, 31.31, 33.61, 24.28, 25.83, 27.47, 30.16, 40.89, 44.8, 51.08, 46.46, 45.12, 45.18, 44.55, 33.31, 49.32, 29.38, 40.28, 43.72, 48.78, 39.48, 32.47, 26.28, 43.93, 37.1, 25.35, 28.49, 50.77, 28.8, 29.38, 23.67, 22.28, 26.7, 21.46, 45.01, 22.28, 40.45, 48.01, 41.87, 48.59, 49.9, 43.47, 48.8, 33.61, 36.02, 40.39, 36.33, 27.47, 27.47, 24.28, 45.91, 44.8, 31.91, 35.23, 29.91, 27.09, 31.72, 36.02, 38.8, 41.78, 33.46, 49.82, 42.53, 28.17, 47.47, 34.73, 46.26, 33.91, 45.01, 49.9, 28.49, 27.83, 26.28, 23.67, 32.1, 38.94, 44.74, 44.2, 43.54, 37.28, 35.69, 43.47, 45.62, 32.81, 31.72, 41.04, 25.35, 41.73, 31.51, 36.33, 23.67, 22.28, 49.64, 38.2, 37.8, 27.47, 48.34, 50.49, 22.28, 42.14, 23.67, 28.8, 36.82, 28.17, 40.94, 40.94, 44.2, 47.37, 33.15, 25.35, 44.92, 29.38, 45.18, 38.73, 33.61, 42.98, 25.35, 37.63, 52.59, 34.73, 38.8, 25.35, 40.51, 40.83, 51.45, 39.74, 50.68, 39.74, 49.26, 25.35, 33.15, 50.33, 25.35, 31.09, 29.91, 31.51, 40.45, 23.67, 46.04, 38.43, 40.94, 45.32, 46.46, 33.76, 45.24, 25.35, 37.46, 31.91, 35.46, 43.9, 44.13, 26.28, 36.23, 26.7, 23.67, 34.98, 37.46, 27.47, 32.1, 40.99, 37.8, 47.87, 47.45, 32.29, 43.47, 39.61, 37.8, 23.67, 37.28, 34.47, 37.19, 39.61, 39.86, 23.01, 25.83, 48.75, 21.46, 47.72, 45.35, 26.28, 38.2, 49.46, 46.21, 24.83, 28.49, 23.67, 39.55, 27.47, 27.83, 31.72, 25.35, 33.46, 24.83, 25.83, 36.23, 31.51, 24.83, 45.29, 42.62, 33.91, 48.21, 27.83, 41.59, 41.1, 24.83, 46.96, 45.73, 29.38, 33.91, 48.47, 36.33, 24.83, 30.16, 47.18, 50.7, 42.06, 41.45, 40.28, 54.97, 34.6, 41.1, 29.09, 24.28, 48.34, 32.29, 47.07, 38.8, 44.33, 41.1, 39.86, 32.1, 34.47, 29.09, 27.83, 36.02, 37.72, 30.16, 34.86, 38.87, 24.83, 46.53, 25.83, 26.28, 40.56, 40.33, 40.73, 31.72, 24.83, 37.63, 38.12, 36.12, 37.63, 34.05, 29.09, 37.8, 21.46, 43.83, 40.45, 40.62, 28.49, 27.47, 33.46, 42.74, 34.19, 39.08, 40.33, 39.42, 52.87, 30.16, 49.27, 35.1, 44.58, 38.87, 26.7, 49.05, 33.15, 44.52, 38.58, 44.98, 34.33, 27.83, 42.78, 49.03, 23.67, 24.83, 43.72, 25.83, 42.36, 25.35, 26.7, 47.51, 22.28, 43.25, 34.19, 36.73, 24.28, 28.17, 33.91, 44.68, 23.67, 31.51, 42.32, 36.33, 44.95, 47.2, 44.07, 45.7, 47.49, 59.39, 35.1, 29.38, 38.12, 26.28, 36.23, 26.28, 43.79, 25.83, 31.72, 33.91, 32.81, 23.67, 24.28, 27.47, 48.54, 34.47, 29.38, 29.09, 28.8, 41.64, 36.92, 27.83, 43.93, 37.88, 38.51, 36.92, 42.14, 28.17, 23.67, 43.76, 39.15, 24.83, 27.47, 38.28, 31.51, 33.91, 47.31, 43.47, 27.47, 49.1, 43.36, 37.46, 37.96, 40.94, 31.31, 57.19, 36.53, 39.15, 39.86, 45.04, 52.75, 31.91, 41.5, 42.82, 39.48, 40.89, 44.36, 29.38, 46.48, 42.28, 25.35, 33.31, 39.08, 51.34, 36.63, 49.73, 43.06, 28.8, 49.6, 32.98, 29.65, 28.8, 45.04, 46.89, 25.83, 23.01, 27.09, 23.01, 31.91, 41.87, 25.35, 29.09, 23.01, 29.09, 36.53, 30.64, 32.1, 32.81, 29.09, 45.68, 32.81, 31.91, 35.1, 33.46, 28.49, 33.91, 22.28, 23.67], \"y\": [3.0, 4.97, 35.0, 23.56, 29.3, 32.48, 20.21, 46.7, 5.15, 8.8, 2.6, 40.5, 11.28, 36.72, 14.2, 724.0, 12.46, 27.42, 6.33, 30.81, 167.59, 6.78, 10.13, 7.94, 36.34, 34.22, 336.41, 10.65, 30.72, 9.06, 25.07, 30.48, 45.88, 6.69, 23.61, 16.09, 10.88, 29.79, 11.37, 200.36, 84.28, 157.04, 12.08, 15.72, 20.48, 1731.63, 212.64, 158.33, 24.6, 23.76, 102.66, 3632.34, 6.08, 36.33, 6.46, 22.08, 6.11, 50.78, 21.99, 154.96, 9.65, 23.29, 2.96, 12.55, 173.23, 35.11, 36.69, 18.05, 17.69, 9.1, 1502.51, 26.45, 12.92, 5.37, 2.73, 95.69, 66.5, 76.68, 17.29, 55.05, 4.84, 10.57, 43.84, 8.56, 98.77, 3.01, 7.8, 34.88, 17.49, 187.22, 5.05, 32.79, 29.74, 457.69, 16.11, 33.36, 62.44, 74.45, 100.38, 177.12, 28.43, 31.83, 4.47, 4.07, 9.3, 3.8, 5.64, 15.2, 3.01, 203.16, 12.37, 26.72, 124.77, 75.42, 10.59, 20.73, 111.99, 136.84, 2.82, 11.82, 12.81, 3.72, 272.56, 34.88, 55.83, 11.42, 692.85, 368.23, 2.43, 91.38, 14.55, 3.49, 21.08, 6.41, 1427.8, 4.8, 8.34, 7.29, 17.09, 307.25, 4.31, 9.75, 2.83, 15.62, 5.23, 4.47, 5.55, 8.5, 11.63, 7.7, 202.89, 61.22, 44.6, 4.02, 9.44, 28.77, 515.58, 6.76, 3.99, 3.81, 5.12, 83.55, 52.36, 3.64, 16.63, 347.39, 128.97, 7.24, 3.13, 97.18, 34.13, 40.71, 92.48, 43.17, 5.94, 204.67, 50.1, 47.72, 16.03, 298.35, 7.38, 12.02, 22.22, 8.53, 7.0, 104.93, 27.67, 36.24, 9.81, 12.82, 7.87, 9.67, 91.28, 22.04, 70.0, 10.17, 20.59, 44.05, 333.87, 21.28, 38.96, 14.26, 12.56, 6.83, 102.25, 5.98, 3.09, 13.83, 8.95, 4.07, 28.55, 161.28, 74.06, 60.06, 13.07, 56.35, 24.41, 7.65, 69.84, 226.12, 104.96, 6.48, 45.07, 43.07, 39.14, 47.72, 6.61, 40.47, 51.9, 10.74, 41.14, 2.86, 7.41, 11.19, 206.56, 78.88, 48.19, 5.05, 17.69, 7.9, 47.3, 59.74, 7.49, 16.91, 4.06, 16.34, 6.12, 47.15, 35.98, 6.07, 28.67, 4.9, 16.38, 15.57, 7.41, 56.92, 55.36, 73.01, 19.09, 2076.45, 102.3, 42.28, 77.96, 9.29, 11.44, 7.5, 24.71, 91.3, 64.49, 78.88, 11.49, 121.13, 13.12, 10.24, 25.28, 11.56, 17.28, 6.77, 14.25, 179.09, 24.33, 7.85, 41.24, 21.02, 116.5, 128.03, 72.64, 17.69, 22.6, 6.38, 14.23, 4.77, 10.68, 41.67, 12.28, 213.33, 46.71, 16.26, 45.75, 14.63, 7.14, 11.72, 5.04, 3.98, 6.57, 12.66, 4.87, 94.28, 15.35, 203.56, 10.25, 11.12, 35.09, 82.95, 12.46, 24.57, 4.97, 61.4, 38.5, 213.93, 83.67, 10.29, 397.26, 13.16, 33.78, 5.11, 35.07, 103.14, 34.22, 11.88, 211.67, 3.64, 12.84, 8.26, 26.21, 22.86, 4.45, 73.33, 7.83, 7.53, 45.76, 4.55, 38.71, 11.95, 80.92, 22.31, 4.54, 192.21, 10.64, 54.71, 55.91, 24.19, 103.79, 29.87, 21.72, 32.54, 4.39, 13.35, 30.79, 14.16, 13.33, 6.41, 15.85, 18.1, 8.51, 94.21, 27.5, 9.56, 10.96, 6.48, 5.58, 10.23, 43.06, 18.37, 13.2, 7.21, 3.91, 2.18, 6.79, 33.32, 20.25, 64.53, 48.44, 6.08, 61.85, 141.01, 6.55, 6.29, 6.39, 54.22, 92.34, 4.82, 33.57, 47.1, 35.8, 129.9, 122.01, 31.84, 64.88, 50.77, 33.64, 3.49, 7.7, 11.48, 18.17, 14.13, 86.54, 143.53, 30.48, 130.08, 4.65, 5.52, 95.74, 102.87, 76.21, 24.08, 8.54, 161.0, 40.65, 53.58, 152.65, 89.62, 116.43, 4.61, 12.88, 444.13, 76.7, 44.4, 134.95, 227.63, 49.39, 37.01, 47.1, 27.29, 203.41, 154.98, 19.92, 11.88, 32.83, 19.96, 18.97, 18.38, 63.51, 170.5, 5.22, 12.04, 193.45, 6.84, 8.33, 26.9, 6.41, 3.5, 6.47, 59.64, 42.83, 28.67, 18.54, 6.09, 19.43, 85.26, 23.49, 6.95, 12.2, 5.79, 30.35, 17.82, 59.36, 6.14, 59.63, 3.67, 123.04, 3.08, 33.0, 29.16, 41.13, 8.6, 27.3, 29.63, 5.96, 6.0, 3.73, 3.16, 15.8, 5.08, 65.56, 118.94, 146.58, 83.86, 27.8, 80.86, 23.81, 8.03, 190.86, 5.79, 92.28, 27.56, 81.13, 35.88, 5.66, 7.11, 97.71, 24.89, 51.23, 4.21, 314.48, 6.24, 134.69, 5.45, 6.42, 7.24, 3.11, 78.23, 2.29, 34.69, 61.13, 39.19, 107.17, 1039.43, 31.91, 163.17, 10.04, 19.17, 51.48, 16.04, 4.5, 4.76, 5.49, 97.31, 36.72, 59.48, 14.84, 16.9, 4.77, 18.53, 25.7, 34.06, 174.67, 15.95, 54.79, 75.39, 7.19, 55.09, 23.61, 65.7, 36.12, 66.55, 217.34, 7.49, 39.0, 3.71, 4.76, 19.15, 19.23, 50.68, 24.42, 53.21, 14.96, 97.26, 30.58, 83.83, 15.82, 13.14, 79.23, 3.06, 67.95, 46.31, 11.25, 5.41, 2.76, 261.84, 16.01, 65.31, 5.25, 76.35, 149.08, 2.83, 34.32, 2.78, 13.13, 21.92, 19.07, 24.82, 60.95, 85.04, 107.84, 36.86, 14.09, 25.85, 18.28, 38.92, 37.53, 11.07, 43.16, 7.31, 31.29, 165.53, 27.48, 15.6, 15.99, 38.63, 121.39, 590.62, 20.53, 612.66, 28.76, 379.24, 4.93, 5.84, 25.16, 3.62, 7.7, 5.99, 48.75, 54.86, 3.87, 89.87, 13.71, 79.1, 332.73, 44.72, 124.51, 88.23, 4.03, 28.98, 12.59, 11.38, 46.22, 87.5, 4.04, 60.77, 4.72, 4.24, 10.68, 8.29, 6.19, 7.78, 46.43, 43.2, 511.96, 138.9, 8.71, 34.2, 21.86, 10.75, 5.14, 21.64, 9.14, 20.16, 13.08, 25.2, 11.55, 4.36, 210.49, 5.99, 88.62, 88.2, 8.62, 24.52, 391.3, 247.7, 6.43, 17.95, 5.11, 25.19, 4.96, 5.71, 12.57, 10.57, 22.13, 9.6, 4.54, 39.78, 10.05, 10.1, 82.14, 20.49, 12.05, 188.41, 17.39, 38.35, 29.67, 6.5, 92.93, 123.86, 41.48, 14.33, 145.11, 24.23, 2.27, 12.98, 136.9, 262.85, 145.15, 59.88, 85.48, 72.32, 11.63, 29.06, 16.88, 5.33, 127.15, 10.72, 80.69, 16.08, 29.81, 37.79, 31.08, 47.24, 48.87, 15.55, 13.64, 9.81, 137.33, 6.91, 13.05, 10.42, 2.96, 131.9, 14.21, 9.76, 37.47, 24.72, 45.81, 6.33, 6.08, 22.12, 36.16, 13.83, 685.0, 6.69, 4.14, 743.04, 3.11, 60.23, 170.37, 50.93, 6.12, 21.07, 16.3, 84.44, 6.52, 38.27, 56.45, 53.94, 311.68, 7.68, 78.61, 17.8, 154.46, 116.39, 5.67, 270.16, 10.46, 70.22, 27.4, 56.07, 18.1, 7.3, 415.22, 123.91, 2.65, 15.8, 52.42, 3.44, 14.84, 12.91, 3.05, 121.41, 8.42, 21.9, 53.26, 10.37, 5.13, 6.78, 98.54, 69.81, 4.0, 29.81, 75.55, 20.56, 71.97, 421.66, 49.61, 75.7, 210.58, 4037.11, 24.38, 4.64, 16.75, 4.63, 25.92, 35.01, 705.58, 5.24, 6.59, 16.28, 6.93, 6.51, 21.87, 4.73, 152.61, 13.53, 7.13, 5.24, 5.95, 20.39, 31.56, 3.42, 98.06, 28.36, 47.14, 20.91, 14.34, 24.63, 4.15, 77.14, 44.65, 4.65, 27.14, 37.38, 18.66, 10.03, 142.33, 34.74, 13.9, 113.87, 25.98, 31.39, 34.12, 56.09, 10.83, 1717.81, 20.8, 83.46, 80.76, 54.72, 633.44, 9.14, 41.33, 131.02, 95.25, 128.73, 49.32, 7.77, 26.33, 75.18, 8.22, 12.39, 36.91, 219.79, 70.16, 279.19, 27.31, 10.92, 116.65, 30.53, 3.91, 5.42, 116.16, 207.84, 37.92, 3.17, 4.76, 2.27, 23.8, 27.31, 4.31, 4.0, 5.02, 8.67, 10.79, 24.28, 17.84, 46.04, 3.71, 66.21, 17.48, 8.31, 19.51, 8.57, 6.65, 14.87, 3.36, 2.64]}, {\"marker\": {\"opacity\": 0.2}, \"mode\": \"markers\", \"name\": \"Subconjunto com atividade moderada de raios\", \"type\": \"scatter\", \"x\": [52.58, 50.22, 47.55, 32.47, 46.76, 49.15, 52.34, 43.29, 48.18, 49.69, 38.2, 51.73, 50.11, 50.26, 46.26, 47.89, 47.75, 50.01, 47.62, 32.1, 45.01, 44.36, 49.0, 47.62, 25.35, 48.12, 49.81, 49.49, 49.79, 51.85, 47.91, 40.89, 49.21, 48.01, 42.06, 36.73, 39.8, 45.65, 35.91, 38.51, 52.31, 47.47, 49.72, 50.43, 48.68, 50.3, 49.69, 28.49, 40.1, 36.02, 45.76, 32.64, 30.64, 50.55, 53.45, 51.26, 23.01, 56.63, 51.04, 44.61, 49.37, 49.38, 47.51, 44.52, 47.95, 25.83, 47.05, 47.41, 49.31, 38.12, 51.72, 50.36, 52.72, 46.53, 51.67, 48.25, 47.37, 50.11, 48.68, 49.21, 51.34, 38.58, 28.8, 33.46, 41.69, 51.6, 29.09, 45.46, 39.28, 51.25, 26.7, 52.72, 32.47, 36.82, 40.56, 49.9, 51.48, 40.16, 51.65, 39.08, 48.49, 49.45, 49.82, 32.47, 53.43, 37.01, 46.01, 47.7, 29.38, 45.51, 53.73, 50.97, 48.68, 46.71, 53.42, 51.24, 49.97, 38.58, 33.91, 37.55, 39.15, 39.74, 31.91, 33.76, 50.75, 27.09, 36.43, 21.46, 50.55, 51.65, 47.75, 44.86, 26.28, 48.64, 53.77, 28.17, 48.54, 53.2, 26.7, 51.34, 35.1, 45.43, 54.07, 50.44, 50.39, 44.83, 34.05, 42.9, 49.73, 44.68, 41.35, 49.98, 41.87, 49.1, 23.67, 50.17, 27.83, 35.8, 54.91, 50.57, 43.9, 46.67, 38.87, 37.63, 47.22, 39.15, 47.72, 48.29, 32.29, 48.98, 39.48, 49.46, 51.88, 45.99, 51.33, 48.87, 50.91, 48.18, 50.12, 47.7, 38.12, 42.7, 51.89, 32.98, 31.91, 53.86, 26.7, 50.11, 50.3, 48.14, 54.03, 36.02, 42.53, 44.0, 45.65, 53.41, 44.74, 43.93, 32.98, 44.89, 36.12, 22.28, 40.22, 45.43, 42.57, 47.14, 51.81, 50.24, 34.86, 43.86, 34.19, 46.78, 38.58, 44.89, 50.22, 51.28, 33.76, 49.43, 45.62, 52.39, 47.85, 52.11, 32.47, 41.73, 50.0, 31.72, 42.19, 46.06, 42.7, 36.23, 49.87, 33.15, 48.18, 38.94, 30.64, 43.02, 49.18, 29.65, 49.49, 49.0, 45.68, 49.32, 38.8, 34.73, 37.8, 43.36, 33.76, 41.92, 38.28, 48.34, 54.44, 41.83, 46.12, 28.17, 49.43, 37.88, 27.09, 47.87, 44.8, 50.49, 52.53, 48.52, 48.32, 47.79, 51.43, 51.4, 27.47, 42.1, 51.58, 35.58, 34.05, 28.8, 49.72, 51.26, 37.28, 44.33, 46.46, 27.83, 49.45, 38.87, 46.53, 51.39, 48.04, 48.23, 56.11, 41.87, 50.89, 40.1, 49.84, 44.92, 29.65, 49.57, 46.31, 49.05, 50.12, 41.4, 44.0, 52.25, 44.33, 43.02, 44.83, 48.9, 50.78, 53.27, 42.7, 49.21, 49.05, 50.47, 37.19, 36.02, 45.46, 50.28, 47.91, 43.4, 43.76, 42.19, 47.93, 32.1, 50.17, 49.97, 47.49, 44.36, 49.31, 53.16, 51.38, 33.76, 52.41, 46.26, 49.69, 33.31, 48.56, 29.09, 46.46, 52.14, 47.24, 44.98, 49.91, 42.82, 49.23, 55.08, 32.29, 50.83, 46.89, 50.89, 44.86, 46.31, 50.35, 39.42, 28.17, 40.45, 48.7, 32.47, 39.61, 50.14, 51.7, 49.37, 52.79, 41.25, 50.75, 40.22, 50.53, 50.24, 50.14, 50.21, 47.09, 47.93, 49.69, 50.98, 50.03, 44.17, 45.18, 32.47, 47.47, 46.53, 44.0, 43.62, 52.58, 45.35, 41.78, 52.44, 28.49, 39.74, 45.01, 29.09, 41.59, 39.8, 48.49, 53.07, 44.92, 44.43, 24.28, 53.33, 49.31, 53.5, 46.69, 54.22, 51.03, 41.73, 48.14, 46.41, 37.37, 35.34, 38.04, 37.28, 50.78, 38.12, 48.21, 30.64, 50.72, 52.33, 49.38, 41.78, 50.47, 30.87, 51.4, 48.98, 47.74, 44.71, 30.16, 47.33, 35.58, 52.66, 45.83, 25.83, 46.34, 51.81, 36.23, 31.51, 45.51, 47.24, 47.2, 49.05, 50.61, 46.85, 41.97, 47.18, 47.14, 26.28, 52.91, 44.0, 45.81, 49.87, 49.06, 40.67, 46.89, 45.15, 41.15, 48.64, 47.16, 46.24, 36.33, 50.55, 52.53, 39.74, 39.48, 51.23, 37.01, 41.3, 49.45, 52.51, 33.91, 49.9, 50.26, 51.23, 50.94, 46.12, 27.47, 50.48, 41.15, 34.47, 51.36, 47.75, 54.7, 49.05, 41.69, 32.81, 54.0, 43.79, 43.72, 46.29, 47.31, 50.96, 49.23, 48.23, 38.35, 48.57, 35.91, 36.53, 53.12, 43.36, 40.16, 42.7, 51.39, 49.31, 47.49, 47.41, 51.53, 47.7, 43.79, 39.22, 50.96, 26.28, 46.09, 40.89, 50.01, 47.01, 48.4, 36.53, 48.23, 41.35, 49.15, 49.92, 22.28, 48.03, 44.8, 45.99, 46.29, 25.83, 32.64, 42.19, 48.31, 23.67, 48.9, 38.35, 51.2, 48.7, 50.6, 52.15, 48.88, 50.49, 38.04, 51.13, 41.2, 51.91, 25.35, 34.19, 48.52, 50.37, 43.13, 42.78, 50.94, 50.33, 43.9, 37.19, 28.8, 53.85, 52.64, 36.63, 47.7, 47.99, 37.37, 48.71, 48.88, 49.58, 39.22, 47.49, 53.19, 48.7, 48.27, 48.61, 33.61, 44.2, 47.37, 49.06, 51.8, 46.29, 49.31, 47.83, 46.89, 50.37, 46.38, 24.28, 46.09, 52.34, 36.73, 50.3, 52.22, 44.33, 51.62, 33.91, 27.09, 47.41, 51.01, 50.24, 46.36, 50.4, 48.25, 24.28, 40.39, 34.86, 43.4, 52.05, 41.4, 31.91, 50.14, 48.1, 36.23, 46.78, 34.47, 50.47, 29.65, 41.04, 46.53, 51.7, 36.12, 45.51, 52.61, 54.36, 51.18, 52.21, 47.93, 51.14, 48.98, 33.76, 49.31, 46.34, 45.01, 50.45, 47.43, 39.28, 39.98, 52.81, 45.81, 47.75, 53.47, 33.76, 54.6, 39.42, 41.97, 51.7, 45.15, 33.31, 45.7, 50.53, 48.01, 42.7, 52.48, 40.04, 49.57, 43.09, 49.11, 50.78, 49.82, 38.51, 50.77, 51.67, 42.66, 51.67, 50.94, 48.14, 49.03, 44.1, 31.31, 46.87, 48.36, 33.76, 51.07, 35.1, 41.35, 47.95, 45.43, 49.32, 50.88, 50.6, 39.55, 51.01, 49.31, 45.29, 49.38, 52.33, 52.27, 53.28, 49.6, 46.92, 51.04, 45.57, 48.83, 44.39, 50.96, 27.09, 45.38, 38.58, 52.0, 39.42, 40.45, 44.33, 32.98, 32.81, 52.06, 35.8, 51.8, 41.54, 50.65, 49.26, 27.83, 49.45, 47.09, 30.64, 46.24, 48.81, 48.04, 46.31, 39.98, 49.06, 32.98, 50.89, 47.33, 48.08, 49.38, 48.32, 47.01, 52.5, 49.31, 36.33, 49.32, 30.64, 51.08, 27.83, 45.21, 29.65, 51.78, 54.67, 48.5, 52.36, 46.43, 29.91, 48.49, 45.41, 40.1, 28.17, 50.75, 46.98, 35.1, 37.37, 50.52, 33.61, 50.55, 48.56, 47.33, 46.14, 50.79, 51.03, 52.37, 49.43, 50.03, 49.34, 44.46, 46.43, 27.83, 37.55, 51.98, 43.83, 41.15, 52.61, 34.05, 34.98, 54.73, 37.96, 42.36, 49.66, 41.2, 52.96, 52.36, 47.72, 48.52, 55.28, 46.64, 46.16, 44.55, 31.51, 48.32, 32.29, 31.09, 47.66, 40.45, 49.82, 42.36, 45.49, 29.91, 53.16, 52.08, 50.86, 50.73, 48.03, 50.3, 39.86, 46.83, 51.45, 45.43, 52.37, 48.78, 51.18, 49.31, 33.46, 52.42, 38.51, 52.48, 42.66, 50.52, 40.1, 49.1, 53.69, 28.49, 30.64, 41.4, 51.26, 47.81, 41.25, 48.12, 38.8, 48.12, 37.1, 50.11, 44.65, 34.05, 37.63, 46.92, 41.2, 53.42, 46.06, 51.83, 46.55, 40.51, 42.78, 48.49, 43.25, 33.91, 49.67, 45.09, 50.72, 52.61, 44.65, 42.57, 44.74, 49.88, 44.0, 51.67, 49.87, 52.21, 40.22, 32.81, 46.83, 46.98, 37.72, 50.53, 38.73, 52.91, 53.16, 45.65, 50.0, 45.78, 51.09, 46.74, 47.62, 33.15, 48.71, 47.81, 42.62, 47.75, 48.97, 50.82, 40.51, 46.69, 32.98, 49.05, 47.75, 50.43, 40.39, 50.64, 50.98, 47.77, 48.41, 41.15, 49.6, 50.91, 39.98, 50.08, 51.95, 50.69, 50.84, 41.83, 29.65, 33.46, 45.49], \"y\": [573.02, 1131.59, 63.36, 9.41, 301.02, 240.99, 345.57, 158.66, 139.67, 156.25, 52.77, 674.33, 587.26, 431.25, 571.89, 243.63, 61.65, 253.05, 375.65, 15.25, 89.81, 45.87, 894.5, 181.25, 20.75, 285.73, 292.96, 553.28, 177.78, 438.11, 277.93, 90.96, 497.32, 719.14, 25.35, 22.07, 36.06, 260.17, 27.65, 13.77, 267.74, 462.91, 509.71, 362.07, 308.23, 190.39, 252.34, 19.14, 27.0, 80.21, 60.59, 33.44, 40.21, 328.13, 419.48, 324.9, 5.11, 439.52, 337.14, 23.6, 331.05, 76.5, 366.89, 23.44, 266.28, 3.42, 83.69, 199.91, 145.48, 19.62, 292.78, 522.42, 185.2, 139.51, 535.33, 690.31, 140.89, 466.06, 371.81, 952.53, 1067.26, 69.34, 9.97, 16.15, 76.57, 308.78, 29.51, 100.76, 23.72, 545.18, 6.21, 1764.2, 7.73, 1302.05, 17.94, 462.15, 253.9, 168.45, 509.38, 44.4, 346.05, 495.44, 95.83, 10.93, 810.72, 13.54, 201.21, 140.96, 13.01, 163.52, 278.33, 277.54, 190.11, 169.8, 652.12, 922.96, 383.56, 44.83, 14.42, 17.2, 62.9, 34.75, 65.99, 8.61, 273.11, 8.02, 8.06, 3.8, 422.11, 280.33, 383.29, 130.19, 6.61, 327.93, 297.11, 34.74, 60.57, 606.8, 3.88, 152.35, 60.76, 191.8, 600.26, 682.25, 449.98, 53.06, 15.74, 38.27, 218.33, 169.23, 93.65, 260.73, 23.47, 426.58, 2.98, 320.49, 4.13, 16.66, 894.47, 1965.01, 2915.0, 48.77, 93.47, 15.77, 242.69, 31.0, 159.73, 1982.74, 23.7, 190.06, 46.67, 139.36, 501.49, 479.92, 332.23, 329.4, 957.74, 629.26, 298.16, 362.59, 51.35, 72.83, 356.64, 16.53, 7.34, 532.09, 46.31, 277.17, 405.02, 117.5, 925.09, 71.51, 83.82, 46.15, 214.48, 933.02, 144.98, 41.2, 18.7, 87.71, 13.95, 10.28, 107.64, 98.57, 72.29, 132.67, 802.04, 152.44, 40.67, 55.9, 34.45, 90.74, 114.03, 268.69, 1723.31, 448.32, 10.1, 458.56, 359.3, 1302.83, 193.53, 389.17, 33.74, 2714.37, 146.62, 8.6, 88.45, 87.94, 193.46, 167.01, 460.79, 34.71, 304.1, 62.4, 128.63, 33.11, 217.48, 10.09, 445.75, 298.42, 57.84, 1100.28, 28.99, 19.53, 13.71, 159.8, 21.56, 23.08, 75.76, 251.79, 703.36, 42.88, 161.5, 25.48, 529.84, 21.09, 16.65, 351.68, 214.01, 165.82, 181.44, 180.66, 479.93, 287.8, 652.24, 392.56, 8.65, 67.56, 379.69, 18.43, 10.37, 46.69, 371.58, 194.21, 83.72, 136.23, 611.42, 5.35, 810.78, 32.05, 166.74, 242.19, 188.93, 668.32, 328.3, 166.4, 217.1, 48.17, 366.07, 403.28, 21.64, 77.52, 279.03, 48.76, 412.59, 78.42, 191.35, 455.06, 132.44, 298.73, 163.13, 152.09, 316.26, 445.66, 120.02, 252.47, 327.67, 503.16, 90.2, 888.22, 161.0, 562.54, 259.28, 583.56, 216.57, 40.25, 157.36, 32.66, 229.24, 670.48, 163.61, 79.79, 144.84, 1597.17, 457.43, 13.59, 557.58, 257.56, 446.44, 8.43, 106.85, 37.85, 136.57, 1056.05, 46.47, 130.01, 180.67, 27.48, 76.67, 340.62, 7.41, 352.61, 190.79, 180.1, 47.52, 327.58, 292.23, 118.91, 4.49, 46.76, 137.94, 10.21, 20.9, 7758.92, 366.67, 247.26, 501.93, 54.22, 802.89, 28.04, 436.53, 7820.24, 246.54, 882.41, 358.31, 89.84, 344.91, 134.45, 416.34, 117.32, 213.67, 402.28, 131.29, 169.97, 2477.84, 62.28, 225.23, 101.67, 145.3, 269.02, 43.26, 105.42, 155.94, 4.72, 119.13, 41.55, 412.11, 741.23, 32.67, 69.25, 4.38, 389.8, 405.01, 437.21, 79.79, 968.31, 434.25, 145.95, 348.91, 64.06, 30.85, 21.63, 1063.24, 29.35, 314.79, 57.0, 121.35, 351.92, 446.7, 990.92, 155.28, 36.81, 428.37, 21.17, 1050.62, 172.88, 192.22, 43.69, 58.68, 70.07, 36.28, 176.27, 177.92, 36.37, 57.04, 115.18, 37.84, 9.75, 116.29, 365.38, 73.86, 483.9, 415.7, 357.89, 273.69, 77.1, 1381.91, 14.08, 1744.54, 347.6, 71.83, 266.91, 587.83, 198.92, 59.76, 74.5, 40.83, 198.39, 273.88, 114.64, 125.07, 888.62, 541.34, 2380.22, 207.45, 833.79, 32.32, 24.65, 234.35, 1421.84, 24.62, 594.49, 555.57, 264.83, 457.61, 151.47, 32.52, 689.76, 66.6, 64.4, 500.38, 62.47, 281.81, 532.51, 31.67, 333.58, 525.01, 176.26, 84.51, 333.66, 424.88, 238.56, 86.28, 150.91, 72.28, 763.97, 32.77, 54.25, 459.77, 403.7, 126.68, 95.11, 2328.9, 151.17, 200.32, 608.73, 922.13, 105.82, 345.32, 31.63, 393.96, 4.4, 74.88, 1148.91, 192.31, 376.55, 255.59, 25.69, 642.98, 117.46, 593.46, 221.86, 9.97, 206.63, 198.65, 256.46, 588.4, 60.8, 12.07, 62.37, 270.41, 5.21, 526.01, 27.86, 444.19, 242.33, 571.77, 537.26, 415.0, 746.5, 40.88, 459.34, 107.56, 211.83, 5.81, 14.44, 1416.35, 364.18, 131.47, 75.4, 446.48, 269.88, 55.38, 14.97, 8.7, 858.55, 539.58, 81.77, 349.91, 364.03, 666.72, 357.2, 266.4, 195.94, 52.35, 340.01, 522.59, 367.06, 347.46, 878.09, 23.16, 134.9, 420.42, 261.29, 365.58, 487.55, 877.21, 234.13, 264.99, 449.52, 120.45, 2.86, 57.68, 475.64, 29.15, 669.89, 196.56, 207.06, 195.21, 24.87, 4.67, 102.13, 667.27, 938.04, 57.25, 298.97, 191.21, 12.41, 31.12, 125.86, 318.21, 353.02, 2165.26, 23.59, 241.55, 269.47, 59.21, 395.67, 11.72, 545.68, 69.76, 35.9, 111.75, 446.68, 27.34, 101.91, 255.78, 180.42, 506.95, 1364.93, 649.92, 186.13, 145.15, 17.04, 418.67, 54.05, 85.04, 207.48, 156.4, 66.69, 777.09, 1069.91, 127.06, 164.73, 305.18, 8.97, 605.62, 41.23, 120.7, 313.45, 255.54, 43.93, 353.82, 342.63, 591.3, 133.52, 393.71, 56.98, 454.04, 67.43, 113.24, 365.48, 85.68, 1657.49, 576.54, 1785.93, 73.19, 697.96, 488.59, 133.06, 359.21, 77.33, 10.83, 53.44, 266.47, 10.23, 900.51, 14.6, 82.75, 78.62, 235.95, 184.48, 246.91, 179.9, 35.1, 419.57, 384.14, 29.54, 982.45, 577.58, 794.65, 311.94, 140.38, 121.3, 329.76, 217.41, 221.81, 46.92, 1474.77, 3.79, 418.78, 30.64, 392.29, 69.79, 32.63, 57.36, 8.94, 20.49, 653.51, 14.54, 316.84, 75.74, 202.41, 396.62, 5.94, 1168.29, 224.62, 35.9, 82.92, 436.88, 161.31, 136.88, 55.51, 112.25, 9.58, 470.03, 206.01, 134.51, 721.77, 65.87, 58.33, 319.48, 244.64, 17.44, 306.57, 15.41, 993.7, 12.01, 125.84, 9.61, 276.89, 976.79, 124.47, 629.42, 180.14, 11.52, 286.38, 428.62, 24.65, 28.05, 495.02, 328.52, 18.73, 31.17, 191.01, 677.79, 278.69, 254.82, 157.25, 490.16, 954.12, 265.72, 567.29, 150.57, 254.65, 270.55, 139.32, 165.59, 5.96, 79.69, 424.6, 158.33, 29.86, 369.82, 7.47, 15.99, 855.13, 35.42, 136.75, 430.18, 24.2, 660.72, 560.57, 1450.08, 226.51, 309.66, 158.94, 236.72, 42.99, 8.85, 456.9, 10.96, 41.28, 58.96, 28.24, 499.16, 35.56, 85.45, 19.37, 473.83, 365.25, 404.22, 924.99, 437.1, 277.55, 514.43, 82.32, 495.94, 127.6, 131.53, 529.64, 348.13, 90.5, 125.85, 155.83, 52.66, 424.84, 143.19, 376.99, 26.75, 430.62, 646.15, 31.57, 52.81, 27.67, 164.08, 377.27, 56.74, 141.54, 73.75, 193.76, 36.16, 656.25, 125.7, 31.31, 23.34, 138.6, 80.6, 495.4, 136.06, 157.43, 170.53, 120.03, 29.23, 114.77, 93.37, 38.99, 204.12, 135.47, 450.34, 805.46, 290.75, 91.12, 133.2, 171.83, 92.26, 1668.63, 419.39, 353.6, 35.03, 7.33, 109.22, 267.3, 65.42, 263.32, 155.63, 379.61, 617.74, 748.87, 218.56, 203.79, 401.67, 308.02, 87.0, 88.2, 206.71, 108.75, 201.76, 198.98, 210.09, 469.57, 55.43, 189.53, 15.58, 401.01, 151.84, 138.97, 45.56, 514.54, 284.41, 80.32, 349.52, 17.0, 426.6, 279.15, 89.99, 305.19, 400.52, 220.7, 633.75, 117.77, 27.0, 22.82, 110.87]}, {\"marker\": {\"line\": {\"color\": \"yellow\", \"width\": 1}, \"opacity\": 0.2}, \"mode\": \"markers\", \"name\": \"Subconjunto com atividade extrema de raios\", \"type\": \"scatter\", \"x\": [53.42, 50.96, 50.84, 47.24, 36.73, 52.79, 46.41, 51.92, 53.56, 51.19, 52.34, 47.51, 51.07, 52.89, 34.86, 49.87, 51.09, 47.14, 53.87, 52.33, 52.86, 53.82, 51.53, 54.34, 55.33, 46.38, 53.86, 53.39, 49.66, 44.77, 49.27, 49.61, 52.14, 55.5, 51.74, 47.05, 53.39, 55.55, 50.55, 50.83, 50.89, 33.61, 49.37, 52.92, 55.07, 55.25, 51.65, 55.36, 50.96, 54.6, 51.78, 52.79, 52.87, 52.05, 46.06, 52.94, 52.42, 49.23, 52.14, 51.64, 55.08, 49.61, 55.3, 49.54, 52.51, 53.94, 50.6, 52.56, 53.33, 52.36, 53.03, 49.34, 52.59, 51.53, 50.83, 49.6, 53.08, 48.5, 48.32, 51.97, 51.08, 54.72, 54.95, 54.65, 52.09, 46.78, 52.84, 51.33, 46.94, 48.47, 50.55, 54.69, 53.19, 53.0, 53.12, 50.94, 52.79, 55.87, 51.84, 50.01, 51.14, 47.72, 52.37, 50.49, 50.89, 55.34, 51.8, 48.73, 52.34, 54.89, 49.79, 52.28, 39.42, 55.53, 54.69, 53.43, 44.55, 44.0, 30.41, 51.28, 49.46, 57.0, 53.73, 52.5, 53.0, 51.56, 48.01, 53.82, 48.36, 49.23, 52.15, 50.12, 49.32, 47.58, 53.58, 51.48, 54.95, 51.98, 52.06, 52.02, 52.33, 54.15, 41.4, 47.79, 50.3, 43.93, 49.4, 51.31, 52.31, 52.44, 50.57, 51.95, 50.1, 53.92, 48.43, 54.39, 50.61, 52.55, 54.53, 51.78, 50.03, 52.61, 46.85, 49.69, 52.98, 51.77, 49.6, 53.77, 53.35, 54.83, 34.6, 51.95, 51.13, 53.28, 53.53, 52.24, 54.07, 42.53, 26.28, 50.39, 49.94, 50.33, 52.34, 54.67, 51.52, 55.77, 54.17, 50.72, 59.95, 53.66, 48.31, 50.57, 52.64, 52.91, 43.43, 50.36, 52.09, 52.75, 53.77, 54.11, 38.65, 51.7, 54.42, 53.5, 54.36, 52.15, 45.68, 49.88, 46.6, 47.11, 53.69, 51.97, 54.26, 52.87, 53.37, 45.54, 51.69, 55.53, 51.94, 53.47, 54.38, 49.4, 54.67, 51.84, 54.72, 54.89, 51.07, 57.44, 54.7, 54.97, 53.33, 42.82, 52.45, 49.19, 50.65, 45.91, 53.99, 56.78, 50.1, 48.34, 55.39, 50.91, 41.04, 51.04, 48.49, 49.15, 52.15, 52.19, 53.25, 53.02, 51.85, 51.91, 52.51, 51.08, 52.44, 49.78, 53.5, 47.83, 53.64, 53.8, 42.66, 51.45, 48.64, 48.75, 53.53, 37.28, 52.19, 51.09, 53.62, 53.18, 53.31, 52.62, 51.77, 53.92, 49.92, 51.15, 50.22, 51.78, 56.05, 51.1, 51.74, 54.05, 52.59, 54.65, 55.13, 53.11, 52.09, 52.47, 54.34, 50.4, 51.15, 49.81, 53.53, 48.87, 52.11, 54.23, 51.78, 52.96, 51.1, 54.65, 54.51, 51.7, 41.5, 55.07, 51.5, 52.77, 51.31, 28.17, 55.41, 50.1, 51.78, 47.29, 46.21, 49.95, 52.84, 54.41, 53.35, 55.33, 34.05, 55.7, 53.62, 52.03, 53.28, 52.27, 50.05, 52.62, 54.09, 50.12, 52.12, 53.91, 51.01, 31.31, 47.24, 55.81, 51.84, 54.91, 53.66, 51.48, 52.25, 51.94, 52.51, 52.64, 51.3, 48.83, 53.35, 51.09, 45.91, 49.4, 50.07, 53.85, 53.25, 51.01, 49.9, 52.02, 50.22, 52.96, 54.57, 42.36, 52.69, 52.42, 51.55, 37.28, 49.64, 51.85, 54.75, 56.08, 52.5, 52.03, 53.49, 54.03, 49.32, 52.37, 42.78, 53.2, 53.27, 52.28, 53.75, 53.5, 55.07, 53.49, 54.17, 48.43, 52.74, 48.81, 50.25, 43.36, 54.69, 41.25, 50.78, 51.8, 51.73, 50.73, 54.65, 53.35, 48.98, 55.26, 53.62, 29.38, 51.36, 50.19, 40.28, 48.83, 55.02, 48.93, 53.55, 47.64, 50.11, 51.39, 54.31, 52.67, 53.53, 45.68, 52.24, 50.86, 36.92, 50.83, 55.17, 51.01, 52.15, 53.09, 53.19, 51.2, 49.49, 55.43, 52.27, 31.51, 54.65, 53.43, 53.37, 50.19, 54.57, 44.33, 54.7, 51.83, 56.17, 55.0, 37.88, 51.34, 50.33, 51.69, 52.61, 51.84, 39.35, 50.52, 40.28, 53.73, 44.43, 53.39, 50.37, 54.11, 51.92, 54.45, 55.11, 53.0, 47.16, 50.4, 53.94, 55.51, 53.2, 48.9, 51.08, 47.7, 48.68, 47.93, 52.96, 49.79, 53.52, 41.3, 49.38, 41.97, 43.21, 54.09, 48.1, 52.53, 49.79, 52.81, 49.32, 49.82, 54.06, 54.36, 51.6, 51.18, 51.83, 53.64, 54.18, 51.26, 54.34, 50.68, 54.57, 52.75, 46.55, 56.91, 54.75, 54.55, 57.19, 50.77, 53.08, 50.35, 54.91, 54.51, 52.22, 41.3, 53.22, 32.1, 52.51, 47.22, 50.15, 53.78, 53.19, 52.72, 48.36, 52.67, 49.11, 49.72, 54.62, 52.83, 47.14, 53.69, 54.88, 50.07, 52.39, 42.82, 52.48, 50.4, 48.64, 52.31, 54.34, 53.85, 55.17, 55.25, 45.96, 53.22, 54.51, 53.62, 44.92, 52.24, 50.91, 51.2, 52.21, 50.08, 41.4, 50.72, 51.84, 49.95, 51.36, 53.97, 53.62, 47.75, 54.0, 52.25, 52.0, 54.14, 52.28, 52.55, 47.33, 49.35, 54.73, 51.18, 47.16, 51.31, 51.8, 50.44, 55.0, 51.84, 51.18, 53.85, 56.29, 55.0, 53.25, 53.35, 53.73, 50.84, 52.21, 48.5, 55.99, 52.41, 51.98, 55.64, 50.0, 52.89, 51.03, 49.61, 56.25, 53.03, 50.53, 51.58, 53.33, 50.11, 50.91, 50.73, 49.79, 53.18, 51.74, 54.06, 48.12, 50.68, 44.33, 34.19, 52.24, 49.54, 54.7, 52.06, 53.72, 51.69, 54.83, 50.88, 53.5, 55.86, 50.05, 51.81, 53.28, 51.58, 49.95, 51.58, 49.34, 61.31, 48.45, 52.91, 53.55, 55.58, 49.26, 38.94, 56.56, 52.18, 52.39, 51.15, 52.96, 53.85, 54.09, 50.48, 48.8, 54.22, 50.69, 53.85, 52.58, 54.91, 51.56, 52.81, 53.18, 54.65, 46.36, 52.31, 52.45, 53.92, 55.43, 49.27, 50.28, 52.61, 51.7, 52.02, 27.83, 49.81, 51.56, 51.85, 46.85, 51.25, 53.02, 53.85, 53.92, 49.72, 52.51, 49.95, 47.37, 55.19, 52.89, 53.3, 49.67, 51.08, 51.67, 54.72, 51.61, 52.83, 51.72, 51.25, 49.34, 51.08, 52.74, 51.64, 52.79, 44.52, 49.13, 52.71, 51.36, 47.07, 53.16, 53.42, 52.39, 50.79, 56.72, 42.7, 54.23, 49.87, 56.47, 49.05, 52.72, 52.42, 50.82, 53.09, 51.88, 53.97, 53.83, 52.81, 50.03, 47.75, 50.21, 50.22, 53.82, 51.33, 24.28, 54.34, 51.1, 38.43, 54.72, 53.99, 49.45, 53.37, 53.64, 41.25, 51.98, 51.02, 52.45, 52.06, 52.44, 55.58, 53.12, 51.85, 54.09, 52.58, 53.94, 51.91, 50.47, 53.35, 50.75, 49.95, 56.19, 55.19, 51.15, 53.52, 49.02, 53.87, 51.38, 51.39, 53.37, 52.79, 55.28, 52.42, 48.08, 52.34, 52.75, 53.23, 53.41, 51.38, 51.56, 53.07, 52.22, 48.29, 52.89, 49.97, 54.41, 51.4, 52.96, 53.77, 53.3, 50.07, 54.76, 42.7, 46.46, 55.69, 35.46, 51.56, 52.5, 53.08, 54.86, 50.19, 52.66, 55.75, 48.47, 50.64, 51.97, 52.72, 51.61, 51.92, 51.34, 50.4, 51.58, 54.29, 51.03, 51.07, 52.24, 53.61, 53.35, 48.19, 51.25, 52.61, 53.39, 54.36, 52.72, 51.08, 55.67, 53.35, 53.5, 51.26, 47.07, 49.16, 55.03, 56.48, 52.34, 50.47, 54.31, 54.17, 52.24, 51.1, 54.05, 52.87, 50.91, 55.2, 52.36, 48.52, 51.81, 55.49, 56.75, 50.19, 51.01, 54.62, 50.6, 52.66, 50.78, 54.07, 53.35, 50.15, 48.04, 53.08, 51.55, 49.61, 46.83, 51.77, 36.43, 51.84, 50.32, 51.64, 55.77, 37.1, 50.0, 51.53, 46.62, 53.42, 50.35, 48.32, 53.12, 43.29, 54.42, 48.1, 50.94, 56.19, 52.12, 52.79, 54.47, 47.01, 55.74, 48.7, 50.44, 54.94, 51.95, 51.74, 51.6, 47.91, 51.53, 52.47, 56.8, 49.32, 54.0, 53.53, 54.76, 54.23, 51.5, 52.22, 57.06, 52.24, 51.84, 56.4, 53.09, 54.5, 52.86, 53.49], \"y\": [1410.58, 629.96, 372.8, 120.78, 295.47, 709.78, 269.46, 328.89, 4109.73, 387.59, 1208.43, 59.61, 5969.47, 4315.36, 64.61, 860.4, 644.06, 196.67, 1133.89, 1081.18, 3216.19, 916.99, 508.04, 962.76, 5128.72, 1023.67, 4902.44, 4371.66, 897.22, 115.21, 592.86, 890.55, 551.23, 1376.74, 2605.53, 97.01, 1788.37, 1118.75, 360.48, 611.73, 918.61, 70.54, 783.95, 4599.19, 5820.34, 1681.85, 467.23, 1954.12, 1811.82, 1440.14, 605.11, 1445.54, 3127.09, 564.83, 196.16, 2869.89, 5130.8, 799.03, 1392.96, 861.02, 3890.91, 2858.33, 487.65, 874.13, 815.83, 870.91, 5237.14, 955.53, 750.79, 2904.1, 370.29, 400.11, 366.19, 543.32, 467.28, 320.18, 578.71, 790.47, 995.32, 678.88, 1083.14, 5776.84, 4712.91, 1196.0, 1126.83, 128.93, 6154.02, 674.25, 501.73, 514.61, 502.12, 5874.2, 376.37, 4129.51, 745.99, 328.6, 1726.82, 1536.78, 413.44, 985.74, 970.9, 780.29, 1690.78, 530.34, 769.88, 5046.39, 160.47, 530.76, 579.39, 2275.73, 629.34, 1072.34, 301.78, 1982.88, 996.27, 1230.24, 399.04, 401.45, 14.4, 1397.12, 423.93, 1052.23, 6216.87, 490.61, 5670.52, 2729.95, 527.98, 4726.72, 149.32, 641.25, 1179.01, 3326.09, 586.04, 96.3, 904.81, 365.89, 4998.27, 882.13, 1076.12, 1742.08, 599.86, 812.5, 104.6, 854.23, 2790.18, 374.4, 1170.61, 410.12, 744.51, 2689.35, 293.07, 706.34, 389.43, 748.97, 937.0, 4125.36, 1110.02, 1712.98, 5370.79, 5283.85, 1086.4, 4805.09, 124.97, 536.64, 2188.6, 712.83, 957.48, 5443.38, 562.52, 2080.52, 11.98, 3284.85, 463.69, 4474.74, 1416.32, 5486.9, 1077.51, 457.21, 5.16, 176.25, 661.76, 381.44, 1069.49, 2607.73, 603.79, 1119.39, 1989.8, 1087.55, 1675.37, 1579.11, 112.94, 503.82, 218.35, 1318.4, 150.05, 3143.98, 3760.5, 690.57, 2115.85, 5676.12, 221.45, 743.35, 1173.43, 1409.08, 713.83, 1470.61, 104.16, 201.29, 972.89, 1620.82, 814.16, 543.66, 744.4, 1909.32, 686.7, 474.88, 627.44, 5647.47, 4879.55, 1287.84, 2184.74, 1243.79, 1633.75, 347.87, 3678.09, 2131.76, 1764.21, 1283.31, 210.21, 6861.48, 1330.04, 106.75, 1587.49, 840.3, 3017.34, 370.38, 1308.97, 2341.41, 212.21, 91.36, 1236.08, 810.13, 131.05, 2034.66, 179.87, 532.93, 2513.64, 707.45, 1164.49, 1293.89, 4937.31, 1720.21, 1433.34, 1705.57, 833.01, 894.44, 1788.25, 116.98, 757.65, 6383.48, 282.99, 1611.7, 739.59, 2402.11, 2938.94, 37.06, 583.58, 3957.19, 918.84, 992.95, 758.64, 1400.09, 1150.52, 1864.91, 791.64, 726.33, 625.59, 231.88, 1936.26, 1207.15, 296.83, 2582.4, 1126.02, 1172.72, 2508.95, 781.48, 1469.66, 1707.58, 915.69, 780.57, 819.44, 526.91, 1370.07, 1089.86, 746.5, 866.25, 1980.48, 1506.2, 448.15, 905.08, 4726.92, 1184.6, 63.9, 1444.04, 1238.93, 1006.12, 1496.62, 68.03, 1993.89, 784.34, 1695.66, 498.48, 640.62, 960.38, 2069.67, 2397.36, 976.97, 2659.94, 155.43, 726.01, 1276.24, 740.82, 642.95, 1425.22, 328.38, 1751.09, 3097.17, 536.7, 4880.25, 3801.24, 1003.44, 46.27, 754.28, 1674.48, 330.37, 4007.82, 1789.65, 964.51, 289.8, 335.07, 381.77, 3407.53, 458.7, 553.2, 663.52, 3269.46, 78.22, 1312.75, 455.36, 1165.74, 1057.32, 1283.73, 741.93, 1388.99, 886.77, 733.51, 548.26, 82.82, 1904.37, 5642.83, 337.12, 112.76, 275.24, 820.13, 463.69, 993.89, 933.62, 365.58, 3169.78, 4370.46, 616.81, 2752.72, 73.48, 600.97, 1120.13, 1013.16, 2024.29, 1956.48, 1201.26, 4841.78, 3976.98, 210.04, 589.31, 408.6, 917.99, 93.01, 789.51, 92.97, 1631.22, 1566.15, 2130.86, 3072.73, 588.22, 898.92, 398.56, 4950.18, 4357.19, 86.58, 453.06, 1785.84, 361.81, 783.08, 1316.65, 376.63, 1351.43, 777.8, 1445.89, 565.31, 4369.98, 590.27, 2403.85, 218.88, 3502.56, 2489.2, 90.26, 1428.56, 2042.83, 1066.0, 423.42, 1286.12, 1024.08, 566.45, 1047.96, 1277.17, 2252.63, 8.93, 1253.03, 3080.77, 1455.58, 242.24, 3966.36, 126.55, 5733.87, 507.03, 769.63, 3322.54, 244.8, 472.65, 1177.18, 1631.88, 2306.67, 1724.41, 83.43, 252.22, 163.59, 454.05, 137.56, 529.8, 1085.79, 1020.09, 839.58, 1717.13, 3885.24, 5299.4, 440.92, 1710.59, 4469.68, 1634.38, 2292.8, 350.42, 491.64, 170.43, 320.02, 868.55, 1650.93, 844.82, 5138.29, 60.55, 617.63, 136.24, 1416.64, 3196.66, 632.19, 2231.72, 1026.03, 3597.88, 799.87, 629.44, 3317.98, 2156.46, 457.57, 531.38, 258.65, 4996.01, 2105.06, 295.83, 4167.67, 700.14, 1371.16, 3732.0, 288.54, 1827.53, 5324.93, 3847.49, 1252.4, 307.76, 1080.52, 1344.63, 1493.71, 2213.89, 697.42, 304.37, 526.95, 47.25, 3004.27, 916.78, 1124.38, 2169.91, 687.6, 766.71, 238.31, 1058.59, 700.18, 901.58, 931.63, 781.51, 826.56, 1793.15, 2253.07, 686.74, 1954.43, 85.54, 419.02, 2459.19, 2126.69, 1682.21, 2783.82, 3649.1, 1815.18, 2378.44, 64.73, 627.64, 827.48, 1156.5, 241.5, 3548.51, 735.86, 528.53, 329.04, 1172.81, 84.02, 1040.61, 1186.81, 637.45, 294.67, 2010.28, 1139.62, 207.59, 1800.07, 883.83, 2110.87, 467.37, 373.75, 1213.39, 488.23, 1142.59, 741.67, 925.66, 300.37, 405.23, 1087.38, 723.96, 2148.99, 5605.64, 529.36, 1501.23, 934.16, 4548.3, 1710.6, 1036.7, 1490.37, 1564.78, 926.25, 488.75, 2223.72, 1202.4, 2292.15, 4815.73, 830.17, 829.43, 7159.68, 1276.01, 7065.04, 2088.6, 1965.54, 513.1, 674.4, 877.54, 364.07, 1020.84, 2481.04, 1006.31, 1107.02, 2466.53, 787.9, 387.5, 384.21, 179.67, 1466.73, 861.42, 5337.49, 790.21, 914.13, 1019.01, 6163.34, 1206.45, 1674.28, 1742.96, 566.14, 3466.36, 1251.54, 266.02, 778.07, 679.09, 282.11, 1431.33, 1067.83, 783.76, 1115.42, 2733.37, 946.6, 45.83, 1516.87, 6580.92, 673.59, 831.56, 2270.05, 755.96, 1610.09, 221.89, 714.59, 5827.79, 1488.07, 783.91, 1052.85, 5049.76, 836.95, 1412.8, 639.3, 5553.56, 516.79, 463.74, 1355.18, 3927.83, 737.84, 570.03, 277.52, 1584.98, 1066.13, 505.38, 24.85, 1273.17, 2618.69, 4933.75, 278.66, 955.72, 617.86, 892.75, 1387.08, 793.49, 1095.37, 719.16, 266.1, 3556.42, 2095.85, 3564.69, 1180.89, 5286.35, 410.89, 5744.07, 583.91, 2116.95, 1987.43, 806.37, 680.89, 773.77, 4690.1, 754.99, 1635.37, 649.57, 703.54, 1938.4, 1764.14, 487.55, 473.05, 1387.86, 2542.29, 1097.21, 1898.47, 68.38, 2776.94, 258.26, 1938.19, 946.64, 3083.11, 3066.88, 587.32, 730.02, 2050.74, 1864.34, 1945.6, 625.66, 1633.55, 142.9, 1076.1, 848.02, 591.61, 861.26, 2.99, 5377.85, 493.06, 385.2, 514.24, 5843.67, 788.92, 982.93, 2639.74, 304.84, 3065.97, 511.95, 681.06, 1041.61, 1006.48, 1005.39, 330.72, 916.08, 1258.92, 896.16, 1883.35, 1016.85, 573.75, 903.71, 582.66, 285.65, 3742.8, 1400.46, 1016.68, 4615.84, 487.14, 847.45, 515.18, 2379.14, 1425.74, 2167.93, 6202.14, 1595.71, 671.5, 369.91, 7210.99, 4337.13, 5131.18, 1082.59, 2239.08, 3494.35, 785.64, 729.5, 2826.74, 1465.55, 1186.88, 972.95, 708.14, 1008.77, 595.31, 542.79, 1242.48, 380.26, 511.45, 3058.6, 125.36, 621.05, 1218.51, 2974.69, 4285.05, 1029.58, 886.53, 2222.97, 962.11, 214.36, 2814.63, 6236.08, 884.82, 4474.19, 466.84, 1691.55, 179.98, 1069.02, 1155.04, 682.87, 526.28, 5101.05, 3626.08, 474.26, 825.18, 2737.44, 776.98, 2005.53, 401.65, 2301.77, 4836.75, 903.36, 3431.62, 421.0, 330.61, 1381.21, 1039.35, 1657.52, 5982.79, 723.29, 600.88, 1434.57, 993.97, 6051.84, 1407.01, 976.01, 1288.06, 1129.91, 539.84, 507.86, 2272.05, 1312.89, 1183.39, 838.45, 1854.6, 1573.99, 545.35, 1535.08, 783.8, 919.84, 813.94, 454.28, 640.35, 1251.61, 2113.76, 436.57, 1651.41, 2119.55, 156.39, 562.63, 1011.38, 285.28, 2408.37, 100.21, 179.18, 1016.96, 210.52, 505.33, 573.35, 1394.01, 3063.25, 2151.1, 352.4, 461.58, 968.39, 2604.05, 6100.57, 280.03, 1654.47, 295.05, 4325.77, 498.41, 643.38, 1025.66, 3027.59, 356.14, 4012.77, 856.06, 520.6, 2680.82, 6347.34, 640.79, 1527.26, 2148.25, 2924.51, 1726.09, 719.58, 5209.1, 3916.1, 687.3, 2603.46, 6906.59, 2238.78, 2542.13, 2102.83, 1018.79]}],\n",
       "                        {\"template\": {\"data\": {\"bar\": [{\"error_x\": {\"color\": \"#f2f5fa\"}, \"error_y\": {\"color\": \"#f2f5fa\"}, \"marker\": {\"line\": {\"color\": \"rgb(17,17,17)\", \"width\": 0.5}}, \"type\": \"bar\"}], \"barpolar\": [{\"marker\": {\"line\": {\"color\": \"rgb(17,17,17)\", \"width\": 0.5}}, \"type\": \"barpolar\"}], \"carpet\": [{\"aaxis\": {\"endlinecolor\": \"#A2B1C6\", \"gridcolor\": \"#506784\", \"linecolor\": \"#506784\", \"minorgridcolor\": \"#506784\", \"startlinecolor\": \"#A2B1C6\"}, \"baxis\": {\"endlinecolor\": \"#A2B1C6\", \"gridcolor\": \"#506784\", \"linecolor\": \"#506784\", \"minorgridcolor\": \"#506784\", \"startlinecolor\": \"#A2B1C6\"}, \"type\": \"carpet\"}], \"choropleth\": [{\"colorbar\": {\"outlinewidth\": 0, \"ticks\": \"\"}, \"type\": \"choropleth\"}], \"contour\": [{\"colorbar\": {\"outlinewidth\": 0, \"ticks\": \"\"}, \"colorscale\": [[0.0, \"#0d0887\"], [0.1111111111111111, \"#46039f\"], [0.2222222222222222, \"#7201a8\"], [0.3333333333333333, \"#9c179e\"], [0.4444444444444444, \"#bd3786\"], [0.5555555555555556, \"#d8576b\"], [0.6666666666666666, \"#ed7953\"], [0.7777777777777778, \"#fb9f3a\"], [0.8888888888888888, \"#fdca26\"], [1.0, \"#f0f921\"]], \"type\": \"contour\"}], \"contourcarpet\": [{\"colorbar\": {\"outlinewidth\": 0, \"ticks\": \"\"}, \"type\": \"contourcarpet\"}], \"heatmap\": [{\"colorbar\": {\"outlinewidth\": 0, \"ticks\": \"\"}, \"colorscale\": [[0.0, \"#0d0887\"], [0.1111111111111111, \"#46039f\"], [0.2222222222222222, \"#7201a8\"], [0.3333333333333333, \"#9c179e\"], [0.4444444444444444, \"#bd3786\"], [0.5555555555555556, \"#d8576b\"], [0.6666666666666666, \"#ed7953\"], [0.7777777777777778, \"#fb9f3a\"], [0.8888888888888888, \"#fdca26\"], [1.0, \"#f0f921\"]], \"type\": \"heatmap\"}], \"heatmapgl\": [{\"colorbar\": {\"outlinewidth\": 0, \"ticks\": \"\"}, \"colorscale\": [[0.0, \"#0d0887\"], [0.1111111111111111, \"#46039f\"], [0.2222222222222222, \"#7201a8\"], [0.3333333333333333, \"#9c179e\"], [0.4444444444444444, \"#bd3786\"], [0.5555555555555556, \"#d8576b\"], [0.6666666666666666, \"#ed7953\"], [0.7777777777777778, \"#fb9f3a\"], [0.8888888888888888, \"#fdca26\"], [1.0, \"#f0f921\"]], \"type\": \"heatmapgl\"}], \"histogram\": [{\"marker\": {\"colorbar\": {\"outlinewidth\": 0, \"ticks\": \"\"}}, \"type\": \"histogram\"}], \"histogram2d\": [{\"colorbar\": {\"outlinewidth\": 0, \"ticks\": \"\"}, \"colorscale\": [[0.0, \"#0d0887\"], [0.1111111111111111, \"#46039f\"], [0.2222222222222222, \"#7201a8\"], [0.3333333333333333, \"#9c179e\"], [0.4444444444444444, \"#bd3786\"], [0.5555555555555556, \"#d8576b\"], [0.6666666666666666, \"#ed7953\"], [0.7777777777777778, \"#fb9f3a\"], [0.8888888888888888, \"#fdca26\"], [1.0, \"#f0f921\"]], \"type\": \"histogram2d\"}], \"histogram2dcontour\": [{\"colorbar\": {\"outlinewidth\": 0, \"ticks\": \"\"}, \"colorscale\": [[0.0, \"#0d0887\"], [0.1111111111111111, \"#46039f\"], [0.2222222222222222, \"#7201a8\"], [0.3333333333333333, \"#9c179e\"], [0.4444444444444444, \"#bd3786\"], [0.5555555555555556, \"#d8576b\"], [0.6666666666666666, \"#ed7953\"], [0.7777777777777778, \"#fb9f3a\"], [0.8888888888888888, \"#fdca26\"], [1.0, \"#f0f921\"]], \"type\": \"histogram2dcontour\"}], \"mesh3d\": [{\"colorbar\": {\"outlinewidth\": 0, \"ticks\": \"\"}, \"type\": \"mesh3d\"}], \"parcoords\": [{\"line\": {\"colorbar\": {\"outlinewidth\": 0, \"ticks\": \"\"}}, \"type\": \"parcoords\"}], \"scatter\": [{\"marker\": {\"line\": {\"color\": \"#283442\"}}, \"type\": \"scatter\"}], \"scatter3d\": [{\"line\": {\"colorbar\": {\"outlinewidth\": 0, \"ticks\": \"\"}}, \"marker\": {\"colorbar\": {\"outlinewidth\": 0, \"ticks\": \"\"}}, \"type\": \"scatter3d\"}], \"scattercarpet\": [{\"marker\": {\"colorbar\": {\"outlinewidth\": 0, \"ticks\": \"\"}}, \"type\": \"scattercarpet\"}], \"scattergeo\": [{\"marker\": {\"colorbar\": {\"outlinewidth\": 0, \"ticks\": \"\"}}, \"type\": \"scattergeo\"}], \"scattergl\": [{\"marker\": {\"line\": {\"color\": \"#283442\"}}, \"type\": \"scattergl\"}], \"scattermapbox\": [{\"marker\": {\"colorbar\": {\"outlinewidth\": 0, \"ticks\": \"\"}}, \"type\": \"scattermapbox\"}], \"scatterpolar\": [{\"marker\": {\"colorbar\": {\"outlinewidth\": 0, \"ticks\": \"\"}}, \"type\": \"scatterpolar\"}], \"scatterpolargl\": [{\"marker\": {\"colorbar\": {\"outlinewidth\": 0, \"ticks\": \"\"}}, \"type\": \"scatterpolargl\"}], \"scatterternary\": [{\"marker\": {\"colorbar\": {\"outlinewidth\": 0, \"ticks\": \"\"}}, \"type\": \"scatterternary\"}], \"surface\": [{\"colorbar\": {\"outlinewidth\": 0, \"ticks\": \"\"}, \"colorscale\": [[0.0, \"#0d0887\"], [0.1111111111111111, \"#46039f\"], [0.2222222222222222, \"#7201a8\"], [0.3333333333333333, \"#9c179e\"], [0.4444444444444444, \"#bd3786\"], [0.5555555555555556, \"#d8576b\"], [0.6666666666666666, \"#ed7953\"], [0.7777777777777778, \"#fb9f3a\"], [0.8888888888888888, \"#fdca26\"], [1.0, \"#f0f921\"]], \"type\": \"surface\"}], \"table\": [{\"cells\": {\"fill\": {\"color\": \"#506784\"}, \"line\": {\"color\": \"rgb(17,17,17)\"}}, \"header\": {\"fill\": {\"color\": \"#2a3f5f\"}, \"line\": {\"color\": \"rgb(17,17,17)\"}}, \"type\": \"table\"}]}, \"layout\": {\"annotationdefaults\": {\"arrowcolor\": \"#f2f5fa\", \"arrowhead\": 0, \"arrowwidth\": 1}, \"colorscale\": {\"diverging\": [[0, \"#8e0152\"], [0.1, \"#c51b7d\"], [0.2, \"#de77ae\"], [0.3, \"#f1b6da\"], [0.4, \"#fde0ef\"], [0.5, \"#f7f7f7\"], [0.6, \"#e6f5d0\"], [0.7, \"#b8e186\"], [0.8, \"#7fbc41\"], [0.9, \"#4d9221\"], [1, \"#276419\"]], \"sequential\": [[0.0, \"#0d0887\"], [0.1111111111111111, \"#46039f\"], [0.2222222222222222, \"#7201a8\"], [0.3333333333333333, \"#9c179e\"], [0.4444444444444444, \"#bd3786\"], [0.5555555555555556, \"#d8576b\"], [0.6666666666666666, \"#ed7953\"], [0.7777777777777778, \"#fb9f3a\"], [0.8888888888888888, \"#fdca26\"], [1.0, \"#f0f921\"]], \"sequentialminus\": [[0.0, \"#0d0887\"], [0.1111111111111111, \"#46039f\"], [0.2222222222222222, \"#7201a8\"], [0.3333333333333333, \"#9c179e\"], [0.4444444444444444, \"#bd3786\"], [0.5555555555555556, \"#d8576b\"], [0.6666666666666666, \"#ed7953\"], [0.7777777777777778, \"#fb9f3a\"], [0.8888888888888888, \"#fdca26\"], [1.0, \"#f0f921\"]]}, \"colorway\": [\"#636efa\", \"#EF553B\", \"#00cc96\", \"#ab63fa\", \"#FFA15A\", \"#19d3f3\", \"#FF6692\", \"#B6E880\", \"#FF97FF\", \"#FECB52\"], \"font\": {\"color\": \"#f2f5fa\"}, \"geo\": {\"bgcolor\": \"rgb(17,17,17)\", \"lakecolor\": \"rgb(17,17,17)\", \"landcolor\": \"rgb(17,17,17)\", \"showlakes\": true, \"showland\": true, \"subunitcolor\": \"#506784\"}, \"hoverlabel\": {\"align\": \"left\"}, \"hovermode\": \"closest\", \"mapbox\": {\"style\": \"dark\"}, \"paper_bgcolor\": \"rgb(17,17,17)\", \"plot_bgcolor\": \"rgb(17,17,17)\", \"polar\": {\"angularaxis\": {\"gridcolor\": \"#506784\", \"linecolor\": \"#506784\", \"ticks\": \"\"}, \"bgcolor\": \"rgb(17,17,17)\", \"radialaxis\": {\"gridcolor\": \"#506784\", \"linecolor\": \"#506784\", \"ticks\": \"\"}}, \"scene\": {\"xaxis\": {\"backgroundcolor\": \"rgb(17,17,17)\", \"gridcolor\": \"#506784\", \"gridwidth\": 2, \"linecolor\": \"#506784\", \"showbackground\": true, \"ticks\": \"\", \"zerolinecolor\": \"#C8D4E3\"}, \"yaxis\": {\"backgroundcolor\": \"rgb(17,17,17)\", \"gridcolor\": \"#506784\", \"gridwidth\": 2, \"linecolor\": \"#506784\", \"showbackground\": true, \"ticks\": \"\", \"zerolinecolor\": \"#C8D4E3\"}, \"zaxis\": {\"backgroundcolor\": \"rgb(17,17,17)\", \"gridcolor\": \"#506784\", \"gridwidth\": 2, \"linecolor\": \"#506784\", \"showbackground\": true, \"ticks\": \"\", \"zerolinecolor\": \"#C8D4E3\"}}, \"shapedefaults\": {\"line\": {\"color\": \"#f2f5fa\"}}, \"sliderdefaults\": {\"bgcolor\": \"#C8D4E3\", \"bordercolor\": \"rgb(17,17,17)\", \"borderwidth\": 1, \"tickwidth\": 0}, \"ternary\": {\"aaxis\": {\"gridcolor\": \"#506784\", \"linecolor\": \"#506784\", \"ticks\": \"\"}, \"baxis\": {\"gridcolor\": \"#506784\", \"linecolor\": \"#506784\", \"ticks\": \"\"}, \"bgcolor\": \"rgb(17,17,17)\", \"caxis\": {\"gridcolor\": \"#506784\", \"linecolor\": \"#506784\", \"ticks\": \"\"}}, \"title\": {\"x\": 0.05}, \"updatemenudefaults\": {\"bgcolor\": \"#506784\", \"borderwidth\": 0}, \"xaxis\": {\"automargin\": true, \"gridcolor\": \"#283442\", \"linecolor\": \"#506784\", \"ticks\": \"\", \"zerolinecolor\": \"#283442\", \"zerolinewidth\": 2}, \"yaxis\": {\"automargin\": true, \"gridcolor\": \"#283442\", \"linecolor\": \"#506784\", \"ticks\": \"\", \"zerolinecolor\": \"#283442\", \"zerolinewidth\": 2}}}, \"title\": {\"text\": \"Disper\\u00e7\\u00e3o dos \\u00edndices de ttvil e maxz das 3 classes\"}, \"xaxis\": {\"title\": {\"text\": \"M\\u00e1xima precipita\\u00e7\\u00e3o (dBZ)\"}}, \"yaxis\": {\"title\": {\"text\": \"VIL (kg m<sup>-2</sup>)\"}}},\n",
       "                        {\"responsive\": true}\n",
       "                    ).then(function(){\n",
       "                            \n",
       "var gd = document.getElementById('016ec551-d8c4-4cb6-90f6-fab259f05d6d');\n",
       "var x = new MutationObserver(function (mutations, observer) {{\n",
       "        var display = window.getComputedStyle(gd).display;\n",
       "        if (!display || display === 'none') {{\n",
       "            console.log([gd, 'removed!']);\n",
       "            Plotly.purge(gd);\n",
       "            observer.disconnect();\n",
       "        }}\n",
       "}});\n",
       "\n",
       "// Listen for the removal of the full notebook cells\n",
       "var notebookContainer = gd.closest('#notebook-container');\n",
       "if (notebookContainer) {{\n",
       "    x.observe(notebookContainer, {childList: true});\n",
       "}}\n",
       "\n",
       "// Listen for the clearing of the current output cell\n",
       "var outputEl = gd.closest('.output');\n",
       "if (outputEl) {{\n",
       "    x.observe(outputEl, {childList: true});\n",
       "}}\n",
       "\n",
       "                        })\n",
       "                };\n",
       "                });\n",
       "            </script>\n",
       "        </div>"
      ]
     },
     "metadata": {},
     "output_type": "display_data"
    }
   ],
   "source": [
    "columns = [\n",
    "    'ttyyyxx3', 'label', 'riverfrac', 'convfrac', 'strafrac', \n",
    "    'maxz', 'ttvil', 'maxprec',\n",
    "]\n",
    "\n",
    "samples = 1\n",
    "samples *=  100\n",
    "samples = int((min(values)*samples)/100)\n",
    "\n",
    "df1 = class1.sample(samples)\n",
    "df2 = class2.sample(samples)\n",
    "df3 = class3.sample(samples)\n",
    "\n",
    "df1['label'] = 0\n",
    "df2['label'] = 1\n",
    "df3['label'] = 2\n",
    "\n",
    "df_ = pd.concat([df1, df2, df3], sort=False).sample(samples*3)\n",
    "\n",
    "\n",
    "fig = go.Figure()\n",
    "\n",
    "a = df_[df_['label'] == 0][['ttvil']]\n",
    "b = df_[df_['label'] == 1][['ttvil']]\n",
    "c = df_[df_['label'] == 2][['ttvil']]\n",
    "\n",
    "aa = df_[df_['label'] == 0][['maxz']]\n",
    "bb = df_[df_['label'] == 1][['maxz']]\n",
    "cc = df_[df_['label'] == 2][['maxz']]\n",
    "\n",
    "fig.add_trace(\n",
    "    go.Scatter(x=aa.values.ravel(), y=a.values.ravel(),\n",
    "              mode='markers', name='Subconjunto sem detecção de raios', marker=dict(opacity=.2))\n",
    ")\n",
    "fig.add_trace(\n",
    "    go.Scatter(x=bb.values.ravel(), y=b.values.ravel(),\n",
    "              mode='markers', name='Subconjunto com atividade moderada de raios', marker=dict(opacity=.2))\n",
    ")\n",
    "fig.add_trace(\n",
    "    go.Scatter(x=cc.values.ravel(), y=c.values.ravel(),\n",
    "              mode='markers', name='Subconjunto com atividade extrema de raios', \n",
    "               marker=dict(opacity=.2, line=dict(color='yellow', width=1)))\n",
    ")\n",
    "fig.update_xaxes(title_text='Máxima precipitação (dBZ)')\n",
    "fig.update_yaxes(title_text='VIL (kg m<sup>-2</sup>)')\n",
    "fig.update_layout(\n",
    "    template='plotly_dark',\n",
    "    title='Disperção dos índices de ttvil e maxz das 3 classes'\n",
    ")\n",
    "\n",
    "# offline.plot(fig, image_filename='scatter-of-indexes-ttvilXmaxz-fam', image='png', image_width=1000, image_height=600)\n",
    "\n",
    "offline.iplot(fig)"
   ]
  },
  {
   "cell_type": "code",
   "execution_count": 61,
   "metadata": {
    "ExecuteTime": {
     "end_time": "2019-09-06T00:54:19.192792Z",
     "start_time": "2019-09-06T00:54:17.857509Z"
    }
   },
   "outputs": [],
   "source": [
    "X_train, X_test, y_train, y_test = train_test_split(df_[columns[2:]], \\\n",
    "                                                    df_[[columns[1]]], \\\n",
    "                                                    test_size=.2)\n",
    "rf100 = RandomForestClassifier(n_estimators=500).fit(X_train, y_train.values.ravel())\n",
    "y_pred = rf100.predict(X_test)"
   ]
  },
  {
   "cell_type": "code",
   "execution_count": 62,
   "metadata": {
    "ExecuteTime": {
     "end_time": "2019-09-06T00:54:21.840589Z",
     "start_time": "2019-09-06T00:54:21.791118Z"
    }
   },
   "outputs": [
    {
     "data": {
      "text/plain": [
       "array([0.08576544, 0.10144318, 0.10310059, 0.18838557, 0.33657666,\n",
       "       0.18472856])"
      ]
     },
     "execution_count": 62,
     "metadata": {},
     "output_type": "execute_result"
    }
   ],
   "source": [
    "rf100.feature_importances_"
   ]
  },
  {
   "cell_type": "code",
   "execution_count": 63,
   "metadata": {
    "ExecuteTime": {
     "end_time": "2019-09-06T00:54:26.558024Z",
     "start_time": "2019-09-06T00:54:26.198970Z"
    },
    "scrolled": false
   },
   "outputs": [
    {
     "data": {
      "application/vnd.plotly.v1+json": {
       "config": {
        "linkText": "Export to plot.ly",
        "plotlyServerURL": "https://plot.ly",
        "showLink": false
       },
       "data": [
        {
         "marker": {
          "color": [
           "#DC1F2A",
           "#001427",
           "#708D81",
           "#F4D58D",
           "#02CC6D",
           "#02C4EF",
           "#FAFF05",
           "#CD05FF",
           "#FF8205"
          ]
         },
         "text": [
          "8.58%",
          "10.14%",
          "10.31%",
          "18.84%",
          "33.66%",
          "18.47%"
         ],
         "textposition": "outside",
         "type": "bar",
         "x": [
          "riverfrac",
          "convfrac",
          "strafrac",
          "maxz",
          "ttvil",
          "maxprec"
         ],
         "y": [
          8.576543950765524,
          10.144317500349759,
          10.310058891683443,
          18.838557269378118,
          33.65766616150226,
          18.472856226320854
         ]
        }
       ],
       "layout": {
        "autosize": true,
        "template": {
         "data": {
          "bar": [
           {
            "error_x": {
             "color": "#f2f5fa"
            },
            "error_y": {
             "color": "#f2f5fa"
            },
            "marker": {
             "line": {
              "color": "rgb(17,17,17)",
              "width": 0.5
             }
            },
            "type": "bar"
           }
          ],
          "barpolar": [
           {
            "marker": {
             "line": {
              "color": "rgb(17,17,17)",
              "width": 0.5
             }
            },
            "type": "barpolar"
           }
          ],
          "carpet": [
           {
            "aaxis": {
             "endlinecolor": "#A2B1C6",
             "gridcolor": "#506784",
             "linecolor": "#506784",
             "minorgridcolor": "#506784",
             "startlinecolor": "#A2B1C6"
            },
            "baxis": {
             "endlinecolor": "#A2B1C6",
             "gridcolor": "#506784",
             "linecolor": "#506784",
             "minorgridcolor": "#506784",
             "startlinecolor": "#A2B1C6"
            },
            "type": "carpet"
           }
          ],
          "choropleth": [
           {
            "colorbar": {
             "outlinewidth": 0,
             "ticks": ""
            },
            "type": "choropleth"
           }
          ],
          "contour": [
           {
            "colorbar": {
             "outlinewidth": 0,
             "ticks": ""
            },
            "colorscale": [
             [
              0,
              "#0d0887"
             ],
             [
              0.1111111111111111,
              "#46039f"
             ],
             [
              0.2222222222222222,
              "#7201a8"
             ],
             [
              0.3333333333333333,
              "#9c179e"
             ],
             [
              0.4444444444444444,
              "#bd3786"
             ],
             [
              0.5555555555555556,
              "#d8576b"
             ],
             [
              0.6666666666666666,
              "#ed7953"
             ],
             [
              0.7777777777777778,
              "#fb9f3a"
             ],
             [
              0.8888888888888888,
              "#fdca26"
             ],
             [
              1,
              "#f0f921"
             ]
            ],
            "type": "contour"
           }
          ],
          "contourcarpet": [
           {
            "colorbar": {
             "outlinewidth": 0,
             "ticks": ""
            },
            "type": "contourcarpet"
           }
          ],
          "heatmap": [
           {
            "colorbar": {
             "outlinewidth": 0,
             "ticks": ""
            },
            "colorscale": [
             [
              0,
              "#0d0887"
             ],
             [
              0.1111111111111111,
              "#46039f"
             ],
             [
              0.2222222222222222,
              "#7201a8"
             ],
             [
              0.3333333333333333,
              "#9c179e"
             ],
             [
              0.4444444444444444,
              "#bd3786"
             ],
             [
              0.5555555555555556,
              "#d8576b"
             ],
             [
              0.6666666666666666,
              "#ed7953"
             ],
             [
              0.7777777777777778,
              "#fb9f3a"
             ],
             [
              0.8888888888888888,
              "#fdca26"
             ],
             [
              1,
              "#f0f921"
             ]
            ],
            "type": "heatmap"
           }
          ],
          "heatmapgl": [
           {
            "colorbar": {
             "outlinewidth": 0,
             "ticks": ""
            },
            "colorscale": [
             [
              0,
              "#0d0887"
             ],
             [
              0.1111111111111111,
              "#46039f"
             ],
             [
              0.2222222222222222,
              "#7201a8"
             ],
             [
              0.3333333333333333,
              "#9c179e"
             ],
             [
              0.4444444444444444,
              "#bd3786"
             ],
             [
              0.5555555555555556,
              "#d8576b"
             ],
             [
              0.6666666666666666,
              "#ed7953"
             ],
             [
              0.7777777777777778,
              "#fb9f3a"
             ],
             [
              0.8888888888888888,
              "#fdca26"
             ],
             [
              1,
              "#f0f921"
             ]
            ],
            "type": "heatmapgl"
           }
          ],
          "histogram": [
           {
            "marker": {
             "colorbar": {
              "outlinewidth": 0,
              "ticks": ""
             }
            },
            "type": "histogram"
           }
          ],
          "histogram2d": [
           {
            "colorbar": {
             "outlinewidth": 0,
             "ticks": ""
            },
            "colorscale": [
             [
              0,
              "#0d0887"
             ],
             [
              0.1111111111111111,
              "#46039f"
             ],
             [
              0.2222222222222222,
              "#7201a8"
             ],
             [
              0.3333333333333333,
              "#9c179e"
             ],
             [
              0.4444444444444444,
              "#bd3786"
             ],
             [
              0.5555555555555556,
              "#d8576b"
             ],
             [
              0.6666666666666666,
              "#ed7953"
             ],
             [
              0.7777777777777778,
              "#fb9f3a"
             ],
             [
              0.8888888888888888,
              "#fdca26"
             ],
             [
              1,
              "#f0f921"
             ]
            ],
            "type": "histogram2d"
           }
          ],
          "histogram2dcontour": [
           {
            "colorbar": {
             "outlinewidth": 0,
             "ticks": ""
            },
            "colorscale": [
             [
              0,
              "#0d0887"
             ],
             [
              0.1111111111111111,
              "#46039f"
             ],
             [
              0.2222222222222222,
              "#7201a8"
             ],
             [
              0.3333333333333333,
              "#9c179e"
             ],
             [
              0.4444444444444444,
              "#bd3786"
             ],
             [
              0.5555555555555556,
              "#d8576b"
             ],
             [
              0.6666666666666666,
              "#ed7953"
             ],
             [
              0.7777777777777778,
              "#fb9f3a"
             ],
             [
              0.8888888888888888,
              "#fdca26"
             ],
             [
              1,
              "#f0f921"
             ]
            ],
            "type": "histogram2dcontour"
           }
          ],
          "mesh3d": [
           {
            "colorbar": {
             "outlinewidth": 0,
             "ticks": ""
            },
            "type": "mesh3d"
           }
          ],
          "parcoords": [
           {
            "line": {
             "colorbar": {
              "outlinewidth": 0,
              "ticks": ""
             }
            },
            "type": "parcoords"
           }
          ],
          "scatter": [
           {
            "marker": {
             "line": {
              "color": "#283442"
             }
            },
            "type": "scatter"
           }
          ],
          "scatter3d": [
           {
            "line": {
             "colorbar": {
              "outlinewidth": 0,
              "ticks": ""
             }
            },
            "marker": {
             "colorbar": {
              "outlinewidth": 0,
              "ticks": ""
             }
            },
            "type": "scatter3d"
           }
          ],
          "scattercarpet": [
           {
            "marker": {
             "colorbar": {
              "outlinewidth": 0,
              "ticks": ""
             }
            },
            "type": "scattercarpet"
           }
          ],
          "scattergeo": [
           {
            "marker": {
             "colorbar": {
              "outlinewidth": 0,
              "ticks": ""
             }
            },
            "type": "scattergeo"
           }
          ],
          "scattergl": [
           {
            "marker": {
             "line": {
              "color": "#283442"
             }
            },
            "type": "scattergl"
           }
          ],
          "scattermapbox": [
           {
            "marker": {
             "colorbar": {
              "outlinewidth": 0,
              "ticks": ""
             }
            },
            "type": "scattermapbox"
           }
          ],
          "scatterpolar": [
           {
            "marker": {
             "colorbar": {
              "outlinewidth": 0,
              "ticks": ""
             }
            },
            "type": "scatterpolar"
           }
          ],
          "scatterpolargl": [
           {
            "marker": {
             "colorbar": {
              "outlinewidth": 0,
              "ticks": ""
             }
            },
            "type": "scatterpolargl"
           }
          ],
          "scatterternary": [
           {
            "marker": {
             "colorbar": {
              "outlinewidth": 0,
              "ticks": ""
             }
            },
            "type": "scatterternary"
           }
          ],
          "surface": [
           {
            "colorbar": {
             "outlinewidth": 0,
             "ticks": ""
            },
            "colorscale": [
             [
              0,
              "#0d0887"
             ],
             [
              0.1111111111111111,
              "#46039f"
             ],
             [
              0.2222222222222222,
              "#7201a8"
             ],
             [
              0.3333333333333333,
              "#9c179e"
             ],
             [
              0.4444444444444444,
              "#bd3786"
             ],
             [
              0.5555555555555556,
              "#d8576b"
             ],
             [
              0.6666666666666666,
              "#ed7953"
             ],
             [
              0.7777777777777778,
              "#fb9f3a"
             ],
             [
              0.8888888888888888,
              "#fdca26"
             ],
             [
              1,
              "#f0f921"
             ]
            ],
            "type": "surface"
           }
          ],
          "table": [
           {
            "cells": {
             "fill": {
              "color": "#506784"
             },
             "line": {
              "color": "rgb(17,17,17)"
             }
            },
            "header": {
             "fill": {
              "color": "#2a3f5f"
             },
             "line": {
              "color": "rgb(17,17,17)"
             }
            },
            "type": "table"
           }
          ]
         },
         "layout": {
          "annotationdefaults": {
           "arrowcolor": "#f2f5fa",
           "arrowhead": 0,
           "arrowwidth": 1
          },
          "colorscale": {
           "diverging": [
            [
             0,
             "#8e0152"
            ],
            [
             0.1,
             "#c51b7d"
            ],
            [
             0.2,
             "#de77ae"
            ],
            [
             0.3,
             "#f1b6da"
            ],
            [
             0.4,
             "#fde0ef"
            ],
            [
             0.5,
             "#f7f7f7"
            ],
            [
             0.6,
             "#e6f5d0"
            ],
            [
             0.7,
             "#b8e186"
            ],
            [
             0.8,
             "#7fbc41"
            ],
            [
             0.9,
             "#4d9221"
            ],
            [
             1,
             "#276419"
            ]
           ],
           "sequential": [
            [
             0,
             "#0d0887"
            ],
            [
             0.1111111111111111,
             "#46039f"
            ],
            [
             0.2222222222222222,
             "#7201a8"
            ],
            [
             0.3333333333333333,
             "#9c179e"
            ],
            [
             0.4444444444444444,
             "#bd3786"
            ],
            [
             0.5555555555555556,
             "#d8576b"
            ],
            [
             0.6666666666666666,
             "#ed7953"
            ],
            [
             0.7777777777777778,
             "#fb9f3a"
            ],
            [
             0.8888888888888888,
             "#fdca26"
            ],
            [
             1,
             "#f0f921"
            ]
           ],
           "sequentialminus": [
            [
             0,
             "#0d0887"
            ],
            [
             0.1111111111111111,
             "#46039f"
            ],
            [
             0.2222222222222222,
             "#7201a8"
            ],
            [
             0.3333333333333333,
             "#9c179e"
            ],
            [
             0.4444444444444444,
             "#bd3786"
            ],
            [
             0.5555555555555556,
             "#d8576b"
            ],
            [
             0.6666666666666666,
             "#ed7953"
            ],
            [
             0.7777777777777778,
             "#fb9f3a"
            ],
            [
             0.8888888888888888,
             "#fdca26"
            ],
            [
             1,
             "#f0f921"
            ]
           ]
          },
          "colorway": [
           "#636efa",
           "#EF553B",
           "#00cc96",
           "#ab63fa",
           "#FFA15A",
           "#19d3f3",
           "#FF6692",
           "#B6E880",
           "#FF97FF",
           "#FECB52"
          ],
          "font": {
           "color": "#f2f5fa"
          },
          "geo": {
           "bgcolor": "rgb(17,17,17)",
           "lakecolor": "rgb(17,17,17)",
           "landcolor": "rgb(17,17,17)",
           "showlakes": true,
           "showland": true,
           "subunitcolor": "#506784"
          },
          "hoverlabel": {
           "align": "left"
          },
          "hovermode": "closest",
          "mapbox": {
           "style": "dark"
          },
          "paper_bgcolor": "rgb(17,17,17)",
          "plot_bgcolor": "rgb(17,17,17)",
          "polar": {
           "angularaxis": {
            "gridcolor": "#506784",
            "linecolor": "#506784",
            "ticks": ""
           },
           "bgcolor": "rgb(17,17,17)",
           "radialaxis": {
            "gridcolor": "#506784",
            "linecolor": "#506784",
            "ticks": ""
           }
          },
          "scene": {
           "xaxis": {
            "backgroundcolor": "rgb(17,17,17)",
            "gridcolor": "#506784",
            "gridwidth": 2,
            "linecolor": "#506784",
            "showbackground": true,
            "ticks": "",
            "zerolinecolor": "#C8D4E3"
           },
           "yaxis": {
            "backgroundcolor": "rgb(17,17,17)",
            "gridcolor": "#506784",
            "gridwidth": 2,
            "linecolor": "#506784",
            "showbackground": true,
            "ticks": "",
            "zerolinecolor": "#C8D4E3"
           },
           "zaxis": {
            "backgroundcolor": "rgb(17,17,17)",
            "gridcolor": "#506784",
            "gridwidth": 2,
            "linecolor": "#506784",
            "showbackground": true,
            "ticks": "",
            "zerolinecolor": "#C8D4E3"
           }
          },
          "shapedefaults": {
           "line": {
            "color": "#f2f5fa"
           }
          },
          "sliderdefaults": {
           "bgcolor": "#C8D4E3",
           "bordercolor": "rgb(17,17,17)",
           "borderwidth": 1,
           "tickwidth": 0
          },
          "ternary": {
           "aaxis": {
            "gridcolor": "#506784",
            "linecolor": "#506784",
            "ticks": ""
           },
           "baxis": {
            "gridcolor": "#506784",
            "linecolor": "#506784",
            "ticks": ""
           },
           "bgcolor": "rgb(17,17,17)",
           "caxis": {
            "gridcolor": "#506784",
            "linecolor": "#506784",
            "ticks": ""
           }
          },
          "title": {
           "x": 0.05
          },
          "updatemenudefaults": {
           "bgcolor": "#506784",
           "borderwidth": 0
          },
          "xaxis": {
           "automargin": true,
           "gridcolor": "#283442",
           "linecolor": "#506784",
           "ticks": "",
           "zerolinecolor": "#283442",
           "zerolinewidth": 2
          },
          "yaxis": {
           "automargin": true,
           "gridcolor": "#283442",
           "linecolor": "#506784",
           "ticks": "",
           "zerolinecolor": "#283442",
           "zerolinewidth": 2
          }
         }
        },
        "title": {
         "text": "Uso dos atributos pela classificação da floresta aleatória"
        }
       }
      },
      "text/html": [
       "<div>\n",
       "        \n",
       "        \n",
       "            <div id=\"9a202871-67b5-4a36-997e-7cc43ec167f4\" class=\"plotly-graph-div\" style=\"height:525px; width:100%;\"></div>\n",
       "            <script type=\"text/javascript\">\n",
       "                require([\"plotly\"], function(Plotly) {\n",
       "                    window.PLOTLYENV=window.PLOTLYENV || {};\n",
       "                    \n",
       "                if (document.getElementById(\"9a202871-67b5-4a36-997e-7cc43ec167f4\")) {\n",
       "                    Plotly.newPlot(\n",
       "                        '9a202871-67b5-4a36-997e-7cc43ec167f4',\n",
       "                        [{\"marker\": {\"color\": [\"#DC1F2A\", \"#001427\", \"#708D81\", \"#F4D58D\", \"#02CC6D\", \"#02C4EF\", \"#FAFF05\", \"#CD05FF\", \"#FF8205\"]}, \"text\": [\"8.58%\", \"10.14%\", \"10.31%\", \"18.84%\", \"33.66%\", \"18.47%\"], \"textposition\": \"outside\", \"type\": \"bar\", \"x\": [\"riverfrac\", \"convfrac\", \"strafrac\", \"maxz\", \"ttvil\", \"maxprec\"], \"y\": [8.576543950765524, 10.144317500349759, 10.310058891683443, 18.838557269378118, 33.65766616150226, 18.472856226320854]}],\n",
       "                        {\"autosize\": true, \"template\": {\"data\": {\"bar\": [{\"error_x\": {\"color\": \"#f2f5fa\"}, \"error_y\": {\"color\": \"#f2f5fa\"}, \"marker\": {\"line\": {\"color\": \"rgb(17,17,17)\", \"width\": 0.5}}, \"type\": \"bar\"}], \"barpolar\": [{\"marker\": {\"line\": {\"color\": \"rgb(17,17,17)\", \"width\": 0.5}}, \"type\": \"barpolar\"}], \"carpet\": [{\"aaxis\": {\"endlinecolor\": \"#A2B1C6\", \"gridcolor\": \"#506784\", \"linecolor\": \"#506784\", \"minorgridcolor\": \"#506784\", \"startlinecolor\": \"#A2B1C6\"}, \"baxis\": {\"endlinecolor\": \"#A2B1C6\", \"gridcolor\": \"#506784\", \"linecolor\": \"#506784\", \"minorgridcolor\": \"#506784\", \"startlinecolor\": \"#A2B1C6\"}, \"type\": \"carpet\"}], \"choropleth\": [{\"colorbar\": {\"outlinewidth\": 0, \"ticks\": \"\"}, \"type\": \"choropleth\"}], \"contour\": [{\"colorbar\": {\"outlinewidth\": 0, \"ticks\": \"\"}, \"colorscale\": [[0.0, \"#0d0887\"], [0.1111111111111111, \"#46039f\"], [0.2222222222222222, \"#7201a8\"], [0.3333333333333333, \"#9c179e\"], [0.4444444444444444, \"#bd3786\"], [0.5555555555555556, \"#d8576b\"], [0.6666666666666666, \"#ed7953\"], [0.7777777777777778, \"#fb9f3a\"], [0.8888888888888888, \"#fdca26\"], [1.0, \"#f0f921\"]], \"type\": \"contour\"}], \"contourcarpet\": [{\"colorbar\": {\"outlinewidth\": 0, \"ticks\": \"\"}, \"type\": \"contourcarpet\"}], \"heatmap\": [{\"colorbar\": {\"outlinewidth\": 0, \"ticks\": \"\"}, \"colorscale\": [[0.0, \"#0d0887\"], [0.1111111111111111, \"#46039f\"], [0.2222222222222222, \"#7201a8\"], [0.3333333333333333, \"#9c179e\"], [0.4444444444444444, \"#bd3786\"], [0.5555555555555556, \"#d8576b\"], [0.6666666666666666, \"#ed7953\"], [0.7777777777777778, \"#fb9f3a\"], [0.8888888888888888, \"#fdca26\"], [1.0, \"#f0f921\"]], \"type\": \"heatmap\"}], \"heatmapgl\": [{\"colorbar\": {\"outlinewidth\": 0, \"ticks\": \"\"}, \"colorscale\": [[0.0, \"#0d0887\"], [0.1111111111111111, \"#46039f\"], [0.2222222222222222, \"#7201a8\"], [0.3333333333333333, \"#9c179e\"], [0.4444444444444444, \"#bd3786\"], [0.5555555555555556, \"#d8576b\"], [0.6666666666666666, \"#ed7953\"], [0.7777777777777778, \"#fb9f3a\"], [0.8888888888888888, \"#fdca26\"], [1.0, \"#f0f921\"]], \"type\": \"heatmapgl\"}], \"histogram\": [{\"marker\": {\"colorbar\": {\"outlinewidth\": 0, \"ticks\": \"\"}}, \"type\": \"histogram\"}], \"histogram2d\": [{\"colorbar\": {\"outlinewidth\": 0, \"ticks\": \"\"}, \"colorscale\": [[0.0, \"#0d0887\"], [0.1111111111111111, \"#46039f\"], [0.2222222222222222, \"#7201a8\"], [0.3333333333333333, \"#9c179e\"], [0.4444444444444444, \"#bd3786\"], [0.5555555555555556, \"#d8576b\"], [0.6666666666666666, \"#ed7953\"], [0.7777777777777778, \"#fb9f3a\"], [0.8888888888888888, \"#fdca26\"], [1.0, \"#f0f921\"]], \"type\": \"histogram2d\"}], \"histogram2dcontour\": [{\"colorbar\": {\"outlinewidth\": 0, \"ticks\": \"\"}, \"colorscale\": [[0.0, \"#0d0887\"], [0.1111111111111111, \"#46039f\"], [0.2222222222222222, \"#7201a8\"], [0.3333333333333333, \"#9c179e\"], [0.4444444444444444, \"#bd3786\"], [0.5555555555555556, \"#d8576b\"], [0.6666666666666666, \"#ed7953\"], [0.7777777777777778, \"#fb9f3a\"], [0.8888888888888888, \"#fdca26\"], [1.0, \"#f0f921\"]], \"type\": \"histogram2dcontour\"}], \"mesh3d\": [{\"colorbar\": {\"outlinewidth\": 0, \"ticks\": \"\"}, \"type\": \"mesh3d\"}], \"parcoords\": [{\"line\": {\"colorbar\": {\"outlinewidth\": 0, \"ticks\": \"\"}}, \"type\": \"parcoords\"}], \"scatter\": [{\"marker\": {\"line\": {\"color\": \"#283442\"}}, \"type\": \"scatter\"}], \"scatter3d\": [{\"line\": {\"colorbar\": {\"outlinewidth\": 0, \"ticks\": \"\"}}, \"marker\": {\"colorbar\": {\"outlinewidth\": 0, \"ticks\": \"\"}}, \"type\": \"scatter3d\"}], \"scattercarpet\": [{\"marker\": {\"colorbar\": {\"outlinewidth\": 0, \"ticks\": \"\"}}, \"type\": \"scattercarpet\"}], \"scattergeo\": [{\"marker\": {\"colorbar\": {\"outlinewidth\": 0, \"ticks\": \"\"}}, \"type\": \"scattergeo\"}], \"scattergl\": [{\"marker\": {\"line\": {\"color\": \"#283442\"}}, \"type\": \"scattergl\"}], \"scattermapbox\": [{\"marker\": {\"colorbar\": {\"outlinewidth\": 0, \"ticks\": \"\"}}, \"type\": \"scattermapbox\"}], \"scatterpolar\": [{\"marker\": {\"colorbar\": {\"outlinewidth\": 0, \"ticks\": \"\"}}, \"type\": \"scatterpolar\"}], \"scatterpolargl\": [{\"marker\": {\"colorbar\": {\"outlinewidth\": 0, \"ticks\": \"\"}}, \"type\": \"scatterpolargl\"}], \"scatterternary\": [{\"marker\": {\"colorbar\": {\"outlinewidth\": 0, \"ticks\": \"\"}}, \"type\": \"scatterternary\"}], \"surface\": [{\"colorbar\": {\"outlinewidth\": 0, \"ticks\": \"\"}, \"colorscale\": [[0.0, \"#0d0887\"], [0.1111111111111111, \"#46039f\"], [0.2222222222222222, \"#7201a8\"], [0.3333333333333333, \"#9c179e\"], [0.4444444444444444, \"#bd3786\"], [0.5555555555555556, \"#d8576b\"], [0.6666666666666666, \"#ed7953\"], [0.7777777777777778, \"#fb9f3a\"], [0.8888888888888888, \"#fdca26\"], [1.0, \"#f0f921\"]], \"type\": \"surface\"}], \"table\": [{\"cells\": {\"fill\": {\"color\": \"#506784\"}, \"line\": {\"color\": \"rgb(17,17,17)\"}}, \"header\": {\"fill\": {\"color\": \"#2a3f5f\"}, \"line\": {\"color\": \"rgb(17,17,17)\"}}, \"type\": \"table\"}]}, \"layout\": {\"annotationdefaults\": {\"arrowcolor\": \"#f2f5fa\", \"arrowhead\": 0, \"arrowwidth\": 1}, \"colorscale\": {\"diverging\": [[0, \"#8e0152\"], [0.1, \"#c51b7d\"], [0.2, \"#de77ae\"], [0.3, \"#f1b6da\"], [0.4, \"#fde0ef\"], [0.5, \"#f7f7f7\"], [0.6, \"#e6f5d0\"], [0.7, \"#b8e186\"], [0.8, \"#7fbc41\"], [0.9, \"#4d9221\"], [1, \"#276419\"]], \"sequential\": [[0.0, \"#0d0887\"], [0.1111111111111111, \"#46039f\"], [0.2222222222222222, \"#7201a8\"], [0.3333333333333333, \"#9c179e\"], [0.4444444444444444, \"#bd3786\"], [0.5555555555555556, \"#d8576b\"], [0.6666666666666666, \"#ed7953\"], [0.7777777777777778, \"#fb9f3a\"], [0.8888888888888888, \"#fdca26\"], [1.0, \"#f0f921\"]], \"sequentialminus\": [[0.0, \"#0d0887\"], [0.1111111111111111, \"#46039f\"], [0.2222222222222222, \"#7201a8\"], [0.3333333333333333, \"#9c179e\"], [0.4444444444444444, \"#bd3786\"], [0.5555555555555556, \"#d8576b\"], [0.6666666666666666, \"#ed7953\"], [0.7777777777777778, \"#fb9f3a\"], [0.8888888888888888, \"#fdca26\"], [1.0, \"#f0f921\"]]}, \"colorway\": [\"#636efa\", \"#EF553B\", \"#00cc96\", \"#ab63fa\", \"#FFA15A\", \"#19d3f3\", \"#FF6692\", \"#B6E880\", \"#FF97FF\", \"#FECB52\"], \"font\": {\"color\": \"#f2f5fa\"}, \"geo\": {\"bgcolor\": \"rgb(17,17,17)\", \"lakecolor\": \"rgb(17,17,17)\", \"landcolor\": \"rgb(17,17,17)\", \"showlakes\": true, \"showland\": true, \"subunitcolor\": \"#506784\"}, \"hoverlabel\": {\"align\": \"left\"}, \"hovermode\": \"closest\", \"mapbox\": {\"style\": \"dark\"}, \"paper_bgcolor\": \"rgb(17,17,17)\", \"plot_bgcolor\": \"rgb(17,17,17)\", \"polar\": {\"angularaxis\": {\"gridcolor\": \"#506784\", \"linecolor\": \"#506784\", \"ticks\": \"\"}, \"bgcolor\": \"rgb(17,17,17)\", \"radialaxis\": {\"gridcolor\": \"#506784\", \"linecolor\": \"#506784\", \"ticks\": \"\"}}, \"scene\": {\"xaxis\": {\"backgroundcolor\": \"rgb(17,17,17)\", \"gridcolor\": \"#506784\", \"gridwidth\": 2, \"linecolor\": \"#506784\", \"showbackground\": true, \"ticks\": \"\", \"zerolinecolor\": \"#C8D4E3\"}, \"yaxis\": {\"backgroundcolor\": \"rgb(17,17,17)\", \"gridcolor\": \"#506784\", \"gridwidth\": 2, \"linecolor\": \"#506784\", \"showbackground\": true, \"ticks\": \"\", \"zerolinecolor\": \"#C8D4E3\"}, \"zaxis\": {\"backgroundcolor\": \"rgb(17,17,17)\", \"gridcolor\": \"#506784\", \"gridwidth\": 2, \"linecolor\": \"#506784\", \"showbackground\": true, \"ticks\": \"\", \"zerolinecolor\": \"#C8D4E3\"}}, \"shapedefaults\": {\"line\": {\"color\": \"#f2f5fa\"}}, \"sliderdefaults\": {\"bgcolor\": \"#C8D4E3\", \"bordercolor\": \"rgb(17,17,17)\", \"borderwidth\": 1, \"tickwidth\": 0}, \"ternary\": {\"aaxis\": {\"gridcolor\": \"#506784\", \"linecolor\": \"#506784\", \"ticks\": \"\"}, \"baxis\": {\"gridcolor\": \"#506784\", \"linecolor\": \"#506784\", \"ticks\": \"\"}, \"bgcolor\": \"rgb(17,17,17)\", \"caxis\": {\"gridcolor\": \"#506784\", \"linecolor\": \"#506784\", \"ticks\": \"\"}}, \"title\": {\"x\": 0.05}, \"updatemenudefaults\": {\"bgcolor\": \"#506784\", \"borderwidth\": 0}, \"xaxis\": {\"automargin\": true, \"gridcolor\": \"#283442\", \"linecolor\": \"#506784\", \"ticks\": \"\", \"zerolinecolor\": \"#283442\", \"zerolinewidth\": 2}, \"yaxis\": {\"automargin\": true, \"gridcolor\": \"#283442\", \"linecolor\": \"#506784\", \"ticks\": \"\", \"zerolinecolor\": \"#283442\", \"zerolinewidth\": 2}}}, \"title\": {\"text\": \"Uso dos atributos pela classifica\\u00e7\\u00e3o da floresta aleat\\u00f3ria\"}},\n",
       "                        {\"responsive\": true}\n",
       "                    ).then(function(){\n",
       "                            \n",
       "var gd = document.getElementById('9a202871-67b5-4a36-997e-7cc43ec167f4');\n",
       "var x = new MutationObserver(function (mutations, observer) {{\n",
       "        var display = window.getComputedStyle(gd).display;\n",
       "        if (!display || display === 'none') {{\n",
       "            console.log([gd, 'removed!']);\n",
       "            Plotly.purge(gd);\n",
       "            observer.disconnect();\n",
       "        }}\n",
       "}});\n",
       "\n",
       "// Listen for the removal of the full notebook cells\n",
       "var notebookContainer = gd.closest('#notebook-container');\n",
       "if (notebookContainer) {{\n",
       "    x.observe(notebookContainer, {childList: true});\n",
       "}}\n",
       "\n",
       "// Listen for the clearing of the current output cell\n",
       "var outputEl = gd.closest('.output');\n",
       "if (outputEl) {{\n",
       "    x.observe(outputEl, {childList: true});\n",
       "}}\n",
       "\n",
       "                        })\n",
       "                };\n",
       "                });\n",
       "            </script>\n",
       "        </div>"
      ]
     },
     "metadata": {},
     "output_type": "display_data"
    }
   ],
   "source": [
    "fi = rf100.feature_importances_*100\n",
    "attrs = {}\n",
    "for key, value in zip(columns[2:], fi):\n",
    "    attrs[key] = value\n",
    "\n",
    "labels = list(attrs.keys())\n",
    "values = list(attrs.values())\n",
    "colors = ['#DC1F2A', '#001427', '#708D81', '#F4D58D', '#02CC6D', \n",
    "         '#02C4EF', '#FAFF05', '#CD05FF', '#FF8205']\n",
    "\n",
    "fig = go.Figure()\n",
    "fig.add_trace(\n",
    "    go.Bar(x=labels, y=values, text=['%.2f%%'%(float(x)) for x in values], \n",
    "           marker_color=colors, textposition='outside')  \n",
    ")\n",
    "\n",
    "# fig.update_traces(hoverinfo='label+percent', textfont_size=20, hole=.5,\n",
    "#                   marker=dict(colors=colors, line=dict(color='#282828', width=2)))\n",
    "fig.update_layout(\n",
    "    template='plotly_dark',\n",
    "    title=\"Uso dos atributos pela classificação da floresta aleatória\",\n",
    "    autosize=True,\n",
    "#     margin=dict(t=210)\n",
    "#     font=dict(size=20)\n",
    ")\n",
    "\n",
    "# offline.plot(fig, image_filename='attributes-use-by-random-forest500-fam', image='png')\n",
    "offline.iplot(fig)"
   ]
  },
  {
   "cell_type": "code",
   "execution_count": 64,
   "metadata": {
    "ExecuteTime": {
     "end_time": "2019-09-06T00:54:32.477587Z",
     "start_time": "2019-09-06T00:54:32.211882Z"
    },
    "scrolled": false
   },
   "outputs": [
    {
     "data": {
      "application/vnd.plotly.v1+json": {
       "config": {
        "linkText": "Export to plot.ly",
        "plotlyServerURL": "https://plot.ly",
        "showLink": false
       },
       "data": [
        {
         "marker": {
          "color": [
           "#C61D1D",
           "#30FF41",
           "#0090FF",
           "#F18F01"
          ]
         },
         "orientation": "h",
         "text": [
          "73.45%",
          "76.54%",
          "62.65%",
          "80.11%"
         ],
         "textposition": "inside",
         "type": "bar",
         "x": [
          "73.45",
          "76.54",
          "62.65",
          "80.11"
         ],
         "y": [
          "Acurácia",
          "Precisão da classe 1",
          "Precisão da classe 2",
          "Precisão da classe 3"
         ]
        }
       ],
       "layout": {
        "template": {
         "data": {
          "bar": [
           {
            "error_x": {
             "color": "#f2f5fa"
            },
            "error_y": {
             "color": "#f2f5fa"
            },
            "marker": {
             "line": {
              "color": "rgb(17,17,17)",
              "width": 0.5
             }
            },
            "type": "bar"
           }
          ],
          "barpolar": [
           {
            "marker": {
             "line": {
              "color": "rgb(17,17,17)",
              "width": 0.5
             }
            },
            "type": "barpolar"
           }
          ],
          "carpet": [
           {
            "aaxis": {
             "endlinecolor": "#A2B1C6",
             "gridcolor": "#506784",
             "linecolor": "#506784",
             "minorgridcolor": "#506784",
             "startlinecolor": "#A2B1C6"
            },
            "baxis": {
             "endlinecolor": "#A2B1C6",
             "gridcolor": "#506784",
             "linecolor": "#506784",
             "minorgridcolor": "#506784",
             "startlinecolor": "#A2B1C6"
            },
            "type": "carpet"
           }
          ],
          "choropleth": [
           {
            "colorbar": {
             "outlinewidth": 0,
             "ticks": ""
            },
            "type": "choropleth"
           }
          ],
          "contour": [
           {
            "colorbar": {
             "outlinewidth": 0,
             "ticks": ""
            },
            "colorscale": [
             [
              0,
              "#0d0887"
             ],
             [
              0.1111111111111111,
              "#46039f"
             ],
             [
              0.2222222222222222,
              "#7201a8"
             ],
             [
              0.3333333333333333,
              "#9c179e"
             ],
             [
              0.4444444444444444,
              "#bd3786"
             ],
             [
              0.5555555555555556,
              "#d8576b"
             ],
             [
              0.6666666666666666,
              "#ed7953"
             ],
             [
              0.7777777777777778,
              "#fb9f3a"
             ],
             [
              0.8888888888888888,
              "#fdca26"
             ],
             [
              1,
              "#f0f921"
             ]
            ],
            "type": "contour"
           }
          ],
          "contourcarpet": [
           {
            "colorbar": {
             "outlinewidth": 0,
             "ticks": ""
            },
            "type": "contourcarpet"
           }
          ],
          "heatmap": [
           {
            "colorbar": {
             "outlinewidth": 0,
             "ticks": ""
            },
            "colorscale": [
             [
              0,
              "#0d0887"
             ],
             [
              0.1111111111111111,
              "#46039f"
             ],
             [
              0.2222222222222222,
              "#7201a8"
             ],
             [
              0.3333333333333333,
              "#9c179e"
             ],
             [
              0.4444444444444444,
              "#bd3786"
             ],
             [
              0.5555555555555556,
              "#d8576b"
             ],
             [
              0.6666666666666666,
              "#ed7953"
             ],
             [
              0.7777777777777778,
              "#fb9f3a"
             ],
             [
              0.8888888888888888,
              "#fdca26"
             ],
             [
              1,
              "#f0f921"
             ]
            ],
            "type": "heatmap"
           }
          ],
          "heatmapgl": [
           {
            "colorbar": {
             "outlinewidth": 0,
             "ticks": ""
            },
            "colorscale": [
             [
              0,
              "#0d0887"
             ],
             [
              0.1111111111111111,
              "#46039f"
             ],
             [
              0.2222222222222222,
              "#7201a8"
             ],
             [
              0.3333333333333333,
              "#9c179e"
             ],
             [
              0.4444444444444444,
              "#bd3786"
             ],
             [
              0.5555555555555556,
              "#d8576b"
             ],
             [
              0.6666666666666666,
              "#ed7953"
             ],
             [
              0.7777777777777778,
              "#fb9f3a"
             ],
             [
              0.8888888888888888,
              "#fdca26"
             ],
             [
              1,
              "#f0f921"
             ]
            ],
            "type": "heatmapgl"
           }
          ],
          "histogram": [
           {
            "marker": {
             "colorbar": {
              "outlinewidth": 0,
              "ticks": ""
             }
            },
            "type": "histogram"
           }
          ],
          "histogram2d": [
           {
            "colorbar": {
             "outlinewidth": 0,
             "ticks": ""
            },
            "colorscale": [
             [
              0,
              "#0d0887"
             ],
             [
              0.1111111111111111,
              "#46039f"
             ],
             [
              0.2222222222222222,
              "#7201a8"
             ],
             [
              0.3333333333333333,
              "#9c179e"
             ],
             [
              0.4444444444444444,
              "#bd3786"
             ],
             [
              0.5555555555555556,
              "#d8576b"
             ],
             [
              0.6666666666666666,
              "#ed7953"
             ],
             [
              0.7777777777777778,
              "#fb9f3a"
             ],
             [
              0.8888888888888888,
              "#fdca26"
             ],
             [
              1,
              "#f0f921"
             ]
            ],
            "type": "histogram2d"
           }
          ],
          "histogram2dcontour": [
           {
            "colorbar": {
             "outlinewidth": 0,
             "ticks": ""
            },
            "colorscale": [
             [
              0,
              "#0d0887"
             ],
             [
              0.1111111111111111,
              "#46039f"
             ],
             [
              0.2222222222222222,
              "#7201a8"
             ],
             [
              0.3333333333333333,
              "#9c179e"
             ],
             [
              0.4444444444444444,
              "#bd3786"
             ],
             [
              0.5555555555555556,
              "#d8576b"
             ],
             [
              0.6666666666666666,
              "#ed7953"
             ],
             [
              0.7777777777777778,
              "#fb9f3a"
             ],
             [
              0.8888888888888888,
              "#fdca26"
             ],
             [
              1,
              "#f0f921"
             ]
            ],
            "type": "histogram2dcontour"
           }
          ],
          "mesh3d": [
           {
            "colorbar": {
             "outlinewidth": 0,
             "ticks": ""
            },
            "type": "mesh3d"
           }
          ],
          "parcoords": [
           {
            "line": {
             "colorbar": {
              "outlinewidth": 0,
              "ticks": ""
             }
            },
            "type": "parcoords"
           }
          ],
          "scatter": [
           {
            "marker": {
             "line": {
              "color": "#283442"
             }
            },
            "type": "scatter"
           }
          ],
          "scatter3d": [
           {
            "line": {
             "colorbar": {
              "outlinewidth": 0,
              "ticks": ""
             }
            },
            "marker": {
             "colorbar": {
              "outlinewidth": 0,
              "ticks": ""
             }
            },
            "type": "scatter3d"
           }
          ],
          "scattercarpet": [
           {
            "marker": {
             "colorbar": {
              "outlinewidth": 0,
              "ticks": ""
             }
            },
            "type": "scattercarpet"
           }
          ],
          "scattergeo": [
           {
            "marker": {
             "colorbar": {
              "outlinewidth": 0,
              "ticks": ""
             }
            },
            "type": "scattergeo"
           }
          ],
          "scattergl": [
           {
            "marker": {
             "line": {
              "color": "#283442"
             }
            },
            "type": "scattergl"
           }
          ],
          "scattermapbox": [
           {
            "marker": {
             "colorbar": {
              "outlinewidth": 0,
              "ticks": ""
             }
            },
            "type": "scattermapbox"
           }
          ],
          "scatterpolar": [
           {
            "marker": {
             "colorbar": {
              "outlinewidth": 0,
              "ticks": ""
             }
            },
            "type": "scatterpolar"
           }
          ],
          "scatterpolargl": [
           {
            "marker": {
             "colorbar": {
              "outlinewidth": 0,
              "ticks": ""
             }
            },
            "type": "scatterpolargl"
           }
          ],
          "scatterternary": [
           {
            "marker": {
             "colorbar": {
              "outlinewidth": 0,
              "ticks": ""
             }
            },
            "type": "scatterternary"
           }
          ],
          "surface": [
           {
            "colorbar": {
             "outlinewidth": 0,
             "ticks": ""
            },
            "colorscale": [
             [
              0,
              "#0d0887"
             ],
             [
              0.1111111111111111,
              "#46039f"
             ],
             [
              0.2222222222222222,
              "#7201a8"
             ],
             [
              0.3333333333333333,
              "#9c179e"
             ],
             [
              0.4444444444444444,
              "#bd3786"
             ],
             [
              0.5555555555555556,
              "#d8576b"
             ],
             [
              0.6666666666666666,
              "#ed7953"
             ],
             [
              0.7777777777777778,
              "#fb9f3a"
             ],
             [
              0.8888888888888888,
              "#fdca26"
             ],
             [
              1,
              "#f0f921"
             ]
            ],
            "type": "surface"
           }
          ],
          "table": [
           {
            "cells": {
             "fill": {
              "color": "#506784"
             },
             "line": {
              "color": "rgb(17,17,17)"
             }
            },
            "header": {
             "fill": {
              "color": "#2a3f5f"
             },
             "line": {
              "color": "rgb(17,17,17)"
             }
            },
            "type": "table"
           }
          ]
         },
         "layout": {
          "annotationdefaults": {
           "arrowcolor": "#f2f5fa",
           "arrowhead": 0,
           "arrowwidth": 1
          },
          "colorscale": {
           "diverging": [
            [
             0,
             "#8e0152"
            ],
            [
             0.1,
             "#c51b7d"
            ],
            [
             0.2,
             "#de77ae"
            ],
            [
             0.3,
             "#f1b6da"
            ],
            [
             0.4,
             "#fde0ef"
            ],
            [
             0.5,
             "#f7f7f7"
            ],
            [
             0.6,
             "#e6f5d0"
            ],
            [
             0.7,
             "#b8e186"
            ],
            [
             0.8,
             "#7fbc41"
            ],
            [
             0.9,
             "#4d9221"
            ],
            [
             1,
             "#276419"
            ]
           ],
           "sequential": [
            [
             0,
             "#0d0887"
            ],
            [
             0.1111111111111111,
             "#46039f"
            ],
            [
             0.2222222222222222,
             "#7201a8"
            ],
            [
             0.3333333333333333,
             "#9c179e"
            ],
            [
             0.4444444444444444,
             "#bd3786"
            ],
            [
             0.5555555555555556,
             "#d8576b"
            ],
            [
             0.6666666666666666,
             "#ed7953"
            ],
            [
             0.7777777777777778,
             "#fb9f3a"
            ],
            [
             0.8888888888888888,
             "#fdca26"
            ],
            [
             1,
             "#f0f921"
            ]
           ],
           "sequentialminus": [
            [
             0,
             "#0d0887"
            ],
            [
             0.1111111111111111,
             "#46039f"
            ],
            [
             0.2222222222222222,
             "#7201a8"
            ],
            [
             0.3333333333333333,
             "#9c179e"
            ],
            [
             0.4444444444444444,
             "#bd3786"
            ],
            [
             0.5555555555555556,
             "#d8576b"
            ],
            [
             0.6666666666666666,
             "#ed7953"
            ],
            [
             0.7777777777777778,
             "#fb9f3a"
            ],
            [
             0.8888888888888888,
             "#fdca26"
            ],
            [
             1,
             "#f0f921"
            ]
           ]
          },
          "colorway": [
           "#636efa",
           "#EF553B",
           "#00cc96",
           "#ab63fa",
           "#FFA15A",
           "#19d3f3",
           "#FF6692",
           "#B6E880",
           "#FF97FF",
           "#FECB52"
          ],
          "font": {
           "color": "#f2f5fa"
          },
          "geo": {
           "bgcolor": "rgb(17,17,17)",
           "lakecolor": "rgb(17,17,17)",
           "landcolor": "rgb(17,17,17)",
           "showlakes": true,
           "showland": true,
           "subunitcolor": "#506784"
          },
          "hoverlabel": {
           "align": "left"
          },
          "hovermode": "closest",
          "mapbox": {
           "style": "dark"
          },
          "paper_bgcolor": "rgb(17,17,17)",
          "plot_bgcolor": "rgb(17,17,17)",
          "polar": {
           "angularaxis": {
            "gridcolor": "#506784",
            "linecolor": "#506784",
            "ticks": ""
           },
           "bgcolor": "rgb(17,17,17)",
           "radialaxis": {
            "gridcolor": "#506784",
            "linecolor": "#506784",
            "ticks": ""
           }
          },
          "scene": {
           "xaxis": {
            "backgroundcolor": "rgb(17,17,17)",
            "gridcolor": "#506784",
            "gridwidth": 2,
            "linecolor": "#506784",
            "showbackground": true,
            "ticks": "",
            "zerolinecolor": "#C8D4E3"
           },
           "yaxis": {
            "backgroundcolor": "rgb(17,17,17)",
            "gridcolor": "#506784",
            "gridwidth": 2,
            "linecolor": "#506784",
            "showbackground": true,
            "ticks": "",
            "zerolinecolor": "#C8D4E3"
           },
           "zaxis": {
            "backgroundcolor": "rgb(17,17,17)",
            "gridcolor": "#506784",
            "gridwidth": 2,
            "linecolor": "#506784",
            "showbackground": true,
            "ticks": "",
            "zerolinecolor": "#C8D4E3"
           }
          },
          "shapedefaults": {
           "line": {
            "color": "#f2f5fa"
           }
          },
          "sliderdefaults": {
           "bgcolor": "#C8D4E3",
           "bordercolor": "rgb(17,17,17)",
           "borderwidth": 1,
           "tickwidth": 0
          },
          "ternary": {
           "aaxis": {
            "gridcolor": "#506784",
            "linecolor": "#506784",
            "ticks": ""
           },
           "baxis": {
            "gridcolor": "#506784",
            "linecolor": "#506784",
            "ticks": ""
           },
           "bgcolor": "rgb(17,17,17)",
           "caxis": {
            "gridcolor": "#506784",
            "linecolor": "#506784",
            "ticks": ""
           }
          },
          "title": {
           "x": 0.05
          },
          "updatemenudefaults": {
           "bgcolor": "#506784",
           "borderwidth": 0
          },
          "xaxis": {
           "automargin": true,
           "gridcolor": "#283442",
           "linecolor": "#506784",
           "ticks": "",
           "zerolinecolor": "#283442",
           "zerolinewidth": 2
          },
          "yaxis": {
           "automargin": true,
           "gridcolor": "#283442",
           "linecolor": "#506784",
           "ticks": "",
           "zerolinecolor": "#283442",
           "zerolinewidth": 2
          }
         }
        },
        "title": {
         "text": "Métricas da classificação com limite de 10 nós folhas"
        }
       }
      },
      "text/html": [
       "<div>\n",
       "        \n",
       "        \n",
       "            <div id=\"b7ac58b2-058d-44ba-8c0b-8d4a840fe49c\" class=\"plotly-graph-div\" style=\"height:525px; width:100%;\"></div>\n",
       "            <script type=\"text/javascript\">\n",
       "                require([\"plotly\"], function(Plotly) {\n",
       "                    window.PLOTLYENV=window.PLOTLYENV || {};\n",
       "                    \n",
       "                if (document.getElementById(\"b7ac58b2-058d-44ba-8c0b-8d4a840fe49c\")) {\n",
       "                    Plotly.newPlot(\n",
       "                        'b7ac58b2-058d-44ba-8c0b-8d4a840fe49c',\n",
       "                        [{\"marker\": {\"color\": [\"#C61D1D\", \"#30FF41\", \"#0090FF\", \"#F18F01\"]}, \"orientation\": \"h\", \"text\": [\"73.45%\", \"76.54%\", \"62.65%\", \"80.11%\"], \"textposition\": \"inside\", \"type\": \"bar\", \"x\": [\"73.45\", \"76.54\", \"62.65\", \"80.11\"], \"y\": [\"Acur\\u00e1cia\", \"Precis\\u00e3o da classe 1\", \"Precis\\u00e3o da classe 2\", \"Precis\\u00e3o da classe 3\"]}],\n",
       "                        {\"template\": {\"data\": {\"bar\": [{\"error_x\": {\"color\": \"#f2f5fa\"}, \"error_y\": {\"color\": \"#f2f5fa\"}, \"marker\": {\"line\": {\"color\": \"rgb(17,17,17)\", \"width\": 0.5}}, \"type\": \"bar\"}], \"barpolar\": [{\"marker\": {\"line\": {\"color\": \"rgb(17,17,17)\", \"width\": 0.5}}, \"type\": \"barpolar\"}], \"carpet\": [{\"aaxis\": {\"endlinecolor\": \"#A2B1C6\", \"gridcolor\": \"#506784\", \"linecolor\": \"#506784\", \"minorgridcolor\": \"#506784\", \"startlinecolor\": \"#A2B1C6\"}, \"baxis\": {\"endlinecolor\": \"#A2B1C6\", \"gridcolor\": \"#506784\", \"linecolor\": \"#506784\", \"minorgridcolor\": \"#506784\", \"startlinecolor\": \"#A2B1C6\"}, \"type\": \"carpet\"}], \"choropleth\": [{\"colorbar\": {\"outlinewidth\": 0, \"ticks\": \"\"}, \"type\": \"choropleth\"}], \"contour\": [{\"colorbar\": {\"outlinewidth\": 0, \"ticks\": \"\"}, \"colorscale\": [[0.0, \"#0d0887\"], [0.1111111111111111, \"#46039f\"], [0.2222222222222222, \"#7201a8\"], [0.3333333333333333, \"#9c179e\"], [0.4444444444444444, \"#bd3786\"], [0.5555555555555556, \"#d8576b\"], [0.6666666666666666, \"#ed7953\"], [0.7777777777777778, \"#fb9f3a\"], [0.8888888888888888, \"#fdca26\"], [1.0, \"#f0f921\"]], \"type\": \"contour\"}], \"contourcarpet\": [{\"colorbar\": {\"outlinewidth\": 0, \"ticks\": \"\"}, \"type\": \"contourcarpet\"}], \"heatmap\": [{\"colorbar\": {\"outlinewidth\": 0, \"ticks\": \"\"}, \"colorscale\": [[0.0, \"#0d0887\"], [0.1111111111111111, \"#46039f\"], [0.2222222222222222, \"#7201a8\"], [0.3333333333333333, \"#9c179e\"], [0.4444444444444444, \"#bd3786\"], [0.5555555555555556, \"#d8576b\"], [0.6666666666666666, \"#ed7953\"], [0.7777777777777778, \"#fb9f3a\"], [0.8888888888888888, \"#fdca26\"], [1.0, \"#f0f921\"]], \"type\": \"heatmap\"}], \"heatmapgl\": [{\"colorbar\": {\"outlinewidth\": 0, \"ticks\": \"\"}, \"colorscale\": [[0.0, \"#0d0887\"], [0.1111111111111111, \"#46039f\"], [0.2222222222222222, \"#7201a8\"], [0.3333333333333333, \"#9c179e\"], [0.4444444444444444, \"#bd3786\"], [0.5555555555555556, \"#d8576b\"], [0.6666666666666666, \"#ed7953\"], [0.7777777777777778, \"#fb9f3a\"], [0.8888888888888888, \"#fdca26\"], [1.0, \"#f0f921\"]], \"type\": \"heatmapgl\"}], \"histogram\": [{\"marker\": {\"colorbar\": {\"outlinewidth\": 0, \"ticks\": \"\"}}, \"type\": \"histogram\"}], \"histogram2d\": [{\"colorbar\": {\"outlinewidth\": 0, \"ticks\": \"\"}, \"colorscale\": [[0.0, \"#0d0887\"], [0.1111111111111111, \"#46039f\"], [0.2222222222222222, \"#7201a8\"], [0.3333333333333333, \"#9c179e\"], [0.4444444444444444, \"#bd3786\"], [0.5555555555555556, \"#d8576b\"], [0.6666666666666666, \"#ed7953\"], [0.7777777777777778, \"#fb9f3a\"], [0.8888888888888888, \"#fdca26\"], [1.0, \"#f0f921\"]], \"type\": \"histogram2d\"}], \"histogram2dcontour\": [{\"colorbar\": {\"outlinewidth\": 0, \"ticks\": \"\"}, \"colorscale\": [[0.0, \"#0d0887\"], [0.1111111111111111, \"#46039f\"], [0.2222222222222222, \"#7201a8\"], [0.3333333333333333, \"#9c179e\"], [0.4444444444444444, \"#bd3786\"], [0.5555555555555556, \"#d8576b\"], [0.6666666666666666, \"#ed7953\"], [0.7777777777777778, \"#fb9f3a\"], [0.8888888888888888, \"#fdca26\"], [1.0, \"#f0f921\"]], \"type\": \"histogram2dcontour\"}], \"mesh3d\": [{\"colorbar\": {\"outlinewidth\": 0, \"ticks\": \"\"}, \"type\": \"mesh3d\"}], \"parcoords\": [{\"line\": {\"colorbar\": {\"outlinewidth\": 0, \"ticks\": \"\"}}, \"type\": \"parcoords\"}], \"scatter\": [{\"marker\": {\"line\": {\"color\": \"#283442\"}}, \"type\": \"scatter\"}], \"scatter3d\": [{\"line\": {\"colorbar\": {\"outlinewidth\": 0, \"ticks\": \"\"}}, \"marker\": {\"colorbar\": {\"outlinewidth\": 0, \"ticks\": \"\"}}, \"type\": \"scatter3d\"}], \"scattercarpet\": [{\"marker\": {\"colorbar\": {\"outlinewidth\": 0, \"ticks\": \"\"}}, \"type\": \"scattercarpet\"}], \"scattergeo\": [{\"marker\": {\"colorbar\": {\"outlinewidth\": 0, \"ticks\": \"\"}}, \"type\": \"scattergeo\"}], \"scattergl\": [{\"marker\": {\"line\": {\"color\": \"#283442\"}}, \"type\": \"scattergl\"}], \"scattermapbox\": [{\"marker\": {\"colorbar\": {\"outlinewidth\": 0, \"ticks\": \"\"}}, \"type\": \"scattermapbox\"}], \"scatterpolar\": [{\"marker\": {\"colorbar\": {\"outlinewidth\": 0, \"ticks\": \"\"}}, \"type\": \"scatterpolar\"}], \"scatterpolargl\": [{\"marker\": {\"colorbar\": {\"outlinewidth\": 0, \"ticks\": \"\"}}, \"type\": \"scatterpolargl\"}], \"scatterternary\": [{\"marker\": {\"colorbar\": {\"outlinewidth\": 0, \"ticks\": \"\"}}, \"type\": \"scatterternary\"}], \"surface\": [{\"colorbar\": {\"outlinewidth\": 0, \"ticks\": \"\"}, \"colorscale\": [[0.0, \"#0d0887\"], [0.1111111111111111, \"#46039f\"], [0.2222222222222222, \"#7201a8\"], [0.3333333333333333, \"#9c179e\"], [0.4444444444444444, \"#bd3786\"], [0.5555555555555556, \"#d8576b\"], [0.6666666666666666, \"#ed7953\"], [0.7777777777777778, \"#fb9f3a\"], [0.8888888888888888, \"#fdca26\"], [1.0, \"#f0f921\"]], \"type\": \"surface\"}], \"table\": [{\"cells\": {\"fill\": {\"color\": \"#506784\"}, \"line\": {\"color\": \"rgb(17,17,17)\"}}, \"header\": {\"fill\": {\"color\": \"#2a3f5f\"}, \"line\": {\"color\": \"rgb(17,17,17)\"}}, \"type\": \"table\"}]}, \"layout\": {\"annotationdefaults\": {\"arrowcolor\": \"#f2f5fa\", \"arrowhead\": 0, \"arrowwidth\": 1}, \"colorscale\": {\"diverging\": [[0, \"#8e0152\"], [0.1, \"#c51b7d\"], [0.2, \"#de77ae\"], [0.3, \"#f1b6da\"], [0.4, \"#fde0ef\"], [0.5, \"#f7f7f7\"], [0.6, \"#e6f5d0\"], [0.7, \"#b8e186\"], [0.8, \"#7fbc41\"], [0.9, \"#4d9221\"], [1, \"#276419\"]], \"sequential\": [[0.0, \"#0d0887\"], [0.1111111111111111, \"#46039f\"], [0.2222222222222222, \"#7201a8\"], [0.3333333333333333, \"#9c179e\"], [0.4444444444444444, \"#bd3786\"], [0.5555555555555556, \"#d8576b\"], [0.6666666666666666, \"#ed7953\"], [0.7777777777777778, \"#fb9f3a\"], [0.8888888888888888, \"#fdca26\"], [1.0, \"#f0f921\"]], \"sequentialminus\": [[0.0, \"#0d0887\"], [0.1111111111111111, \"#46039f\"], [0.2222222222222222, \"#7201a8\"], [0.3333333333333333, \"#9c179e\"], [0.4444444444444444, \"#bd3786\"], [0.5555555555555556, \"#d8576b\"], [0.6666666666666666, \"#ed7953\"], [0.7777777777777778, \"#fb9f3a\"], [0.8888888888888888, \"#fdca26\"], [1.0, \"#f0f921\"]]}, \"colorway\": [\"#636efa\", \"#EF553B\", \"#00cc96\", \"#ab63fa\", \"#FFA15A\", \"#19d3f3\", \"#FF6692\", \"#B6E880\", \"#FF97FF\", \"#FECB52\"], \"font\": {\"color\": \"#f2f5fa\"}, \"geo\": {\"bgcolor\": \"rgb(17,17,17)\", \"lakecolor\": \"rgb(17,17,17)\", \"landcolor\": \"rgb(17,17,17)\", \"showlakes\": true, \"showland\": true, \"subunitcolor\": \"#506784\"}, \"hoverlabel\": {\"align\": \"left\"}, \"hovermode\": \"closest\", \"mapbox\": {\"style\": \"dark\"}, \"paper_bgcolor\": \"rgb(17,17,17)\", \"plot_bgcolor\": \"rgb(17,17,17)\", \"polar\": {\"angularaxis\": {\"gridcolor\": \"#506784\", \"linecolor\": \"#506784\", \"ticks\": \"\"}, \"bgcolor\": \"rgb(17,17,17)\", \"radialaxis\": {\"gridcolor\": \"#506784\", \"linecolor\": \"#506784\", \"ticks\": \"\"}}, \"scene\": {\"xaxis\": {\"backgroundcolor\": \"rgb(17,17,17)\", \"gridcolor\": \"#506784\", \"gridwidth\": 2, \"linecolor\": \"#506784\", \"showbackground\": true, \"ticks\": \"\", \"zerolinecolor\": \"#C8D4E3\"}, \"yaxis\": {\"backgroundcolor\": \"rgb(17,17,17)\", \"gridcolor\": \"#506784\", \"gridwidth\": 2, \"linecolor\": \"#506784\", \"showbackground\": true, \"ticks\": \"\", \"zerolinecolor\": \"#C8D4E3\"}, \"zaxis\": {\"backgroundcolor\": \"rgb(17,17,17)\", \"gridcolor\": \"#506784\", \"gridwidth\": 2, \"linecolor\": \"#506784\", \"showbackground\": true, \"ticks\": \"\", \"zerolinecolor\": \"#C8D4E3\"}}, \"shapedefaults\": {\"line\": {\"color\": \"#f2f5fa\"}}, \"sliderdefaults\": {\"bgcolor\": \"#C8D4E3\", \"bordercolor\": \"rgb(17,17,17)\", \"borderwidth\": 1, \"tickwidth\": 0}, \"ternary\": {\"aaxis\": {\"gridcolor\": \"#506784\", \"linecolor\": \"#506784\", \"ticks\": \"\"}, \"baxis\": {\"gridcolor\": \"#506784\", \"linecolor\": \"#506784\", \"ticks\": \"\"}, \"bgcolor\": \"rgb(17,17,17)\", \"caxis\": {\"gridcolor\": \"#506784\", \"linecolor\": \"#506784\", \"ticks\": \"\"}}, \"title\": {\"x\": 0.05}, \"updatemenudefaults\": {\"bgcolor\": \"#506784\", \"borderwidth\": 0}, \"xaxis\": {\"automargin\": true, \"gridcolor\": \"#283442\", \"linecolor\": \"#506784\", \"ticks\": \"\", \"zerolinecolor\": \"#283442\", \"zerolinewidth\": 2}, \"yaxis\": {\"automargin\": true, \"gridcolor\": \"#283442\", \"linecolor\": \"#506784\", \"ticks\": \"\", \"zerolinecolor\": \"#283442\", \"zerolinewidth\": 2}}}, \"title\": {\"text\": \"M\\u00e9tricas da classifica\\u00e7\\u00e3o com limite de 10 n\\u00f3s folhas\"}},\n",
       "                        {\"responsive\": true}\n",
       "                    ).then(function(){\n",
       "                            \n",
       "var gd = document.getElementById('b7ac58b2-058d-44ba-8c0b-8d4a840fe49c');\n",
       "var x = new MutationObserver(function (mutations, observer) {{\n",
       "        var display = window.getComputedStyle(gd).display;\n",
       "        if (!display || display === 'none') {{\n",
       "            console.log([gd, 'removed!']);\n",
       "            Plotly.purge(gd);\n",
       "            observer.disconnect();\n",
       "        }}\n",
       "}});\n",
       "\n",
       "// Listen for the removal of the full notebook cells\n",
       "var notebookContainer = gd.closest('#notebook-container');\n",
       "if (notebookContainer) {{\n",
       "    x.observe(notebookContainer, {childList: true});\n",
       "}}\n",
       "\n",
       "// Listen for the clearing of the current output cell\n",
       "var outputEl = gd.closest('.output');\n",
       "if (outputEl) {{\n",
       "    x.observe(outputEl, {childList: true});\n",
       "}}\n",
       "\n",
       "                        })\n",
       "                };\n",
       "                });\n",
       "            </script>\n",
       "        </div>"
      ]
     },
     "metadata": {},
     "output_type": "display_data"
    }
   ],
   "source": [
    "cm = confusion_matrix(y_test, y_pred)\n",
    "\n",
    "tc1 = cm[0][0]\n",
    "fc1 = cm[0][1]+cm[0][2]\n",
    "\n",
    "tc2 = cm[1][1]\n",
    "fc2 = cm[1][0]+cm[1][2]\n",
    "\n",
    "tc3 = cm[2][2]\n",
    "fc3 = cm[2][0]+cm[2][1]\n",
    "\n",
    "accuracy = (tc1+tc2+tc3)/(tc1+fc1+tc2+fc2+tc3+fc3)\n",
    "precisionc1 = (tc1)/(tc1+fc1)\n",
    "precisionc2 = (tc2)/(tc2+fc2)\n",
    "precisionc3 = (tc3)/(tc3+fc3)\n",
    "\n",
    "fig = go.Figure()\n",
    "labels = ['Acurácia', 'Precisão da classe 1', \n",
    "          'Precisão da classe 2', 'Precisão da classe 3']\n",
    "values = ['%.2f'%(accuracy*100), '%.2f'%(precisionc1*100),\n",
    "         '%.2f'%(precisionc2*100), '%.2f'%(precisionc3*100)]\n",
    "colors = ['#C61D1D', '#30FF41', '#0090FF', '#F18F01']\n",
    "fig.add_trace(\n",
    "    go.Bar(y=labels, x=values, orientation='h', \n",
    "           text=['%.2f%%'%(float(x)) for x in values], \n",
    "           marker_color=colors,\n",
    "           textposition='inside')\n",
    ")\n",
    "\n",
    "\n",
    "fig.update_layout(\n",
    "    template='plotly_dark',\n",
    "    title='Métricas da classificação com limite de 10 nós folhas',\n",
    ")\n",
    "# offline.plot(fig, image_filename='metrics-random-forest100-fam', image='png')\n",
    "offline.iplot(fig)"
   ]
  },
  {
   "cell_type": "code",
   "execution_count": 65,
   "metadata": {
    "ExecuteTime": {
     "end_time": "2019-09-06T00:54:40.066515Z",
     "start_time": "2019-09-06T00:54:36.242576Z"
    },
    "scrolled": false
   },
   "outputs": [
    {
     "data": {
      "image/png": "[encoded data removed]",
      "text/plain": [
       "<Figure size 1080x576 with 2 Axes>"
      ]
     },
     "metadata": {
      "needs_background": "light"
     },
     "output_type": "display_data"
    }
   ],
   "source": [
    "figsize = (15, 8)\n",
    "fig, ax = plt.subplots(1, 1, figsize=figsize)\n",
    "cmap = plt.cm.Blues\n",
    "divider = make_axes_locatable(ax)\n",
    "cax = divider.append_axes(\"right\", size=\"5%\", pad=0.4)\n",
    "\n",
    "total_samples = cm.sum(axis=1)[:, np.newaxis]\n",
    "normed_conf_mat = cm.astype('float') / total_samples\n",
    "labels = ['Sem raios', 'Atividade moderada', 'Atividade extrema']\n",
    "label_font = dict(fontweight='normal', size=14)\n",
    "title_font = dict(fontweight='normal', size=18)\n",
    "\n",
    "matshow = ax.matshow(cm, cmap=cmap)\n",
    "cb = plt.colorbar(matshow, cax=cax, orientation='vertical')\n",
    "\n",
    "for i in range(cm.shape[0]):\n",
    "    for j in range(cm.shape[1]):\n",
    "        cell_text = str(cm[i, j])\n",
    "        cell_text += '\\n(%.2f%%)' % (normed_conf_mat[i, j] * 100)\n",
    "        ax.text(x=j,\n",
    "                y=i,\n",
    "                s=cell_text,\n",
    "                va='center',\n",
    "                ha='center',\n",
    "                color=\"white\" if normed_conf_mat[i, j] > 0.5 else \"black\")\n",
    "\n",
    "ax.set_xticklabels([''] + labels)\n",
    "ax.set_yticklabels([''] + labels, rotation=90, va='center')\n",
    "ax.yaxis.set_ticks_position('left')\n",
    "ax.xaxis.set_ticks_position('bottom')\n",
    "\n",
    "#     ax.set_title('Matriz de confusão para %d testes'%((n*2)*0.2), fontdict=title_font)\n",
    "ax.set_xlabel('Classe prevista', fontdict=label_font)\n",
    "ax.set_ylabel('Classe real', fontdict=label_font)\n",
    "cb.ax.set_ylabel('Ocorrências', va='center', rotation=-270, labelpad=-60)\n",
    "ax.set_title('Matriz de consusão resultada da\\\n",
    "classificação\\n por floresta aleatória com 500 estimadores', fontdict=title_font)\n",
    "\n",
    "plt.savefig('confusion_matrix_rf500.png', dpi=600, \\\n",
    "           bbox_inches='tight', transparent=\"False\", pad_inches=0.1)\n",
    "plt.show()"
   ]
  },
  {
   "cell_type": "code",
   "execution_count": 54,
   "metadata": {
    "ExecuteTime": {
     "end_time": "2019-09-06T00:11:02.943613Z",
     "start_time": "2019-09-06T00:11:02.570651Z"
    }
   },
   "outputs": [
    {
     "data": {
      "text/plain": [
       "['rf500-model.plk']"
      ]
     },
     "execution_count": 54,
     "metadata": {},
     "output_type": "execute_result"
    }
   ],
   "source": [
    "jb.dump(rf100, 'rf500-model.plk')"
   ]
  }
 ],
 "metadata": {
  "kernelspec": {
   "display_name": "Python 3",
   "language": "python",
   "name": "python3"
  },
  "language_info": {
   "codemirror_mode": {
    "name": "ipython",
    "version": 3
   },
   "file_extension": ".py",
   "mimetype": "text/x-python",
   "name": "python",
   "nbconvert_exporter": "python",
   "pygments_lexer": "ipython3",
   "version": "3.7.3"
  }
 },
 "nbformat": 4,
 "nbformat_minor": 2
}
