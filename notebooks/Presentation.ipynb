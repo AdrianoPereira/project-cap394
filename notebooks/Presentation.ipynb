{
 "cells": [
  {
   "cell_type": "markdown",
   "metadata": {
    "slideshow": {
     "slide_type": "slide"
    }
   },
   "source": [
    "![header](https://raw.githubusercontent.com/AdrianoPereira/project-cap394/master/assets/images/header-pt.png)\n",
    "\n",
    "## Preprocessamento de dados\n",
    "---\n",
    "**Professores:**\n",
    "- Dr. Gilberto Queiroz\n",
    "- Dr. Rafael Santos\n",
    "\n",
    "**Discente:**\n",
    "- Adriano Almeida"
   ]
  },
  {
   "cell_type": "markdown",
   "metadata": {
    "ExecuteTime": {
     "end_time": "2019-09-06T23:18:09.093966Z",
     "start_time": "2019-09-06T23:18:09.087052Z"
    },
    "slideshow": {
     "slide_type": "slide"
    }
   },
   "source": [
    "## Motivação\n",
    "\n",
    "Este projeto faz parte do trabalho final da disciplina **CAP-394 - Introdução à *DataScience*** que é oferecida no programa de pós graduação em computação aplicada do Instituto Nacional de Pesquisas Espaciais (INPE) e ministradas pelos professores [Dr. Rafael Santos](http://www.lac.inpe.br/~rafael.santos/) e [Dr. Gilberto Queiroz](http://www.dpi.inpe.br/~gribeiro/doku.php). O trabalho tem como principal objetivo analizar dados meteorológicos relacionados à descargas elétricas atmosfércas, e assim responder as tentar responder as seguintes questões: \n",
    "\n",
    "* [x] 1 - Através da análise de atributos, é possível identificar prováveis tempestades?\n",
    "\n",
    "* [x] 2 - Quais os dias que apresentaram maiores índices de severidades?\n",
    "\n",
    "* [x] 3 - É possível serem identificadas correlações entre a ocorrência de descargas elétricas e altos índices de \n",
    "severidade em tempestades?\n",
    "\n",
    "* [x] 4 - Quais os atributos meteorológicos que mais influênciaram na ocorrências de descargas elétricas?\n",
    "\n",
    "* [x] 5 - Quais os atributos podem ser omitidos totalmente neste trabalho?\n",
    "\n",
    "* [x] 6 - Caso existam correlações entre atributos meteorológicos e ocorrência de raios, quais os limiares aproximados que podem ser definidos?\n",
    "\n",
    "* [x] 7 - Qual a classificação de cobertura do solo da área de estudo?\n",
    "\n",
    "* [x] 8 - Qual a infuência da cobertura de solo na ocorrência de raios?\n",
    "\n",
    "* [x] 9 - Em qual tipo de solo, foram registados as maiores taxas de incidências de raios?\n",
    "\n",
    "* [x] 10 - É possível aplicar alguma abordagem computacional para separar dados que possuem detecções de descargas elétricas dos dados que não possuem?\n",
    "\n",
    "* [x] 11 - É possível aplicar alguma abordagem computacional que faça a previsão de descargas elétricas?"
   ]
  },
  {
   "cell_type": "markdown",
   "metadata": {
    "slideshow": {
     "slide_type": "slide"
    }
   },
   "source": [
    "## 1. Introdução\n",
    "\n",
    "As descargas elétricas atmosféricas têm sido estudadas desde os tempos de Benjamin Franklin (1706-1790), quando o próprio cientista, em 1752, realizou um dos primeiros experimentos com este fenômeno da natureza. O experimento consistiu em soltar, durante uma tempestade, uma pipa manipulada por um fio de seda, o instrumento recebia cargas elétricas advindas de raios e descia até uma chave de metal onde o fio estava preso. Com isso, Franklin acabará de descobrir de forma concisa a natureza elétrica das descargas elétricas, dando origem ao primeiro para-raios [(KRIDER, 2006)](#krinder2006). "
   ]
  },
  {
   "cell_type": "markdown",
   "metadata": {
    "ExecuteTime": {
     "end_time": "2019-09-07T02:35:22.811012Z",
     "start_time": "2019-09-07T02:35:22.803564Z"
    },
    "slideshow": {
     "slide_type": "slide"
    }
   },
   "source": [
    "### 1.1 Características das descargas atmosféricas\n",
    "\n",
    "As descargas atmosféricas são eventos de natureza aleatória que advém de fortes interações entre os centros de cargas em sistemas convectivos. Essas interações acabam desenvolvendo forte atividade elétrica, que podendo chegar na ordem de milhares de ampères, e que normalmente são acompanhados por intensos efeitos sonoros e luminosos [(SOUZA, 2017)](#souza2017). Os raios podem ser dos seguintes tipos: intranuvem, quando as descargas acontecem dentro de uma única nuvem, nuvem-para-nuvem, quando cargas com polaridades opostas são conectadas através de um raio em nuvens separadas, nuvens-para-ar, quando as descargas intra-nuvem extapolam os limites de uma nuvem, e por fim, as descargas nuvem-solo, que são quando os raios que atingem o solo [(RAKOV, 2007)](#rakov2007). A  Figura [1](#types-lightning) mostra alguns exemplos dos tipos de descargas elétricas mencionados.\n",
    "\n",
    "<a id=\"types-lightning\"></a>\n",
    "![](https://github.com/AdrianoPereira/project-cap394/raw/master/assets/images/lightning-types/types-lightning.png)\n",
    "\n",
    "**Figura 1** - Principais tipos de descargas atmosféricas. Adptado de [NOAA](https://www.nssl.noaa.gov/education/svrwx101/lightning/types/)."
   ]
  },
  {
   "cell_type": "markdown",
   "metadata": {
    "slideshow": {
     "slide_type": "slide"
    }
   },
   "source": [
    "### 1.2 Consequências provocadas pelos raios\n",
    "\n",
    "Além de afetarem diretamente na composição química da atmosfera e a qualidade do ar na alta troposfera [(WEBER et al., 2005)](#weber2005), as descargas atmosféricas são responsáveis por uma série de impactos socieconômicos. Os raios são os principais responsáveis por iniciarem incêndios florestais, causar interrupções de serviços de transmissão de energia e comunicação, e também por baixas em rebanhos de gado na zona em zona rural [(CARDOSO, 2017)](#cardoso2017). As descargas atmosféricas estão relacionadas ao alto índice de fatalidades contra seres humanos, conforme mostrado no trabalho de [(CARDOSO et al., 2014)](#cardoso2014)."
   ]
  },
  {
   "cell_type": "markdown",
   "metadata": {
    "slideshow": {
     "slide_type": "subslide"
    }
   },
   "source": [
    "Por ser um país de grande extensão territorial, e está predominantemente localizado em zona tropical, o Brasil ocupa uma posição de destaque mundial no que diz respeito a grande incidência de raios, chegando a serem registrados aproximadamente 77.8 milhões por ano, de acordo com estimativa feita pelo Grupo de Eletricidade Atmosférica ([ELAT](http://www.inpe.br/webelat/homepage/menu/el.atm/perguntas.e.respostas.php)) do Instituto Nacional de Pesquisas Espaciais (INPE). Sendo assim, as redes de detecção desempenham um papel fundamental no monitoramento de descargas elétricas no Brasil, representando grande avanço nas pesquisas correlatas, principalmente na prevenção de fatalidades e auxílios em tomadas de decisões [(CHINCHAY, 2018)](#chinchay2018). Além disso, dados de outras fontes também são muito utilizados em pesquisas relacionadas às descargas atmosféricas, como dados de radares meteorológicos e de satélites [(CHINCHAY, 2018)](#chinchay2018)."
   ]
  },
  {
   "cell_type": "markdown",
   "metadata": {
    "slideshow": {
     "slide_type": "slide"
    }
   },
   "source": [
    "### 1.3 Pesquisas relacionadas à previsão raios\n",
    "\n",
    "Dentre as pesquisas a respeito das descargas atmosféricas, talvez as que possuam maior valor agregado, sejam as pesquisas relacionadas ao desenvolvimento de mecanismos de previsão. No trabalho de [(ZEPKA, 2005)](#zepka2005), é feito um estudo aprofundado com a finalidade de avaliar a viabilidade do desenvolvimento de sistemas previsores de descargas elétricas atmosféricas, o autor também ressalta também a importância desse tipo de mecanismo para o acompanhamento e evolução de tempestades.\n"
   ]
  },
  {
   "cell_type": "markdown",
   "metadata": {
    "slideshow": {
     "slide_type": "subslide"
    }
   },
   "source": [
    "Embora tenha sido constatada a real necessidade mecanismos de previsão de descargas elétricas, as soluções propostas ainda estão muito escassas [(ZEPKA, 2005)](#zepka2005). Sendo assim, este trabalho tem como objetivo realizar a análise de atributos de dados meteorológicos, e então propor um sistema de previsão de descargas elétricas atmosféricas baseado em abordagens de aprendizado de máquina supervisionado. Os dados são referentes aos experimentos do CHUVA-Manaus [(MACHADO et al., 2014)](machado2014) e GoAmazon [(MARTIN et al., 2016)](martin2016), realizados na região central da Bacia Amazônica. Além disso, os dados foram processados em uma adaptação do algoritmo ForTraCC (Forecast and Tracking of Active Convective Cells) por Pereira [(PEREIRA, 2019)](#pereira2019)."
   ]
  },
  {
   "cell_type": "markdown",
   "metadata": {
    "slideshow": {
     "slide_type": "slide"
    }
   },
   "source": [
    "## 2. Metodologia\n",
    "\n",
    "Neste seção, serão descritas as etapas metodológicas utilizadas no desenvolvimento deste trabalho."
   ]
  },
  {
   "cell_type": "markdown",
   "metadata": {
    "slideshow": {
     "slide_type": "slide"
    }
   },
   "source": [
    "### 2.1 Área de estudo\n",
    "\n",
    "\n",
    "Como dito anteriormente, os dados de radar utilizados neste trabalho, são oriundos dos experimentos CHUVA-Manaus [(MACHADO et al., 2014)](machado2014) e GoAmazon [(MARTIN et al., 2016)](martin2016), e processados por [(PEREIRA, 2019)](#pereira2019). Os dados possuem resolução espacial de $1 km^{2}$ e resolução temporal de 12 minutos, e foram coletados durante os meses de fevereiro, março, agosto, setembro e outubro de 2014 na região central da Bacia Amazônica, na cidade de Manaus (Amazonas) e em suas proximidades, como mostrado na Figura [2](#study-area).\n",
    "\n",
    "<a id=\"study-area\"></a>\n",
    "![Área de estudo](https://github.com/AdrianoPereira/project-cap394/raw/master/assets/images/landcoverhorizontal.png)\n",
    "**Figura 2** – Delimitação da área de estudo e sua cobertura de solo. Adaptado de [(PEREIRA, 2019)](#pereira2019)"
   ]
  },
  {
   "cell_type": "markdown",
   "metadata": {},
   "source": [
    "### 2.2 Análise exploratória dos dados\n",
    "\n",
    "Neste trabalho serão utilizados somente os dados de descargas atmosféricas da rede LINET, portanto, o período analisado será a partir do dia 29 de agosto a 07 de outubro, que foi o tempo em que a rede esteve em operação durante os experimentos"
   ]
  },
  {
   "cell_type": "markdown",
   "metadata": {},
   "source": [
    "A rede LINET faz a detecção de descargas elétricas do tipo nuvem-solo e intra-nuvem. Sendo assim, durante os períodos com células de tempestades mais intensas, houve um alto número de ocorrências computados pela rede, como mostrado a Figura [3](#lightning-detections). Esse comportamento pode está relacionado ao período de transição de seca para o período chuvoso, onde acontece chuvas intensas e rápidas, conforme estudado no trabalho de (PEREIRA, 2019)."
   ]
  },
  {
   "cell_type": "markdown",
   "metadata": {
    "slideshow": {
     "slide_type": "slide"
    }
   },
   "source": [
    "<a id=\"references\"></a>\n",
    "## Referências\n",
    "\n",
    "<a id=\"krinder2006\"></a>\n",
    "KRIDER, E. P. Benjamin franklin and lightning rods. Physics Today, v. 59, n. 1, p. 42, 2006.\n",
    "\n",
    "<a id=\"souza2017\"></a>\n",
    "SOUZA, M. G. A. d. Uma análise teórica dos parâmetros típicos de descargas atmosféricas.\n",
    "2017.\n",
    "\n",
    "<a id=\"rakov2007\"></a>\n",
    "RAKOV, V. Lightning phenomenology and parameters important for lightning protection. IX SIPDA, 26th-30th November, 2007. \n",
    "\n",
    "<a id=\"weber2005\"></a>\n",
    "WEBER, M. et al. Improving air traffic management during thunderstorms. In: IEEE. 24th digital avionics systems conference. [S.l.], 2005. v. 1, p. 3–D. \n",
    "\n",
    "<a id=\"cardoso2017\"></a>\n",
    "CARDOSO, M. C. Determinação em Tempo Real dos Riscos de Desligamentos em Linhas de Transmissão devido a Descargas Atmosféricas. 2017. Tese (Doutorado) — PUC-Rio, 2017.\n",
    "\n",
    "<a id=\"cardoso2014\"></a>\n",
    "CARDOSO, I. et al. Lightning casualty demographics in brazil and their implications for safety rules. Atmospheric Research, Elsevier, v. 135, p. 374–379, 2014. \n",
    "\n",
    "<a id=\"chinchay2018\"></a>\n",
    "CHINCHAY, J. H. H. Uso de multi-canais do GOES-16 para previsão imediata de densidade de descargas elétricas. 2018. Dissertação (Dissertação de Mestrado) — Instituto Nacional de Pesquisas Espaciais (INPE), 2018.\n",
    "\n",
    "<a id=\"zepka2005\"></a>\n",
    "ZEPKA, G. d. S. Estudo para o desenvolvimento de um previsor descargas elétricas atmosféricas aplicado à região costeira do estado do Rio de Janeiro. 2005. Dissertação (Mestrado), 2005.\n",
    "\n",
    "<a id=\"machado2014\"></a>\n",
    "MACHADO, L. A. et al. The chuva project: How does convection vary across brazil? Bulletin of the American Meteorological Society, American Meteorological Society, v. 95, n. 9, p. 1365–1380, 2014.\n",
    "\n",
    "<a id=\"martin2016\"></a>\n",
    "MARTIN, S. et al. Introduction: Observations and modeling of the green ocean amazon (goamazon2014/5). Atmospheric Chemistry and Physics, v. 16, n. 8, 2016. \n",
    "\n",
    "<a id=\"pereira2019\"></a>\n",
    "PEREIRA, R. F. d. O. Propriedades Físicas da Precipitação e Eletrificação dos Sistemas Precipitantes Observados Durante o Projeto CHUVA-Manaus e GoAmazon. 2019. Dissertação (Dissertação de Mestrado) - Universidade de São Paulo (USP), 2019."
   ]
  }
 ],
 "metadata": {
  "celltoolbar": "Slideshow",
  "kernelspec": {
   "display_name": "Python 3",
   "language": "python",
   "name": "python3"
  },
  "language_info": {
   "codemirror_mode": {
    "name": "ipython",
    "version": 3
   },
   "file_extension": ".py",
   "mimetype": "text/x-python",
   "name": "python",
   "nbconvert_exporter": "python",
   "pygments_lexer": "ipython3",
   "version": "3.7.3"
  }
 },
 "nbformat": 4,
 "nbformat_minor": 2
}
