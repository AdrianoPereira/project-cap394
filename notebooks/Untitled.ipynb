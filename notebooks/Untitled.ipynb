{
 "cells": [
  {
   "cell_type": "code",
   "execution_count": 30,
   "metadata": {
    "ExecuteTime": {
     "end_time": "2019-08-30T18:41:41.124908Z",
     "start_time": "2019-08-30T18:41:41.121431Z"
    }
   },
   "outputs": [],
   "source": [
    "import pandas as pd\n",
    "import numpy as np\n",
    "from sklearn.model_selection import train_test_split\n",
    "from sklearn.tree import DecisionTreeRegressor, export_graphviz\n",
    "from sklearn.metrics import accuracy_score"
   ]
  },
  {
   "cell_type": "code",
   "execution_count": 3,
   "metadata": {
    "ExecuteTime": {
     "end_time": "2019-08-30T18:21:10.115899Z",
     "start_time": "2019-08-30T18:21:09.931235Z"
    }
   },
   "outputs": [
    {
     "data": {
      "text/html": [
       "<div>\n",
       "<style scoped>\n",
       "    .dataframe tbody tr th:only-of-type {\n",
       "        vertical-align: middle;\n",
       "    }\n",
       "\n",
       "    .dataframe tbody tr th {\n",
       "        vertical-align: top;\n",
       "    }\n",
       "\n",
       "    .dataframe thead th {\n",
       "        text-align: right;\n",
       "    }\n",
       "</style>\n",
       "<table border=\"1\" class=\"dataframe\">\n",
       "  <thead>\n",
       "    <tr style=\"text-align: right;\">\n",
       "      <th></th>\n",
       "      <th>time</th>\n",
       "      <th>sysclass</th>\n",
       "      <th>lat</th>\n",
       "      <th>lon</th>\n",
       "      <th>dir</th>\n",
       "      <th>vel</th>\n",
       "      <th>size</th>\n",
       "      <th>ttyyyxx1</th>\n",
       "      <th>ttyyyxx2</th>\n",
       "      <th>ttyyyxx3</th>\n",
       "      <th>...</th>\n",
       "      <th>maxz</th>\n",
       "      <th>meanvil</th>\n",
       "      <th>ttvil</th>\n",
       "      <th>meanprec</th>\n",
       "      <th>maxprec</th>\n",
       "      <th>year</th>\n",
       "      <th>month</th>\n",
       "      <th>day</th>\n",
       "      <th>hour</th>\n",
       "      <th>minute</th>\n",
       "    </tr>\n",
       "  </thead>\n",
       "  <tbody>\n",
       "    <tr>\n",
       "      <th>0</th>\n",
       "      <td>0.0</td>\n",
       "      <td>0.0</td>\n",
       "      <td>-2.47</td>\n",
       "      <td>-61.05</td>\n",
       "      <td>-999.0</td>\n",
       "      <td>0.0</td>\n",
       "      <td>641.0</td>\n",
       "      <td>0.0</td>\n",
       "      <td>0.0</td>\n",
       "      <td>0.0</td>\n",
       "      <td>...</td>\n",
       "      <td>51.62</td>\n",
       "      <td>1.54</td>\n",
       "      <td>985.28</td>\n",
       "      <td>12.48</td>\n",
       "      <td>162.18</td>\n",
       "      <td>2014</td>\n",
       "      <td>8</td>\n",
       "      <td>1</td>\n",
       "      <td>0</td>\n",
       "      <td>0</td>\n",
       "    </tr>\n",
       "    <tr>\n",
       "      <th>1</th>\n",
       "      <td>0.2</td>\n",
       "      <td>2.0</td>\n",
       "      <td>-2.51</td>\n",
       "      <td>-61.15</td>\n",
       "      <td>0.0</td>\n",
       "      <td>22.2</td>\n",
       "      <td>493.0</td>\n",
       "      <td>0.0</td>\n",
       "      <td>0.0</td>\n",
       "      <td>0.0</td>\n",
       "      <td>...</td>\n",
       "      <td>49.64</td>\n",
       "      <td>1.00</td>\n",
       "      <td>491.62</td>\n",
       "      <td>8.71</td>\n",
       "      <td>118.85</td>\n",
       "      <td>2014</td>\n",
       "      <td>8</td>\n",
       "      <td>1</td>\n",
       "      <td>0</td>\n",
       "      <td>0</td>\n",
       "    </tr>\n",
       "    <tr>\n",
       "      <th>2</th>\n",
       "      <td>0.4</td>\n",
       "      <td>2.0</td>\n",
       "      <td>-2.43</td>\n",
       "      <td>-61.11</td>\n",
       "      <td>270.0</td>\n",
       "      <td>33.3</td>\n",
       "      <td>519.0</td>\n",
       "      <td>0.0</td>\n",
       "      <td>0.0</td>\n",
       "      <td>0.0</td>\n",
       "      <td>...</td>\n",
       "      <td>56.55</td>\n",
       "      <td>1.21</td>\n",
       "      <td>630.50</td>\n",
       "      <td>9.48</td>\n",
       "      <td>350.60</td>\n",
       "      <td>2014</td>\n",
       "      <td>8</td>\n",
       "      <td>1</td>\n",
       "      <td>0</td>\n",
       "      <td>0</td>\n",
       "    </tr>\n",
       "    <tr>\n",
       "      <th>3</th>\n",
       "      <td>0.6</td>\n",
       "      <td>3.0</td>\n",
       "      <td>-2.45</td>\n",
       "      <td>-61.09</td>\n",
       "      <td>243.0</td>\n",
       "      <td>24.8</td>\n",
       "      <td>556.0</td>\n",
       "      <td>0.0</td>\n",
       "      <td>0.0</td>\n",
       "      <td>0.0</td>\n",
       "      <td>...</td>\n",
       "      <td>54.00</td>\n",
       "      <td>1.00</td>\n",
       "      <td>556.31</td>\n",
       "      <td>6.41</td>\n",
       "      <td>235.26</td>\n",
       "      <td>2014</td>\n",
       "      <td>8</td>\n",
       "      <td>1</td>\n",
       "      <td>0</td>\n",
       "      <td>0</td>\n",
       "    </tr>\n",
       "    <tr>\n",
       "      <th>4</th>\n",
       "      <td>0.8</td>\n",
       "      <td>2.0</td>\n",
       "      <td>-2.37</td>\n",
       "      <td>-61.05</td>\n",
       "      <td>270.0</td>\n",
       "      <td>55.5</td>\n",
       "      <td>711.0</td>\n",
       "      <td>0.0</td>\n",
       "      <td>0.0</td>\n",
       "      <td>0.0</td>\n",
       "      <td>...</td>\n",
       "      <td>46.78</td>\n",
       "      <td>0.79</td>\n",
       "      <td>561.39</td>\n",
       "      <td>4.30</td>\n",
       "      <td>75.94</td>\n",
       "      <td>2014</td>\n",
       "      <td>8</td>\n",
       "      <td>1</td>\n",
       "      <td>0</td>\n",
       "      <td>0</td>\n",
       "    </tr>\n",
       "  </tbody>\n",
       "</table>\n",
       "<p>5 rows × 26 columns</p>\n",
       "</div>"
      ],
      "text/plain": [
       "   time  sysclass   lat    lon    dir   vel   size  ttyyyxx1  ttyyyxx2  \\\n",
       "0   0.0       0.0 -2.47 -61.05 -999.0   0.0  641.0       0.0       0.0   \n",
       "1   0.2       2.0 -2.51 -61.15    0.0  22.2  493.0       0.0       0.0   \n",
       "2   0.4       2.0 -2.43 -61.11  270.0  33.3  519.0       0.0       0.0   \n",
       "3   0.6       3.0 -2.45 -61.09  243.0  24.8  556.0       0.0       0.0   \n",
       "4   0.8       2.0 -2.37 -61.05  270.0  55.5  711.0       0.0       0.0   \n",
       "\n",
       "   ttyyyxx3  ...   maxz  meanvil   ttvil  meanprec  maxprec  year  month  day  \\\n",
       "0       0.0  ...  51.62     1.54  985.28     12.48   162.18  2014      8    1   \n",
       "1       0.0  ...  49.64     1.00  491.62      8.71   118.85  2014      8    1   \n",
       "2       0.0  ...  56.55     1.21  630.50      9.48   350.60  2014      8    1   \n",
       "3       0.0  ...  54.00     1.00  556.31      6.41   235.26  2014      8    1   \n",
       "4       0.0  ...  46.78     0.79  561.39      4.30    75.94  2014      8    1   \n",
       "\n",
       "   hour  minute  \n",
       "0     0       0  \n",
       "1     0       0  \n",
       "2     0       0  \n",
       "3     0       0  \n",
       "4     0       0  \n",
       "\n",
       "[5 rows x 26 columns]"
      ]
     },
     "execution_count": 3,
     "metadata": {},
     "output_type": "execute_result"
    }
   ],
   "source": [
    "df = [pd.read_csv('../data/private/csv/fam/august.csv'), \n",
    "      pd.read_csv('../data/private/csv/fam/september.csv'), \n",
    "      pd.read_csv('../data/private/csv/fam/october.csv')]\n",
    "df = pd.concat(df, sort=False)\n",
    "df.head()"
   ]
  },
  {
   "cell_type": "code",
   "execution_count": 5,
   "metadata": {
    "ExecuteTime": {
     "end_time": "2019-08-30T18:21:37.471235Z",
     "start_time": "2019-08-30T18:21:37.467342Z"
    }
   },
   "outputs": [
    {
     "data": {
      "text/plain": [
       "Index(['time', 'sysclass', 'lat', 'lon', 'dir', 'vel', 'size', 'ttyyyxx1',\n",
       "       'ttyyyxx2', 'ttyyyxx3', 'ttyyyxx4', 'ttyyyxx5', 'riverfrac', 'convfrac',\n",
       "       'strafrac', 'meanz', 'maxz', 'meanvil', 'ttvil', 'meanprec', 'maxprec',\n",
       "       'year', 'month', 'day', 'hour', 'minute'],\n",
       "      dtype='object')"
      ]
     },
     "execution_count": 5,
     "metadata": {},
     "output_type": "execute_result"
    }
   ],
   "source": [
    "df.columns"
   ]
  },
  {
   "cell_type": "code",
   "execution_count": 11,
   "metadata": {
    "ExecuteTime": {
     "end_time": "2019-08-30T18:32:14.567807Z",
     "start_time": "2019-08-30T18:32:14.511765Z"
    }
   },
   "outputs": [
    {
     "data": {
      "text/html": [
       "<div>\n",
       "<style scoped>\n",
       "    .dataframe tbody tr th:only-of-type {\n",
       "        vertical-align: middle;\n",
       "    }\n",
       "\n",
       "    .dataframe tbody tr th {\n",
       "        vertical-align: top;\n",
       "    }\n",
       "\n",
       "    .dataframe thead th {\n",
       "        text-align: right;\n",
       "    }\n",
       "</style>\n",
       "<table border=\"1\" class=\"dataframe\">\n",
       "  <thead>\n",
       "    <tr style=\"text-align: right;\">\n",
       "      <th></th>\n",
       "      <th>ttyyyxx3</th>\n",
       "      <th>riverfrac</th>\n",
       "      <th>convfrac</th>\n",
       "      <th>strafrac</th>\n",
       "      <th>meanz</th>\n",
       "      <th>maxz</th>\n",
       "      <th>meanvil</th>\n",
       "      <th>ttvil</th>\n",
       "      <th>meanprec</th>\n",
       "      <th>maxprec</th>\n",
       "    </tr>\n",
       "  </thead>\n",
       "  <tbody>\n",
       "    <tr>\n",
       "      <th>count</th>\n",
       "      <td>53160.000000</td>\n",
       "      <td>53160.000000</td>\n",
       "      <td>53160.000000</td>\n",
       "      <td>53160.00000</td>\n",
       "      <td>53160.000000</td>\n",
       "      <td>53160.000000</td>\n",
       "      <td>53160.00000</td>\n",
       "      <td>53160.000000</td>\n",
       "      <td>53160.000000</td>\n",
       "      <td>53160.000000</td>\n",
       "    </tr>\n",
       "    <tr>\n",
       "      <th>mean</th>\n",
       "      <td>2.838826</td>\n",
       "      <td>10.813383</td>\n",
       "      <td>46.657889</td>\n",
       "      <td>53.34211</td>\n",
       "      <td>28.745101</td>\n",
       "      <td>37.000910</td>\n",
       "      <td>1.00003</td>\n",
       "      <td>166.146277</td>\n",
       "      <td>6.435744</td>\n",
       "      <td>40.374742</td>\n",
       "    </tr>\n",
       "    <tr>\n",
       "      <th>std</th>\n",
       "      <td>26.510414</td>\n",
       "      <td>19.098081</td>\n",
       "      <td>28.253100</td>\n",
       "      <td>28.25310</td>\n",
       "      <td>5.438200</td>\n",
       "      <td>9.024301</td>\n",
       "      <td>0.88283</td>\n",
       "      <td>619.212811</td>\n",
       "      <td>7.269876</td>\n",
       "      <td>59.300988</td>\n",
       "    </tr>\n",
       "    <tr>\n",
       "      <th>min</th>\n",
       "      <td>0.000000</td>\n",
       "      <td>0.000000</td>\n",
       "      <td>0.000000</td>\n",
       "      <td>0.00000</td>\n",
       "      <td>20.530000</td>\n",
       "      <td>20.530000</td>\n",
       "      <td>0.15000</td>\n",
       "      <td>1.640000</td>\n",
       "      <td>0.810000</td>\n",
       "      <td>0.880000</td>\n",
       "    </tr>\n",
       "    <tr>\n",
       "      <th>25%</th>\n",
       "      <td>0.000000</td>\n",
       "      <td>0.000000</td>\n",
       "      <td>25.710000</td>\n",
       "      <td>34.01750</td>\n",
       "      <td>23.670000</td>\n",
       "      <td>29.090000</td>\n",
       "      <td>0.38000</td>\n",
       "      <td>10.510000</td>\n",
       "      <td>1.860000</td>\n",
       "      <td>4.800000</td>\n",
       "    </tr>\n",
       "    <tr>\n",
       "      <th>50%</th>\n",
       "      <td>0.000000</td>\n",
       "      <td>0.000000</td>\n",
       "      <td>38.240000</td>\n",
       "      <td>61.76000</td>\n",
       "      <td>28.170000</td>\n",
       "      <td>36.920000</td>\n",
       "      <td>0.70000</td>\n",
       "      <td>27.415000</td>\n",
       "      <td>3.870000</td>\n",
       "      <td>16.250000</td>\n",
       "    </tr>\n",
       "    <tr>\n",
       "      <th>75%</th>\n",
       "      <td>0.000000</td>\n",
       "      <td>13.640000</td>\n",
       "      <td>65.982500</td>\n",
       "      <td>74.29000</td>\n",
       "      <td>32.980000</td>\n",
       "      <td>44.460000</td>\n",
       "      <td>1.32000</td>\n",
       "      <td>88.685000</td>\n",
       "      <td>8.610000</td>\n",
       "      <td>52.870000</td>\n",
       "    </tr>\n",
       "    <tr>\n",
       "      <th>max</th>\n",
       "      <td>1493.000000</td>\n",
       "      <td>100.000000</td>\n",
       "      <td>100.000000</td>\n",
       "      <td>100.00000</td>\n",
       "      <td>57.460000</td>\n",
       "      <td>63.220000</td>\n",
       "      <td>29.68000</td>\n",
       "      <td>13637.050000</td>\n",
       "      <td>419.750000</td>\n",
       "      <td>996.970000</td>\n",
       "    </tr>\n",
       "  </tbody>\n",
       "</table>\n",
       "</div>"
      ],
      "text/plain": [
       "           ttyyyxx3     riverfrac      convfrac     strafrac         meanz  \\\n",
       "count  53160.000000  53160.000000  53160.000000  53160.00000  53160.000000   \n",
       "mean       2.838826     10.813383     46.657889     53.34211     28.745101   \n",
       "std       26.510414     19.098081     28.253100     28.25310      5.438200   \n",
       "min        0.000000      0.000000      0.000000      0.00000     20.530000   \n",
       "25%        0.000000      0.000000     25.710000     34.01750     23.670000   \n",
       "50%        0.000000      0.000000     38.240000     61.76000     28.170000   \n",
       "75%        0.000000     13.640000     65.982500     74.29000     32.980000   \n",
       "max     1493.000000    100.000000    100.000000    100.00000     57.460000   \n",
       "\n",
       "               maxz      meanvil         ttvil      meanprec       maxprec  \n",
       "count  53160.000000  53160.00000  53160.000000  53160.000000  53160.000000  \n",
       "mean      37.000910      1.00003    166.146277      6.435744     40.374742  \n",
       "std        9.024301      0.88283    619.212811      7.269876     59.300988  \n",
       "min       20.530000      0.15000      1.640000      0.810000      0.880000  \n",
       "25%       29.090000      0.38000     10.510000      1.860000      4.800000  \n",
       "50%       36.920000      0.70000     27.415000      3.870000     16.250000  \n",
       "75%       44.460000      1.32000     88.685000      8.610000     52.870000  \n",
       "max       63.220000     29.68000  13637.050000    419.750000    996.970000  "
      ]
     },
     "execution_count": 11,
     "metadata": {},
     "output_type": "execute_result"
    }
   ],
   "source": [
    "columns = ['ttyyyxx3', 'riverfrac', 'convfrac', 'strafrac', \\\n",
    "           'meanz', 'maxz', 'meanvil', 'ttvil', 'meanprec', 'maxprec']\n",
    "filtered = df[columns]\n",
    "filteredexport_graphviz.describe()"
   ]
  },
  {
   "cell_type": "code",
   "execution_count": 16,
   "metadata": {
    "ExecuteTime": {
     "end_time": "2019-08-30T18:34:36.945767Z",
     "start_time": "2019-08-30T18:34:36.927918Z"
    }
   },
   "outputs": [
    {
     "data": {
      "text/plain": [
       "riverfrac    53160\n",
       "convfrac     53160\n",
       "strafrac     53160\n",
       "meanz        53160\n",
       "maxz         53160\n",
       "meanvil      53160\n",
       "ttvil        53160\n",
       "meanprec     53160\n",
       "maxprec      53160\n",
       "dtype: int64"
      ]
     },
     "execution_count": 16,
     "metadata": {},
     "output_type": "execute_result"
    }
   ],
   "source": [
    "features.count()"
   ]
  },
  {
   "cell_type": "code",
   "execution_count": 15,
   "metadata": {
    "ExecuteTime": {
     "end_time": "2019-08-30T18:34:29.237043Z",
     "start_time": "2019-08-30T18:34:29.231066Z"
    }
   },
   "outputs": [
    {
     "data": {
      "text/plain": [
       "ttyyyxx3    53160\n",
       "dtype: int64"
      ]
     },
     "execution_count": 15,
     "metadata": {},
     "output_type": "execute_result"
    }
   ],
   "source": [
    "labels.count()"
   ]
  },
  {
   "cell_type": "code",
   "execution_count": 135,
   "metadata": {
    "ExecuteTime": {
     "end_time": "2019-08-30T19:20:11.105657Z",
     "start_time": "2019-08-30T19:20:11.098109Z"
    }
   },
   "outputs": [],
   "source": [
    "def dt_regression(df):\n",
    "    features =  df[['riverfrac', 'convfrac', 'strafrac', \\\n",
    "               'meanz', 'maxz', 'meanvil', 'ttvil', 'meanprec', 'maxprec']]\n",
    "    labels = df[['ttyyyxx3']]\n",
    "\n",
    "    X_train, X_test, y_train, y_test = train_test_split(features, labels, test_size=.2)\n",
    "    dtr = DecisionTreeRegressor(criterion='entropy', max_depth=10).fit(X_train, y_train)\n",
    "\n",
    "    y_pred = dtr.predict(X_test)\n",
    "\n",
    "    x = X_test['ttvil'].values\n",
    "    y = y_test['ttyyyxx3'].values\n",
    "    x2 = X_test['ttvil'].values\n",
    "    y2 = y_pred\n",
    "    print('Acuraccy %s', explained_variance_score(y_test, y_pred))\n",
    "\n",
    "    plt.figure(figsize=(17, 8))\n",
    "    plt.scatter(x, y)\n",
    "    plt.plot(x2, y2)\n",
    "    \n",
    "    return dtr"
   ]
  },
  {
   "cell_type": "code",
   "execution_count": 74,
   "metadata": {
    "ExecuteTime": {
     "end_time": "2019-08-30T19:01:13.387976Z",
     "start_time": "2019-08-30T19:01:13.381770Z"
    }
   },
   "outputs": [
    {
     "data": {
      "text/plain": [
       "0.12286840202373372"
      ]
     },
     "execution_count": 74,
     "metadata": {},
     "output_type": "execute_result"
    }
   ],
   "source": [
    "from sklearn.metrics import explained_variance_score\n",
    "    \n",
    "y_pred = dtr.predict(X_test)\n",
    "explained_variance_score(y_test, y_pred)"
   ]
  },
  {
   "cell_type": "code",
   "execution_count": 65,
   "metadata": {
    "ExecuteTime": {
     "end_time": "2019-08-30T18:52:16.686934Z",
     "start_time": "2019-08-30T18:52:16.675303Z"
    }
   },
   "outputs": [],
   "source": [
    "dotfile = open('DecisionTreeRegressor.dot', 'w')\n",
    "export_graphviz(dtr, out_file=dotfile, feature_names=features.columns)\n",
    "dotfile.close()"
   ]
  },
  {
   "cell_type": "code",
   "execution_count": 89,
   "metadata": {
    "ExecuteTime": {
     "end_time": "2019-08-30T19:06:47.552195Z",
     "start_time": "2019-08-30T19:06:47.545097Z"
    }
   },
   "outputs": [],
   "source": [
    "no = filtered[filtered['ttyyyxx3'] == 0]\n",
    "yes = filtered[filtered['ttyyyxx3'] > 0]"
   ]
  },
  {
   "cell_type": "code",
   "execution_count": 136,
   "metadata": {
    "ExecuteTime": {
     "end_time": "2019-08-30T19:20:13.605234Z",
     "start_time": "2019-08-30T19:20:13.575696Z"
    }
   },
   "outputs": [
    {
     "ename": "KeyError",
     "evalue": "'entropy'",
     "output_type": "error",
     "traceback": [
      "\u001b[0;31m---------------------------------------------------------------------------\u001b[0m",
      "\u001b[0;31mKeyError\u001b[0m                                  Traceback (most recent call last)",
      "\u001b[0;32m<ipython-input-136-99009edc71e3>\u001b[0m in \u001b[0;36m<module>\u001b[0;34m\u001b[0m\n\u001b[1;32m      2\u001b[0m \u001b[0mnog\u001b[0m \u001b[0;34m=\u001b[0m \u001b[0mno\u001b[0m\u001b[0;34m.\u001b[0m\u001b[0msample\u001b[0m\u001b[0;34m(\u001b[0m\u001b[0msize\u001b[0m\u001b[0;34m)\u001b[0m\u001b[0;34m\u001b[0m\u001b[0;34m\u001b[0m\u001b[0m\n\u001b[1;32m      3\u001b[0m \u001b[0myesg\u001b[0m \u001b[0;34m=\u001b[0m \u001b[0myes\u001b[0m\u001b[0;34m.\u001b[0m\u001b[0msample\u001b[0m\u001b[0;34m(\u001b[0m\u001b[0msize\u001b[0m\u001b[0;34m)\u001b[0m\u001b[0;34m\u001b[0m\u001b[0;34m\u001b[0m\u001b[0m\n\u001b[0;32m----> 4\u001b[0;31m \u001b[0mmodrl\u001b[0m \u001b[0;34m=\u001b[0m \u001b[0mdt_regression\u001b[0m\u001b[0;34m(\u001b[0m\u001b[0mpd\u001b[0m\u001b[0;34m.\u001b[0m\u001b[0mconcat\u001b[0m\u001b[0;34m(\u001b[0m\u001b[0;34m[\u001b[0m\u001b[0mnog\u001b[0m\u001b[0;34m,\u001b[0m \u001b[0myesg\u001b[0m\u001b[0;34m]\u001b[0m\u001b[0;34m,\u001b[0m \u001b[0msort\u001b[0m\u001b[0;34m=\u001b[0m\u001b[0;32mFalse\u001b[0m\u001b[0;34m)\u001b[0m\u001b[0;34m)\u001b[0m\u001b[0;34m\u001b[0m\u001b[0;34m\u001b[0m\u001b[0m\n\u001b[0m",
      "\u001b[0;32m<ipython-input-135-c5f42bec46de>\u001b[0m in \u001b[0;36mdt_regression\u001b[0;34m(df)\u001b[0m\n\u001b[1;32m      5\u001b[0m \u001b[0;34m\u001b[0m\u001b[0m\n\u001b[1;32m      6\u001b[0m     \u001b[0mX_train\u001b[0m\u001b[0;34m,\u001b[0m \u001b[0mX_test\u001b[0m\u001b[0;34m,\u001b[0m \u001b[0my_train\u001b[0m\u001b[0;34m,\u001b[0m \u001b[0my_test\u001b[0m \u001b[0;34m=\u001b[0m \u001b[0mtrain_test_split\u001b[0m\u001b[0;34m(\u001b[0m\u001b[0mfeatures\u001b[0m\u001b[0;34m,\u001b[0m \u001b[0mlabels\u001b[0m\u001b[0;34m,\u001b[0m \u001b[0mtest_size\u001b[0m\u001b[0;34m=\u001b[0m\u001b[0;36m.2\u001b[0m\u001b[0;34m)\u001b[0m\u001b[0;34m\u001b[0m\u001b[0;34m\u001b[0m\u001b[0m\n\u001b[0;32m----> 7\u001b[0;31m     \u001b[0mdtr\u001b[0m \u001b[0;34m=\u001b[0m \u001b[0mDecisionTreeRegressor\u001b[0m\u001b[0;34m(\u001b[0m\u001b[0mcriterion\u001b[0m\u001b[0;34m=\u001b[0m\u001b[0;34m'entropy'\u001b[0m\u001b[0;34m,\u001b[0m \u001b[0mmax_depth\u001b[0m\u001b[0;34m=\u001b[0m\u001b[0;36m10\u001b[0m\u001b[0;34m)\u001b[0m\u001b[0;34m.\u001b[0m\u001b[0mfit\u001b[0m\u001b[0;34m(\u001b[0m\u001b[0mX_train\u001b[0m\u001b[0;34m,\u001b[0m \u001b[0my_train\u001b[0m\u001b[0;34m)\u001b[0m\u001b[0;34m\u001b[0m\u001b[0;34m\u001b[0m\u001b[0m\n\u001b[0m\u001b[1;32m      8\u001b[0m \u001b[0;34m\u001b[0m\u001b[0m\n\u001b[1;32m      9\u001b[0m     \u001b[0my_pred\u001b[0m \u001b[0;34m=\u001b[0m \u001b[0mdtr\u001b[0m\u001b[0;34m.\u001b[0m\u001b[0mpredict\u001b[0m\u001b[0;34m(\u001b[0m\u001b[0mX_test\u001b[0m\u001b[0;34m)\u001b[0m\u001b[0;34m\u001b[0m\u001b[0;34m\u001b[0m\u001b[0m\n",
      "\u001b[0;32m~/.local/lib/python3.7/site-packages/sklearn/tree/tree.py\u001b[0m in \u001b[0;36mfit\u001b[0;34m(self, X, y, sample_weight, check_input, X_idx_sorted)\u001b[0m\n\u001b[1;32m   1140\u001b[0m             \u001b[0msample_weight\u001b[0m\u001b[0;34m=\u001b[0m\u001b[0msample_weight\u001b[0m\u001b[0;34m,\u001b[0m\u001b[0;34m\u001b[0m\u001b[0;34m\u001b[0m\u001b[0m\n\u001b[1;32m   1141\u001b[0m             \u001b[0mcheck_input\u001b[0m\u001b[0;34m=\u001b[0m\u001b[0mcheck_input\u001b[0m\u001b[0;34m,\u001b[0m\u001b[0;34m\u001b[0m\u001b[0;34m\u001b[0m\u001b[0m\n\u001b[0;32m-> 1142\u001b[0;31m             X_idx_sorted=X_idx_sorted)\n\u001b[0m\u001b[1;32m   1143\u001b[0m         \u001b[0;32mreturn\u001b[0m \u001b[0mself\u001b[0m\u001b[0;34m\u001b[0m\u001b[0;34m\u001b[0m\u001b[0m\n\u001b[1;32m   1144\u001b[0m \u001b[0;34m\u001b[0m\u001b[0m\n",
      "\u001b[0;32m~/.local/lib/python3.7/site-packages/sklearn/tree/tree.py\u001b[0m in \u001b[0;36mfit\u001b[0;34m(self, X, y, sample_weight, check_input, X_idx_sorted)\u001b[0m\n\u001b[1;32m    331\u001b[0m                                                          self.n_classes_)\n\u001b[1;32m    332\u001b[0m             \u001b[0;32melse\u001b[0m\u001b[0;34m:\u001b[0m\u001b[0;34m\u001b[0m\u001b[0;34m\u001b[0m\u001b[0m\n\u001b[0;32m--> 333\u001b[0;31m                 criterion = CRITERIA_REG[self.criterion](self.n_outputs_,\n\u001b[0m\u001b[1;32m    334\u001b[0m                                                          n_samples)\n\u001b[1;32m    335\u001b[0m \u001b[0;34m\u001b[0m\u001b[0m\n",
      "\u001b[0;31mKeyError\u001b[0m: 'entropy'"
     ]
    }
   ],
   "source": [
    "size = 100\n",
    "nog = no.sample(size)\n",
    "yesg = yes.sample(size)\n",
    "modrl = dt_regression(pd.concat([nog, yesg], sort=False))"
   ]
  },
  {
   "cell_type": "code",
   "execution_count": 134,
   "metadata": {
    "ExecuteTime": {
     "end_time": "2019-08-30T19:17:41.949334Z",
     "start_time": "2019-08-30T19:17:41.944558Z"
    }
   },
   "outputs": [
    {
     "data": {
      "text/plain": [
       "array([2.61422081e-02, 1.78767380e-03, 1.15073578e-02, 9.35200744e-02,\n",
       "       4.94713199e-04, 1.30508031e-02, 7.31537220e-02, 2.37205957e-04,\n",
       "       7.80106242e-01])"
      ]
     },
     "execution_count": 134,
     "metadata": {},
     "output_type": "execute_result"
    }
   ],
   "source": [
    "modrl.feature_importances_"
   ]
  }
 ],
 "metadata": {
  "kernelspec": {
   "display_name": "Python 3",
   "language": "python",
   "name": "python3"
  },
  "language_info": {
   "codemirror_mode": {
    "name": "ipython",
    "version": 3
   },
   "file_extension": ".py",
   "mimetype": "text/x-python",
   "name": "python",
   "nbconvert_exporter": "python",
   "pygments_lexer": "ipython3",
   "version": "3.7.3"
  }
 },
 "nbformat": 4,
 "nbformat_minor": 2
}
