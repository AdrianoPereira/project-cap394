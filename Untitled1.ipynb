{
 "cells": [
  {
   "cell_type": "code",
   "execution_count": 3,
   "metadata": {
    "ExecuteTime": {
     "end_time": "2019-08-22T20:59:38.912082Z",
     "start_time": "2019-08-22T20:59:38.752062Z"
    }
   },
   "outputs": [],
   "source": [
    "import matplotlib.pyplot as plt\n",
    "import matplotlib as mpl\n",
    "import matplotlib.colors as mcolors\n",
    "from mpl_toolkits.basemap import Basemap\n",
    "import numpy as np\n",
    "import pandas as pd"
   ]
  },
  {
   "cell_type": "code",
   "execution_count": 4,
   "metadata": {
    "ExecuteTime": {
     "end_time": "2019-08-22T21:00:10.182563Z",
     "start_time": "2019-08-22T20:59:39.750225Z"
    }
   },
   "outputs": [],
   "source": [
    "df = pd.read_csv('./data/full/exp/csv/total.csv')"
   ]
  },
  {
   "cell_type": "code",
   "execution_count": 7,
   "metadata": {
    "ExecuteTime": {
     "end_time": "2019-08-22T21:01:35.199738Z",
     "start_time": "2019-08-22T21:01:34.348343Z"
    }
   },
   "outputs": [],
   "source": [
    "m1 = df[df['month'] == 2]\n",
    "m2 = df[df['month'] == 3]\n",
    "m3 = df[df['month'] == 8]\n",
    "m4 = df[df['month'] == 9]\n",
    "m5 = df[df['month'] == 10]\n",
    "\n",
    "iop1 = pd.concat([m1, m2])"
   ]
  },
  {
   "cell_type": "code",
   "execution_count": null,
   "metadata": {},
   "outputs": [],
   "source": []
  }
 ],
 "metadata": {
  "kernelspec": {
   "display_name": "Python 3",
   "language": "python",
   "name": "python3"
  },
  "language_info": {
   "codemirror_mode": {
    "name": "ipython",
    "version": 3
   },
   "file_extension": ".py",
   "mimetype": "text/x-python",
   "name": "python",
   "nbconvert_exporter": "python",
   "pygments_lexer": "ipython3",
   "version": "3.7.3"
  }
 },
 "nbformat": 4,
 "nbformat_minor": 2
}
